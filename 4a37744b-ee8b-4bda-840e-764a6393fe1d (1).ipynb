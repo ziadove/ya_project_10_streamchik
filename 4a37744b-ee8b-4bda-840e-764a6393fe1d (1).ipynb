{
 "cells": [
  {
   "cell_type": "markdown",
   "id": "c26f1efd",
   "metadata": {},
   "source": [
    "# Описание проекта"
   ]
  },
  {
   "cell_type": "markdown",
   "id": "ff84caf7",
   "metadata": {},
   "source": [
    "Вы работаете в интернет-магазине «Стримчик», который продаёт по всему миру компьютерные игры. Из открытых источников доступны исторические данные о продажах игр, оценки пользователей и экспертов, жанры и платформы (например, Xbox или PlayStation). Вам нужно выявить определяющие успешность игры закономерности. Это позволит сделать ставку на потенциально популярный продукт и спланировать рекламные кампании.\n",
    "\n",
    "Перед вами данные до 2016 года. Представим, что сейчас декабрь 2016 г., и вы планируете кампанию на 2017-й. Нужно отработать принцип работы с данными. Неважно, прогнозируете ли вы продажи на 2017 год по данным 2016-го или же 2027-й — по данным 2026 года.\n",
    "\n",
    "В наборе данных попадается аббревиатура ESRB (Entertainment Software Rating Board) — это ассоциация, определяющая возрастной рейтинг компьютерных игр. ESRB оценивает игровой контент и присваивает ему подходящую возрастную категорию, например, «Для взрослых», «Для детей младшего возраста» или «Для подростков»."
   ]
  },
  {
   "cell_type": "markdown",
   "id": "54b769a5",
   "metadata": {},
   "source": [
    "# Описание данных:"
   ]
  },
  {
   "cell_type": "markdown",
   "id": "5a03cc67",
   "metadata": {},
   "source": [
    "• Name — название игры\n",
    "\n",
    "• Platform — платформа\n",
    "\n",
    "• Year_of_Release — год выпуска\n",
    "\n",
    "• Genre — жанр игры\n",
    "\n",
    "• NA_sales — продажи в Северной Америке (миллионы проданных копий)\n",
    "\n",
    "• EU_sales — продажи в Европе (миллионы проданных копий)\n",
    "\n",
    "• JP_sales — продажи в Японии (миллионы проданных копий)\n",
    "\n",
    "• Other_sales — продажи в других странах (миллионы проданных копий)\n",
    "\n",
    "• Critic_Score — оценка критиков (максимум 100)\n",
    "\n",
    "• User_Score — оценка пользователей (максимум 10)\n",
    "\n",
    "• Rating — рейтинг от организации ESRB (англ. Entertainment Software Rating Board). Эта ассоциация определяет рейтинг компьютерных игр и присваивает им подходящую возрастную категорию.\n",
    "\n",
    "Данные за 2016 год могут быть неполными."
   ]
  },
  {
   "cell_type": "markdown",
   "id": "c290ddce",
   "metadata": {},
   "source": [
    "# Рейтинг ESRB (Entertainment Software Rating Board) - данные с [википедии:](https://ru.wikipedia.org/wiki/Entertainment_Software_Rating_Board)"
   ]
  },
  {
   "cell_type": "markdown",
   "id": "28f0269c",
   "metadata": {},
   "source": [
    "Рейтинг игр ESRB основан на их содержании аналогично рейтинговым системам кино. Рейтинг игры напечатан на упаковке, содержится в её рекламе и указан на сайте игры. Компании не обязаны предоставлять игру на определение рейтинга до начала официальных продаж, так как её содержимое может значительно измениться в ходе разработки.\n",
    "\n",
    "Рейтинг состоит из двух частей: знака рейтинга и краткого описания содержимого. Знак рейтинга обычно располагается в нижнем левом или правом углу на лицевой стороне упаковки и определяет наиболее подходящую возрастную категорию для игры. Описание содержимого располагается на обратной стороне коробки, обычно в нижнем левом или правом углу и перечисляет некоторые элементы содержания игры:\n",
    "- «EC» («Early childhood») — «Для детей младшего возраста»: Игра подходит для детей от 3 лет и не содержит материалов, которые родители могли бы счесть неподходящими. Продукты, получившие данный рейтинг, изначально разрабатываются для детей и обычно представляют собой развивающие игры.\n",
    "\n",
    "- «E» («Everyone») — «Для всех»: Содержание вполне подходит для всех возрастов. Такие игры могут понравиться и взрослым. Игры с этим рейтингом могут содержать минимальное насилие, в основном «мультяшного» характера. Первоначально \"K-A\" (\"Kids to Adults\"):\n",
    "\n",
    "- «E10+» («Everyone 10 and older») — «Для всех от 10 лет и старше»: Проекты с данным рейтингом могут содержать больше мультипликационного или мягкого насилия, или несколько откровенные сцены, или минимальное количество крови. Рейтинг был принят ESRB 2 марта 2005 года.\n",
    "\n",
    "- «T» («Teen») — «Подросткам»: Игра подходит для лиц от 13 лет. Проекты из данной категории могут содержать насилие, непристойные сцены, грубый юмор, в меру откровенное сексуальное содержимое, кровь или нечастое использование ненормативной лексики.\n",
    "\n",
    "- «M» («Mature») — «Для взрослых»: Материалы игры не подходят для лиц младше 17 лет. Проекты с данным рейтингом могут содержать жестокое насилие, большое количество крови с расчленением, непристойные сексуальные сцены или грубую ненормативную лексику.\n",
    "\n",
    "- «AO» («Adults Only 18+») — «Только для взрослых»: Содержание игры только для взрослых старше 18 лет. Продукты из данной категории могут содержать длительные сцены жестокого насилия и/или очень откровенное сексуальное содержимое.\n",
    "\n",
    "- «RP» («Rating Pending») — «Рейтинг ожидается»: Продукт был отправлен в ESRB и ожидает присвоения рейтинга. Данный логотип используется только на рекламных презентациях и в демо-версиях игр до официальной даты выпуска в продажу:\n",
    "\n",
    "- «RP 17+» («Rating Pending») — «Рейтинг ожидается - примерно 17+»: Продукт отправлен ESRB на оценку, но примерное содержание близко к рейтингу «M». Данная маркировка была введена с 2021 г. и распространяется на демо или презентационный вариант"
   ]
  },
  {
   "cell_type": "markdown",
   "id": "92bc9913",
   "metadata": {},
   "source": [
    "# Дополнительно:"
   ]
  },
  {
   "cell_type": "markdown",
   "id": "0d874cf2",
   "metadata": {},
   "source": [
    "Для заполнения пропусков использовлись датасеты с kaggle:\n",
    "- [датасет 'all_games'](https://www.kaggle.com/datasets/henrylin03/metacritic-games-user-reviews-and-metascores);\n",
    "- [датасет 'metacritic'](https://www.kaggle.com/datasets/deepcontractor/top-video-games-19952021-metacritic)."
   ]
  },
  {
   "cell_type": "markdown",
   "id": "3a308e55",
   "metadata": {},
   "source": [
    "# Ход работы:"
   ]
  },
  {
   "cell_type": "markdown",
   "id": "074099a6",
   "metadata": {},
   "source": [
    "[1.1. Загрузка данных. Импорт библиотек.](#import)\n",
    "\n",
    "[1.2. Работа с пропусками.](#nan)\n",
    "\n",
    "[2. Исследовательский анализ данных](#eda)\n",
    "\n",
    "[3. Портрет пользователя каждого региона:](#user)\n",
    "- самые популярные платформы (топ-5);\n",
    "- самые популярные жанры (топ-5);\n",
    "- влияние рейтинга ESRB на продажи;\n",
    "- самые популярные игры (топ-5).\n",
    "\n",
    "[Промежуточный вывод - Северная Америка.](#conclusion_2)\n",
    "\n",
    "[Промежуточный вывод - Европа.](#conclusion_3)\n",
    "\n",
    "[Промежуточный вывод - Япония.](#conclusion_4)\n",
    "\n",
    "[Промежуточный вывод - продажи в других странах.](#conclusion_5)\n",
    "\n",
    "[4. Проверка гипотез.](#hypotesis)\n",
    "\n",
    "[Общий вывод.](#conclusion_7)"
   ]
  },
  {
   "cell_type": "markdown",
   "id": "51658890",
   "metadata": {},
   "source": [
    "<a id=\"import\"> </a>\n",
    "# 1.1. Загрузка данных. Импорт библиотек."
   ]
  },
  {
   "cell_type": "code",
   "execution_count": 1,
   "id": "62479ac5",
   "metadata": {},
   "outputs": [
    {
     "name": "stdout",
     "output_type": "stream",
     "text": [
      "Collecting phik\n",
      "  Downloading phik-0.12.3-cp39-cp39-manylinux_2_17_x86_64.manylinux2014_x86_64.whl (679 kB)\n",
      "\u001b[K     |████████████████████████████████| 679 kB 1.1 MB/s eta 0:00:01\n",
      "\u001b[?25hRequirement already satisfied: matplotlib>=2.2.3 in /opt/conda/lib/python3.9/site-packages (from phik) (3.3.4)\n",
      "Requirement already satisfied: joblib>=0.14.1 in /opt/conda/lib/python3.9/site-packages (from phik) (1.1.0)\n",
      "Requirement already satisfied: scipy>=1.5.2 in /opt/conda/lib/python3.9/site-packages (from phik) (1.9.1)\n",
      "Requirement already satisfied: numpy>=1.18.0 in /opt/conda/lib/python3.9/site-packages (from phik) (1.21.1)\n",
      "Requirement already satisfied: pandas>=0.25.1 in /opt/conda/lib/python3.9/site-packages (from phik) (1.2.4)\n",
      "Requirement already satisfied: pyparsing!=2.0.4,!=2.1.2,!=2.1.6,>=2.0.3 in /opt/conda/lib/python3.9/site-packages (from matplotlib>=2.2.3->phik) (2.4.7)\n",
      "Requirement already satisfied: python-dateutil>=2.1 in /opt/conda/lib/python3.9/site-packages (from matplotlib>=2.2.3->phik) (2.8.1)\n",
      "Requirement already satisfied: cycler>=0.10 in /opt/conda/lib/python3.9/site-packages (from matplotlib>=2.2.3->phik) (0.11.0)\n",
      "Requirement already satisfied: pillow>=6.2.0 in /opt/conda/lib/python3.9/site-packages (from matplotlib>=2.2.3->phik) (8.4.0)\n",
      "Requirement already satisfied: kiwisolver>=1.0.1 in /opt/conda/lib/python3.9/site-packages (from matplotlib>=2.2.3->phik) (1.4.4)\n",
      "Requirement already satisfied: pytz>=2017.3 in /opt/conda/lib/python3.9/site-packages (from pandas>=0.25.1->phik) (2021.1)\n",
      "Requirement already satisfied: six>=1.5 in /opt/conda/lib/python3.9/site-packages (from python-dateutil>=2.1->matplotlib>=2.2.3->phik) (1.16.0)\n",
      "Installing collected packages: phik\n",
      "Successfully installed phik-0.12.3\n"
     ]
    }
   ],
   "source": [
    "!pip install phik "
   ]
  },
  {
   "cell_type": "code",
   "execution_count": 2,
   "id": "fbcfd855",
   "metadata": {},
   "outputs": [],
   "source": [
    "import warnings\n",
    "warnings.simplefilter(action='ignore', category=FutureWarning)\n",
    "\n",
    "import pandas as pd\n",
    "import numpy as np\n",
    "\n",
    "import phik\n",
    "\n",
    "from scipy.stats import ttest_ind\n",
    "\n",
    "import matplotlib.pyplot as plt\n",
    "import seaborn as sns"
   ]
  },
  {
   "cell_type": "code",
   "execution_count": 3,
   "id": "4d3c642a",
   "metadata": {},
   "outputs": [],
   "source": [
    "games = pd.read_csv('/datasets/games.csv')"
   ]
  },
  {
   "cell_type": "code",
   "execution_count": 4,
   "id": "4eae65a7",
   "metadata": {},
   "outputs": [
    {
     "data": {
      "text/html": [
       "<div>\n",
       "<style scoped>\n",
       "    .dataframe tbody tr th:only-of-type {\n",
       "        vertical-align: middle;\n",
       "    }\n",
       "\n",
       "    .dataframe tbody tr th {\n",
       "        vertical-align: top;\n",
       "    }\n",
       "\n",
       "    .dataframe thead th {\n",
       "        text-align: right;\n",
       "    }\n",
       "</style>\n",
       "<table border=\"1\" class=\"dataframe\">\n",
       "  <thead>\n",
       "    <tr style=\"text-align: right;\">\n",
       "      <th></th>\n",
       "      <th>Name</th>\n",
       "      <th>Platform</th>\n",
       "      <th>Year_of_Release</th>\n",
       "      <th>Genre</th>\n",
       "      <th>NA_sales</th>\n",
       "      <th>EU_sales</th>\n",
       "      <th>JP_sales</th>\n",
       "      <th>Other_sales</th>\n",
       "      <th>Critic_Score</th>\n",
       "      <th>User_Score</th>\n",
       "      <th>Rating</th>\n",
       "    </tr>\n",
       "  </thead>\n",
       "  <tbody>\n",
       "    <tr>\n",
       "      <th>0</th>\n",
       "      <td>Wii Sports</td>\n",
       "      <td>Wii</td>\n",
       "      <td>2006.0</td>\n",
       "      <td>Sports</td>\n",
       "      <td>41.36</td>\n",
       "      <td>28.96</td>\n",
       "      <td>3.77</td>\n",
       "      <td>8.45</td>\n",
       "      <td>76.0</td>\n",
       "      <td>8</td>\n",
       "      <td>E</td>\n",
       "    </tr>\n",
       "    <tr>\n",
       "      <th>1</th>\n",
       "      <td>Super Mario Bros.</td>\n",
       "      <td>NES</td>\n",
       "      <td>1985.0</td>\n",
       "      <td>Platform</td>\n",
       "      <td>29.08</td>\n",
       "      <td>3.58</td>\n",
       "      <td>6.81</td>\n",
       "      <td>0.77</td>\n",
       "      <td>NaN</td>\n",
       "      <td>NaN</td>\n",
       "      <td>NaN</td>\n",
       "    </tr>\n",
       "    <tr>\n",
       "      <th>2</th>\n",
       "      <td>Mario Kart Wii</td>\n",
       "      <td>Wii</td>\n",
       "      <td>2008.0</td>\n",
       "      <td>Racing</td>\n",
       "      <td>15.68</td>\n",
       "      <td>12.76</td>\n",
       "      <td>3.79</td>\n",
       "      <td>3.29</td>\n",
       "      <td>82.0</td>\n",
       "      <td>8.3</td>\n",
       "      <td>E</td>\n",
       "    </tr>\n",
       "  </tbody>\n",
       "</table>\n",
       "</div>"
      ],
      "text/plain": [
       "                Name Platform  Year_of_Release     Genre  NA_sales  EU_sales  \\\n",
       "0         Wii Sports      Wii           2006.0    Sports     41.36     28.96   \n",
       "1  Super Mario Bros.      NES           1985.0  Platform     29.08      3.58   \n",
       "2     Mario Kart Wii      Wii           2008.0    Racing     15.68     12.76   \n",
       "\n",
       "   JP_sales  Other_sales  Critic_Score User_Score Rating  \n",
       "0      3.77         8.45          76.0          8      E  \n",
       "1      6.81         0.77           NaN        NaN    NaN  \n",
       "2      3.79         3.29          82.0        8.3      E  "
      ]
     },
     "execution_count": 4,
     "metadata": {},
     "output_type": "execute_result"
    }
   ],
   "source": [
    "games.head(3)"
   ]
  },
  {
   "cell_type": "code",
   "execution_count": 5,
   "id": "d6bba3ed",
   "metadata": {},
   "outputs": [
    {
     "name": "stdout",
     "output_type": "stream",
     "text": [
      "<class 'pandas.core.frame.DataFrame'>\n",
      "RangeIndex: 16715 entries, 0 to 16714\n",
      "Data columns (total 11 columns):\n",
      " #   Column           Non-Null Count  Dtype  \n",
      "---  ------           --------------  -----  \n",
      " 0   Name             16713 non-null  object \n",
      " 1   Platform         16715 non-null  object \n",
      " 2   Year_of_Release  16446 non-null  float64\n",
      " 3   Genre            16713 non-null  object \n",
      " 4   NA_sales         16715 non-null  float64\n",
      " 5   EU_sales         16715 non-null  float64\n",
      " 6   JP_sales         16715 non-null  float64\n",
      " 7   Other_sales      16715 non-null  float64\n",
      " 8   Critic_Score     8137 non-null   float64\n",
      " 9   User_Score       10014 non-null  object \n",
      " 10  Rating           9949 non-null   object \n",
      "dtypes: float64(6), object(5)\n",
      "memory usage: 1.4+ MB\n"
     ]
    }
   ],
   "source": [
    "games.info()"
   ]
  },
  {
   "cell_type": "code",
   "execution_count": 6,
   "id": "d10807e0",
   "metadata": {},
   "outputs": [],
   "source": [
    "games.duplicated().sum()\n",
    "games = games.drop_duplicates()"
   ]
  },
  {
   "cell_type": "markdown",
   "id": "9ef6c851",
   "metadata": {},
   "source": [
    "В датасете 16715 строк и 11 столбцов.\n",
    "\n",
    "Явных дубликатов - нет.\n",
    "\n",
    "Пропущенные значения в шести столбцах:\n",
    "- Name и Genre - по 2 пропущенных значения,\n",
    "- Year_of_Release - 269 пропущенных значений,\n",
    "- Critic_Score, User_Score, Rating - половина и более пропущенных строк.\n",
    "\n",
    "Дополнительно:\n",
    "- необходимо привести названия столбцов к нижнему регистру."
   ]
  },
  {
   "cell_type": "code",
   "execution_count": 7,
   "id": "57937d83",
   "metadata": {},
   "outputs": [],
   "source": [
    "games.columns = [i.lower() for i in games.columns]"
   ]
  },
  {
   "cell_type": "code",
   "execution_count": 8,
   "id": "0a5fdb2a",
   "metadata": {},
   "outputs": [
    {
     "data": {
      "text/html": [
       "<div>\n",
       "<style scoped>\n",
       "    .dataframe tbody tr th:only-of-type {\n",
       "        vertical-align: middle;\n",
       "    }\n",
       "\n",
       "    .dataframe tbody tr th {\n",
       "        vertical-align: top;\n",
       "    }\n",
       "\n",
       "    .dataframe thead th {\n",
       "        text-align: right;\n",
       "    }\n",
       "</style>\n",
       "<table border=\"1\" class=\"dataframe\">\n",
       "  <thead>\n",
       "    <tr style=\"text-align: right;\">\n",
       "      <th></th>\n",
       "      <th>name</th>\n",
       "      <th>platform</th>\n",
       "      <th>year_of_release</th>\n",
       "      <th>genre</th>\n",
       "      <th>na_sales</th>\n",
       "      <th>eu_sales</th>\n",
       "      <th>jp_sales</th>\n",
       "      <th>other_sales</th>\n",
       "      <th>critic_score</th>\n",
       "      <th>user_score</th>\n",
       "      <th>rating</th>\n",
       "    </tr>\n",
       "  </thead>\n",
       "  <tbody>\n",
       "    <tr>\n",
       "      <th>604</th>\n",
       "      <td>Madden NFL 13</td>\n",
       "      <td>PS3</td>\n",
       "      <td>2012.0</td>\n",
       "      <td>Sports</td>\n",
       "      <td>2.11</td>\n",
       "      <td>0.22</td>\n",
       "      <td>0.00</td>\n",
       "      <td>0.23</td>\n",
       "      <td>83.0</td>\n",
       "      <td>5.5</td>\n",
       "      <td>E</td>\n",
       "    </tr>\n",
       "    <tr>\n",
       "      <th>659</th>\n",
       "      <td>NaN</td>\n",
       "      <td>GEN</td>\n",
       "      <td>1993.0</td>\n",
       "      <td>NaN</td>\n",
       "      <td>1.78</td>\n",
       "      <td>0.53</td>\n",
       "      <td>0.00</td>\n",
       "      <td>0.08</td>\n",
       "      <td>NaN</td>\n",
       "      <td>NaN</td>\n",
       "      <td>NaN</td>\n",
       "    </tr>\n",
       "    <tr>\n",
       "      <th>14244</th>\n",
       "      <td>NaN</td>\n",
       "      <td>GEN</td>\n",
       "      <td>1993.0</td>\n",
       "      <td>NaN</td>\n",
       "      <td>0.00</td>\n",
       "      <td>0.00</td>\n",
       "      <td>0.03</td>\n",
       "      <td>0.00</td>\n",
       "      <td>NaN</td>\n",
       "      <td>NaN</td>\n",
       "      <td>NaN</td>\n",
       "    </tr>\n",
       "    <tr>\n",
       "      <th>16230</th>\n",
       "      <td>Madden NFL 13</td>\n",
       "      <td>PS3</td>\n",
       "      <td>2012.0</td>\n",
       "      <td>Sports</td>\n",
       "      <td>0.00</td>\n",
       "      <td>0.01</td>\n",
       "      <td>0.00</td>\n",
       "      <td>0.00</td>\n",
       "      <td>83.0</td>\n",
       "      <td>5.5</td>\n",
       "      <td>E</td>\n",
       "    </tr>\n",
       "  </tbody>\n",
       "</table>\n",
       "</div>"
      ],
      "text/plain": [
       "                name platform  year_of_release   genre  na_sales  eu_sales  \\\n",
       "604    Madden NFL 13      PS3           2012.0  Sports      2.11      0.22   \n",
       "659              NaN      GEN           1993.0     NaN      1.78      0.53   \n",
       "14244            NaN      GEN           1993.0     NaN      0.00      0.00   \n",
       "16230  Madden NFL 13      PS3           2012.0  Sports      0.00      0.01   \n",
       "\n",
       "       jp_sales  other_sales  critic_score user_score rating  \n",
       "604        0.00         0.23          83.0        5.5      E  \n",
       "659        0.00         0.08           NaN        NaN    NaN  \n",
       "14244      0.03         0.00           NaN        NaN    NaN  \n",
       "16230      0.00         0.00          83.0        5.5      E  "
      ]
     },
     "execution_count": 8,
     "metadata": {},
     "output_type": "execute_result"
    }
   ],
   "source": [
    "games[games[['name', 'platform','year_of_release']].duplicated(keep=False)]"
   ]
  },
  {
   "cell_type": "code",
   "execution_count": 9,
   "id": "c48fb2a8",
   "metadata": {},
   "outputs": [],
   "source": [
    "games.drop(index=[16230], inplace=True)"
   ]
  },
  {
   "cell_type": "markdown",
   "id": "b210d5be",
   "metadata": {},
   "source": [
    "<a id=\"nan\"> </a>\n",
    "# 1.2. Работа с пропусками."
   ]
  },
  {
   "cell_type": "code",
   "execution_count": 10,
   "id": "4e185fe6",
   "metadata": {},
   "outputs": [],
   "source": [
    "all_games = pd.read_csv('https://drive.google.com/u/0/uc?id=1D7Fhpk7tFLKwKQB557lQXPTi6Qsu6W77&export=download')"
   ]
  },
  {
   "cell_type": "markdown",
   "id": "1c00be89",
   "metadata": {},
   "source": [
    "</div>"
   ]
  },
  {
   "cell_type": "code",
   "execution_count": 11,
   "id": "d4000ac4",
   "metadata": {},
   "outputs": [],
   "source": [
    "metacritic = pd.read_csv('https://drive.google.com/u/0/uc?id=1WHOb1eKLyVDVRcAyn92Gtr07Iom7ylz4&export=download')"
   ]
  },
  {
   "cell_type": "code",
   "execution_count": 12,
   "id": "6b6f4eaa",
   "metadata": {},
   "outputs": [
    {
     "name": "stdout",
     "output_type": "stream",
     "text": [
      "<class 'pandas.core.frame.DataFrame'>\n",
      "RangeIndex: 20422 entries, 0 to 20421\n",
      "Data columns (total 18 columns):\n",
      " #   Column           Non-Null Count  Dtype \n",
      "---  ------           --------------  ----- \n",
      " 0   name             20422 non-null  object\n",
      " 1   platform         20422 non-null  object\n",
      " 2   developer        20385 non-null  object\n",
      " 3   publisher        20416 non-null  object\n",
      " 4   genre(s)         20422 non-null  object\n",
      " 5   players          13193 non-null  object\n",
      " 6   rating           18131 non-null  object\n",
      " 7   attribute        324 non-null    object\n",
      " 8   release_date     20422 non-null  object\n",
      " 9   link             20422 non-null  object\n",
      " 10  critic_positive  20422 non-null  int64 \n",
      " 11  critic_neutral   20422 non-null  int64 \n",
      " 12  critic_negative  20422 non-null  int64 \n",
      " 13  metascore        20422 non-null  int64 \n",
      " 14  user_positive    20422 non-null  int64 \n",
      " 15  user_neutral     20422 non-null  int64 \n",
      " 16  user_negative    20422 non-null  int64 \n",
      " 17  user_score       20422 non-null  object\n",
      "dtypes: int64(7), object(11)\n",
      "memory usage: 2.8+ MB\n"
     ]
    }
   ],
   "source": [
    "metacritic.info()"
   ]
  },
  {
   "cell_type": "code",
   "execution_count": 13,
   "id": "bdd417d5",
   "metadata": {},
   "outputs": [
    {
     "name": "stdout",
     "output_type": "stream",
     "text": [
      "<class 'pandas.core.frame.DataFrame'>\n",
      "RangeIndex: 142417 entries, 0 to 142416\n",
      "Data columns (total 6 columns):\n",
      " #   Column        Non-Null Count   Dtype \n",
      "---  ------        --------------   ----- \n",
      " 0   name          142417 non-null  object\n",
      " 1   platform      142417 non-null  object\n",
      " 2   release_date  142417 non-null  object\n",
      " 3   summary       124702 non-null  object\n",
      " 4   metascore     142417 non-null  object\n",
      " 5   userscore     142417 non-null  object\n",
      "dtypes: object(6)\n",
      "memory usage: 6.5+ MB\n"
     ]
    }
   ],
   "source": [
    "all_games.info()"
   ]
  },
  {
   "cell_type": "code",
   "execution_count": 14,
   "id": "915ace91",
   "metadata": {},
   "outputs": [
    {
     "data": {
      "text/html": [
       "<div>\n",
       "<style scoped>\n",
       "    .dataframe tbody tr th:only-of-type {\n",
       "        vertical-align: middle;\n",
       "    }\n",
       "\n",
       "    .dataframe tbody tr th {\n",
       "        vertical-align: top;\n",
       "    }\n",
       "\n",
       "    .dataframe thead th {\n",
       "        text-align: right;\n",
       "    }\n",
       "</style>\n",
       "<table border=\"1\" class=\"dataframe\">\n",
       "  <thead>\n",
       "    <tr style=\"text-align: right;\">\n",
       "      <th></th>\n",
       "      <th>name</th>\n",
       "      <th>platform</th>\n",
       "      <th>developer</th>\n",
       "      <th>publisher</th>\n",
       "      <th>genre(s)</th>\n",
       "      <th>players</th>\n",
       "      <th>rating</th>\n",
       "      <th>attribute</th>\n",
       "      <th>release_date</th>\n",
       "      <th>link</th>\n",
       "      <th>critic_positive</th>\n",
       "      <th>critic_neutral</th>\n",
       "      <th>critic_negative</th>\n",
       "      <th>metascore</th>\n",
       "      <th>user_positive</th>\n",
       "      <th>user_neutral</th>\n",
       "      <th>user_negative</th>\n",
       "      <th>user_score</th>\n",
       "    </tr>\n",
       "  </thead>\n",
       "  <tbody>\n",
       "    <tr>\n",
       "      <th>0</th>\n",
       "      <td>Command &amp; Conquer</td>\n",
       "      <td>PC</td>\n",
       "      <td>Westwood Studios</td>\n",
       "      <td>Virgin Interactive</td>\n",
       "      <td>Sci-Fi</td>\n",
       "      <td>1-4</td>\n",
       "      <td>T</td>\n",
       "      <td>NaN</td>\n",
       "      <td>Aug 31, 1995</td>\n",
       "      <td>/game/pc/command-conquer</td>\n",
       "      <td>5</td>\n",
       "      <td>0</td>\n",
       "      <td>0</td>\n",
       "      <td>94</td>\n",
       "      <td>47</td>\n",
       "      <td>0</td>\n",
       "      <td>1</td>\n",
       "      <td>8.9</td>\n",
       "    </tr>\n",
       "    <tr>\n",
       "      <th>1</th>\n",
       "      <td>Full Throttle</td>\n",
       "      <td>PC</td>\n",
       "      <td>LucasArts</td>\n",
       "      <td>LucasArts</td>\n",
       "      <td>Adventure</td>\n",
       "      <td>NaN</td>\n",
       "      <td>NaN</td>\n",
       "      <td>NaN</td>\n",
       "      <td>Apr 30, 1995</td>\n",
       "      <td>/game/pc/full-throttle</td>\n",
       "      <td>6</td>\n",
       "      <td>2</td>\n",
       "      <td>0</td>\n",
       "      <td>86</td>\n",
       "      <td>18</td>\n",
       "      <td>1</td>\n",
       "      <td>0</td>\n",
       "      <td>8.7</td>\n",
       "    </tr>\n",
       "    <tr>\n",
       "      <th>2</th>\n",
       "      <td>Battle Arena Toshinden</td>\n",
       "      <td>PS</td>\n",
       "      <td>Tamsoft</td>\n",
       "      <td>SCEA</td>\n",
       "      <td>Action</td>\n",
       "      <td>1-2</td>\n",
       "      <td>T</td>\n",
       "      <td>NaN</td>\n",
       "      <td>Sep  9, 1995</td>\n",
       "      <td>/game/playstation/battle-arena-toshinden</td>\n",
       "      <td>1</td>\n",
       "      <td>3</td>\n",
       "      <td>0</td>\n",
       "      <td>69</td>\n",
       "      <td>1</td>\n",
       "      <td>0</td>\n",
       "      <td>1</td>\n",
       "      <td>5.8</td>\n",
       "    </tr>\n",
       "  </tbody>\n",
       "</table>\n",
       "</div>"
      ],
      "text/plain": [
       "                     name platform         developer           publisher  \\\n",
       "0       Command & Conquer       PC  Westwood Studios  Virgin Interactive   \n",
       "1           Full Throttle       PC         LucasArts           LucasArts   \n",
       "2  Battle Arena Toshinden       PS           Tamsoft                SCEA   \n",
       "\n",
       "    genre(s) players rating attribute  release_date  \\\n",
       "0     Sci-Fi    1-4       T       NaN  Aug 31, 1995   \n",
       "1  Adventure     NaN    NaN       NaN  Apr 30, 1995   \n",
       "2     Action    1-2       T       NaN  Sep  9, 1995   \n",
       "\n",
       "                                       link  critic_positive  critic_neutral  \\\n",
       "0                  /game/pc/command-conquer                5               0   \n",
       "1                    /game/pc/full-throttle                6               2   \n",
       "2  /game/playstation/battle-arena-toshinden                1               3   \n",
       "\n",
       "   critic_negative  metascore  user_positive  user_neutral  user_negative  \\\n",
       "0                0         94             47             0              1   \n",
       "1                0         86             18             1              0   \n",
       "2                0         69              1             0              1   \n",
       "\n",
       "  user_score  \n",
       "0        8.9  \n",
       "1        8.7  \n",
       "2        5.8  "
      ]
     },
     "execution_count": 14,
     "metadata": {},
     "output_type": "execute_result"
    }
   ],
   "source": [
    "metacritic.head(3)"
   ]
  },
  {
   "cell_type": "code",
   "execution_count": 15,
   "id": "95d3c206",
   "metadata": {},
   "outputs": [
    {
     "data": {
      "text/html": [
       "<div>\n",
       "<style scoped>\n",
       "    .dataframe tbody tr th:only-of-type {\n",
       "        vertical-align: middle;\n",
       "    }\n",
       "\n",
       "    .dataframe tbody tr th {\n",
       "        vertical-align: top;\n",
       "    }\n",
       "\n",
       "    .dataframe thead th {\n",
       "        text-align: right;\n",
       "    }\n",
       "</style>\n",
       "<table border=\"1\" class=\"dataframe\">\n",
       "  <thead>\n",
       "    <tr style=\"text-align: right;\">\n",
       "      <th></th>\n",
       "      <th>name</th>\n",
       "      <th>platform</th>\n",
       "      <th>release_date</th>\n",
       "      <th>summary</th>\n",
       "      <th>metascore</th>\n",
       "      <th>userscore</th>\n",
       "    </tr>\n",
       "  </thead>\n",
       "  <tbody>\n",
       "    <tr>\n",
       "      <th>0</th>\n",
       "      <td>! SPACE ACCIDENT !</td>\n",
       "      <td>PC</td>\n",
       "      <td>February 10, 2022</td>\n",
       "      <td>The year is 2119. A turning point has begun in...</td>\n",
       "      <td>tbd</td>\n",
       "      <td>tbd</td>\n",
       "    </tr>\n",
       "    <tr>\n",
       "      <th>1</th>\n",
       "      <td>! That Bastard Is Trying To Steal Our Gold !</td>\n",
       "      <td>PC</td>\n",
       "      <td>May 11, 2014</td>\n",
       "      <td>It's a fun puzzle game where you need to steal...</td>\n",
       "      <td>tbd</td>\n",
       "      <td>3.4</td>\n",
       "    </tr>\n",
       "    <tr>\n",
       "      <th>2</th>\n",
       "      <td>!4RC4N01D!</td>\n",
       "      <td>PC</td>\n",
       "      <td>January 12, 2018</td>\n",
       "      <td>Hardcore arkanoid in the spirit of old games f...</td>\n",
       "      <td>tbd</td>\n",
       "      <td>4.0</td>\n",
       "    </tr>\n",
       "  </tbody>\n",
       "</table>\n",
       "</div>"
      ],
      "text/plain": [
       "                                           name platform       release_date  \\\n",
       "0                            ! SPACE ACCIDENT !       PC  February 10, 2022   \n",
       "1  ! That Bastard Is Trying To Steal Our Gold !       PC       May 11, 2014   \n",
       "2                                    !4RC4N01D!       PC   January 12, 2018   \n",
       "\n",
       "                                             summary metascore userscore  \n",
       "0  The year is 2119. A turning point has begun in...       tbd       tbd  \n",
       "1  It's a fun puzzle game where you need to steal...       tbd       3.4  \n",
       "2  Hardcore arkanoid in the spirit of old games f...       tbd       4.0  "
      ]
     },
     "execution_count": 15,
     "metadata": {},
     "output_type": "execute_result"
    }
   ],
   "source": [
    "all_games.head(3)"
   ]
  },
  {
   "cell_type": "markdown",
   "id": "15ecae40",
   "metadata": {},
   "source": [
    "Из датассета all_games нам понадобятся 'metascore', 'user_score' и (возможно) - 'release_date'."
   ]
  },
  {
   "cell_type": "code",
   "execution_count": 16,
   "id": "269410e7",
   "metadata": {},
   "outputs": [
    {
     "name": "stdout",
     "output_type": "stream",
     "text": [
      "2\n"
     ]
    }
   ],
   "source": [
    "# проверка и удаление явных дубликатов в metacritic\n",
    "\n",
    "print(metacritic.duplicated().sum())\n",
    "metacritic = metacritic.drop_duplicates()"
   ]
  },
  {
   "cell_type": "code",
   "execution_count": 17,
   "id": "187aa136",
   "metadata": {},
   "outputs": [
    {
     "name": "stdout",
     "output_type": "stream",
     "text": [
      "7\n"
     ]
    }
   ],
   "source": [
    "# проверка и удаление явных дубликатов в all_games\n",
    "\n",
    "print(all_games.duplicated().sum())\n",
    "all_games = all_games.drop_duplicates()"
   ]
  },
  {
   "cell_type": "code",
   "execution_count": 18,
   "id": "b1b48e8d",
   "metadata": {},
   "outputs": [],
   "source": [
    "# выделим год из даты\n",
    "\n",
    "all_games['year_of_release'] = pd.to_datetime(all_games['release_date']).dt.year.astype('float')\n",
    "\n",
    "metacritic['year_of_release'] = pd.to_datetime(metacritic['release_date']).dt.year.astype('float')"
   ]
  },
  {
   "cell_type": "code",
   "execution_count": 19,
   "id": "9bf9672e",
   "metadata": {},
   "outputs": [],
   "source": [
    "# создадим \"ключи\"\n",
    "\n",
    "games['game_key'] = games['name'] + '_' + games['platform'] + '_' + games['year_of_release'].astype('str')\n",
    "\n",
    "metacritic['game_key'] = metacritic['name'] + '_' + metacritic['platform'] + '_' + metacritic['year_of_release'].astype('str')\n",
    "\n",
    "all_games['game_key'] = all_games['name'] + '_' + all_games['platform'] + '_' + all_games['year_of_release'].astype('str')"
   ]
  },
  {
   "cell_type": "code",
   "execution_count": 20,
   "id": "0f7300b6",
   "metadata": {},
   "outputs": [],
   "source": [
    "# приведем интересующие нас столбцы к единообразию\n",
    "\n",
    "metacritic = metacritic.rename(columns={'metascore': 'critic_score', 'genre(s)': 'genre'})\n",
    "\n",
    "all_games = all_games.rename(columns={'metascore': 'critic_score', 'userscore': 'user_score'})"
   ]
  },
  {
   "cell_type": "code",
   "execution_count": 21,
   "id": "df75189f",
   "metadata": {},
   "outputs": [],
   "source": [
    "# объединяем таблицы\n",
    "\n",
    "games_full = games.merge(all_games[['critic_score', 'user_score', 'year_of_release', 'game_key']],\n",
    "               how='left', on='game_key', suffixes=('', '_all_game')) \\\n",
    "              .merge(metacritic[['genre', 'rating', 'critic_score', 'user_score', 'year_of_release', 'game_key']],\n",
    "               how='left', on='game_key', suffixes=('', '_meta'))"
   ]
  },
  {
   "cell_type": "code",
   "execution_count": 22,
   "id": "3b31c039",
   "metadata": {},
   "outputs": [],
   "source": [
    "# заполняем пропуски данными из других таблица\n",
    "\n",
    "games_full['year_of_release'] = games_full['year_of_release'].fillna(games_full['year_of_release_all_game'], axis=0) \\\n",
    "                                                             .fillna(games_full['year_of_release_meta'], axis=0)\n",
    "\n",
    "\n",
    "games_full['critic_score'] = games_full['critic_score'].fillna(games_full['critic_score_all_game'], axis=0) \\\n",
    "                                                       .fillna(games_full['critic_score_meta'], axis=0)\n",
    "\n",
    "\n",
    "games_full['rating'] = games_full['rating'].fillna(games_full['rating_meta'], axis=0)"
   ]
  },
  {
   "cell_type": "code",
   "execution_count": 23,
   "id": "373d047b",
   "metadata": {},
   "outputs": [],
   "source": [
    "games_full['user_score'] = games_full['user_score'].fillna(games_full['user_score_all_game'], axis=0) \\\n",
    "                                                   .fillna(games_full['user_score_meta'], axis=0)"
   ]
  },
  {
   "cell_type": "code",
   "execution_count": 24,
   "id": "43ef3659",
   "metadata": {},
   "outputs": [],
   "source": [
    "# удаляем ненужное\n",
    "\n",
    "games_full = games_full.drop(columns=['critic_score_all_game', 'user_score_all_game', 'year_of_release_all_game', \n",
    "                                      'genre_meta', 'rating_meta', 'critic_score_meta', 'user_score_meta', \n",
    "                                      'year_of_release_meta', 'game_key'], axis=1)"
   ]
  },
  {
   "cell_type": "code",
   "execution_count": 25,
   "id": "f907d613",
   "metadata": {},
   "outputs": [],
   "source": [
    "# в столбце name было два пропуска\n",
    "\n",
    "games_full = games_full.dropna(subset=['name'])"
   ]
  },
  {
   "cell_type": "code",
   "execution_count": 26,
   "id": "35d17a91",
   "metadata": {},
   "outputs": [
    {
     "name": "stdout",
     "output_type": "stream",
     "text": [
      "11\n"
     ]
    }
   ],
   "source": [
    "# удаление явных дубликатов\n",
    "\n",
    "print(games_full.duplicated().sum())\n",
    "games_full = games_full.drop_duplicates()"
   ]
  },
  {
   "cell_type": "code",
   "execution_count": 27,
   "id": "7311e057",
   "metadata": {},
   "outputs": [],
   "source": [
    "# пост-проверка\n",
    "\n",
    "# games_full.info()"
   ]
  },
  {
   "cell_type": "markdown",
   "id": "c3c17081",
   "metadata": {},
   "source": [
    "Удалось заполнить:\n",
    "- critic_score: было - 8 137, стало - 9 410,\n",
    "- user_score: было - 10 014, стало - 10 412,\n",
    "- rating: было - 9 949, стало - 10 224."
   ]
  },
  {
   "cell_type": "code",
   "execution_count": 28,
   "id": "e4da9524",
   "metadata": {},
   "outputs": [],
   "source": [
    "games_full['year_of_release'] = games_full['year_of_release'].astype('Int64')"
   ]
  },
  {
   "cell_type": "markdown",
   "id": "5c9d7e4f",
   "metadata": {},
   "source": [
    "Пропущенные значение в столбце 'name' удаляем, потому что заполнить их не получится.\n",
    "\n",
    "Пропущенные значения в столбцах 'year_of_release', 'critic_score', 'user_score' и 'rating' оставляем без изменения.\n",
    "\n",
    "Тип 'critic_score' оставим без изменения, т.к. в столбце содержатся не только цифровые оценки, но и оценки с пометкой 'tbd'."
   ]
  },
  {
   "cell_type": "markdown",
   "id": "ecdabeac",
   "metadata": {},
   "source": [
    "информация с [metacritic.com](www.metacritic.com/faq#item13):\n",
    "\n",
    ">WHAT DOES \"TBD\" MEAN?\n",
    ">To Be Determined.\n",
    "\n",
    ">To help ensure that METASCORES accurately reflect the reviews given by critics for any particular movie, game, television show >or album, we do not display a METASCORE for those items that do not have at least four (4) reviews in our database. Once this >minimum number of reviews is reached, the METASCORE will display."
   ]
  },
  {
   "cell_type": "markdown",
   "id": "271151cc",
   "metadata": {},
   "source": [
    "Расшифровка: недостаточно оценок от критиков для отображения."
   ]
  },
  {
   "cell_type": "code",
   "execution_count": 29,
   "id": "cb9aa051",
   "metadata": {},
   "outputs": [],
   "source": [
    "# tbd заглушки\n",
    "\n",
    "games_full['critic_score'] = games_full['critic_score'].replace(['tbd'], np.nan)\n",
    "\n",
    "games_full['user_score'] = games_full['user_score'].replace(['tbd'], np.nan)"
   ]
  },
  {
   "cell_type": "markdown",
   "id": "6bda4391",
   "metadata": {},
   "source": [
    "<a id=\"eda\"> </a>\n",
    "# 2. Исследовательский анализ данных"
   ]
  },
  {
   "cell_type": "code",
   "execution_count": 30,
   "id": "d7fb6c0e",
   "metadata": {},
   "outputs": [],
   "source": [
    "# для дальнейшего исследования добавим столбец с суммарными продажами по миру\n",
    "\n",
    "games_full['total_sales'] = games_full['na_sales'] + games_full['eu_sales'] + games_full['jp_sales'] + games_full['other_sales']"
   ]
  },
  {
   "cell_type": "markdown",
   "id": "2ee09dfc",
   "metadata": {},
   "source": [
    "# Исследование количества игр и суммарных доходов по годам.\n",
    "# Выделение перспективных платформ."
   ]
  },
  {
   "cell_type": "code",
   "execution_count": 31,
   "id": "798868a0",
   "metadata": {},
   "outputs": [
    {
     "data": {
      "image/png": "[encoded data removed]",
      "text/plain": [
       "<Figure size 432x288 with 1 Axes>"
      ]
     },
     "metadata": {
      "needs_background": "light"
     },
     "output_type": "display_data"
    }
   ],
   "source": [
    "# количество вышедших игр по годам\n",
    "\n",
    "plt.figsize=(5, 7)\n",
    "\n",
    "(games_full.groupby('year_of_release')['name'].count()).reset_index() \\\n",
    "           .rename(columns={'name': 'count'}).plot(x='year_of_release', y='count')\n",
    "\n",
    "plt.title('количество вышедших игр по годам')\n",
    "plt.legend(loc='upper left')\n",
    "plt.show();"
   ]
  },
  {
   "cell_type": "code",
   "execution_count": 32,
   "id": "4806a1be",
   "metadata": {},
   "outputs": [],
   "source": [
    "year_sales = pd.DataFrame(games_full.groupby('year_of_release')[['na_sales', 'eu_sales', 'jp_sales', 'other_sales']] \\\n",
    "                                   .sum()).reset_index()\n",
    "\n",
    "year_sales['year_of_release'] = year_sales['year_of_release'].astype('int')\n",
    "\n",
    "year_sales['total_sales'] = year_sales['na_sales'] + year_sales['eu_sales'] \\\n",
    "                                + year_sales['jp_sales'] + year_sales['other_sales']"
   ]
  },
  {
   "cell_type": "code",
   "execution_count": 33,
   "id": "1626b81a",
   "metadata": {},
   "outputs": [
    {
     "data": {
      "image/png": "[encoded data removed]",
      "text/plain": [
       "<Figure size 432x288 with 1 Axes>"
      ]
     },
     "metadata": {
      "needs_background": "light"
     },
     "output_type": "display_data"
    }
   ],
   "source": [
    "year_sales.plot(x='year_of_release', y='total_sales')\n",
    "plt.title('продажи игр по годам - миллионы проданных копий по миру')\n",
    "plt.show();"
   ]
  },
  {
   "cell_type": "markdown",
   "id": "58f15cd9",
   "metadata": {},
   "source": [
    "Кривая количества вышедших игр и кривая количества проданных копий повторяют друг друга."
   ]
  },
  {
   "cell_type": "code",
   "execution_count": 34,
   "id": "43dc4b51",
   "metadata": {},
   "outputs": [],
   "source": [
    "# количество игр в разрезе года и платформы (общая информация)\n",
    "\n",
    "year_platform = pd.crosstab(index=games_full['year_of_release'], columns=games_full['platform']) \\\n",
    "                  .reset_index()"
   ]
  },
  {
   "cell_type": "code",
   "execution_count": 35,
   "id": "aae2fd8a",
   "metadata": {},
   "outputs": [],
   "source": [
    "columns = ['2600', '3DO', '3DS', 'DC', 'DS', 'GB', 'GBA', 'GC', 'GEN','GG', 'N64', 'NES', \n",
    "           'NG', 'PC', 'PCFX', 'PS', 'PS2', 'PS3', 'PS4', 'PSP', 'PSV', 'SAT', 'SCD', 'SNES', \n",
    "           'TG16', 'WS', 'Wii', 'WiiU', 'X360', 'XB', 'XOne']"
   ]
  },
  {
   "cell_type": "code",
   "execution_count": 36,
   "id": "f0b9397e",
   "metadata": {},
   "outputs": [
    {
     "data": {
      "image/png": "[encoded data removed]",
      "text/plain": [
       "<Figure size 1080x216 with 1 Axes>"
      ]
     },
     "metadata": {
      "needs_background": "light"
     },
     "output_type": "display_data"
    },
    {
     "data": {
      "image/png": "[encoded data removed]",
      "text/plain": [
       "<Figure size 1080x216 with 1 Axes>"
      ]
     },
     "metadata": {
      "needs_background": "light"
     },
     "output_type": "display_data"
    },
    {
     "data": {
      "image/png": "[encoded data removed]",
      "text/plain": [
       "<Figure size 1080x216 with 1 Axes>"
      ]
     },
     "metadata": {
      "needs_background": "light"
     },
     "output_type": "display_data"
    },
    {
     "data": {
      "image/png": "[encoded data removed]",
      "text/plain": [
       "<Figure size 1080x216 with 1 Axes>"
      ]
     },
     "metadata": {
      "needs_background": "light"
     },
     "output_type": "display_data"
    }
   ],
   "source": [
    "year_platform.plot(x='year_of_release', y=columns[:8], figsize=(15,3))\n",
    "plt.legend(title='платформа:', loc='upper left')\n",
    "plt.title(\"количество игр по годам и платформам\")\n",
    "year_platform.plot(x='year_of_release', y=columns[8:17], figsize=(15,3))\n",
    "plt.legend(title='платформа:', loc='upper left')\n",
    "year_platform.plot(x='year_of_release', y=columns[17:25], figsize=(15,3))\n",
    "plt.legend(title='платформа:', loc='upper left')\n",
    "year_platform.plot(x='year_of_release', y=columns[25:], figsize=(15,3))\n",
    "plt.legend(title='платформа:', loc='upper left')\n",
    "plt.show();"
   ]
  },
  {
   "cell_type": "markdown",
   "id": "a4312228",
   "metadata": {},
   "source": [
    "Рост количества игр начался в ~1995 - 2000 годах.\n",
    "\n",
    "По графику мы видим, что период популярности новых платформ ~ 6-10 лет (необходимо уточнить среднее \"срок жизни платформы\"). \n",
    "\n",
    "Мы можем предположить, что перспективные платформы - PC, PS4 и Xbox One."
   ]
  },
  {
   "cell_type": "code",
   "execution_count": 37,
   "id": "e4e92e67",
   "metadata": {},
   "outputs": [],
   "source": [
    "# уточним \"средний срок жизни\" платформы\n",
    "\n",
    "platform_year_minmax = games_full.groupby('platform')['year_of_release'].agg({'min', 'max'}) \\\n",
    "                                 .rename(columns={'max': 'last_game', 'min': 'first_game'})\n",
    "\n",
    "platform_year_minmax['lifetime'] = platform_year_minmax['last_game'] - platform_year_minmax['first_game']"
   ]
  },
  {
   "cell_type": "code",
   "execution_count": 38,
   "id": "8f4ac7fc",
   "metadata": {},
   "outputs": [
    {
     "data": {
      "text/html": [
       "<div>\n",
       "<style scoped>\n",
       "    .dataframe tbody tr th:only-of-type {\n",
       "        vertical-align: middle;\n",
       "    }\n",
       "\n",
       "    .dataframe tbody tr th {\n",
       "        vertical-align: top;\n",
       "    }\n",
       "\n",
       "    .dataframe thead th {\n",
       "        text-align: right;\n",
       "    }\n",
       "</style>\n",
       "<table border=\"1\" class=\"dataframe\">\n",
       "  <thead>\n",
       "    <tr style=\"text-align: right;\">\n",
       "      <th></th>\n",
       "      <th>first_game</th>\n",
       "      <th>last_game</th>\n",
       "      <th>lifetime</th>\n",
       "    </tr>\n",
       "    <tr>\n",
       "      <th>platform</th>\n",
       "      <th></th>\n",
       "      <th></th>\n",
       "      <th></th>\n",
       "    </tr>\n",
       "  </thead>\n",
       "  <tbody>\n",
       "    <tr>\n",
       "      <th>PC</th>\n",
       "      <td>1985</td>\n",
       "      <td>2016</td>\n",
       "      <td>31</td>\n",
       "    </tr>\n",
       "    <tr>\n",
       "      <th>PS4</th>\n",
       "      <td>2013</td>\n",
       "      <td>2016</td>\n",
       "      <td>3</td>\n",
       "    </tr>\n",
       "    <tr>\n",
       "      <th>XOne</th>\n",
       "      <td>2013</td>\n",
       "      <td>2016</td>\n",
       "      <td>3</td>\n",
       "    </tr>\n",
       "  </tbody>\n",
       "</table>\n",
       "</div>"
      ],
      "text/plain": [
       "          first_game  last_game  lifetime\n",
       "platform                                 \n",
       "PC              1985       2016        31\n",
       "PS4             2013       2016         3\n",
       "XOne            2013       2016         3"
      ]
     },
     "execution_count": 38,
     "metadata": {},
     "output_type": "execute_result"
    }
   ],
   "source": [
    "# посмотрим на \"срок жизни\" перспективных платформ\n",
    "\n",
    "platform_year_minmax.loc[['PC', 'PS4', 'XOne']]"
   ]
  },
  {
   "cell_type": "code",
   "execution_count": 39,
   "id": "f17abf25",
   "metadata": {},
   "outputs": [
    {
     "name": "stdout",
     "output_type": "stream",
     "text": [
      "Средний \"срок жизни\" платформы: 7.61\n",
      "Медианный \"срок жизни\" платформы: 6.0\n"
     ]
    }
   ],
   "source": [
    "print('Средний \"срок жизни\" платформы:', round(platform_year_minmax['lifetime'].mean(), 2))\n",
    "print('Медианный \"срок жизни\" платформы:', round(platform_year_minmax['lifetime'].median(), 2))"
   ]
  },
  {
   "cell_type": "markdown",
   "id": "f5d89af6",
   "metadata": {},
   "source": [
    "Исходя из полученных данных, для прогноза на 2017 год актуальным периодом будет 2013-2016 годы."
   ]
  },
  {
   "cell_type": "code",
   "execution_count": 40,
   "id": "0f04c1fb",
   "metadata": {},
   "outputs": [],
   "source": [
    "# выполним срез по актуальному периоду\n",
    "\n",
    "actual_period = pd.crosstab(index=games_full['year_of_release'], columns=games_full['platform']) \\\n",
    "                  .reset_index().query('year_of_release>=2013')\n",
    "\n",
    "actual_period['year_of_release'] = actual_period['year_of_release'].astype('str')"
   ]
  },
  {
   "cell_type": "code",
   "execution_count": 41,
   "id": "957ce526",
   "metadata": {},
   "outputs": [
    {
     "data": {
      "image/png": "[encoded data removed]",
      "text/plain": [
       "<Figure size 1080x216 with 1 Axes>"
      ]
     },
     "metadata": {
      "needs_background": "light"
     },
     "output_type": "display_data"
    }
   ],
   "source": [
    "# построим график количество игр в разрезе года и перспективных платформ\n",
    "\n",
    "perspective_platform = ['PC', 'PS4', 'XOne']\n",
    "year_of_release = [2013, 2014, 2015, 2016]\n",
    "\n",
    "actual_period.plot(x='year_of_release', y=perspective_platform, figsize=(15,3))\n",
    "plt.title('количество вышедших игр - перспективные платформы и актуальный период')\n",
    "plt.legend(title='платформа:', loc='upper left')\n",
    "plt.show();"
   ]
  },
  {
   "cell_type": "code",
   "execution_count": 42,
   "id": "b634fef4",
   "metadata": {},
   "outputs": [],
   "source": [
    "# суммарные продажи по платформам - срез по актуальному периоду\n",
    "\n",
    "platform_sales = pd.DataFrame(games_full[games_full['year_of_release'] >=2013].groupby('platform')['total_sales'].sum())\n"
   ]
  },
  {
   "cell_type": "code",
   "execution_count": 43,
   "id": "b44a1a6f",
   "metadata": {},
   "outputs": [],
   "source": [
    "# посмотреть на суммарные продажи\n",
    "# platform_sales.sort_values('total_sales', ascending=False)"
   ]
  },
  {
   "cell_type": "code",
   "execution_count": 44,
   "id": "19e88fb7",
   "metadata": {},
   "outputs": [
    {
     "data": {
      "text/plain": [
       "Index(['PS4', 'PS3', 'XOne', '3DS', 'X360', 'WiiU', 'PC', 'PSV', 'Wii', 'PSP'], dtype='object', name='platform')"
      ]
     },
     "execution_count": 44,
     "metadata": {},
     "output_type": "execute_result"
    }
   ],
   "source": [
    "# выделим топ 10 платформ по суммарным продажам\n",
    "\n",
    "platform_sales_top_10 = platform_sales.sort_values('total_sales', ascending=False).head(10).index\n",
    "platform_sales_top_10"
   ]
  },
  {
   "cell_type": "code",
   "execution_count": 45,
   "id": "4c82164a",
   "metadata": {},
   "outputs": [],
   "source": [
    "# сделаем срез по таблице year_platform, где хранится количество игр по годам\n",
    "# оставим: игры, вошедшие в топ 10 по суммарным продажа\n",
    "# и данные за актуальный период (2013-2016)\n",
    "\n",
    "year_platform_top_10 = pd.merge(year_platform['year_of_release'], year_platform[platform_sales_top_10], \n",
    "                                right_index=True, left_index=True).query('year_of_release>=2013')\n",
    "year_platform_top_10['year_of_release'] = year_platform_top_10['year_of_release'].astype('str')"
   ]
  },
  {
   "cell_type": "code",
   "execution_count": 46,
   "id": "7e4a71e1",
   "metadata": {},
   "outputs": [
    {
     "data": {
      "image/png": "[encoded data removed]",
      "text/plain": [
       "<Figure size 1080x288 with 1 Axes>"
      ]
     },
     "metadata": {
      "needs_background": "light"
     },
     "output_type": "display_data"
    }
   ],
   "source": [
    "year_platform_top_10.plot(x='year_of_release', y=platform_sales_top_10, figsize=(15,4))\n",
    "plt.legend(title='платформа:', loc='upper left')\n",
    "plt.title('количество вышедших игр по годам - топ-10 платформ и актуальный период')\n",
    "plt.show();"
   ]
  },
  {
   "cell_type": "markdown",
   "id": "c60ac744",
   "metadata": {},
   "source": [
    "На предудущем шаге мы предположили, что количество игр на Xbox One продолжит расти, но эта приставка не вошла в топ по продажам. Построим график продаж в разрезе трех перспективных платформ и актуального периода."
   ]
  },
  {
   "cell_type": "code",
   "execution_count": 47,
   "id": "e0323aca",
   "metadata": {},
   "outputs": [
    {
     "data": {
      "image/png": "[encoded data removed]",
      "text/plain": [
       "<Figure size 1080x288 with 1 Axes>"
      ]
     },
     "metadata": {
      "needs_background": "light"
     },
     "output_type": "display_data"
    }
   ],
   "source": [
    "# теперь оставим только перспективные платформы\n",
    "\n",
    "actual_period_perspective = pd.merge(year_platform['year_of_release'], year_platform[['PS4', 'PC', 'XOne']], \n",
    "         right_index=True, left_index=True).query('year_of_release>=2013') \n",
    "\n",
    "actual_period_perspective['year_of_release'] = actual_period_perspective['year_of_release'].astype('str')\n",
    "\n",
    "actual_period_perspective.plot(x='year_of_release', y=['PS4', 'PC', 'XOne'], figsize=(15,4))\n",
    "plt.legend(title='платформа:', loc='upper left')\n",
    "plt.title('количество проданных копий по - перспективные платформы и актуальный период')\n",
    "plt.show();"
   ]
  },
  {
   "cell_type": "markdown",
   "id": "d92a3cda",
   "metadata": {},
   "source": [
    "Количество игр, вышедших на PC за последние три года - стабильно, держится прмимерно на одном уровне.\n",
    "\n",
    "Мы наблюдаем взрывной рост количества игр на PS4 и более плавный у Xbox. График количества проданных копий дублирует количество вышедших игр - с увеличение числа увеличивается и количество копий.\n",
    "\n",
    "У ПК в плане копий все так же стабильно, как и с количеством вышедших игр.\n",
    "\n",
    "На предыдущих графиках было заметно, что количество игр на PC с появлением на рынке новых игровых консолей проседает, но чем ближе мы приближаемся к \"концу жизни\"новых платформ, тем больше начинает выходить игр на ПК.\n",
    "\n",
    "Поэтому стратегия \"стримчика\":\n",
    "- до 2017-18 года делать ставку на игры для PS4 и Xbox, но не сбрасывать со счетов игры на пк,\n",
    "- к концу этого периода переключить внимание на игры для пк,\n",
    "- и ждать появление новой платформы."
   ]
  },
  {
   "cell_type": "code",
   "execution_count": 48,
   "id": "d677cbc8",
   "metadata": {},
   "outputs": [],
   "source": [
    "# выделим количество проданных копий в разрезе платформы и года\n",
    "# оставим только платформы, вошедшие в топ-10 по продажам\n",
    "\n",
    "platform_top_year_total_sales = pd.DataFrame(games_full.groupby(['platform', 'year_of_release']) \\\n",
    "                                                ['total_sales'].sum()).reset_index().query('year_of_release>=2013')\n",
    "\n",
    "platform_top_year_total_sales['year_of_release'] = platform_top_year_total_sales['year_of_release'].astype('str')"
   ]
  },
  {
   "cell_type": "code",
   "execution_count": 49,
   "id": "73656aa6",
   "metadata": {},
   "outputs": [],
   "source": [
    "platform_top_year_total_sales = platform_top_year_total_sales[platform_top_year_total_sales['platform'] \\\n",
    "                                                              .isin(platform_sales_top_10)]"
   ]
  },
  {
   "cell_type": "code",
   "execution_count": 50,
   "id": "a52516f9",
   "metadata": {},
   "outputs": [
    {
     "data": {
      "image/png": "[encoded data removed]",
      "text/plain": [
       "<Figure size 1080x288 with 1 Axes>"
      ]
     },
     "metadata": {
      "needs_background": "light"
     },
     "output_type": "display_data"
    }
   ],
   "source": [
    "# визуализация суммарных продаж по годам и топовым платформам\n",
    "\n",
    "plt.figure(figsize=(15,4))\n",
    "plt.title('суммарные продажи по годам - актуальный период и топ-10 платформ по продажам')\n",
    "sns.lineplot(x = \"year_of_release\", y = \"total_sales\", data=platform_top_year_total_sales, hue='platform');"
   ]
  },
  {
   "cell_type": "markdown",
   "id": "35233e49",
   "metadata": {},
   "source": [
    "Больше всего продаж у консолей, ПК стабильно \"прижимается\" к нулю."
   ]
  },
  {
   "cell_type": "markdown",
   "id": "4d528bf4",
   "metadata": {},
   "source": [
    "# «Ящик с усами» по глобальным продажам игр в разбивке по платформам."
   ]
  },
  {
   "cell_type": "code",
   "execution_count": 51,
   "id": "07c0e1ba",
   "metadata": {},
   "outputs": [],
   "source": [
    "games_full_actual = games_full.query('year_of_release >= 2013')"
   ]
  },
  {
   "cell_type": "code",
   "execution_count": 52,
   "id": "c2d3459f",
   "metadata": {},
   "outputs": [
    {
     "data": {
      "image/png": "[encoded data removed]",
      "text/plain": [
       "<Figure size 1440x720 with 1 Axes>"
      ]
     },
     "metadata": {
      "needs_background": "light"
     },
     "output_type": "display_data"
    }
   ],
   "source": [
    "plt.figure(figsize=(20,10))\n",
    "sns.boxplot(x=games_full_actual['total_sales'], \n",
    "            y=games_full_actual['platform'])\n",
    "plt.title('глобальные продажи игр в разбивке по платформам - актуальный период')\n",
    "plt.show();"
   ]
  },
  {
   "cell_type": "code",
   "execution_count": 53,
   "id": "092940b1",
   "metadata": {},
   "outputs": [
    {
     "data": {
      "image/png": "[encoded data removed]",
      "text/plain": [
       "<Figure size 1440x504 with 1 Axes>"
      ]
     },
     "metadata": {
      "needs_background": "light"
     },
     "output_type": "display_data"
    }
   ],
   "source": [
    "plt.figure(figsize=(20,7))\n",
    "sns.boxplot(x=games_full_actual['total_sales'], \n",
    "            y=games_full_actual['platform'])\n",
    "plt.xlim([0,0.8])\n",
    "plt.show();"
   ]
  },
  {
   "cell_type": "markdown",
   "id": "5ef2cee4",
   "metadata": {},
   "source": [
    "В большинстве своем:\n",
    "- разброс небольшой, левый \"ус\" всех платформ тянется к нулю,\n",
    "- присутствует большое количество экстремальных выбросов - предполагаем, что на более свежих платформах чаще выпускались топовые игры."
   ]
  },
  {
   "cell_type": "markdown",
   "id": "df7cbed9",
   "metadata": {},
   "source": [
    "Мы выделили в качестве перспективных три платформы - PC, Xbox One и PS4:\n",
    "- Xbox One и PS4 показывают себя одинаково хорошо: у xbox чуть уже межквартильный размах, но медианное значение чуть больше, у PS4 шире размах, но меньше значение медианы,\n",
    "- PC сильно отстает от \"конкурентов\"."
   ]
  },
  {
   "cell_type": "markdown",
   "id": "54949752",
   "metadata": {},
   "source": [
    "# Влияение отзывовы пользователей и критиков  на продажи внутри одной популярной платформы"
   ]
  },
  {
   "cell_type": "markdown",
   "id": "68f25ee3",
   "metadata": {},
   "source": [
    "На предыдущих шагах мы выяснили, что в топ-10 платформ по популярности вошли: \n",
    "- 'PS2', 'X360', 'PS3', 'Wii', 'DS', 'PS', 'GBA', 'PS4', 'PSP', 'PC'.\n",
    "\n",
    "Перспективными мы пометили платформы 'PC', 'PS4' и 'Xbox One'.\n",
    "\n",
    "Сделаем срез по исходному датасету:\n",
    "- оставим только перспективные платформы,\n",
    "- из столбцов 'user_score' и 'critic_score' уберем пропущенные значения и отметки с пометкой 'tbd',\n",
    "+ приведем столбцы к типу float. "
   ]
  },
  {
   "cell_type": "code",
   "execution_count": 54,
   "id": "844178e5",
   "metadata": {},
   "outputs": [],
   "source": [
    "scores_sales = games_full.copy().query('year_of_release >= 2013')\n",
    "\n",
    "\n",
    "scores_sales = scores_sales.loc[((scores_sales['user_score'].isna()!=True) & (scores_sales['critic_score'].isna()!=True) \n",
    "                                 & (scores_sales['platform'].isin(['PC', 'PS4', 'XOne'])))]\n",
    "\n",
    "\n",
    "scores_sales['user_score'] = scores_sales['user_score'].astype('float')\n",
    "scores_sales['critic_score'] = scores_sales['critic_score'].astype('float')"
   ]
  },
  {
   "cell_type": "code",
   "execution_count": 55,
   "id": "b17a0bd1",
   "metadata": {},
   "outputs": [
    {
     "data": {
      "text/html": [
       "<div>\n",
       "<style scoped>\n",
       "    .dataframe tbody tr th:only-of-type {\n",
       "        vertical-align: middle;\n",
       "    }\n",
       "\n",
       "    .dataframe tbody tr th {\n",
       "        vertical-align: top;\n",
       "    }\n",
       "\n",
       "    .dataframe thead th {\n",
       "        text-align: right;\n",
       "    }\n",
       "</style>\n",
       "<table border=\"1\" class=\"dataframe\">\n",
       "  <thead>\n",
       "    <tr style=\"text-align: right;\">\n",
       "      <th></th>\n",
       "      <th>user_score</th>\n",
       "      <th>critic_score</th>\n",
       "      <th>total_sales</th>\n",
       "    </tr>\n",
       "  </thead>\n",
       "  <tbody>\n",
       "    <tr>\n",
       "      <th>user_score</th>\n",
       "      <td>1.000000</td>\n",
       "      <td>0.468399</td>\n",
       "      <td>-0.022324</td>\n",
       "    </tr>\n",
       "    <tr>\n",
       "      <th>critic_score</th>\n",
       "      <td>0.468399</td>\n",
       "      <td>1.000000</td>\n",
       "      <td>0.324940</td>\n",
       "    </tr>\n",
       "    <tr>\n",
       "      <th>total_sales</th>\n",
       "      <td>-0.022324</td>\n",
       "      <td>0.324940</td>\n",
       "      <td>1.000000</td>\n",
       "    </tr>\n",
       "  </tbody>\n",
       "</table>\n",
       "</div>"
      ],
      "text/plain": [
       "              user_score  critic_score  total_sales\n",
       "user_score      1.000000      0.468399    -0.022324\n",
       "critic_score    0.468399      1.000000     0.324940\n",
       "total_sales    -0.022324      0.324940     1.000000"
      ]
     },
     "execution_count": 55,
     "metadata": {},
     "output_type": "execute_result"
    }
   ],
   "source": [
    "# посчитаем коэффицент корреляции пирсона\n",
    "\n",
    "scores_sales[['user_score', 'critic_score', 'total_sales']].corr()"
   ]
  },
  {
   "cell_type": "markdown",
   "id": "b2ed8561",
   "metadata": {},
   "source": [
    "Согласно коэффициенту Пирсона:\n",
    "- между user_score и total_sales корреляции нет,\n",
    "- между critic_score и total_sales умеренная положительная кореляция (0.32)."
   ]
  },
  {
   "cell_type": "code",
   "execution_count": 56,
   "id": "df3c0924",
   "metadata": {},
   "outputs": [
    {
     "data": {
      "image/png": "[encoded data removed]",
      "text/plain": [
       "<Figure size 1080x288 with 1 Axes>"
      ]
     },
     "metadata": {
      "needs_background": "light"
     },
     "output_type": "display_data"
    }
   ],
   "source": [
    "fig, ax = plt.subplots(figsize=(15, 4))\n",
    "\n",
    "sns.scatterplot('user_score', 'total_sales', data=scores_sales, hue='platform')\n",
    "\n",
    "plt.title('влияние отзывов пользователей на продажи (перспективные платформы и актуальный период)')\n",
    "plt.xlabel(\"оценки пользователей\")\n",
    "plt.ylabel(\"количество проданных копий (в милн. копий)\")\n",
    "plt.legend(loc='upper left')\n",
    "plt.show();"
   ]
  },
  {
   "cell_type": "code",
   "execution_count": 57,
   "id": "dddbcc93",
   "metadata": {},
   "outputs": [
    {
     "data": {
      "image/png": "[encoded data removed]",
      "text/plain": [
       "<Figure size 1080x288 with 1 Axes>"
      ]
     },
     "metadata": {
      "needs_background": "light"
     },
     "output_type": "display_data"
    }
   ],
   "source": [
    "fig, ax = plt.subplots(figsize=(15, 4))\n",
    "\n",
    "sns.scatterplot('critic_score', 'total_sales', data=scores_sales, hue='platform')\n",
    "\n",
    "plt.title('влияние отзывов критиков на продажи (перспективные платформы и актуальный период)')\n",
    "plt.xlabel(\"оценки критиков\")\n",
    "plt.ylabel(\"количество проданных копий (в милн. копий)\")\n",
    "plt.legend(loc='upper left')\n",
    "plt.show();"
   ]
  },
  {
   "cell_type": "markdown",
   "id": "bc2106bc",
   "metadata": {},
   "source": [
    "Построенные графикм подтверждают выводы, сделанные на основе матрицы корреляции:\n",
    "- с ростом оценки от критиков мы видим рост количества проданных копий,\n",
    "- с ростом оценки от пользователей количество проданных копий начинает расти."
   ]
  },
  {
   "cell_type": "code",
   "execution_count": 58,
   "id": "ba98722e",
   "metadata": {},
   "outputs": [
    {
     "data": {
      "text/plain": [
       "user_score      8821\n",
       "critic_score    8270\n",
       "dtype: int64"
      ]
     },
     "execution_count": 58,
     "metadata": {},
     "output_type": "execute_result"
    }
   ],
   "source": [
    "# на предыдущем шаге мы поставили заглушку в столбцы 'user_score' и 'critic_score' вместо \"tbd\"\n",
    "# посчитаем количество пропущенных значений\n",
    "\n",
    "games_full[['user_score', 'critic_score']].isnull().sum()"
   ]
  },
  {
   "cell_type": "code",
   "execution_count": 59,
   "id": "3019520e",
   "metadata": {},
   "outputs": [
    {
     "data": {
      "text/plain": [
       "7672"
      ]
     },
     "execution_count": 59,
     "metadata": {},
     "output_type": "execute_result"
    }
   ],
   "source": [
    "# игры без рейтинга \n",
    "\n",
    "games_full.loc[(games_full['user_score'].isna()==True) & (games_full['critic_score'].isna()==True)].shape[0]"
   ]
  },
  {
   "cell_type": "markdown",
   "id": "f5308cf4",
   "metadata": {},
   "source": [
    "Половина игр в исходном датасете - без рейтинга."
   ]
  },
  {
   "cell_type": "code",
   "execution_count": 60,
   "id": "3b98e162",
   "metadata": {},
   "outputs": [
    {
     "data": {
      "text/html": [
       "<div>\n",
       "<style scoped>\n",
       "    .dataframe tbody tr th:only-of-type {\n",
       "        vertical-align: middle;\n",
       "    }\n",
       "\n",
       "    .dataframe tbody tr th {\n",
       "        vertical-align: top;\n",
       "    }\n",
       "\n",
       "    .dataframe thead th {\n",
       "        text-align: right;\n",
       "    }\n",
       "</style>\n",
       "<table border=\"1\" class=\"dataframe\">\n",
       "  <thead>\n",
       "    <tr style=\"text-align: right;\">\n",
       "      <th></th>\n",
       "      <th>index</th>\n",
       "      <th>total_sales</th>\n",
       "    </tr>\n",
       "  </thead>\n",
       "  <tbody>\n",
       "    <tr>\n",
       "      <th>0</th>\n",
       "      <td>(-0.001, 0.03]</td>\n",
       "      <td>1985</td>\n",
       "    </tr>\n",
       "    <tr>\n",
       "      <th>4</th>\n",
       "      <td>(0.03, 0.08]</td>\n",
       "      <td>1552</td>\n",
       "    </tr>\n",
       "    <tr>\n",
       "      <th>1</th>\n",
       "      <td>(0.08, 0.15]</td>\n",
       "      <td>1806</td>\n",
       "    </tr>\n",
       "    <tr>\n",
       "      <th>3</th>\n",
       "      <td>(0.15, 0.36]</td>\n",
       "      <td>1734</td>\n",
       "    </tr>\n",
       "    <tr>\n",
       "      <th>2</th>\n",
       "      <td>(0.36, 40.24]</td>\n",
       "      <td>1744</td>\n",
       "    </tr>\n",
       "  </tbody>\n",
       "</table>\n",
       "</div>"
      ],
      "text/plain": [
       "            index  total_sales\n",
       "0  (-0.001, 0.03]         1985\n",
       "4    (0.03, 0.08]         1552\n",
       "1    (0.08, 0.15]         1806\n",
       "3    (0.15, 0.36]         1734\n",
       "2   (0.36, 40.24]         1744"
      ]
     },
     "execution_count": 60,
     "metadata": {},
     "output_type": "execute_result"
    }
   ],
   "source": [
    "# взаимосвязь игр без пользовательского рейтинга и общих продаж\n",
    "\n",
    "pd.qcut(games_full[games_full['user_score'].isnull()==True]['total_sales'], 5).value_counts().reset_index().sort_values('index')"
   ]
  },
  {
   "cell_type": "code",
   "execution_count": 61,
   "id": "66890f73",
   "metadata": {},
   "outputs": [
    {
     "data": {
      "text/html": [
       "<div>\n",
       "<style scoped>\n",
       "    .dataframe tbody tr th:only-of-type {\n",
       "        vertical-align: middle;\n",
       "    }\n",
       "\n",
       "    .dataframe tbody tr th {\n",
       "        vertical-align: top;\n",
       "    }\n",
       "\n",
       "    .dataframe thead th {\n",
       "        text-align: right;\n",
       "    }\n",
       "</style>\n",
       "<table border=\"1\" class=\"dataframe\">\n",
       "  <thead>\n",
       "    <tr style=\"text-align: right;\">\n",
       "      <th></th>\n",
       "      <th>index</th>\n",
       "      <th>total_sales</th>\n",
       "    </tr>\n",
       "  </thead>\n",
       "  <tbody>\n",
       "    <tr>\n",
       "      <th>0</th>\n",
       "      <td>(-0.001, 0.03]</td>\n",
       "      <td>1862</td>\n",
       "    </tr>\n",
       "    <tr>\n",
       "      <th>1</th>\n",
       "      <td>(0.03, 0.08]</td>\n",
       "      <td>1645</td>\n",
       "    </tr>\n",
       "    <tr>\n",
       "      <th>4</th>\n",
       "      <td>(0.08, 0.16]</td>\n",
       "      <td>1487</td>\n",
       "    </tr>\n",
       "    <tr>\n",
       "      <th>3</th>\n",
       "      <td>(0.16, 0.4]</td>\n",
       "      <td>1632</td>\n",
       "    </tr>\n",
       "    <tr>\n",
       "      <th>2</th>\n",
       "      <td>(0.4, 40.24]</td>\n",
       "      <td>1644</td>\n",
       "    </tr>\n",
       "  </tbody>\n",
       "</table>\n",
       "</div>"
      ],
      "text/plain": [
       "            index  total_sales\n",
       "0  (-0.001, 0.03]         1862\n",
       "1    (0.03, 0.08]         1645\n",
       "4    (0.08, 0.16]         1487\n",
       "3     (0.16, 0.4]         1632\n",
       "2    (0.4, 40.24]         1644"
      ]
     },
     "execution_count": 61,
     "metadata": {},
     "output_type": "execute_result"
    }
   ],
   "source": [
    "# взаимосвязь игр без рейтинга от критиков и общих продаж\n",
    "\n",
    "pd.qcut(games_full[games_full['critic_score'].isnull()==True]['total_sales'], 5).value_counts().reset_index() \\\n",
    "                                                                                .sort_values('index')"
   ]
  },
  {
   "cell_type": "code",
   "execution_count": 62,
   "id": "4eb01f9f",
   "metadata": {},
   "outputs": [
    {
     "data": {
      "text/plain": [
       "593"
      ]
     },
     "execution_count": 62,
     "metadata": {},
     "output_type": "execute_result"
    }
   ],
   "source": [
    "# количество игр без рейтинга с продажами более миллиона копий\n",
    "\n",
    "games_full.loc[(games_full['user_score'].isna()==True) & (games_full['critic_score'].isna()==True)\n",
    "              & (games_full['total_sales'] >=1)].shape[0]"
   ]
  },
  {
   "cell_type": "markdown",
   "id": "db7a40ad",
   "metadata": {},
   "source": [
    "Мы наблюдаем схожую ситуацию: игры без рейтинга от критиков / рейтинга от пользователей продаются плохо."
   ]
  },
  {
   "cell_type": "code",
   "execution_count": 63,
   "id": "11f65979",
   "metadata": {},
   "outputs": [],
   "source": [
    "games_full['user_score_qcut'] = pd.qcut(pd.to_numeric(games_full['user_score'], errors='coerce'), 10)\n",
    "\n",
    "games_full['critic_score_qcut'] = pd.qcut(pd.to_numeric(games_full['critic_score'], errors='coerce'), 10)"
   ]
  },
  {
   "cell_type": "code",
   "execution_count": 64,
   "id": "ea35ec19",
   "metadata": {},
   "outputs": [
    {
     "data": {
      "text/html": [
       "<div>\n",
       "<style scoped>\n",
       "    .dataframe tbody tr th:only-of-type {\n",
       "        vertical-align: middle;\n",
       "    }\n",
       "\n",
       "    .dataframe tbody tr th {\n",
       "        vertical-align: top;\n",
       "    }\n",
       "\n",
       "    .dataframe thead th {\n",
       "        text-align: right;\n",
       "    }\n",
       "</style>\n",
       "<table border=\"1\" class=\"dataframe\">\n",
       "  <thead>\n",
       "    <tr style=\"text-align: right;\">\n",
       "      <th></th>\n",
       "      <th>user_score_qcut</th>\n",
       "      <th>total_sales</th>\n",
       "    </tr>\n",
       "  </thead>\n",
       "  <tbody>\n",
       "    <tr>\n",
       "      <th>0</th>\n",
       "      <td>(-0.001, 5.1]</td>\n",
       "      <td>0.486906</td>\n",
       "    </tr>\n",
       "    <tr>\n",
       "      <th>1</th>\n",
       "      <td>(5.1, 6.1]</td>\n",
       "      <td>0.501628</td>\n",
       "    </tr>\n",
       "    <tr>\n",
       "      <th>2</th>\n",
       "      <td>(6.1, 6.7]</td>\n",
       "      <td>0.690335</td>\n",
       "    </tr>\n",
       "    <tr>\n",
       "      <th>3</th>\n",
       "      <td>(6.7, 7.1]</td>\n",
       "      <td>0.533714</td>\n",
       "    </tr>\n",
       "    <tr>\n",
       "      <th>4</th>\n",
       "      <td>(7.1, 7.5]</td>\n",
       "      <td>0.645055</td>\n",
       "    </tr>\n",
       "    <tr>\n",
       "      <th>5</th>\n",
       "      <td>(7.5, 7.8]</td>\n",
       "      <td>0.740770</td>\n",
       "    </tr>\n",
       "    <tr>\n",
       "      <th>6</th>\n",
       "      <td>(7.8, 8.1]</td>\n",
       "      <td>0.954461</td>\n",
       "    </tr>\n",
       "    <tr>\n",
       "      <th>7</th>\n",
       "      <td>(8.1, 8.4]</td>\n",
       "      <td>0.854659</td>\n",
       "    </tr>\n",
       "    <tr>\n",
       "      <th>8</th>\n",
       "      <td>(8.4, 8.7]</td>\n",
       "      <td>1.064898</td>\n",
       "    </tr>\n",
       "    <tr>\n",
       "      <th>9</th>\n",
       "      <td>(8.7, 9.7]</td>\n",
       "      <td>1.095653</td>\n",
       "    </tr>\n",
       "  </tbody>\n",
       "</table>\n",
       "</div>"
      ],
      "text/plain": [
       "  user_score_qcut  total_sales\n",
       "0   (-0.001, 5.1]     0.486906\n",
       "1      (5.1, 6.1]     0.501628\n",
       "2      (6.1, 6.7]     0.690335\n",
       "3      (6.7, 7.1]     0.533714\n",
       "4      (7.1, 7.5]     0.645055\n",
       "5      (7.5, 7.8]     0.740770\n",
       "6      (7.8, 8.1]     0.954461\n",
       "7      (8.1, 8.4]     0.854659\n",
       "8      (8.4, 8.7]     1.064898\n",
       "9      (8.7, 9.7]     1.095653"
      ]
     },
     "execution_count": 64,
     "metadata": {},
     "output_type": "execute_result"
    }
   ],
   "source": [
    "games_full.groupby('user_score_qcut')['total_sales'].mean().reset_index()"
   ]
  },
  {
   "cell_type": "code",
   "execution_count": 65,
   "id": "20b2b22d",
   "metadata": {},
   "outputs": [
    {
     "data": {
      "text/html": [
       "<div>\n",
       "<style scoped>\n",
       "    .dataframe tbody tr th:only-of-type {\n",
       "        vertical-align: middle;\n",
       "    }\n",
       "\n",
       "    .dataframe tbody tr th {\n",
       "        vertical-align: top;\n",
       "    }\n",
       "\n",
       "    .dataframe thead th {\n",
       "        text-align: right;\n",
       "    }\n",
       "</style>\n",
       "<table border=\"1\" class=\"dataframe\">\n",
       "  <thead>\n",
       "    <tr style=\"text-align: right;\">\n",
       "      <th></th>\n",
       "      <th>critic_score_qcut</th>\n",
       "      <th>total_sales</th>\n",
       "    </tr>\n",
       "  </thead>\n",
       "  <tbody>\n",
       "    <tr>\n",
       "      <th>0</th>\n",
       "      <td>(11.999, 50.0]</td>\n",
       "      <td>0.227917</td>\n",
       "    </tr>\n",
       "    <tr>\n",
       "      <th>1</th>\n",
       "      <td>(50.0, 58.0]</td>\n",
       "      <td>0.300512</td>\n",
       "    </tr>\n",
       "    <tr>\n",
       "      <th>2</th>\n",
       "      <td>(58.0, 63.0]</td>\n",
       "      <td>0.343376</td>\n",
       "    </tr>\n",
       "    <tr>\n",
       "      <th>3</th>\n",
       "      <td>(63.0, 67.0]</td>\n",
       "      <td>0.367104</td>\n",
       "    </tr>\n",
       "    <tr>\n",
       "      <th>4</th>\n",
       "      <td>(67.0, 71.0]</td>\n",
       "      <td>0.443591</td>\n",
       "    </tr>\n",
       "    <tr>\n",
       "      <th>5</th>\n",
       "      <td>(71.0, 74.0]</td>\n",
       "      <td>0.570907</td>\n",
       "    </tr>\n",
       "    <tr>\n",
       "      <th>6</th>\n",
       "      <td>(74.0, 78.0]</td>\n",
       "      <td>0.685189</td>\n",
       "    </tr>\n",
       "    <tr>\n",
       "      <th>7</th>\n",
       "      <td>(78.0, 81.0]</td>\n",
       "      <td>0.882630</td>\n",
       "    </tr>\n",
       "    <tr>\n",
       "      <th>8</th>\n",
       "      <td>(81.0, 86.0]</td>\n",
       "      <td>1.153753</td>\n",
       "    </tr>\n",
       "    <tr>\n",
       "      <th>9</th>\n",
       "      <td>(86.0, 99.0]</td>\n",
       "      <td>2.291425</td>\n",
       "    </tr>\n",
       "  </tbody>\n",
       "</table>\n",
       "</div>"
      ],
      "text/plain": [
       "  critic_score_qcut  total_sales\n",
       "0    (11.999, 50.0]     0.227917\n",
       "1      (50.0, 58.0]     0.300512\n",
       "2      (58.0, 63.0]     0.343376\n",
       "3      (63.0, 67.0]     0.367104\n",
       "4      (67.0, 71.0]     0.443591\n",
       "5      (71.0, 74.0]     0.570907\n",
       "6      (74.0, 78.0]     0.685189\n",
       "7      (78.0, 81.0]     0.882630\n",
       "8      (81.0, 86.0]     1.153753\n",
       "9      (86.0, 99.0]     2.291425"
      ]
     },
     "execution_count": 65,
     "metadata": {},
     "output_type": "execute_result"
    }
   ],
   "source": [
    "games_full.groupby('critic_score_qcut')['total_sales'].mean().reset_index()"
   ]
  },
  {
   "cell_type": "markdown",
   "id": "2f5a84b7",
   "metadata": {},
   "source": [
    "Сводные таблицы подтвердили наши выводы, сделанные на основе матрицы корреляции и scatterplot'a:\n",
    "- количество проданных копий мало увеличивается с ростом пользовательского рейтинга,\n",
    "- высокий рейтинг от критиков (81 балл и выше) дает резкий \"прирост\" продаж.\n",
    "\n",
    "Так же мы выяснили, что игры без рейтинга от критиков / рейтинга от пользователей продаются плохо."
   ]
  },
  {
   "cell_type": "markdown",
   "id": "11a9ba10",
   "metadata": {},
   "source": [
    "# Распределение по жанрам"
   ]
  },
  {
   "cell_type": "code",
   "execution_count": 66,
   "id": "11fca842",
   "metadata": {},
   "outputs": [],
   "source": [
    "genre_sales = pd.DataFrame(games_full[games_full['year_of_release'] >= 2013].groupby('genre')['total_sales'].sum())"
   ]
  },
  {
   "cell_type": "code",
   "execution_count": 67,
   "id": "24dd53ac",
   "metadata": {},
   "outputs": [
    {
     "data": {
      "text/html": [
       "<div>\n",
       "<style scoped>\n",
       "    .dataframe tbody tr th:only-of-type {\n",
       "        vertical-align: middle;\n",
       "    }\n",
       "\n",
       "    .dataframe tbody tr th {\n",
       "        vertical-align: top;\n",
       "    }\n",
       "\n",
       "    .dataframe thead th {\n",
       "        text-align: right;\n",
       "    }\n",
       "</style>\n",
       "<table border=\"1\" class=\"dataframe\">\n",
       "  <thead>\n",
       "    <tr style=\"text-align: right;\">\n",
       "      <th></th>\n",
       "      <th>total_sales</th>\n",
       "    </tr>\n",
       "    <tr>\n",
       "      <th>genre</th>\n",
       "      <th></th>\n",
       "    </tr>\n",
       "  </thead>\n",
       "  <tbody>\n",
       "    <tr>\n",
       "      <th>Action</th>\n",
       "      <td>321.87</td>\n",
       "    </tr>\n",
       "    <tr>\n",
       "      <th>Shooter</th>\n",
       "      <td>232.98</td>\n",
       "    </tr>\n",
       "    <tr>\n",
       "      <th>Sports</th>\n",
       "      <td>150.65</td>\n",
       "    </tr>\n",
       "    <tr>\n",
       "      <th>Role-Playing</th>\n",
       "      <td>145.89</td>\n",
       "    </tr>\n",
       "    <tr>\n",
       "      <th>Misc</th>\n",
       "      <td>62.82</td>\n",
       "    </tr>\n",
       "    <tr>\n",
       "      <th>Platform</th>\n",
       "      <td>42.63</td>\n",
       "    </tr>\n",
       "    <tr>\n",
       "      <th>Racing</th>\n",
       "      <td>39.89</td>\n",
       "    </tr>\n",
       "    <tr>\n",
       "      <th>Fighting</th>\n",
       "      <td>35.31</td>\n",
       "    </tr>\n",
       "    <tr>\n",
       "      <th>Adventure</th>\n",
       "      <td>23.64</td>\n",
       "    </tr>\n",
       "    <tr>\n",
       "      <th>Simulation</th>\n",
       "      <td>21.76</td>\n",
       "    </tr>\n",
       "    <tr>\n",
       "      <th>Strategy</th>\n",
       "      <td>10.08</td>\n",
       "    </tr>\n",
       "    <tr>\n",
       "      <th>Puzzle</th>\n",
       "      <td>3.17</td>\n",
       "    </tr>\n",
       "  </tbody>\n",
       "</table>\n",
       "</div>"
      ],
      "text/plain": [
       "              total_sales\n",
       "genre                    \n",
       "Action             321.87\n",
       "Shooter            232.98\n",
       "Sports             150.65\n",
       "Role-Playing       145.89\n",
       "Misc                62.82\n",
       "Platform            42.63\n",
       "Racing              39.89\n",
       "Fighting            35.31\n",
       "Adventure           23.64\n",
       "Simulation          21.76\n",
       "Strategy            10.08\n",
       "Puzzle               3.17"
      ]
     },
     "execution_count": 67,
     "metadata": {},
     "output_type": "execute_result"
    }
   ],
   "source": [
    "genre_sales.sort_values('total_sales', ascending=False)"
   ]
  },
  {
   "cell_type": "markdown",
   "id": "681297d4",
   "metadata": {},
   "source": [
    "Жанры с самыми суммарными большими продажами - Action, Shooter, Sports и Role-Playing - разница с первыми двумя позициями небольшая, поэтому включим оба жанра в топ.\n",
    "\n",
    "Минимальные суммарные продажи у Puzzle, Adventure, Simulation."
   ]
  },
  {
   "cell_type": "code",
   "execution_count": 68,
   "id": "6860396e",
   "metadata": {},
   "outputs": [],
   "source": [
    "genre_sales_years = pd.DataFrame(games_full[games_full['year_of_release'] >= 2013] \\\n",
    "                                 .groupby(['genre', 'year_of_release'])['total_sales'].sum()).reset_index()"
   ]
  },
  {
   "cell_type": "code",
   "execution_count": 69,
   "id": "3acae621",
   "metadata": {},
   "outputs": [
    {
     "data": {
      "image/png": "[encoded data removed]",
      "text/plain": [
       "<Figure size 1440x576 with 1 Axes>"
      ]
     },
     "metadata": {
      "needs_background": "light"
     },
     "output_type": "display_data"
    }
   ],
   "source": [
    "plt.figure(figsize=(20,8))\n",
    "sns.boxplot(x=genre_sales_years['total_sales'], \n",
    "            y=genre_sales_years['genre'])\n",
    "plt.title('распределение по жанрам')\n",
    "plt.show();"
   ]
  },
  {
   "cell_type": "markdown",
   "id": "abb7c641",
   "metadata": {},
   "source": [
    "Выводы из сводной таблицы подтверждены визуально:\n",
    "- у жанров Action, Shooter, Sports и Role-Playing высокое медианное значение,\n",
    "- самый беспроигрышный вариант для \"стримчика\" - вложение в игры в жанр action: у этого жанра самое высокое медианное значение, левый ус ограничивается отметкой в ~30 млн копий, что неплохо на фоне остальных жанров."
   ]
  },
  {
   "cell_type": "code",
   "execution_count": 103,
   "id": "c9175215",
   "metadata": {},
   "outputs": [
    {
     "data": {
      "image/png": "[encoded data removed]",
      "text/plain": [
       "<Figure size 936x576 with 1 Axes>"
      ]
     },
     "metadata": {
      "needs_background": "light"
     },
     "output_type": "display_data"
    }
   ],
   "source": [
    "#Код ревьюера\n",
    "plt.figure(figsize=(13, 8))\n",
    "(sns.boxplot(data = games_full_actual, y = 'total_sales', x='genre')\n",
    "    .set(title = 'Продажи по жанрам', xlabel = 'Платформы', ylabel = 'Общие продажи', ylim=(0, 3)))\n",
    "\n",
    "plt.show()"
   ]
  },
  {
   "cell_type": "markdown",
   "id": "673a1e9d",
   "metadata": {},
   "source": [
    "<a id=\"user\"> </a>\n",
    "# 3. Портрет пользователя каждого региона - с учетом актуального периода:"
   ]
  },
  {
   "cell_type": "markdown",
   "id": "800cf11f",
   "metadata": {},
   "source": [
    "- Самые популярные платформы (топ-5). Опишите различия в долях продаж.\n",
    "- Самые популярные жанры (топ-5). Поясните разницу.\n",
    "- Влияет ли рейтинг ESRB на продажи в отдельном регионе?"
   ]
  },
  {
   "cell_type": "code",
   "execution_count": 70,
   "id": "81271556",
   "metadata": {},
   "outputs": [
    {
     "data": {
      "text/html": [
       "<div>\n",
       "<style scoped>\n",
       "    .dataframe tbody tr th:only-of-type {\n",
       "        vertical-align: middle;\n",
       "    }\n",
       "\n",
       "    .dataframe tbody tr th {\n",
       "        vertical-align: top;\n",
       "    }\n",
       "\n",
       "    .dataframe thead th {\n",
       "        text-align: right;\n",
       "    }\n",
       "</style>\n",
       "<table border=\"1\" class=\"dataframe\">\n",
       "  <thead>\n",
       "    <tr style=\"text-align: right;\">\n",
       "      <th></th>\n",
       "      <th>na_sales_total</th>\n",
       "      <th>eu_sales_total</th>\n",
       "      <th>jp_sales_total</th>\n",
       "      <th>other_sales_total</th>\n",
       "    </tr>\n",
       "  </thead>\n",
       "  <tbody>\n",
       "    <tr>\n",
       "      <th>0</th>\n",
       "      <td>437.71</td>\n",
       "      <td>392.23</td>\n",
       "      <td>140.78</td>\n",
       "      <td>119.97</td>\n",
       "    </tr>\n",
       "  </tbody>\n",
       "</table>\n",
       "</div>"
      ],
      "text/plain": [
       "   na_sales_total  eu_sales_total  jp_sales_total  other_sales_total\n",
       "0          437.71          392.23          140.78             119.97"
      ]
     },
     "execution_count": 70,
     "metadata": {},
     "output_type": "execute_result"
    }
   ],
   "source": [
    "# количество проданных копий (в миллионах) по регионам (атуальный период)\n",
    "\n",
    "total_sales = pd.DataFrame({'na_sales_total': [games_full[games_full['year_of_release'] >=2013]['na_sales'].sum()], \n",
    "              'eu_sales_total': [games_full[games_full['year_of_release'] >=2013]['eu_sales'].sum()], \n",
    "              'jp_sales_total': [games_full[games_full['year_of_release'] >=2013]['jp_sales'].sum()],\n",
    "              'other_sales_total': [games_full[games_full['year_of_release'] >=2013]['other_sales'].sum()]})\n",
    "\n",
    "total_sales"
   ]
  },
  {
   "cell_type": "markdown",
   "id": "2d12c016",
   "metadata": {},
   "source": [
    "# 3.1. Северная Америка ('na_sales')"
   ]
  },
  {
   "cell_type": "code",
   "execution_count": 71,
   "id": "60a4281e",
   "metadata": {},
   "outputs": [
    {
     "data": {
      "text/html": [
       "<div>\n",
       "<style scoped>\n",
       "    .dataframe tbody tr th:only-of-type {\n",
       "        vertical-align: middle;\n",
       "    }\n",
       "\n",
       "    .dataframe tbody tr th {\n",
       "        vertical-align: top;\n",
       "    }\n",
       "\n",
       "    .dataframe thead th {\n",
       "        text-align: right;\n",
       "    }\n",
       "</style>\n",
       "<table border=\"1\" class=\"dataframe\">\n",
       "  <thead>\n",
       "    <tr style=\"text-align: right;\">\n",
       "      <th></th>\n",
       "      <th>platform</th>\n",
       "      <th>na_sales</th>\n",
       "      <th>na_perc_of_total</th>\n",
       "    </tr>\n",
       "  </thead>\n",
       "  <tbody>\n",
       "    <tr>\n",
       "      <th>0</th>\n",
       "      <td>PS4</td>\n",
       "      <td>108.74</td>\n",
       "      <td>24.84</td>\n",
       "    </tr>\n",
       "    <tr>\n",
       "      <th>1</th>\n",
       "      <td>XOne</td>\n",
       "      <td>93.12</td>\n",
       "      <td>21.27</td>\n",
       "    </tr>\n",
       "    <tr>\n",
       "      <th>2</th>\n",
       "      <td>X360</td>\n",
       "      <td>81.66</td>\n",
       "      <td>18.66</td>\n",
       "    </tr>\n",
       "    <tr>\n",
       "      <th>3</th>\n",
       "      <td>PS3</td>\n",
       "      <td>63.50</td>\n",
       "      <td>14.51</td>\n",
       "    </tr>\n",
       "    <tr>\n",
       "      <th>4</th>\n",
       "      <td>3DS</td>\n",
       "      <td>38.20</td>\n",
       "      <td>8.73</td>\n",
       "    </tr>\n",
       "  </tbody>\n",
       "</table>\n",
       "</div>"
      ],
      "text/plain": [
       "  platform  na_sales  na_perc_of_total\n",
       "0      PS4    108.74             24.84\n",
       "1     XOne     93.12             21.27\n",
       "2     X360     81.66             18.66\n",
       "3      PS3     63.50             14.51\n",
       "4      3DS     38.20              8.73"
      ]
     },
     "execution_count": 71,
     "metadata": {},
     "output_type": "execute_result"
    }
   ],
   "source": [
    "# популярные платформы (топ-5) - северная америка\n",
    "# + процент от продаж с разбивков по платформам\n",
    "\n",
    "na_platform = pd.DataFrame(games_full[games_full['year_of_release'] >=2013].groupby('platform')['na_sales'].sum() \\\n",
    "                           .sort_values(ascending=False).head(5)).reset_index()\n",
    "na_platform['na_perc_of_total'] = round(na_platform['na_sales'] / total_sales['na_sales_total'][0] * 100, 2)\n",
    "na_platform"
   ]
  },
  {
   "cell_type": "code",
   "execution_count": 72,
   "id": "f6aa4c65",
   "metadata": {},
   "outputs": [
    {
     "data": {
      "text/html": [
       "<div>\n",
       "<style scoped>\n",
       "    .dataframe tbody tr th:only-of-type {\n",
       "        vertical-align: middle;\n",
       "    }\n",
       "\n",
       "    .dataframe tbody tr th {\n",
       "        vertical-align: top;\n",
       "    }\n",
       "\n",
       "    .dataframe thead th {\n",
       "        text-align: right;\n",
       "    }\n",
       "</style>\n",
       "<table border=\"1\" class=\"dataframe\">\n",
       "  <thead>\n",
       "    <tr style=\"text-align: right;\">\n",
       "      <th></th>\n",
       "      <th>genre</th>\n",
       "      <th>na_sales</th>\n",
       "      <th>na_perc_of_total</th>\n",
       "    </tr>\n",
       "  </thead>\n",
       "  <tbody>\n",
       "    <tr>\n",
       "      <th>0</th>\n",
       "      <td>Action</td>\n",
       "      <td>126.05</td>\n",
       "      <td>28.80</td>\n",
       "    </tr>\n",
       "    <tr>\n",
       "      <th>1</th>\n",
       "      <td>Shooter</td>\n",
       "      <td>109.74</td>\n",
       "      <td>25.07</td>\n",
       "    </tr>\n",
       "    <tr>\n",
       "      <th>2</th>\n",
       "      <td>Sports</td>\n",
       "      <td>65.27</td>\n",
       "      <td>14.91</td>\n",
       "    </tr>\n",
       "    <tr>\n",
       "      <th>3</th>\n",
       "      <td>Role-Playing</td>\n",
       "      <td>46.40</td>\n",
       "      <td>10.60</td>\n",
       "    </tr>\n",
       "    <tr>\n",
       "      <th>4</th>\n",
       "      <td>Misc</td>\n",
       "      <td>27.49</td>\n",
       "      <td>6.28</td>\n",
       "    </tr>\n",
       "  </tbody>\n",
       "</table>\n",
       "</div>"
      ],
      "text/plain": [
       "          genre  na_sales  na_perc_of_total\n",
       "0        Action    126.05             28.80\n",
       "1       Shooter    109.74             25.07\n",
       "2        Sports     65.27             14.91\n",
       "3  Role-Playing     46.40             10.60\n",
       "4          Misc     27.49              6.28"
      ]
     },
     "execution_count": 72,
     "metadata": {},
     "output_type": "execute_result"
    }
   ],
   "source": [
    "# популярные жанры (топ-5) - северная америка\n",
    "# + процент от продаж с разбивков по жанрам\n",
    "\n",
    "na_genres = pd.DataFrame(games_full[games_full['year_of_release'] >=2013].groupby('genre')['na_sales'].sum() \\\n",
    "                         .sort_values(ascending=False).head(5)).reset_index()\n",
    "na_genres['na_perc_of_total'] = round(na_genres['na_sales'] / total_sales['na_sales_total'][0] * 100, 2)\n",
    "na_genres"
   ]
  },
  {
   "cell_type": "code",
   "execution_count": 73,
   "id": "09030d99",
   "metadata": {},
   "outputs": [
    {
     "data": {
      "text/html": [
       "<div>\n",
       "<style scoped>\n",
       "    .dataframe tbody tr th:only-of-type {\n",
       "        vertical-align: middle;\n",
       "    }\n",
       "\n",
       "    .dataframe tbody tr th {\n",
       "        vertical-align: top;\n",
       "    }\n",
       "\n",
       "    .dataframe thead th {\n",
       "        text-align: right;\n",
       "    }\n",
       "</style>\n",
       "<table border=\"1\" class=\"dataframe\">\n",
       "  <thead>\n",
       "    <tr style=\"text-align: right;\">\n",
       "      <th></th>\n",
       "      <th>name</th>\n",
       "      <th>platform</th>\n",
       "      <th>year_of_release</th>\n",
       "      <th>genre</th>\n",
       "      <th>na_sales</th>\n",
       "      <th>eu_sales</th>\n",
       "      <th>jp_sales</th>\n",
       "      <th>other_sales</th>\n",
       "      <th>critic_score</th>\n",
       "      <th>user_score</th>\n",
       "      <th>rating</th>\n",
       "      <th>total_sales</th>\n",
       "      <th>user_score_qcut</th>\n",
       "      <th>critic_score_qcut</th>\n",
       "    </tr>\n",
       "  </thead>\n",
       "  <tbody>\n",
       "    <tr>\n",
       "      <th>23</th>\n",
       "      <td>Grand Theft Auto V</td>\n",
       "      <td>X360</td>\n",
       "      <td>2013</td>\n",
       "      <td>Action</td>\n",
       "      <td>9.66</td>\n",
       "      <td>5.14</td>\n",
       "      <td>0.06</td>\n",
       "      <td>1.41</td>\n",
       "      <td>97.0</td>\n",
       "      <td>8.1</td>\n",
       "      <td>M</td>\n",
       "      <td>16.27</td>\n",
       "      <td>(7.8, 8.1]</td>\n",
       "      <td>(86.0, 99.0]</td>\n",
       "    </tr>\n",
       "    <tr>\n",
       "      <th>16</th>\n",
       "      <td>Grand Theft Auto V</td>\n",
       "      <td>PS3</td>\n",
       "      <td>2013</td>\n",
       "      <td>Action</td>\n",
       "      <td>7.02</td>\n",
       "      <td>9.09</td>\n",
       "      <td>0.98</td>\n",
       "      <td>3.96</td>\n",
       "      <td>97.0</td>\n",
       "      <td>8.2</td>\n",
       "      <td>M</td>\n",
       "      <td>21.05</td>\n",
       "      <td>(8.1, 8.4]</td>\n",
       "      <td>(86.0, 99.0]</td>\n",
       "    </tr>\n",
       "    <tr>\n",
       "      <th>60</th>\n",
       "      <td>Call of Duty: Ghosts</td>\n",
       "      <td>X360</td>\n",
       "      <td>2013</td>\n",
       "      <td>Shooter</td>\n",
       "      <td>6.73</td>\n",
       "      <td>2.56</td>\n",
       "      <td>0.04</td>\n",
       "      <td>0.91</td>\n",
       "      <td>73.0</td>\n",
       "      <td>2.6</td>\n",
       "      <td>M</td>\n",
       "      <td>10.24</td>\n",
       "      <td>(-0.001, 5.1]</td>\n",
       "      <td>(71.0, 74.0]</td>\n",
       "    </tr>\n",
       "    <tr>\n",
       "      <th>31</th>\n",
       "      <td>Call of Duty: Black Ops 3</td>\n",
       "      <td>PS4</td>\n",
       "      <td>2015</td>\n",
       "      <td>Shooter</td>\n",
       "      <td>6.03</td>\n",
       "      <td>5.86</td>\n",
       "      <td>0.36</td>\n",
       "      <td>2.38</td>\n",
       "      <td>NaN</td>\n",
       "      <td>NaN</td>\n",
       "      <td>NaN</td>\n",
       "      <td>14.63</td>\n",
       "      <td>NaN</td>\n",
       "      <td>NaN</td>\n",
       "    </tr>\n",
       "    <tr>\n",
       "      <th>72</th>\n",
       "      <td>Minecraft</td>\n",
       "      <td>X360</td>\n",
       "      <td>2013</td>\n",
       "      <td>Misc</td>\n",
       "      <td>5.70</td>\n",
       "      <td>2.65</td>\n",
       "      <td>0.02</td>\n",
       "      <td>0.81</td>\n",
       "      <td>NaN</td>\n",
       "      <td>NaN</td>\n",
       "      <td>NaN</td>\n",
       "      <td>9.18</td>\n",
       "      <td>NaN</td>\n",
       "      <td>NaN</td>\n",
       "    </tr>\n",
       "  </tbody>\n",
       "</table>\n",
       "</div>"
      ],
      "text/plain": [
       "                         name platform  year_of_release    genre  na_sales  \\\n",
       "23         Grand Theft Auto V     X360             2013   Action      9.66   \n",
       "16         Grand Theft Auto V      PS3             2013   Action      7.02   \n",
       "60       Call of Duty: Ghosts     X360             2013  Shooter      6.73   \n",
       "31  Call of Duty: Black Ops 3      PS4             2015  Shooter      6.03   \n",
       "72                  Minecraft     X360             2013     Misc      5.70   \n",
       "\n",
       "    eu_sales  jp_sales  other_sales critic_score user_score rating  \\\n",
       "23      5.14      0.06         1.41         97.0        8.1      M   \n",
       "16      9.09      0.98         3.96         97.0        8.2      M   \n",
       "60      2.56      0.04         0.91         73.0        2.6      M   \n",
       "31      5.86      0.36         2.38          NaN        NaN    NaN   \n",
       "72      2.65      0.02         0.81          NaN        NaN    NaN   \n",
       "\n",
       "    total_sales user_score_qcut critic_score_qcut  \n",
       "23        16.27      (7.8, 8.1]      (86.0, 99.0]  \n",
       "16        21.05      (8.1, 8.4]      (86.0, 99.0]  \n",
       "60        10.24   (-0.001, 5.1]      (71.0, 74.0]  \n",
       "31        14.63             NaN               NaN  \n",
       "72         9.18             NaN               NaN  "
      ]
     },
     "execution_count": 73,
     "metadata": {},
     "output_type": "execute_result"
    }
   ],
   "source": [
    "# топ-5 игр по количеству проданных копий - северная америка\n",
    "\n",
    "games_full[games_full['year_of_release'] >=2013].sort_values('na_sales', ascending=False).head(5)"
   ]
  },
  {
   "cell_type": "code",
   "execution_count": 74,
   "id": "c52badbe",
   "metadata": {},
   "outputs": [
    {
     "data": {
      "text/html": [
       "<div>\n",
       "<style scoped>\n",
       "    .dataframe tbody tr th:only-of-type {\n",
       "        vertical-align: middle;\n",
       "    }\n",
       "\n",
       "    .dataframe tbody tr th {\n",
       "        vertical-align: top;\n",
       "    }\n",
       "\n",
       "    .dataframe thead th {\n",
       "        text-align: right;\n",
       "    }\n",
       "</style>\n",
       "<table border=\"1\" class=\"dataframe\">\n",
       "  <thead>\n",
       "    <tr style=\"text-align: right;\">\n",
       "      <th></th>\n",
       "      <th>rating</th>\n",
       "      <th>na_sales</th>\n",
       "      <th>perc_of_total</th>\n",
       "    </tr>\n",
       "  </thead>\n",
       "  <tbody>\n",
       "    <tr>\n",
       "      <th>0</th>\n",
       "      <td>M</td>\n",
       "      <td>165.82</td>\n",
       "      <td>37.88</td>\n",
       "    </tr>\n",
       "    <tr>\n",
       "      <th>1</th>\n",
       "      <td>NaN</td>\n",
       "      <td>87.37</td>\n",
       "      <td>19.96</td>\n",
       "    </tr>\n",
       "    <tr>\n",
       "      <th>2</th>\n",
       "      <td>E</td>\n",
       "      <td>79.25</td>\n",
       "      <td>18.11</td>\n",
       "    </tr>\n",
       "    <tr>\n",
       "      <th>3</th>\n",
       "      <td>E10+</td>\n",
       "      <td>55.48</td>\n",
       "      <td>12.68</td>\n",
       "    </tr>\n",
       "    <tr>\n",
       "      <th>4</th>\n",
       "      <td>T</td>\n",
       "      <td>49.79</td>\n",
       "      <td>11.38</td>\n",
       "    </tr>\n",
       "  </tbody>\n",
       "</table>\n",
       "</div>"
      ],
      "text/plain": [
       "  rating  na_sales  perc_of_total\n",
       "0      M    165.82          37.88\n",
       "1    NaN     87.37          19.96\n",
       "2      E     79.25          18.11\n",
       "3   E10+     55.48          12.68\n",
       "4      T     49.79          11.38"
      ]
     },
     "execution_count": 74,
     "metadata": {},
     "output_type": "execute_result"
    }
   ],
   "source": [
    "# соотношение рейтинга и количества проданных копий - северная америка\n",
    "# + процент от продаж с разбивков по рейтингу\n",
    "\n",
    "rating_na_sales = games_full[games_full['year_of_release'] >=2013].groupby('rating', dropna=False)['na_sales'].sum() \\\n",
    "                            .sort_values(ascending=False).head(5).reset_index()\n",
    "rating_na_sales['perc_of_total'] = round(rating_na_sales['na_sales'] / total_sales['na_sales_total'][0] * 100, 2)\n",
    "rating_na_sales"
   ]
  },
  {
   "cell_type": "markdown",
   "id": "f4c4df6b",
   "metadata": {},
   "source": [
    "<a id=\"conclusion_2\"> </a>\n",
    "# промежуточный вывод (северная америка):"
   ]
  },
  {
   "cell_type": "markdown",
   "id": "b9f36b51",
   "metadata": {},
   "source": [
    "Топ-5 платформ и доля от суммарного объема продаж:\n",
    "- PS4 - 24.84%\n",
    "- XOne - 21.27%\n",
    "- X360 - 18.66%\n",
    "- PS3 - 14.51%\n",
    "- 3DS - 8.73%\n",
    "\n",
    "Топ-5 жанров и доля от суммарного объема продаж:\n",
    "- Action - 28.80%\n",
    "- Shooter - 25.07%\n",
    "- Sports - 14.91%\n",
    "- Role-Playing - 10.60%\n",
    "- Misc - 6.28%\n",
    "\n",
    "Топ-5 самых популярных игр (по продажам в регионе)\n",
    "\n",
    "- Grand Theft Auto V (X360 и PS3)\n",
    "- Call of Duty: Ghosts\t(X360)\n",
    "- Call of Duty: Black Ops 3 (PS4)\n",
    "- Minecraft (X360)\t\n",
    "\n",
    "Лидеры по рейтингу ESRB:\n",
    "- M - 37.88%\n",
    "- E - 18.11%\n",
    "- E10+ - 12.68%\n",
    "- T - 11.38%\n",
    "\n",
    "Так же в топ вошли игры, для которых у нас нет данных о рейтинге: таких игр в датасете - 19.96% от суммарных продаж."
   ]
  },
  {
   "cell_type": "markdown",
   "id": "e27926e9",
   "metadata": {},
   "source": [
    "# 3.2. Европа ('eu_sales')"
   ]
  },
  {
   "cell_type": "code",
   "execution_count": 75,
   "id": "3274ec2c",
   "metadata": {},
   "outputs": [
    {
     "data": {
      "text/html": [
       "<div>\n",
       "<style scoped>\n",
       "    .dataframe tbody tr th:only-of-type {\n",
       "        vertical-align: middle;\n",
       "    }\n",
       "\n",
       "    .dataframe tbody tr th {\n",
       "        vertical-align: top;\n",
       "    }\n",
       "\n",
       "    .dataframe thead th {\n",
       "        text-align: right;\n",
       "    }\n",
       "</style>\n",
       "<table border=\"1\" class=\"dataframe\">\n",
       "  <thead>\n",
       "    <tr style=\"text-align: right;\">\n",
       "      <th></th>\n",
       "      <th>platform</th>\n",
       "      <th>eu_sales</th>\n",
       "      <th>eu_perc_of_total</th>\n",
       "    </tr>\n",
       "  </thead>\n",
       "  <tbody>\n",
       "    <tr>\n",
       "      <th>0</th>\n",
       "      <td>PS4</td>\n",
       "      <td>141.09</td>\n",
       "      <td>35.97</td>\n",
       "    </tr>\n",
       "    <tr>\n",
       "      <th>1</th>\n",
       "      <td>PS3</td>\n",
       "      <td>67.81</td>\n",
       "      <td>17.29</td>\n",
       "    </tr>\n",
       "    <tr>\n",
       "      <th>2</th>\n",
       "      <td>XOne</td>\n",
       "      <td>51.59</td>\n",
       "      <td>13.15</td>\n",
       "    </tr>\n",
       "    <tr>\n",
       "      <th>3</th>\n",
       "      <td>X360</td>\n",
       "      <td>42.52</td>\n",
       "      <td>10.84</td>\n",
       "    </tr>\n",
       "    <tr>\n",
       "      <th>4</th>\n",
       "      <td>3DS</td>\n",
       "      <td>30.96</td>\n",
       "      <td>7.89</td>\n",
       "    </tr>\n",
       "  </tbody>\n",
       "</table>\n",
       "</div>"
      ],
      "text/plain": [
       "  platform  eu_sales  eu_perc_of_total\n",
       "0      PS4    141.09             35.97\n",
       "1      PS3     67.81             17.29\n",
       "2     XOne     51.59             13.15\n",
       "3     X360     42.52             10.84\n",
       "4      3DS     30.96              7.89"
      ]
     },
     "execution_count": 75,
     "metadata": {},
     "output_type": "execute_result"
    }
   ],
   "source": [
    "# популярные платформы (топ-5) - европа\n",
    "# + процент от продаж с разбивков по платформам и за акутальный период\n",
    "\n",
    "eu_platform = pd.DataFrame(games_full[games_full['year_of_release'] >=2013].groupby('platform')['eu_sales'].sum() \\\n",
    "                           .sort_values(ascending=False).head(5)).reset_index()\n",
    "eu_platform['eu_perc_of_total'] = round(eu_platform['eu_sales'] / total_sales['eu_sales_total'][0] * 100, 2)\n",
    "eu_platform"
   ]
  },
  {
   "cell_type": "code",
   "execution_count": 76,
   "id": "d09e65bb",
   "metadata": {},
   "outputs": [
    {
     "data": {
      "text/html": [
       "<div>\n",
       "<style scoped>\n",
       "    .dataframe tbody tr th:only-of-type {\n",
       "        vertical-align: middle;\n",
       "    }\n",
       "\n",
       "    .dataframe tbody tr th {\n",
       "        vertical-align: top;\n",
       "    }\n",
       "\n",
       "    .dataframe thead th {\n",
       "        text-align: right;\n",
       "    }\n",
       "</style>\n",
       "<table border=\"1\" class=\"dataframe\">\n",
       "  <thead>\n",
       "    <tr style=\"text-align: right;\">\n",
       "      <th></th>\n",
       "      <th>genre</th>\n",
       "      <th>eu_sales</th>\n",
       "      <th>eu_perc_of_total</th>\n",
       "    </tr>\n",
       "  </thead>\n",
       "  <tbody>\n",
       "    <tr>\n",
       "      <th>0</th>\n",
       "      <td>Action</td>\n",
       "      <td>118.13</td>\n",
       "      <td>30.12</td>\n",
       "    </tr>\n",
       "    <tr>\n",
       "      <th>1</th>\n",
       "      <td>Shooter</td>\n",
       "      <td>87.86</td>\n",
       "      <td>22.40</td>\n",
       "    </tr>\n",
       "    <tr>\n",
       "      <th>2</th>\n",
       "      <td>Sports</td>\n",
       "      <td>60.52</td>\n",
       "      <td>15.43</td>\n",
       "    </tr>\n",
       "    <tr>\n",
       "      <th>3</th>\n",
       "      <td>Role-Playing</td>\n",
       "      <td>36.97</td>\n",
       "      <td>9.43</td>\n",
       "    </tr>\n",
       "    <tr>\n",
       "      <th>4</th>\n",
       "      <td>Racing</td>\n",
       "      <td>20.19</td>\n",
       "      <td>5.15</td>\n",
       "    </tr>\n",
       "  </tbody>\n",
       "</table>\n",
       "</div>"
      ],
      "text/plain": [
       "          genre  eu_sales  eu_perc_of_total\n",
       "0        Action    118.13             30.12\n",
       "1       Shooter     87.86             22.40\n",
       "2        Sports     60.52             15.43\n",
       "3  Role-Playing     36.97              9.43\n",
       "4        Racing     20.19              5.15"
      ]
     },
     "execution_count": 76,
     "metadata": {},
     "output_type": "execute_result"
    }
   ],
   "source": [
    "# популярные жанры (топ-5) - европа\n",
    "# + процент от продаж с разбивков по жанрам\n",
    "\n",
    "eu_genres = pd.DataFrame(games_full[games_full['year_of_release'] >=2013].groupby('genre')['eu_sales'].sum() \\\n",
    "                         .sort_values(ascending=False).head(5)).reset_index()\n",
    "eu_genres['eu_perc_of_total'] = round(eu_genres['eu_sales'] / total_sales['eu_sales_total'][0] * 100, 2)\n",
    "eu_genres"
   ]
  },
  {
   "cell_type": "code",
   "execution_count": 77,
   "id": "0d3b77bd",
   "metadata": {},
   "outputs": [
    {
     "data": {
      "text/html": [
       "<div>\n",
       "<style scoped>\n",
       "    .dataframe tbody tr th:only-of-type {\n",
       "        vertical-align: middle;\n",
       "    }\n",
       "\n",
       "    .dataframe tbody tr th {\n",
       "        vertical-align: top;\n",
       "    }\n",
       "\n",
       "    .dataframe thead th {\n",
       "        text-align: right;\n",
       "    }\n",
       "</style>\n",
       "<table border=\"1\" class=\"dataframe\">\n",
       "  <thead>\n",
       "    <tr style=\"text-align: right;\">\n",
       "      <th></th>\n",
       "      <th>name</th>\n",
       "      <th>platform</th>\n",
       "      <th>year_of_release</th>\n",
       "      <th>genre</th>\n",
       "      <th>na_sales</th>\n",
       "      <th>eu_sales</th>\n",
       "      <th>jp_sales</th>\n",
       "      <th>other_sales</th>\n",
       "      <th>critic_score</th>\n",
       "      <th>user_score</th>\n",
       "      <th>rating</th>\n",
       "      <th>total_sales</th>\n",
       "      <th>user_score_qcut</th>\n",
       "      <th>critic_score_qcut</th>\n",
       "    </tr>\n",
       "  </thead>\n",
       "  <tbody>\n",
       "    <tr>\n",
       "      <th>16</th>\n",
       "      <td>Grand Theft Auto V</td>\n",
       "      <td>PS3</td>\n",
       "      <td>2013</td>\n",
       "      <td>Action</td>\n",
       "      <td>7.02</td>\n",
       "      <td>9.09</td>\n",
       "      <td>0.98</td>\n",
       "      <td>3.96</td>\n",
       "      <td>97.0</td>\n",
       "      <td>8.2</td>\n",
       "      <td>M</td>\n",
       "      <td>21.05</td>\n",
       "      <td>(8.1, 8.4]</td>\n",
       "      <td>(86.0, 99.0]</td>\n",
       "    </tr>\n",
       "    <tr>\n",
       "      <th>42</th>\n",
       "      <td>Grand Theft Auto V</td>\n",
       "      <td>PS4</td>\n",
       "      <td>2014</td>\n",
       "      <td>Action</td>\n",
       "      <td>3.96</td>\n",
       "      <td>6.31</td>\n",
       "      <td>0.38</td>\n",
       "      <td>1.97</td>\n",
       "      <td>97.0</td>\n",
       "      <td>8.3</td>\n",
       "      <td>M</td>\n",
       "      <td>12.62</td>\n",
       "      <td>(8.1, 8.4]</td>\n",
       "      <td>(86.0, 99.0]</td>\n",
       "    </tr>\n",
       "    <tr>\n",
       "      <th>77</th>\n",
       "      <td>FIFA 16</td>\n",
       "      <td>PS4</td>\n",
       "      <td>2015</td>\n",
       "      <td>Sports</td>\n",
       "      <td>1.12</td>\n",
       "      <td>6.12</td>\n",
       "      <td>0.06</td>\n",
       "      <td>1.28</td>\n",
       "      <td>82.0</td>\n",
       "      <td>4.3</td>\n",
       "      <td>E</td>\n",
       "      <td>8.58</td>\n",
       "      <td>(-0.001, 5.1]</td>\n",
       "      <td>(81.0, 86.0]</td>\n",
       "    </tr>\n",
       "    <tr>\n",
       "      <th>31</th>\n",
       "      <td>Call of Duty: Black Ops 3</td>\n",
       "      <td>PS4</td>\n",
       "      <td>2015</td>\n",
       "      <td>Shooter</td>\n",
       "      <td>6.03</td>\n",
       "      <td>5.86</td>\n",
       "      <td>0.36</td>\n",
       "      <td>2.38</td>\n",
       "      <td>NaN</td>\n",
       "      <td>NaN</td>\n",
       "      <td>NaN</td>\n",
       "      <td>14.63</td>\n",
       "      <td>NaN</td>\n",
       "      <td>NaN</td>\n",
       "    </tr>\n",
       "    <tr>\n",
       "      <th>94</th>\n",
       "      <td>FIFA 17</td>\n",
       "      <td>PS4</td>\n",
       "      <td>2016</td>\n",
       "      <td>Sports</td>\n",
       "      <td>0.66</td>\n",
       "      <td>5.75</td>\n",
       "      <td>0.08</td>\n",
       "      <td>1.11</td>\n",
       "      <td>85.0</td>\n",
       "      <td>5</td>\n",
       "      <td>E</td>\n",
       "      <td>7.60</td>\n",
       "      <td>(-0.001, 5.1]</td>\n",
       "      <td>(81.0, 86.0]</td>\n",
       "    </tr>\n",
       "  </tbody>\n",
       "</table>\n",
       "</div>"
      ],
      "text/plain": [
       "                         name platform  year_of_release    genre  na_sales  \\\n",
       "16         Grand Theft Auto V      PS3             2013   Action      7.02   \n",
       "42         Grand Theft Auto V      PS4             2014   Action      3.96   \n",
       "77                    FIFA 16      PS4             2015   Sports      1.12   \n",
       "31  Call of Duty: Black Ops 3      PS4             2015  Shooter      6.03   \n",
       "94                    FIFA 17      PS4             2016   Sports      0.66   \n",
       "\n",
       "    eu_sales  jp_sales  other_sales critic_score user_score rating  \\\n",
       "16      9.09      0.98         3.96         97.0        8.2      M   \n",
       "42      6.31      0.38         1.97         97.0        8.3      M   \n",
       "77      6.12      0.06         1.28         82.0        4.3      E   \n",
       "31      5.86      0.36         2.38          NaN        NaN    NaN   \n",
       "94      5.75      0.08         1.11         85.0          5      E   \n",
       "\n",
       "    total_sales user_score_qcut critic_score_qcut  \n",
       "16        21.05      (8.1, 8.4]      (86.0, 99.0]  \n",
       "42        12.62      (8.1, 8.4]      (86.0, 99.0]  \n",
       "77         8.58   (-0.001, 5.1]      (81.0, 86.0]  \n",
       "31        14.63             NaN               NaN  \n",
       "94         7.60   (-0.001, 5.1]      (81.0, 86.0]  "
      ]
     },
     "execution_count": 77,
     "metadata": {},
     "output_type": "execute_result"
    }
   ],
   "source": [
    "# топ-5 игр по количеству проданных копий - европа\n",
    "\n",
    "games_full[games_full['year_of_release'] >=2013].sort_values('eu_sales', ascending=False).head(5)"
   ]
  },
  {
   "cell_type": "code",
   "execution_count": 78,
   "id": "3aa7b932",
   "metadata": {},
   "outputs": [
    {
     "data": {
      "text/html": [
       "<div>\n",
       "<style scoped>\n",
       "    .dataframe tbody tr th:only-of-type {\n",
       "        vertical-align: middle;\n",
       "    }\n",
       "\n",
       "    .dataframe tbody tr th {\n",
       "        vertical-align: top;\n",
       "    }\n",
       "\n",
       "    .dataframe thead th {\n",
       "        text-align: right;\n",
       "    }\n",
       "</style>\n",
       "<table border=\"1\" class=\"dataframe\">\n",
       "  <thead>\n",
       "    <tr style=\"text-align: right;\">\n",
       "      <th></th>\n",
       "      <th>rating</th>\n",
       "      <th>eu_sales</th>\n",
       "      <th>perc_of_total</th>\n",
       "    </tr>\n",
       "  </thead>\n",
       "  <tbody>\n",
       "    <tr>\n",
       "      <th>0</th>\n",
       "      <td>M</td>\n",
       "      <td>146.38</td>\n",
       "      <td>37.32</td>\n",
       "    </tr>\n",
       "    <tr>\n",
       "      <th>1</th>\n",
       "      <td>E</td>\n",
       "      <td>83.52</td>\n",
       "      <td>21.29</td>\n",
       "    </tr>\n",
       "    <tr>\n",
       "      <th>2</th>\n",
       "      <td>NaN</td>\n",
       "      <td>76.56</td>\n",
       "      <td>19.52</td>\n",
       "    </tr>\n",
       "    <tr>\n",
       "      <th>3</th>\n",
       "      <td>E10+</td>\n",
       "      <td>43.74</td>\n",
       "      <td>11.15</td>\n",
       "    </tr>\n",
       "    <tr>\n",
       "      <th>4</th>\n",
       "      <td>T</td>\n",
       "      <td>42.03</td>\n",
       "      <td>10.72</td>\n",
       "    </tr>\n",
       "  </tbody>\n",
       "</table>\n",
       "</div>"
      ],
      "text/plain": [
       "  rating  eu_sales  perc_of_total\n",
       "0      M    146.38          37.32\n",
       "1      E     83.52          21.29\n",
       "2    NaN     76.56          19.52\n",
       "3   E10+     43.74          11.15\n",
       "4      T     42.03          10.72"
      ]
     },
     "execution_count": 78,
     "metadata": {},
     "output_type": "execute_result"
    }
   ],
   "source": [
    "# соотношение рейтинга и количества проданных копий - северная америка\n",
    "# + процент от продаж с разбивков по рейтингу\n",
    "\n",
    "rating_eu_sales = games_full[games_full['year_of_release'] >=2013].groupby('rating', dropna=False)['eu_sales'].sum() \\\n",
    "                            .sort_values(ascending=False).head(5).reset_index()\n",
    "rating_eu_sales['perc_of_total'] = round(rating_eu_sales['eu_sales'] / total_sales['eu_sales_total'][0] * 100, 2)\n",
    "rating_eu_sales"
   ]
  },
  {
   "cell_type": "markdown",
   "id": "5d69414f",
   "metadata": {},
   "source": [
    "<a id=\"conclusion_3\"> </a>\n",
    "# промежуточный вывод - европа:"
   ]
  },
  {
   "cell_type": "markdown",
   "id": "cfd040a0",
   "metadata": {},
   "source": [
    "Топ-5 платформ и доля от суммарного объема продаж:\n",
    "- PS4 - 35.97%\n",
    "- PS3 - 17.29%\n",
    "- XOne - 13.15%\n",
    "- X360 - 10.84%\n",
    "- 3DS - 7.89%\n",
    "\n",
    "Топ-5 жанров и доля от суммарного объема продаж:\n",
    "- Action - 30.12%\n",
    "- Shooter - 22.40%\n",
    "- Sports - 15.43%\n",
    "- Role-Playing - 9.43%\n",
    "- Racing - 5.15%\n",
    "\n",
    "Топ-5 самых популярных игр (по продажам в регионе)\n",
    "- Grand Theft Auto V (PS3 и PS4)\n",
    "- FIFA 16 (PS4)\n",
    "- Call of Duty: Black Ops 3 (PS4)\n",
    "- FIFA 17 (PS4)\n",
    "\n",
    "Лидеры по рейтингу ESRB:\n",
    "- M - 37.32%\n",
    "- E - 21.29%\n",
    "- E10+ - 11.15%\n",
    "- T - 10.72%\n",
    "\n",
    "Так же в топ вошли игры, для которых у нас нет данных о рейтинге: таких игр в датасете - 19.52% от суммарных продаж."
   ]
  },
  {
   "cell_type": "markdown",
   "id": "f9c46a66",
   "metadata": {},
   "source": [
    "<b>Североамериканские и европейские игроки во много похожи</b>. В этих регионах:\n",
    "- в топ вошли одинаковые платформы - XOne, PS3, PS4, 3DS и Wii,\n",
    "- в топ жанров вошли Action, Sports, Shooter и Role-Playing,\n",
    "- одни из самых популярных игр - - Grand Theft Auto V и Call of Duty: Black Ops 3,\n",
    "- в топ вошли игры с одними и теми же рейтингами ."
   ]
  },
  {
   "cell_type": "markdown",
   "id": "9021dae0",
   "metadata": {},
   "source": [
    "# 3.3. Япония ('jp_sales')"
   ]
  },
  {
   "cell_type": "code",
   "execution_count": 79,
   "id": "337a6299",
   "metadata": {},
   "outputs": [
    {
     "data": {
      "text/html": [
       "<div>\n",
       "<style scoped>\n",
       "    .dataframe tbody tr th:only-of-type {\n",
       "        vertical-align: middle;\n",
       "    }\n",
       "\n",
       "    .dataframe tbody tr th {\n",
       "        vertical-align: top;\n",
       "    }\n",
       "\n",
       "    .dataframe thead th {\n",
       "        text-align: right;\n",
       "    }\n",
       "</style>\n",
       "<table border=\"1\" class=\"dataframe\">\n",
       "  <thead>\n",
       "    <tr style=\"text-align: right;\">\n",
       "      <th></th>\n",
       "      <th>platform</th>\n",
       "      <th>jp_sales</th>\n",
       "      <th>jp_perc_of_total</th>\n",
       "    </tr>\n",
       "  </thead>\n",
       "  <tbody>\n",
       "    <tr>\n",
       "      <th>0</th>\n",
       "      <td>3DS</td>\n",
       "      <td>67.81</td>\n",
       "      <td>48.17</td>\n",
       "    </tr>\n",
       "    <tr>\n",
       "      <th>1</th>\n",
       "      <td>PS3</td>\n",
       "      <td>23.35</td>\n",
       "      <td>16.59</td>\n",
       "    </tr>\n",
       "    <tr>\n",
       "      <th>2</th>\n",
       "      <td>PSV</td>\n",
       "      <td>18.59</td>\n",
       "      <td>13.21</td>\n",
       "    </tr>\n",
       "    <tr>\n",
       "      <th>3</th>\n",
       "      <td>PS4</td>\n",
       "      <td>15.96</td>\n",
       "      <td>11.34</td>\n",
       "    </tr>\n",
       "    <tr>\n",
       "      <th>4</th>\n",
       "      <td>WiiU</td>\n",
       "      <td>10.88</td>\n",
       "      <td>7.73</td>\n",
       "    </tr>\n",
       "  </tbody>\n",
       "</table>\n",
       "</div>"
      ],
      "text/plain": [
       "  platform  jp_sales  jp_perc_of_total\n",
       "0      3DS     67.81             48.17\n",
       "1      PS3     23.35             16.59\n",
       "2      PSV     18.59             13.21\n",
       "3      PS4     15.96             11.34\n",
       "4     WiiU     10.88              7.73"
      ]
     },
     "execution_count": 79,
     "metadata": {},
     "output_type": "execute_result"
    }
   ],
   "source": [
    "# популярные платформы (топ-5) - япония\n",
    "# + процент от продаж с разбивков по платформам и за актуальный период\n",
    "\n",
    "jp_platform = pd.DataFrame(games_full[games_full['year_of_release'] >=2013].groupby('platform')['jp_sales'].sum()\\\n",
    "                           .sort_values(ascending=False).head(5)).reset_index()\n",
    "jp_platform['jp_perc_of_total'] = round(jp_platform['jp_sales'] / total_sales['jp_sales_total'][0] * 100, 2)\n",
    "jp_platform"
   ]
  },
  {
   "cell_type": "code",
   "execution_count": 80,
   "id": "d8cc43ff",
   "metadata": {},
   "outputs": [
    {
     "data": {
      "text/html": [
       "<div>\n",
       "<style scoped>\n",
       "    .dataframe tbody tr th:only-of-type {\n",
       "        vertical-align: middle;\n",
       "    }\n",
       "\n",
       "    .dataframe tbody tr th {\n",
       "        vertical-align: top;\n",
       "    }\n",
       "\n",
       "    .dataframe thead th {\n",
       "        text-align: right;\n",
       "    }\n",
       "</style>\n",
       "<table border=\"1\" class=\"dataframe\">\n",
       "  <thead>\n",
       "    <tr style=\"text-align: right;\">\n",
       "      <th></th>\n",
       "      <th>genre</th>\n",
       "      <th>jp_sales</th>\n",
       "      <th>jp_perc_of_total</th>\n",
       "    </tr>\n",
       "  </thead>\n",
       "  <tbody>\n",
       "    <tr>\n",
       "      <th>0</th>\n",
       "      <td>Role-Playing</td>\n",
       "      <td>51.04</td>\n",
       "      <td>36.26</td>\n",
       "    </tr>\n",
       "    <tr>\n",
       "      <th>1</th>\n",
       "      <td>Action</td>\n",
       "      <td>40.49</td>\n",
       "      <td>28.76</td>\n",
       "    </tr>\n",
       "    <tr>\n",
       "      <th>2</th>\n",
       "      <td>Misc</td>\n",
       "      <td>9.20</td>\n",
       "      <td>6.54</td>\n",
       "    </tr>\n",
       "    <tr>\n",
       "      <th>3</th>\n",
       "      <td>Fighting</td>\n",
       "      <td>7.65</td>\n",
       "      <td>5.43</td>\n",
       "    </tr>\n",
       "    <tr>\n",
       "      <th>4</th>\n",
       "      <td>Shooter</td>\n",
       "      <td>6.61</td>\n",
       "      <td>4.70</td>\n",
       "    </tr>\n",
       "  </tbody>\n",
       "</table>\n",
       "</div>"
      ],
      "text/plain": [
       "          genre  jp_sales  jp_perc_of_total\n",
       "0  Role-Playing     51.04             36.26\n",
       "1        Action     40.49             28.76\n",
       "2          Misc      9.20              6.54\n",
       "3      Fighting      7.65              5.43\n",
       "4       Shooter      6.61              4.70"
      ]
     },
     "execution_count": 80,
     "metadata": {},
     "output_type": "execute_result"
    }
   ],
   "source": [
    "# популярные жанры (топ-5) - япония\n",
    "# + процент от продаж с разбивков по жанрам\n",
    "\n",
    "jp_genres = pd.DataFrame(games_full[games_full['year_of_release'] >=2013].groupby('genre')['jp_sales'].sum()\\\n",
    "                         .sort_values(ascending=False).head(5)).reset_index()\n",
    "jp_genres['jp_perc_of_total'] = round(jp_genres['jp_sales'] / total_sales['jp_sales_total'][0] * 100, 2)\n",
    "jp_genres"
   ]
  },
  {
   "cell_type": "code",
   "execution_count": 81,
   "id": "6b79d13b",
   "metadata": {},
   "outputs": [
    {
     "data": {
      "text/html": [
       "<div>\n",
       "<style scoped>\n",
       "    .dataframe tbody tr th:only-of-type {\n",
       "        vertical-align: middle;\n",
       "    }\n",
       "\n",
       "    .dataframe tbody tr th {\n",
       "        vertical-align: top;\n",
       "    }\n",
       "\n",
       "    .dataframe thead th {\n",
       "        text-align: right;\n",
       "    }\n",
       "</style>\n",
       "<table border=\"1\" class=\"dataframe\">\n",
       "  <thead>\n",
       "    <tr style=\"text-align: right;\">\n",
       "      <th></th>\n",
       "      <th>name</th>\n",
       "      <th>platform</th>\n",
       "      <th>year_of_release</th>\n",
       "      <th>genre</th>\n",
       "      <th>na_sales</th>\n",
       "      <th>eu_sales</th>\n",
       "      <th>jp_sales</th>\n",
       "      <th>other_sales</th>\n",
       "      <th>critic_score</th>\n",
       "      <th>user_score</th>\n",
       "      <th>rating</th>\n",
       "      <th>total_sales</th>\n",
       "      <th>user_score_qcut</th>\n",
       "      <th>critic_score_qcut</th>\n",
       "    </tr>\n",
       "  </thead>\n",
       "  <tbody>\n",
       "    <tr>\n",
       "      <th>33</th>\n",
       "      <td>Pokemon X/Pokemon Y</td>\n",
       "      <td>3DS</td>\n",
       "      <td>2013</td>\n",
       "      <td>Role-Playing</td>\n",
       "      <td>5.28</td>\n",
       "      <td>4.19</td>\n",
       "      <td>4.35</td>\n",
       "      <td>0.78</td>\n",
       "      <td>NaN</td>\n",
       "      <td>NaN</td>\n",
       "      <td>NaN</td>\n",
       "      <td>14.60</td>\n",
       "      <td>NaN</td>\n",
       "      <td>NaN</td>\n",
       "    </tr>\n",
       "    <tr>\n",
       "      <th>385</th>\n",
       "      <td>Monster Hunter 4</td>\n",
       "      <td>3DS</td>\n",
       "      <td>2013</td>\n",
       "      <td>Role-Playing</td>\n",
       "      <td>0.00</td>\n",
       "      <td>0.00</td>\n",
       "      <td>3.44</td>\n",
       "      <td>0.00</td>\n",
       "      <td>NaN</td>\n",
       "      <td>NaN</td>\n",
       "      <td>NaN</td>\n",
       "      <td>3.44</td>\n",
       "      <td>NaN</td>\n",
       "      <td>NaN</td>\n",
       "    </tr>\n",
       "    <tr>\n",
       "      <th>412</th>\n",
       "      <td>Yokai Watch 2 Ganso/Honke</td>\n",
       "      <td>3DS</td>\n",
       "      <td>2014</td>\n",
       "      <td>Role-Playing</td>\n",
       "      <td>0.09</td>\n",
       "      <td>0.00</td>\n",
       "      <td>3.18</td>\n",
       "      <td>0.01</td>\n",
       "      <td>NaN</td>\n",
       "      <td>NaN</td>\n",
       "      <td>NaN</td>\n",
       "      <td>3.28</td>\n",
       "      <td>NaN</td>\n",
       "      <td>NaN</td>\n",
       "    </tr>\n",
       "    <tr>\n",
       "      <th>47</th>\n",
       "      <td>Pokemon Omega Ruby/Pokemon Alpha Sapphire</td>\n",
       "      <td>3DS</td>\n",
       "      <td>2014</td>\n",
       "      <td>Role-Playing</td>\n",
       "      <td>4.35</td>\n",
       "      <td>3.49</td>\n",
       "      <td>3.10</td>\n",
       "      <td>0.74</td>\n",
       "      <td>NaN</td>\n",
       "      <td>NaN</td>\n",
       "      <td>NaN</td>\n",
       "      <td>11.68</td>\n",
       "      <td>NaN</td>\n",
       "      <td>NaN</td>\n",
       "    </tr>\n",
       "    <tr>\n",
       "      <th>406</th>\n",
       "      <td>Monster Hunter X</td>\n",
       "      <td>3DS</td>\n",
       "      <td>2015</td>\n",
       "      <td>Action</td>\n",
       "      <td>0.27</td>\n",
       "      <td>0.21</td>\n",
       "      <td>2.79</td>\n",
       "      <td>0.05</td>\n",
       "      <td>NaN</td>\n",
       "      <td>NaN</td>\n",
       "      <td>NaN</td>\n",
       "      <td>3.32</td>\n",
       "      <td>NaN</td>\n",
       "      <td>NaN</td>\n",
       "    </tr>\n",
       "  </tbody>\n",
       "</table>\n",
       "</div>"
      ],
      "text/plain": [
       "                                          name platform  year_of_release  \\\n",
       "33                         Pokemon X/Pokemon Y      3DS             2013   \n",
       "385                           Monster Hunter 4      3DS             2013   \n",
       "412                  Yokai Watch 2 Ganso/Honke      3DS             2014   \n",
       "47   Pokemon Omega Ruby/Pokemon Alpha Sapphire      3DS             2014   \n",
       "406                           Monster Hunter X      3DS             2015   \n",
       "\n",
       "            genre  na_sales  eu_sales  jp_sales  other_sales critic_score  \\\n",
       "33   Role-Playing      5.28      4.19      4.35         0.78          NaN   \n",
       "385  Role-Playing      0.00      0.00      3.44         0.00          NaN   \n",
       "412  Role-Playing      0.09      0.00      3.18         0.01          NaN   \n",
       "47   Role-Playing      4.35      3.49      3.10         0.74          NaN   \n",
       "406        Action      0.27      0.21      2.79         0.05          NaN   \n",
       "\n",
       "    user_score rating  total_sales user_score_qcut critic_score_qcut  \n",
       "33         NaN    NaN        14.60             NaN               NaN  \n",
       "385        NaN    NaN         3.44             NaN               NaN  \n",
       "412        NaN    NaN         3.28             NaN               NaN  \n",
       "47         NaN    NaN        11.68             NaN               NaN  \n",
       "406        NaN    NaN         3.32             NaN               NaN  "
      ]
     },
     "execution_count": 81,
     "metadata": {},
     "output_type": "execute_result"
    }
   ],
   "source": [
    "# топ-5 игр по количеству проданных копий - япония\n",
    "\n",
    "games_full[games_full['year_of_release'] >=2013].sort_values('jp_sales', ascending=False).head(5)"
   ]
  },
  {
   "cell_type": "code",
   "execution_count": 82,
   "id": "217e5e09",
   "metadata": {},
   "outputs": [
    {
     "data": {
      "text/html": [
       "<div>\n",
       "<style scoped>\n",
       "    .dataframe tbody tr th:only-of-type {\n",
       "        vertical-align: middle;\n",
       "    }\n",
       "\n",
       "    .dataframe tbody tr th {\n",
       "        vertical-align: top;\n",
       "    }\n",
       "\n",
       "    .dataframe thead th {\n",
       "        text-align: right;\n",
       "    }\n",
       "</style>\n",
       "<table border=\"1\" class=\"dataframe\">\n",
       "  <thead>\n",
       "    <tr style=\"text-align: right;\">\n",
       "      <th></th>\n",
       "      <th>rating</th>\n",
       "      <th>jp_sales</th>\n",
       "      <th>perc_of_total</th>\n",
       "    </tr>\n",
       "  </thead>\n",
       "  <tbody>\n",
       "    <tr>\n",
       "      <th>0</th>\n",
       "      <td>NaN</td>\n",
       "      <td>83.84</td>\n",
       "      <td>59.55</td>\n",
       "    </tr>\n",
       "    <tr>\n",
       "      <th>1</th>\n",
       "      <td>T</td>\n",
       "      <td>20.59</td>\n",
       "      <td>14.63</td>\n",
       "    </tr>\n",
       "    <tr>\n",
       "      <th>2</th>\n",
       "      <td>E</td>\n",
       "      <td>15.20</td>\n",
       "      <td>10.80</td>\n",
       "    </tr>\n",
       "    <tr>\n",
       "      <th>3</th>\n",
       "      <td>M</td>\n",
       "      <td>14.55</td>\n",
       "      <td>10.34</td>\n",
       "    </tr>\n",
       "    <tr>\n",
       "      <th>4</th>\n",
       "      <td>E10+</td>\n",
       "      <td>6.60</td>\n",
       "      <td>4.69</td>\n",
       "    </tr>\n",
       "  </tbody>\n",
       "</table>\n",
       "</div>"
      ],
      "text/plain": [
       "  rating  jp_sales  perc_of_total\n",
       "0    NaN     83.84          59.55\n",
       "1      T     20.59          14.63\n",
       "2      E     15.20          10.80\n",
       "3      M     14.55          10.34\n",
       "4   E10+      6.60           4.69"
      ]
     },
     "execution_count": 82,
     "metadata": {},
     "output_type": "execute_result"
    }
   ],
   "source": [
    "# соотношение рейтинга и количества проданных копий - япония\n",
    "# + процент от продаж с разбивков по рейтингу\n",
    "\n",
    "rating_jp_sales = games_full[games_full['year_of_release'] >=2013].groupby('rating', dropna=False)['jp_sales'].sum() \\\n",
    "                            .sort_values(ascending=False).head(5).reset_index()\n",
    "rating_jp_sales['perc_of_total'] = round(rating_jp_sales['jp_sales'] / total_sales['jp_sales_total'][0] * 100, 2)\n",
    "rating_jp_sales"
   ]
  },
  {
   "cell_type": "markdown",
   "id": "47217aa8",
   "metadata": {},
   "source": [
    "<a id=\"conclusion_4\"> </a>\n",
    "# промежуточный вывод - япония:"
   ]
  },
  {
   "cell_type": "markdown",
   "id": "460725b1",
   "metadata": {},
   "source": [
    "Топ-5 платформ и доля от суммарного объема продаж:\n",
    "\n",
    "- 3DS - 48.17\n",
    "- PS3 - 16.59\n",
    "- PSV - 13.21\n",
    "- PS4 - 11.34\n",
    "- WiiU - 7.73\n",
    "\n",
    "Топ-5 жанров и доля от суммарного объема продаж:\n",
    "- Role-Playing - 36.26%\n",
    "- Action - 28.76%\n",
    "- Misc - 6.54%\n",
    "- Fighting - 5.43%\n",
    "- Shooter - 4.70%\n",
    "\n",
    "Топ-5 самых популярных игр (по продажам в регионе)\n",
    "- покемоны - Pokemon X/Pokemon Y и Pokemon Omega Ruby/Pokemon Alpha Sapphire,\n",
    "- Monster Hunter 4 и Monster Hunter X,\n",
    "- Yokai Watch 2 Ganso/Honke.\n",
    "\n",
    "Лидеры по рейтингу ESRB:\n",
    "- T - 14.63%\n",
    "- E - 10.80%\n",
    "- M - 10.34%\n",
    "- E10+ - 4.69%\n",
    "Так же в топ вошли игры, для которых у нас нет данных о рейтинге: таких игр в датасете - 59.55% от суммарных продаж."
   ]
  },
  {
   "cell_type": "markdown",
   "id": "bd2c4f37",
   "metadata": {},
   "source": [
    "#  3.4. Продажи в других странах ('other_sales')"
   ]
  },
  {
   "cell_type": "code",
   "execution_count": 83,
   "id": "3357bb85",
   "metadata": {},
   "outputs": [
    {
     "data": {
      "text/html": [
       "<div>\n",
       "<style scoped>\n",
       "    .dataframe tbody tr th:only-of-type {\n",
       "        vertical-align: middle;\n",
       "    }\n",
       "\n",
       "    .dataframe tbody tr th {\n",
       "        vertical-align: top;\n",
       "    }\n",
       "\n",
       "    .dataframe thead th {\n",
       "        text-align: right;\n",
       "    }\n",
       "</style>\n",
       "<table border=\"1\" class=\"dataframe\">\n",
       "  <thead>\n",
       "    <tr style=\"text-align: right;\">\n",
       "      <th></th>\n",
       "      <th>platform</th>\n",
       "      <th>other_sales</th>\n",
       "      <th>other_perc_of_total</th>\n",
       "    </tr>\n",
       "  </thead>\n",
       "  <tbody>\n",
       "    <tr>\n",
       "      <th>0</th>\n",
       "      <td>PS4</td>\n",
       "      <td>48.35</td>\n",
       "      <td>40.30</td>\n",
       "    </tr>\n",
       "    <tr>\n",
       "      <th>1</th>\n",
       "      <td>PS3</td>\n",
       "      <td>26.77</td>\n",
       "      <td>22.31</td>\n",
       "    </tr>\n",
       "    <tr>\n",
       "      <th>2</th>\n",
       "      <td>XOne</td>\n",
       "      <td>14.27</td>\n",
       "      <td>11.89</td>\n",
       "    </tr>\n",
       "    <tr>\n",
       "      <th>3</th>\n",
       "      <td>X360</td>\n",
       "      <td>12.11</td>\n",
       "      <td>10.09</td>\n",
       "    </tr>\n",
       "    <tr>\n",
       "      <th>4</th>\n",
       "      <td>3DS</td>\n",
       "      <td>6.28</td>\n",
       "      <td>5.23</td>\n",
       "    </tr>\n",
       "  </tbody>\n",
       "</table>\n",
       "</div>"
      ],
      "text/plain": [
       "  platform  other_sales  other_perc_of_total\n",
       "0      PS4        48.35                40.30\n",
       "1      PS3        26.77                22.31\n",
       "2     XOne        14.27                11.89\n",
       "3     X360        12.11                10.09\n",
       "4      3DS         6.28                 5.23"
      ]
     },
     "execution_count": 83,
     "metadata": {},
     "output_type": "execute_result"
    }
   ],
   "source": [
    "# популярные платформы (топ-5) - другие страны \n",
    "# + процент от продаж с разбивков по платформам\n",
    "\n",
    "other_platform = pd.DataFrame(games_full[games_full['year_of_release'] >=2013].groupby('platform')['other_sales'].sum() \\\n",
    "                              .sort_values(ascending=False) \\\n",
    "                              .head(5)).reset_index()\n",
    "\n",
    "other_platform['other_perc_of_total'] = round(other_platform['other_sales'] / total_sales['other_sales_total'][0] * 100, 2)\n",
    "other_platform"
   ]
  },
  {
   "cell_type": "code",
   "execution_count": 84,
   "id": "90bb8b74",
   "metadata": {},
   "outputs": [
    {
     "data": {
      "text/html": [
       "<div>\n",
       "<style scoped>\n",
       "    .dataframe tbody tr th:only-of-type {\n",
       "        vertical-align: middle;\n",
       "    }\n",
       "\n",
       "    .dataframe tbody tr th {\n",
       "        vertical-align: top;\n",
       "    }\n",
       "\n",
       "    .dataframe thead th {\n",
       "        text-align: right;\n",
       "    }\n",
       "</style>\n",
       "<table border=\"1\" class=\"dataframe\">\n",
       "  <thead>\n",
       "    <tr style=\"text-align: right;\">\n",
       "      <th></th>\n",
       "      <th>genre</th>\n",
       "      <th>other_sales</th>\n",
       "      <th>other_perc_of_total</th>\n",
       "    </tr>\n",
       "  </thead>\n",
       "  <tbody>\n",
       "    <tr>\n",
       "      <th>0</th>\n",
       "      <td>Action</td>\n",
       "      <td>37.20</td>\n",
       "      <td>31.01</td>\n",
       "    </tr>\n",
       "    <tr>\n",
       "      <th>1</th>\n",
       "      <td>Shooter</td>\n",
       "      <td>28.77</td>\n",
       "      <td>23.98</td>\n",
       "    </tr>\n",
       "    <tr>\n",
       "      <th>2</th>\n",
       "      <td>Sports</td>\n",
       "      <td>19.45</td>\n",
       "      <td>16.21</td>\n",
       "    </tr>\n",
       "    <tr>\n",
       "      <th>3</th>\n",
       "      <td>Role-Playing</td>\n",
       "      <td>11.48</td>\n",
       "      <td>9.57</td>\n",
       "    </tr>\n",
       "    <tr>\n",
       "      <th>4</th>\n",
       "      <td>Misc</td>\n",
       "      <td>6.09</td>\n",
       "      <td>5.08</td>\n",
       "    </tr>\n",
       "  </tbody>\n",
       "</table>\n",
       "</div>"
      ],
      "text/plain": [
       "          genre  other_sales  other_perc_of_total\n",
       "0        Action        37.20                31.01\n",
       "1       Shooter        28.77                23.98\n",
       "2        Sports        19.45                16.21\n",
       "3  Role-Playing        11.48                 9.57\n",
       "4          Misc         6.09                 5.08"
      ]
     },
     "execution_count": 84,
     "metadata": {},
     "output_type": "execute_result"
    }
   ],
   "source": [
    "# популярные жанры (топ-5) - другие страны \n",
    "# + процент от продаж с разбивков по жанрам\n",
    "\n",
    "other_genres = pd.DataFrame(games_full[games_full['year_of_release'] >=2013].groupby('genre')['other_sales'].sum()\\\n",
    "                            .sort_values(ascending=False).head(5)).reset_index()\n",
    "other_genres['other_perc_of_total'] = round(other_genres['other_sales'] / total_sales['other_sales_total'][0] * 100, 2)\n",
    "other_genres"
   ]
  },
  {
   "cell_type": "code",
   "execution_count": 85,
   "id": "dd92504f",
   "metadata": {},
   "outputs": [
    {
     "data": {
      "text/html": [
       "<div>\n",
       "<style scoped>\n",
       "    .dataframe tbody tr th:only-of-type {\n",
       "        vertical-align: middle;\n",
       "    }\n",
       "\n",
       "    .dataframe tbody tr th {\n",
       "        vertical-align: top;\n",
       "    }\n",
       "\n",
       "    .dataframe thead th {\n",
       "        text-align: right;\n",
       "    }\n",
       "</style>\n",
       "<table border=\"1\" class=\"dataframe\">\n",
       "  <thead>\n",
       "    <tr style=\"text-align: right;\">\n",
       "      <th></th>\n",
       "      <th>name</th>\n",
       "      <th>platform</th>\n",
       "      <th>year_of_release</th>\n",
       "      <th>genre</th>\n",
       "      <th>na_sales</th>\n",
       "      <th>eu_sales</th>\n",
       "      <th>jp_sales</th>\n",
       "      <th>other_sales</th>\n",
       "      <th>critic_score</th>\n",
       "      <th>user_score</th>\n",
       "      <th>rating</th>\n",
       "      <th>total_sales</th>\n",
       "      <th>user_score_qcut</th>\n",
       "      <th>critic_score_qcut</th>\n",
       "    </tr>\n",
       "  </thead>\n",
       "  <tbody>\n",
       "    <tr>\n",
       "      <th>16</th>\n",
       "      <td>Grand Theft Auto V</td>\n",
       "      <td>PS3</td>\n",
       "      <td>2013</td>\n",
       "      <td>Action</td>\n",
       "      <td>7.02</td>\n",
       "      <td>9.09</td>\n",
       "      <td>0.98</td>\n",
       "      <td>3.96</td>\n",
       "      <td>97.0</td>\n",
       "      <td>8.2</td>\n",
       "      <td>M</td>\n",
       "      <td>21.05</td>\n",
       "      <td>(8.1, 8.4]</td>\n",
       "      <td>(86.0, 99.0]</td>\n",
       "    </tr>\n",
       "    <tr>\n",
       "      <th>31</th>\n",
       "      <td>Call of Duty: Black Ops 3</td>\n",
       "      <td>PS4</td>\n",
       "      <td>2015</td>\n",
       "      <td>Shooter</td>\n",
       "      <td>6.03</td>\n",
       "      <td>5.86</td>\n",
       "      <td>0.36</td>\n",
       "      <td>2.38</td>\n",
       "      <td>NaN</td>\n",
       "      <td>NaN</td>\n",
       "      <td>NaN</td>\n",
       "      <td>14.63</td>\n",
       "      <td>NaN</td>\n",
       "      <td>NaN</td>\n",
       "    </tr>\n",
       "    <tr>\n",
       "      <th>42</th>\n",
       "      <td>Grand Theft Auto V</td>\n",
       "      <td>PS4</td>\n",
       "      <td>2014</td>\n",
       "      <td>Action</td>\n",
       "      <td>3.96</td>\n",
       "      <td>6.31</td>\n",
       "      <td>0.38</td>\n",
       "      <td>1.97</td>\n",
       "      <td>97.0</td>\n",
       "      <td>8.3</td>\n",
       "      <td>M</td>\n",
       "      <td>12.62</td>\n",
       "      <td>(8.1, 8.4]</td>\n",
       "      <td>(86.0, 99.0]</td>\n",
       "    </tr>\n",
       "    <tr>\n",
       "      <th>23</th>\n",
       "      <td>Grand Theft Auto V</td>\n",
       "      <td>X360</td>\n",
       "      <td>2013</td>\n",
       "      <td>Action</td>\n",
       "      <td>9.66</td>\n",
       "      <td>5.14</td>\n",
       "      <td>0.06</td>\n",
       "      <td>1.41</td>\n",
       "      <td>97.0</td>\n",
       "      <td>8.1</td>\n",
       "      <td>M</td>\n",
       "      <td>16.27</td>\n",
       "      <td>(7.8, 8.1]</td>\n",
       "      <td>(86.0, 99.0]</td>\n",
       "    </tr>\n",
       "    <tr>\n",
       "      <th>126</th>\n",
       "      <td>FIFA 14</td>\n",
       "      <td>PS3</td>\n",
       "      <td>2013</td>\n",
       "      <td>Sports</td>\n",
       "      <td>0.78</td>\n",
       "      <td>4.24</td>\n",
       "      <td>0.07</td>\n",
       "      <td>1.37</td>\n",
       "      <td>86.0</td>\n",
       "      <td>4.3</td>\n",
       "      <td>E</td>\n",
       "      <td>6.46</td>\n",
       "      <td>(-0.001, 5.1]</td>\n",
       "      <td>(81.0, 86.0]</td>\n",
       "    </tr>\n",
       "  </tbody>\n",
       "</table>\n",
       "</div>"
      ],
      "text/plain": [
       "                          name platform  year_of_release    genre  na_sales  \\\n",
       "16          Grand Theft Auto V      PS3             2013   Action      7.02   \n",
       "31   Call of Duty: Black Ops 3      PS4             2015  Shooter      6.03   \n",
       "42          Grand Theft Auto V      PS4             2014   Action      3.96   \n",
       "23          Grand Theft Auto V     X360             2013   Action      9.66   \n",
       "126                    FIFA 14      PS3             2013   Sports      0.78   \n",
       "\n",
       "     eu_sales  jp_sales  other_sales critic_score user_score rating  \\\n",
       "16       9.09      0.98         3.96         97.0        8.2      M   \n",
       "31       5.86      0.36         2.38          NaN        NaN    NaN   \n",
       "42       6.31      0.38         1.97         97.0        8.3      M   \n",
       "23       5.14      0.06         1.41         97.0        8.1      M   \n",
       "126      4.24      0.07         1.37         86.0        4.3      E   \n",
       "\n",
       "     total_sales user_score_qcut critic_score_qcut  \n",
       "16         21.05      (8.1, 8.4]      (86.0, 99.0]  \n",
       "31         14.63             NaN               NaN  \n",
       "42         12.62      (8.1, 8.4]      (86.0, 99.0]  \n",
       "23         16.27      (7.8, 8.1]      (86.0, 99.0]  \n",
       "126         6.46   (-0.001, 5.1]      (81.0, 86.0]  "
      ]
     },
     "execution_count": 85,
     "metadata": {},
     "output_type": "execute_result"
    }
   ],
   "source": [
    "# топ-5 игр по количеству проданных копий - другие страны \n",
    "\n",
    "games_full[games_full['year_of_release'] >=2013].sort_values('other_sales', ascending=False).head(5)"
   ]
  },
  {
   "cell_type": "code",
   "execution_count": 86,
   "id": "ff447243",
   "metadata": {},
   "outputs": [
    {
     "data": {
      "text/html": [
       "<div>\n",
       "<style scoped>\n",
       "    .dataframe tbody tr th:only-of-type {\n",
       "        vertical-align: middle;\n",
       "    }\n",
       "\n",
       "    .dataframe tbody tr th {\n",
       "        vertical-align: top;\n",
       "    }\n",
       "\n",
       "    .dataframe thead th {\n",
       "        text-align: right;\n",
       "    }\n",
       "</style>\n",
       "<table border=\"1\" class=\"dataframe\">\n",
       "  <thead>\n",
       "    <tr style=\"text-align: right;\">\n",
       "      <th></th>\n",
       "      <th>rating</th>\n",
       "      <th>other_sales</th>\n",
       "      <th>perc_of_total</th>\n",
       "    </tr>\n",
       "  </thead>\n",
       "  <tbody>\n",
       "    <tr>\n",
       "      <th>0</th>\n",
       "      <td>M</td>\n",
       "      <td>47.26</td>\n",
       "      <td>39.39</td>\n",
       "    </tr>\n",
       "    <tr>\n",
       "      <th>1</th>\n",
       "      <td>NaN</td>\n",
       "      <td>22.93</td>\n",
       "      <td>19.11</td>\n",
       "    </tr>\n",
       "    <tr>\n",
       "      <th>2</th>\n",
       "      <td>E</td>\n",
       "      <td>22.66</td>\n",
       "      <td>18.89</td>\n",
       "    </tr>\n",
       "    <tr>\n",
       "      <th>3</th>\n",
       "      <td>T</td>\n",
       "      <td>14.29</td>\n",
       "      <td>11.91</td>\n",
       "    </tr>\n",
       "    <tr>\n",
       "      <th>4</th>\n",
       "      <td>E10+</td>\n",
       "      <td>12.83</td>\n",
       "      <td>10.69</td>\n",
       "    </tr>\n",
       "  </tbody>\n",
       "</table>\n",
       "</div>"
      ],
      "text/plain": [
       "  rating  other_sales  perc_of_total\n",
       "0      M        47.26          39.39\n",
       "1    NaN        22.93          19.11\n",
       "2      E        22.66          18.89\n",
       "3      T        14.29          11.91\n",
       "4   E10+        12.83          10.69"
      ]
     },
     "execution_count": 86,
     "metadata": {},
     "output_type": "execute_result"
    }
   ],
   "source": [
    "# соотношение рейтинга и количества проданных копий - япония\n",
    "# + процент от продаж с разбивков по рейтингу\n",
    "\n",
    "rating_other_sales = games_full[games_full['year_of_release'] >=2013].groupby('rating', dropna=False)['other_sales'].sum() \\\n",
    "                            .sort_values(ascending=False).head(5).reset_index()\n",
    "rating_other_sales['perc_of_total'] = round(rating_other_sales['other_sales'] / total_sales['other_sales_total'][0] * 100, 2)\n",
    "rating_other_sales"
   ]
  },
  {
   "cell_type": "markdown",
   "id": "ffa04e40",
   "metadata": {},
   "source": [
    "<a id=\"conclusion_5\"> </a>\n",
    "# промежуточный вывод - продажи в других странах."
   ]
  },
  {
   "cell_type": "markdown",
   "id": "d687a719",
   "metadata": {},
   "source": [
    "Топ-5 платформ и доля от суммарного объема продаж:\n",
    "- PS4 - 40.30%\n",
    "- PS3 - 22.31%\n",
    "- XOne - 11.89%\n",
    "- X360 - 10.09%\n",
    "- 3DS - 5.23%\n",
    "\n",
    "Топ-5 жанров и доля от суммарного объема продаж:\n",
    "- Action - 31.01%\n",
    "- Shooter - 23.98%\n",
    "- Sports - 16.21%\n",
    "- Role-Playing - 9.57%\n",
    "- Misc - 5.08%\n",
    "\n",
    "Топ-5 самых популярных игр (по продажам в регионе)\n",
    "- Grand Theft Auto V (PS4, PS3 и X360)\n",
    "- Call of Duty: Black Ops 3 (PS4)\n",
    "- FIFA 14\t\n",
    "\n",
    "\n",
    "Лидеры по рейтингу ESRB:\n",
    "- M - 39.39\n",
    "- E - 18.89\n",
    "- T - 11.91\n",
    "- E10+ - 10.69\n",
    "\n",
    "Игры с неизвестным рейтингом - 19.11%."
   ]
  },
  {
   "cell_type": "markdown",
   "id": "3d7bae36",
   "metadata": {},
   "source": [
    "<a id=\"hypotesis\"> </a>\n",
    "# 4. Проверка гипотез."
   ]
  },
  {
   "cell_type": "markdown",
   "id": "785af295",
   "metadata": {},
   "source": [
    "# Гипотеза № 1:\n",
    "- H0: Средние пользовательские рейтинги платформ Xbox One и PC одинаковые.\n",
    "- H1: Средние пользовательские рейтинги платформ Xbox One и PC разные."
   ]
  },
  {
   "cell_type": "markdown",
   "id": "49a218e3",
   "metadata": {},
   "source": [
    "Установим уровень alpha в 5%."
   ]
  },
  {
   "cell_type": "code",
   "execution_count": 87,
   "id": "51e2bfcc",
   "metadata": {},
   "outputs": [],
   "source": [
    "alpha = 0.05"
   ]
  },
  {
   "cell_type": "markdown",
   "id": "1806ef24",
   "metadata": {},
   "source": [
    "Платформы 'Xbox One' в датасете нет, есть некий 'XOne', будем считать, что это - оно."
   ]
  },
  {
   "cell_type": "code",
   "execution_count": 88,
   "id": "629f42db",
   "metadata": {},
   "outputs": [],
   "source": [
    "x_box = games_full.loc[(games_full['year_of_release'] >=2013) & (games_full['platform']=='XOne')]['user_score']"
   ]
  },
  {
   "cell_type": "code",
   "execution_count": 89,
   "id": "0072bff0",
   "metadata": {},
   "outputs": [],
   "source": [
    "pc = games_full.loc[(games_full['year_of_release'] >=2013) & (games_full['platform']=='PC')]['user_score']"
   ]
  },
  {
   "cell_type": "code",
   "execution_count": 90,
   "id": "1d8d5370",
   "metadata": {},
   "outputs": [],
   "source": [
    "# посмотреть значения 'user_score'\n",
    "\n",
    "#print('x_box unique:', x_box.unique())\n",
    "#print('pc unique():', pc.unique())"
   ]
  },
  {
   "cell_type": "code",
   "execution_count": 91,
   "id": "e0cf71ae",
   "metadata": {},
   "outputs": [],
   "source": [
    "x_box = x_box.dropna().astype('float')\n",
    "pc = pc.dropna().astype('float')"
   ]
  },
  {
   "cell_type": "markdown",
   "id": "5cc67043",
   "metadata": {},
   "source": [
    "Проверим распределение данных:"
   ]
  },
  {
   "cell_type": "code",
   "execution_count": 92,
   "id": "ebe263c6",
   "metadata": {},
   "outputs": [
    {
     "name": "stdout",
     "output_type": "stream",
     "text": [
      "размер: (182,) дисперсия: 1.9069968429360693\n"
     ]
    },
    {
     "data": {
      "image/png": "[encoded data removed]",
      "text/plain": [
       "<Figure size 432x288 with 1 Axes>"
      ]
     },
     "metadata": {
      "needs_background": "light"
     },
     "output_type": "display_data"
    }
   ],
   "source": [
    "print('размер:', x_box.shape, 'дисперсия:', x_box.std()**2)\n",
    "\n",
    "x_box.hist();"
   ]
  },
  {
   "cell_type": "code",
   "execution_count": 93,
   "id": "3b8d2b6f",
   "metadata": {},
   "outputs": [
    {
     "name": "stdout",
     "output_type": "stream",
     "text": [
      "размер: (160,) дисперсия: 3.09278891509434\n"
     ]
    },
    {
     "data": {
      "image/png": "[encoded data removed]",
      "text/plain": [
       "<Figure size 432x288 with 1 Axes>"
      ]
     },
     "metadata": {
      "needs_background": "light"
     },
     "output_type": "display_data"
    }
   ],
   "source": [
    "print('размер:', pc.shape, 'дисперсия:', pc.std()**2)\n",
    "pc.hist();"
   ]
  },
  {
   "cell_type": "markdown",
   "id": "36e6b8f9",
   "metadata": {},
   "source": [
    "Данные распределены ненормально - слева видны длинные жирные \"хвосты\", дисперсия двух выборок - не равна.\n"
   ]
  },
  {
   "cell_type": "code",
   "execution_count": 94,
   "id": "8c21fcef",
   "metadata": {},
   "outputs": [],
   "source": [
    "ttest_ind_1 = ttest_ind(x_box, pc, alternative='two-sided')"
   ]
  },
  {
   "cell_type": "code",
   "execution_count": 95,
   "id": "aee63ee7",
   "metadata": {},
   "outputs": [
    {
     "name": "stdout",
     "output_type": "stream",
     "text": [
      "не получается отвергнуть нулевую гипотезу - средние пользовательские рейтинги платформ Xbox One и PC одинаковые\n"
     ]
    }
   ],
   "source": [
    "if ttest_ind_1.pvalue < alpha:\n",
    "    print('отвергаем нулевую гипотезу - средние пользовательские рейтинги платформ Xbox One и PC разные')\n",
    "else:\n",
    "    print('не получается отвергнуть нулевую гипотезу - средние пользовательские рейтинги платформ Xbox One и PC одинаковые')"
   ]
  },
  {
   "cell_type": "markdown",
   "id": "c5a622cf",
   "metadata": {},
   "source": [
    "# Гипотеза № 2:\n",
    "- H0: Средние пользовательские рейтинги жанров Action (англ. «действие», экшен-игры) и Sports (англ. «спортивные соревнования») одинаковые.\n",
    "- H1: Средние пользовательские рейтинги жанров Action (англ. «действие», экшен-игры) и Sports (англ. «спортивные соревнования») разные."
   ]
  },
  {
   "cell_type": "markdown",
   "id": "5388d2e0",
   "metadata": {},
   "source": [
    "Повторим шаги из проверки гипотезы № 1."
   ]
  },
  {
   "cell_type": "code",
   "execution_count": 96,
   "id": "ea4eb1a7",
   "metadata": {},
   "outputs": [],
   "source": [
    "action = games_full.loc[(games_full['year_of_release'] >=2013) & (games_full['genre']=='Action')]['user_score']\n",
    "\n",
    "sports = games_full.loc[(games_full['year_of_release'] >=2013) & (games_full['genre']=='Sports')]['user_score']"
   ]
  },
  {
   "cell_type": "code",
   "execution_count": 97,
   "id": "f3eceb7a",
   "metadata": {},
   "outputs": [],
   "source": [
    "action = action.dropna().astype('float')"
   ]
  },
  {
   "cell_type": "code",
   "execution_count": 98,
   "id": "d88a56dd",
   "metadata": {},
   "outputs": [],
   "source": [
    "sports = sports.dropna().astype('float')"
   ]
  },
  {
   "cell_type": "code",
   "execution_count": 99,
   "id": "16300998",
   "metadata": {},
   "outputs": [
    {
     "name": "stdout",
     "output_type": "stream",
     "text": [
      "размер: (396,) дисперсия: 1.9173555811277327 среднее: 6.8106060606060606\n"
     ]
    },
    {
     "data": {
      "image/png": "[encoded data removed]",
      "text/plain": [
       "<Figure size 432x288 with 1 Axes>"
      ]
     },
     "metadata": {
      "needs_background": "light"
     },
     "output_type": "display_data"
    }
   ],
   "source": [
    "print('размер:', action.shape, 'дисперсия:', action.std()**2, 'среднее:', action.mean())\n",
    "action.hist();"
   ]
  },
  {
   "cell_type": "code",
   "execution_count": 100,
   "id": "1333e564",
   "metadata": {},
   "outputs": [
    {
     "name": "stdout",
     "output_type": "stream",
     "text": [
      "размер: (160,) дисперсия: 3.180612814465409 среднее: 5.238124999999999\n"
     ]
    },
    {
     "data": {
      "image/png": "[encoded data removed]",
      "text/plain": [
       "<Figure size 432x288 with 1 Axes>"
      ]
     },
     "metadata": {
      "needs_background": "light"
     },
     "output_type": "display_data"
    }
   ],
   "source": [
    "print('размер:', sports.shape, 'дисперсия:', sports.std()**2, 'среднее:', sports.mean())\n",
    "sports.hist();"
   ]
  },
  {
   "cell_type": "code",
   "execution_count": 101,
   "id": "7cd0a27f",
   "metadata": {},
   "outputs": [],
   "source": [
    "ttest_ind_2 = ttest_ind(action, sports, alternative='two-sided')"
   ]
  },
  {
   "cell_type": "code",
   "execution_count": 102,
   "id": "781a3f6c",
   "metadata": {},
   "outputs": [
    {
     "name": "stdout",
     "output_type": "stream",
     "text": [
      "отвергаем нулевую гипотезу - средние пользовательские рейтинги жанров Action и Sports не одинаковые\n"
     ]
    }
   ],
   "source": [
    "if ttest_ind_2.pvalue < alpha:\n",
    "    print('отвергаем нулевую гипотезу - средние пользовательские рейтинги жанров Action и Sports не одинаковые')\n",
    "else:\n",
    "    print('не получается отвергнуть нулевую гипотезу - средние пользовательские рейтинги жанров Action и Sports одинаковые')"
   ]
  },
  {
   "cell_type": "markdown",
   "id": "ff99f81a",
   "metadata": {},
   "source": [
    "<a id=\"conclusion_7\"> </a>\n",
    "# Общий вывод."
   ]
  },
  {
   "cell_type": "markdown",
   "id": "178d2c36",
   "metadata": {},
   "source": [
    "# Исследовательский анализ данных. Рекомендации для \"стримчика\""
   ]
  },
  {
   "cell_type": "markdown",
   "id": "cedb92c7",
   "metadata": {},
   "source": [
    "Исследовательский анализ данных мы начали с подсчета количества выпущенных игр и количества проданных копий по годам.\n",
    "\n",
    "Нанеся полученные данные на график, мы получили две схожие кривые. Из чего можем сделать первый вывод: с ростом количества игр растет и количество проданных копий по всему миру.\n",
    "\n",
    "Взрывной рост количества выпускаемых игр начался в ~1995 - 2000 годах. \n",
    "\n",
    "Медианный \"срок жизни\" новых платформ - 6 лет, количество выпускаемых игр и количества проданных копий игр постепенно снижается к концу этого периода. Рекордсменом среди платформ является ПК: его \"срок жизни\" (от первой выпущенной игры до последней в наших данных) - 31 год.\n",
    "\n",
    "Самыми перспективными платформами нами были выделены - PC, PS4 и Xbox One.\n",
    "\n",
    "Количество игр на PC стабильно держится на одном уровне последние три года, количество игр на Xbox one и PS4 резко растет.\n",
    "\n",
    "Но число игр на PC с появлением на рынке новых игровых консолей проседает, но чем ближе мы приближаемся к \"концу жизни\" новых платформ, тем больше начинает выходить игр на ПК.\n",
    "\n",
    "Поэтому стратегия \"стримчика\":\n",
    "- до 2017-18 года делать ставку на игры для PS4 и Xbox, но не сбрасывать со счетов игры на пк,\n",
    "- к концу этого периода переключить внимание на игры для пк,\n",
    "- и ждать появление новой платформы.\n",
    "\n",
    "\"Стримчику\" так же стоит больше вкладываться в игры жанров Action, Shooter, Sports и Role-Playing - у игр этих жанров самые высокие медианные значений продаж."
   ]
  },
  {
   "cell_type": "markdown",
   "id": "aa0c5c19",
   "metadata": {},
   "source": [
    "Для дальнейшего анализа мы сделали срез по исходному датасету и оставили только перспективные платформы ('PC', 'PS4' и 'Xbox One').\n",
    "\n",
    "Мы выяснили, что корреляции между пользовательскими оценками и количеством проданных копий - нет, между оценками критиков и количеством  проданных копий - умеренная положительная.\n",
    "\n",
    "Эти выводы мы подтвердили графически и построили сводные таблицы:\n",
    "- игры без рейтинга (их в датасете примерно половина) продаются значительно хуже, чем игры с рейтингом, но и в этом случае есть выбросы - в датасете есть данные о 600 играх без рейтинга, которые продались более миллиона копий (много это или мало?),\n",
    "- количество проданных копий мало увеличивается с ростом пользовательского рейтинга,\n",
    "- высокий рейтинг от критиков (81 балл и выше) дает резкий \"прирост\" продаж.\n",
    "\n",
    "Проанализировав весь датасет, мы выяснили, что самые популярные жанры игр (по суммарным продажам) - Action, Sports, Shooter.\n",
    "\n",
    "Но мы не можем рекомендовать \"стримчику\" сосредоточить свое внимание на каком-то одном: построив график суммарных продаж, мы увидели что продажи игр всех жанров начинают проседать к 2015 году и постепенно начинают сходиться в одну точку."
   ]
  },
  {
   "cell_type": "markdown",
   "id": "4de31909",
   "metadata": {},
   "source": [
    "# Портрет пользователей"
   ]
  },
  {
   "cell_type": "markdown",
   "id": "e10a993a",
   "metadata": {},
   "source": [
    "# Северная америка:\n",
    "Топ-5 платформ и доля от суммарного объема продаж:\n",
    "- PS4 - 24.84%\n",
    "- XOne - 21.27%\n",
    "- X360 - 18.66%\n",
    "- PS3 - 14.51%\n",
    "- 3DS - 8.73%\n",
    "\n",
    "Топ-5 жанров и доля от суммарного объема продаж:\n",
    "- Action - 28.80%\n",
    "- Shooter - 25.07%\n",
    "- Sports - 14.91%\n",
    "- Role-Playing - 10.60%\n",
    "- Misc - 6.28%\n",
    "\n",
    "Топ-5 самых популярных игр (по продажам в регионе)\n",
    "- Grand Theft Auto V (X360 и PS3)\n",
    "- Call of Duty: Ghosts (X360)\n",
    "- Call of Duty: Black Ops 3 (PS4)\n",
    "- Minecraft (X360)\n",
    "\n",
    "Лидеры по рейтингу ESRB:\n",
    "- M - 37.88%\n",
    "- E - 18.11%\n",
    "- E10+ - 12.68%\n",
    "- T - 11.38%\n",
    "Так же в топ вошли игры, для которых у нас нет данных о рейтинге: таких игр в датасете - 19.96% от суммарных продаж."
   ]
  },
  {
   "cell_type": "markdown",
   "id": "4ad8e237",
   "metadata": {},
   "source": [
    "# Европа:\n",
    "Топ-5 платформ и доля от суммарного объема продаж:\n",
    "- PS4 - 35.97%\n",
    "- PS3 - 17.29%\n",
    "- XOne - 13.15%\n",
    "- X360 - 10.84%\n",
    "- 3DS - 7.89%\n",
    "\n",
    "Топ-5 жанров и доля от суммарного объема продаж:\n",
    "- Action - 30.12%\n",
    "- Shooter - 22.40%\n",
    "- Sports - 15.43%\n",
    "- Role-Playing - 9.43%\n",
    "- Racing - 5.15%\n",
    "\n",
    "Топ-5 самых популярных игр (по продажам в регионе)\n",
    "- Grand Theft Auto V (PS3 и PS4)\n",
    "- FIFA 16 (PS4)\n",
    "- Call of Duty: Black Ops 3 (PS4)\n",
    "- FIFA 17 (PS4)\n",
    "\n",
    "Лидеры по рейтингу ESRB:\n",
    "- M - 37.32%\n",
    "- E - 21.29%\n",
    "- E10+ - 11.15%\n",
    "- T - 10.72%\n",
    "Так же в топ вошли игры, для которых у нас нет данных о рейтинге: таких игр в датасете - 19.52% от суммарных продаж.\n",
    "\n",
    "Североамериканские и европейские игроки во много похожи. В этих регионах:\n",
    "- в топ вошли одинаковые платформы - XOne, PS3, PS4, 3DS и Wii,\n",
    "- в топ жанров вошли Action, Sports, Shooter и Role-Playing,\n",
    "- одни из самых популярных игр - Grand Theft Auto V и Call of Duty: Black Ops 3,\n",
    "- в топ вошли игры с одними и теми же рейтингами ."
   ]
  },
  {
   "cell_type": "markdown",
   "id": "164f60da",
   "metadata": {},
   "source": [
    "# Прочие страны\n",
    "Топ-5 платформ и доля от суммарного объема продаж:\n",
    "- PS4 - 40.30%\n",
    "- PS3 - 22.31%\n",
    "- XOne - 11.89%\n",
    "- X360 - 10.09%\n",
    "- 3DS - 5.23%\n",
    "\n",
    "Топ-5 жанров и доля от суммарного объема продаж:\n",
    "- Action - 31.01%\n",
    "- Shooter - 23.98%\n",
    "- Sports - 16.21%\n",
    "- Role-Playing - 9.57%\n",
    "- Misc - 5.08%\n",
    "\n",
    "Топ-5 самых популярных игр (по продажам в регионе)\n",
    "- Grand Theft Auto V (PS4, PS3 и X360)\n",
    "- Call of Duty: Black Ops 3 (PS4)\n",
    "- FIFA 14\n",
    "\n",
    "Лидеры по рейтингу ESRB:\n",
    "- M - 39.39\n",
    "- E - 18.89\n",
    "- T - 11.91\n",
    "- E10+ - 10.69\n",
    "\n",
    "Игры с неизвестным рейтингом - 19.11%."
   ]
  },
  {
   "cell_type": "markdown",
   "id": "85caaf4d",
   "metadata": {},
   "source": [
    "# Япония\n",
    "Топ-5 платформ и доля от суммарного объема продаж:\n",
    "- 3DS - 48.17\n",
    "- PS3 - 16.59\n",
    "- PSV - 13.21\n",
    "- PS4 - 11.34\n",
    "- WiiU - 7.73\n",
    "\n",
    "Топ-5 жанров и доля от суммарного объема продаж:\n",
    "- Role-Playing - 36.26%\n",
    "- Action - 28.76%\n",
    "- Misc - 6.54%\n",
    "- Fighting - 5.43%\n",
    "- Shooter - 4.70%\n",
    "\n",
    "Топ-5 самых популярных игр (по продажам в регионе)\n",
    "- покемоны - Pokemon X/Pokemon Y и Pokemon Omega Ruby/Pokemon Alpha Sapphire,\n",
    "- Monster Hunter 4 и Monster Hunter X,\n",
    "- Yokai Watch 2 Ganso/Honke.\n",
    "\n",
    "Лидеры по рейтингу ESRB:\n",
    "- T - 14.63%\n",
    "- E - 10.80%\n",
    "- M - 10.34%\n",
    "- E10+ - 4.69%\n",
    "Так же в топ вошли игры, для которых у нас нет данных о рейтинге: таких игр в датасете - 59.55% от суммарных продаж."
   ]
  },
  {
   "cell_type": "markdown",
   "id": "1aa7af35",
   "metadata": {},
   "source": [
    "# Проверка гипотез.\n",
    "\n",
    "В ходе работы нам так же удалось проверить две гипотезы:\n",
    "- первая - средние пользовательские рейтинги платформ Xbox One и PC одинаковые;\n",
    "- вторая - средние пользовательские рейтинги жанров Action (англ. «действие», экшен-игры) и Sports (англ. «спортивные соревнования») разные.\n",
    "\n",
    "Первую гипотезу нам не удалось отвергнуть - средние пользовательские рейтинги платформ Xbox One и PC одинаковые.\n",
    "\n",
    "Но мы не смогли подтвердить вторую гипотезу - средние пользовательские рейтинги жанров Action и Sports не одинаковые\n"
   ]
  }
 ],
 "metadata": {
  "ExecuteTimeLog": [
   {
    "duration": 481,
    "start_time": "2023-05-30T14:50:46.434Z"
   },
   {
    "duration": 0,
    "start_time": "2023-05-30T14:50:46.919Z"
   },
   {
    "duration": 0,
    "start_time": "2023-05-30T14:50:46.920Z"
   },
   {
    "duration": 1,
    "start_time": "2023-05-30T14:50:46.921Z"
   },
   {
    "duration": 0,
    "start_time": "2023-05-30T14:50:46.923Z"
   },
   {
    "duration": 0,
    "start_time": "2023-05-30T14:50:46.924Z"
   },
   {
    "duration": 0,
    "start_time": "2023-05-30T14:50:46.925Z"
   },
   {
    "duration": 0,
    "start_time": "2023-05-30T14:50:46.926Z"
   },
   {
    "duration": 0,
    "start_time": "2023-05-30T14:50:46.928Z"
   },
   {
    "duration": 0,
    "start_time": "2023-05-30T14:50:46.929Z"
   },
   {
    "duration": 0,
    "start_time": "2023-05-30T14:50:46.930Z"
   },
   {
    "duration": 0,
    "start_time": "2023-05-30T14:50:46.931Z"
   },
   {
    "duration": 0,
    "start_time": "2023-05-30T14:50:46.932Z"
   },
   {
    "duration": 0,
    "start_time": "2023-05-30T14:50:46.933Z"
   },
   {
    "duration": 0,
    "start_time": "2023-05-30T14:50:46.934Z"
   },
   {
    "duration": 0,
    "start_time": "2023-05-30T14:50:46.936Z"
   },
   {
    "duration": 0,
    "start_time": "2023-05-30T14:50:46.937Z"
   },
   {
    "duration": 0,
    "start_time": "2023-05-30T14:50:46.939Z"
   },
   {
    "duration": 0,
    "start_time": "2023-05-30T14:50:46.941Z"
   },
   {
    "duration": 0,
    "start_time": "2023-05-30T14:50:46.978Z"
   },
   {
    "duration": 0,
    "start_time": "2023-05-30T14:50:46.979Z"
   },
   {
    "duration": 0,
    "start_time": "2023-05-30T14:50:46.981Z"
   },
   {
    "duration": 0,
    "start_time": "2023-05-30T14:50:46.982Z"
   },
   {
    "duration": 0,
    "start_time": "2023-05-30T14:50:46.983Z"
   },
   {
    "duration": 0,
    "start_time": "2023-05-30T14:50:46.984Z"
   },
   {
    "duration": 0,
    "start_time": "2023-05-30T14:50:46.985Z"
   },
   {
    "duration": 0,
    "start_time": "2023-05-30T14:50:46.986Z"
   },
   {
    "duration": 0,
    "start_time": "2023-05-30T14:50:46.987Z"
   },
   {
    "duration": 0,
    "start_time": "2023-05-30T14:50:46.989Z"
   },
   {
    "duration": 0,
    "start_time": "2023-05-30T14:50:46.989Z"
   },
   {
    "duration": 0,
    "start_time": "2023-05-30T14:50:46.990Z"
   },
   {
    "duration": 0,
    "start_time": "2023-05-30T14:50:46.991Z"
   },
   {
    "duration": 0,
    "start_time": "2023-05-30T14:50:46.992Z"
   },
   {
    "duration": 0,
    "start_time": "2023-05-30T14:50:46.993Z"
   },
   {
    "duration": 0,
    "start_time": "2023-05-30T14:50:46.994Z"
   },
   {
    "duration": 0,
    "start_time": "2023-05-30T14:50:46.995Z"
   },
   {
    "duration": 0,
    "start_time": "2023-05-30T14:50:46.996Z"
   },
   {
    "duration": 0,
    "start_time": "2023-05-30T14:50:46.998Z"
   },
   {
    "duration": 0,
    "start_time": "2023-05-30T14:50:46.999Z"
   },
   {
    "duration": 0,
    "start_time": "2023-05-30T14:50:47.000Z"
   },
   {
    "duration": 0,
    "start_time": "2023-05-30T14:50:47.001Z"
   },
   {
    "duration": 0,
    "start_time": "2023-05-30T14:50:47.002Z"
   },
   {
    "duration": 0,
    "start_time": "2023-05-30T14:50:47.003Z"
   },
   {
    "duration": 0,
    "start_time": "2023-05-30T14:50:47.004Z"
   },
   {
    "duration": 0,
    "start_time": "2023-05-30T14:50:47.006Z"
   },
   {
    "duration": 0,
    "start_time": "2023-05-30T14:50:47.007Z"
   },
   {
    "duration": 0,
    "start_time": "2023-05-30T14:50:47.008Z"
   },
   {
    "duration": 0,
    "start_time": "2023-05-30T14:50:47.009Z"
   },
   {
    "duration": 0,
    "start_time": "2023-05-30T14:50:47.011Z"
   },
   {
    "duration": 0,
    "start_time": "2023-05-30T14:50:47.012Z"
   },
   {
    "duration": 0,
    "start_time": "2023-05-30T14:50:47.014Z"
   },
   {
    "duration": 0,
    "start_time": "2023-05-30T14:50:47.016Z"
   },
   {
    "duration": 0,
    "start_time": "2023-05-30T14:50:47.078Z"
   },
   {
    "duration": 0,
    "start_time": "2023-05-30T14:50:47.079Z"
   },
   {
    "duration": 0,
    "start_time": "2023-05-30T14:50:47.080Z"
   },
   {
    "duration": 0,
    "start_time": "2023-05-30T14:50:47.081Z"
   },
   {
    "duration": 0,
    "start_time": "2023-05-30T14:50:47.082Z"
   },
   {
    "duration": 0,
    "start_time": "2023-05-30T14:50:47.084Z"
   },
   {
    "duration": 0,
    "start_time": "2023-05-30T14:50:47.084Z"
   },
   {
    "duration": 0,
    "start_time": "2023-05-30T14:50:47.085Z"
   },
   {
    "duration": 0,
    "start_time": "2023-05-30T14:50:47.086Z"
   },
   {
    "duration": 0,
    "start_time": "2023-05-30T14:50:47.087Z"
   },
   {
    "duration": 0,
    "start_time": "2023-05-30T14:50:47.088Z"
   },
   {
    "duration": 0,
    "start_time": "2023-05-30T14:50:47.089Z"
   },
   {
    "duration": 0,
    "start_time": "2023-05-30T14:50:47.092Z"
   },
   {
    "duration": 0,
    "start_time": "2023-05-30T14:50:47.093Z"
   },
   {
    "duration": 0,
    "start_time": "2023-05-30T14:50:47.094Z"
   },
   {
    "duration": 0,
    "start_time": "2023-05-30T14:50:47.096Z"
   },
   {
    "duration": 0,
    "start_time": "2023-05-30T14:50:47.097Z"
   },
   {
    "duration": 0,
    "start_time": "2023-05-30T14:50:47.097Z"
   },
   {
    "duration": 0,
    "start_time": "2023-05-30T14:50:47.098Z"
   },
   {
    "duration": 0,
    "start_time": "2023-05-30T14:50:47.099Z"
   },
   {
    "duration": 0,
    "start_time": "2023-05-30T14:50:47.100Z"
   },
   {
    "duration": 0,
    "start_time": "2023-05-30T14:50:47.101Z"
   },
   {
    "duration": 0,
    "start_time": "2023-05-30T14:50:47.102Z"
   },
   {
    "duration": 0,
    "start_time": "2023-05-30T14:50:47.103Z"
   },
   {
    "duration": 0,
    "start_time": "2023-05-30T14:50:47.105Z"
   },
   {
    "duration": 0,
    "start_time": "2023-05-30T14:50:47.106Z"
   },
   {
    "duration": 0,
    "start_time": "2023-05-30T14:50:47.107Z"
   },
   {
    "duration": 0,
    "start_time": "2023-05-30T14:50:47.109Z"
   },
   {
    "duration": 0,
    "start_time": "2023-05-30T14:50:47.109Z"
   },
   {
    "duration": 1,
    "start_time": "2023-05-30T14:50:47.110Z"
   },
   {
    "duration": 0,
    "start_time": "2023-05-30T14:50:47.112Z"
   },
   {
    "duration": 0,
    "start_time": "2023-05-30T14:50:47.113Z"
   },
   {
    "duration": 0,
    "start_time": "2023-05-30T14:50:47.114Z"
   },
   {
    "duration": 0,
    "start_time": "2023-05-30T14:50:47.115Z"
   },
   {
    "duration": 0,
    "start_time": "2023-05-30T14:50:47.116Z"
   },
   {
    "duration": 0,
    "start_time": "2023-05-30T14:50:47.178Z"
   },
   {
    "duration": 0,
    "start_time": "2023-05-30T14:50:47.179Z"
   },
   {
    "duration": 3349,
    "start_time": "2023-05-30T14:53:17.705Z"
   },
   {
    "duration": 1244,
    "start_time": "2023-05-30T14:53:21.056Z"
   },
   {
    "duration": 288,
    "start_time": "2023-05-30T14:53:22.302Z"
   },
   {
    "duration": 18,
    "start_time": "2023-05-30T14:53:22.592Z"
   },
   {
    "duration": 16,
    "start_time": "2023-05-30T14:53:22.612Z"
   },
   {
    "duration": 48,
    "start_time": "2023-05-30T14:53:22.630Z"
   },
   {
    "duration": 4,
    "start_time": "2023-05-30T14:53:22.680Z"
   },
   {
    "duration": 193,
    "start_time": "2023-05-30T14:53:22.686Z"
   },
   {
    "duration": 0,
    "start_time": "2023-05-30T14:53:22.883Z"
   },
   {
    "duration": 0,
    "start_time": "2023-05-30T14:53:22.885Z"
   },
   {
    "duration": 0,
    "start_time": "2023-05-30T14:53:22.886Z"
   },
   {
    "duration": 1,
    "start_time": "2023-05-30T14:53:22.887Z"
   },
   {
    "duration": 0,
    "start_time": "2023-05-30T14:53:22.889Z"
   },
   {
    "duration": 0,
    "start_time": "2023-05-30T14:53:22.890Z"
   },
   {
    "duration": 0,
    "start_time": "2023-05-30T14:53:22.892Z"
   },
   {
    "duration": 0,
    "start_time": "2023-05-30T14:53:22.893Z"
   },
   {
    "duration": 0,
    "start_time": "2023-05-30T14:53:22.894Z"
   },
   {
    "duration": 0,
    "start_time": "2023-05-30T14:53:22.895Z"
   },
   {
    "duration": 0,
    "start_time": "2023-05-30T14:53:22.896Z"
   },
   {
    "duration": 0,
    "start_time": "2023-05-30T14:53:22.898Z"
   },
   {
    "duration": 0,
    "start_time": "2023-05-30T14:53:22.899Z"
   },
   {
    "duration": 0,
    "start_time": "2023-05-30T14:53:22.900Z"
   },
   {
    "duration": 0,
    "start_time": "2023-05-30T14:53:22.901Z"
   },
   {
    "duration": 0,
    "start_time": "2023-05-30T14:53:22.902Z"
   },
   {
    "duration": 0,
    "start_time": "2023-05-30T14:53:22.903Z"
   },
   {
    "duration": 0,
    "start_time": "2023-05-30T14:53:22.904Z"
   },
   {
    "duration": 0,
    "start_time": "2023-05-30T14:53:22.905Z"
   },
   {
    "duration": 0,
    "start_time": "2023-05-30T14:53:22.906Z"
   },
   {
    "duration": 0,
    "start_time": "2023-05-30T14:53:22.907Z"
   },
   {
    "duration": 0,
    "start_time": "2023-05-30T14:53:22.909Z"
   },
   {
    "duration": 0,
    "start_time": "2023-05-30T14:53:22.909Z"
   },
   {
    "duration": 0,
    "start_time": "2023-05-30T14:53:22.911Z"
   },
   {
    "duration": 0,
    "start_time": "2023-05-30T14:53:22.912Z"
   },
   {
    "duration": 0,
    "start_time": "2023-05-30T14:53:22.913Z"
   },
   {
    "duration": 0,
    "start_time": "2023-05-30T14:53:22.914Z"
   },
   {
    "duration": 0,
    "start_time": "2023-05-30T14:53:22.915Z"
   },
   {
    "duration": 0,
    "start_time": "2023-05-30T14:53:22.916Z"
   },
   {
    "duration": 0,
    "start_time": "2023-05-30T14:53:22.918Z"
   },
   {
    "duration": 0,
    "start_time": "2023-05-30T14:53:22.919Z"
   },
   {
    "duration": 0,
    "start_time": "2023-05-30T14:53:22.921Z"
   },
   {
    "duration": 0,
    "start_time": "2023-05-30T14:53:22.978Z"
   },
   {
    "duration": 0,
    "start_time": "2023-05-30T14:53:22.979Z"
   },
   {
    "duration": 0,
    "start_time": "2023-05-30T14:53:22.980Z"
   },
   {
    "duration": 0,
    "start_time": "2023-05-30T14:53:22.982Z"
   },
   {
    "duration": 0,
    "start_time": "2023-05-30T14:53:22.983Z"
   },
   {
    "duration": 0,
    "start_time": "2023-05-30T14:53:22.984Z"
   },
   {
    "duration": 0,
    "start_time": "2023-05-30T14:53:22.985Z"
   },
   {
    "duration": 0,
    "start_time": "2023-05-30T14:53:22.986Z"
   },
   {
    "duration": 0,
    "start_time": "2023-05-30T14:53:22.987Z"
   },
   {
    "duration": 0,
    "start_time": "2023-05-30T14:53:22.988Z"
   },
   {
    "duration": 0,
    "start_time": "2023-05-30T14:53:22.989Z"
   },
   {
    "duration": 0,
    "start_time": "2023-05-30T14:53:22.990Z"
   },
   {
    "duration": 0,
    "start_time": "2023-05-30T14:53:22.991Z"
   },
   {
    "duration": 0,
    "start_time": "2023-05-30T14:53:22.992Z"
   },
   {
    "duration": 0,
    "start_time": "2023-05-30T14:53:22.994Z"
   },
   {
    "duration": 0,
    "start_time": "2023-05-30T14:53:22.995Z"
   },
   {
    "duration": 0,
    "start_time": "2023-05-30T14:53:22.998Z"
   },
   {
    "duration": 0,
    "start_time": "2023-05-30T14:53:22.999Z"
   },
   {
    "duration": 0,
    "start_time": "2023-05-30T14:53:23.000Z"
   },
   {
    "duration": 0,
    "start_time": "2023-05-30T14:53:23.001Z"
   },
   {
    "duration": 0,
    "start_time": "2023-05-30T14:53:23.002Z"
   },
   {
    "duration": 0,
    "start_time": "2023-05-30T14:53:23.004Z"
   },
   {
    "duration": 0,
    "start_time": "2023-05-30T14:53:23.005Z"
   },
   {
    "duration": 0,
    "start_time": "2023-05-30T14:53:23.006Z"
   },
   {
    "duration": 0,
    "start_time": "2023-05-30T14:53:23.007Z"
   },
   {
    "duration": 1,
    "start_time": "2023-05-30T14:53:23.007Z"
   },
   {
    "duration": 0,
    "start_time": "2023-05-30T14:53:23.009Z"
   },
   {
    "duration": 0,
    "start_time": "2023-05-30T14:53:23.010Z"
   },
   {
    "duration": 0,
    "start_time": "2023-05-30T14:53:23.011Z"
   },
   {
    "duration": 0,
    "start_time": "2023-05-30T14:53:23.013Z"
   },
   {
    "duration": 0,
    "start_time": "2023-05-30T14:53:23.014Z"
   },
   {
    "duration": 0,
    "start_time": "2023-05-30T14:53:23.015Z"
   },
   {
    "duration": 0,
    "start_time": "2023-05-30T14:53:23.016Z"
   },
   {
    "duration": 0,
    "start_time": "2023-05-30T14:53:23.078Z"
   },
   {
    "duration": 0,
    "start_time": "2023-05-30T14:53:23.080Z"
   },
   {
    "duration": 0,
    "start_time": "2023-05-30T14:53:23.081Z"
   },
   {
    "duration": 0,
    "start_time": "2023-05-30T14:53:23.082Z"
   },
   {
    "duration": 0,
    "start_time": "2023-05-30T14:53:23.083Z"
   },
   {
    "duration": 0,
    "start_time": "2023-05-30T14:53:23.084Z"
   },
   {
    "duration": 0,
    "start_time": "2023-05-30T14:53:23.085Z"
   },
   {
    "duration": 0,
    "start_time": "2023-05-30T14:53:23.086Z"
   },
   {
    "duration": 0,
    "start_time": "2023-05-30T14:53:23.088Z"
   },
   {
    "duration": 0,
    "start_time": "2023-05-30T14:53:23.089Z"
   },
   {
    "duration": 0,
    "start_time": "2023-05-30T14:53:23.090Z"
   },
   {
    "duration": 0,
    "start_time": "2023-05-30T14:53:23.091Z"
   },
   {
    "duration": 0,
    "start_time": "2023-05-30T14:53:23.092Z"
   },
   {
    "duration": 0,
    "start_time": "2023-05-30T14:53:23.093Z"
   },
   {
    "duration": 0,
    "start_time": "2023-05-30T14:53:23.095Z"
   },
   {
    "duration": 0,
    "start_time": "2023-05-30T14:53:23.096Z"
   },
   {
    "duration": 0,
    "start_time": "2023-05-30T14:53:23.097Z"
   },
   {
    "duration": 44,
    "start_time": "2023-05-30T15:11:54.933Z"
   },
   {
    "duration": 398,
    "start_time": "2023-05-30T15:12:01.184Z"
   },
   {
    "duration": 3100,
    "start_time": "2023-05-30T15:12:04.489Z"
   },
   {
    "duration": 1049,
    "start_time": "2023-05-30T15:12:08.445Z"
   },
   {
    "duration": 81,
    "start_time": "2023-05-30T15:12:11.013Z"
   },
   {
    "duration": 8,
    "start_time": "2023-05-30T15:12:11.443Z"
   },
   {
    "duration": 100,
    "start_time": "2023-05-30T15:12:47.973Z"
   },
   {
    "duration": 20,
    "start_time": "2023-05-30T15:12:50.435Z"
   },
   {
    "duration": 14,
    "start_time": "2023-05-30T15:12:51.981Z"
   },
   {
    "duration": 24,
    "start_time": "2023-05-30T15:12:52.402Z"
   },
   {
    "duration": 2,
    "start_time": "2023-05-30T15:12:54.361Z"
   },
   {
    "duration": 1454,
    "start_time": "2023-05-30T15:12:56.381Z"
   },
   {
    "duration": 49,
    "start_time": "2023-05-30T15:13:04.472Z"
   },
   {
    "duration": 3933,
    "start_time": "2023-05-30T15:14:13.265Z"
   },
   {
    "duration": 3589,
    "start_time": "2023-05-30T15:16:15.495Z"
   },
   {
    "duration": 1151,
    "start_time": "2023-05-30T15:19:00.477Z"
   },
   {
    "duration": 1188,
    "start_time": "2023-05-30T15:19:22.320Z"
   },
   {
    "duration": 200,
    "start_time": "2023-05-30T15:19:24.462Z"
   },
   {
    "duration": 237,
    "start_time": "2023-05-30T15:19:32.748Z"
   },
   {
    "duration": 23,
    "start_time": "2023-05-30T15:19:42.066Z"
   },
   {
    "duration": 618,
    "start_time": "2023-05-30T15:21:59.592Z"
   },
   {
    "duration": 23,
    "start_time": "2023-05-30T15:22:02.375Z"
   },
   {
    "duration": 618,
    "start_time": "2023-05-30T15:23:31.575Z"
   },
   {
    "duration": 25,
    "start_time": "2023-05-30T15:23:46.002Z"
   },
   {
    "duration": 627,
    "start_time": "2023-05-30T15:25:36.461Z"
   },
   {
    "duration": 763,
    "start_time": "2023-05-30T15:25:49.755Z"
   },
   {
    "duration": 597,
    "start_time": "2023-05-30T15:26:13.529Z"
   },
   {
    "duration": 930,
    "start_time": "2023-05-30T15:39:10.798Z"
   },
   {
    "duration": 2686,
    "start_time": "2023-05-30T15:39:32.174Z"
   },
   {
    "duration": 623,
    "start_time": "2023-05-30T15:39:36.675Z"
   },
   {
    "duration": 41,
    "start_time": "2023-05-30T15:40:00.173Z"
   },
   {
    "duration": 593,
    "start_time": "2023-05-30T15:40:02.023Z"
   },
   {
    "duration": 571,
    "start_time": "2023-05-30T15:40:32.934Z"
   },
   {
    "duration": 524,
    "start_time": "2023-05-30T15:40:45.546Z"
   },
   {
    "duration": 617,
    "start_time": "2023-05-30T15:40:57.637Z"
   },
   {
    "duration": 26,
    "start_time": "2023-05-30T15:41:00.752Z"
   },
   {
    "duration": 3597,
    "start_time": "2023-05-30T15:49:27.667Z"
   },
   {
    "duration": 11,
    "start_time": "2023-05-30T15:49:32.319Z"
   },
   {
    "duration": 2339,
    "start_time": "2023-05-30T15:50:17.303Z"
   },
   {
    "duration": 21,
    "start_time": "2023-05-30T15:50:21.745Z"
   },
   {
    "duration": 19,
    "start_time": "2023-05-30T15:50:43.352Z"
   },
   {
    "duration": 47,
    "start_time": "2023-05-30T15:50:45.777Z"
   },
   {
    "duration": 19,
    "start_time": "2023-05-30T15:51:10.517Z"
   },
   {
    "duration": 9,
    "start_time": "2023-05-30T15:52:10.554Z"
   },
   {
    "duration": 21,
    "start_time": "2023-05-30T15:57:46.120Z"
   },
   {
    "duration": 5,
    "start_time": "2023-05-30T15:58:17.329Z"
   },
   {
    "duration": 5,
    "start_time": "2023-05-30T15:58:29.215Z"
   },
   {
    "duration": 17,
    "start_time": "2023-05-30T15:58:40.901Z"
   },
   {
    "duration": 3473,
    "start_time": "2023-05-30T18:31:30.215Z"
   },
   {
    "duration": 1300,
    "start_time": "2023-05-30T18:31:33.690Z"
   },
   {
    "duration": 53,
    "start_time": "2023-05-30T18:31:34.992Z"
   },
   {
    "duration": 17,
    "start_time": "2023-05-30T18:31:35.047Z"
   },
   {
    "duration": 27,
    "start_time": "2023-05-30T18:31:35.066Z"
   },
   {
    "duration": 23,
    "start_time": "2023-05-30T18:31:35.095Z"
   },
   {
    "duration": 3,
    "start_time": "2023-05-30T18:31:35.119Z"
   },
   {
    "duration": 19,
    "start_time": "2023-05-30T18:31:35.124Z"
   },
   {
    "duration": 4,
    "start_time": "2023-05-30T18:31:35.145Z"
   },
   {
    "duration": 5148,
    "start_time": "2023-05-30T18:31:35.151Z"
   },
   {
    "duration": 6400,
    "start_time": "2023-05-30T18:31:40.301Z"
   },
   {
    "duration": 19,
    "start_time": "2023-05-30T18:31:46.703Z"
   },
   {
    "duration": 62,
    "start_time": "2023-05-30T18:31:46.727Z"
   },
   {
    "duration": 15,
    "start_time": "2023-05-30T18:31:46.792Z"
   },
   {
    "duration": 19,
    "start_time": "2023-05-30T18:31:46.808Z"
   },
   {
    "duration": 72,
    "start_time": "2023-05-30T18:31:46.829Z"
   },
   {
    "duration": 286,
    "start_time": "2023-05-30T18:31:46.903Z"
   },
   {
    "duration": 11045,
    "start_time": "2023-05-30T18:31:47.194Z"
   },
   {
    "duration": 210,
    "start_time": "2023-05-30T18:31:58.241Z"
   },
   {
    "duration": 38,
    "start_time": "2023-05-30T18:31:58.452Z"
   },
   {
    "duration": 172,
    "start_time": "2023-05-30T18:31:58.493Z"
   },
   {
    "duration": 23,
    "start_time": "2023-05-30T18:31:58.667Z"
   },
   {
    "duration": 6,
    "start_time": "2023-05-30T18:31:58.692Z"
   },
   {
    "duration": 18,
    "start_time": "2023-05-30T18:31:58.699Z"
   },
   {
    "duration": 7,
    "start_time": "2023-05-30T18:31:58.718Z"
   },
   {
    "duration": 27,
    "start_time": "2023-05-30T18:31:58.726Z"
   },
   {
    "duration": 3,
    "start_time": "2023-05-30T18:31:58.755Z"
   },
   {
    "duration": 5,
    "start_time": "2023-05-30T18:31:58.788Z"
   },
   {
    "duration": 8,
    "start_time": "2023-05-30T18:31:58.796Z"
   },
   {
    "duration": 192,
    "start_time": "2023-05-30T18:31:58.806Z"
   },
   {
    "duration": 9,
    "start_time": "2023-05-30T18:31:58.999Z"
   },
   {
    "duration": 174,
    "start_time": "2023-05-30T18:31:59.010Z"
   },
   {
    "duration": 33,
    "start_time": "2023-05-30T18:31:59.185Z"
   },
   {
    "duration": 6,
    "start_time": "2023-05-30T18:31:59.220Z"
   },
   {
    "duration": 886,
    "start_time": "2023-05-30T18:31:59.228Z"
   },
   {
    "duration": 8,
    "start_time": "2023-05-30T18:32:00.116Z"
   },
   {
    "duration": 9,
    "start_time": "2023-05-30T18:32:00.125Z"
   },
   {
    "duration": 14,
    "start_time": "2023-05-30T18:32:00.135Z"
   },
   {
    "duration": 265,
    "start_time": "2023-05-30T18:32:00.150Z"
   },
   {
    "duration": 6,
    "start_time": "2023-05-30T18:32:00.417Z"
   },
   {
    "duration": 25,
    "start_time": "2023-05-30T18:32:00.424Z"
   },
   {
    "duration": 21,
    "start_time": "2023-05-30T18:32:00.450Z"
   },
   {
    "duration": 37,
    "start_time": "2023-05-30T18:32:00.472Z"
   },
   {
    "duration": 292,
    "start_time": "2023-05-30T18:32:00.511Z"
   },
   {
    "duration": 191,
    "start_time": "2023-05-30T18:32:00.805Z"
   },
   {
    "duration": 8,
    "start_time": "2023-05-30T18:32:00.998Z"
   },
   {
    "duration": 32,
    "start_time": "2023-05-30T18:32:01.007Z"
   },
   {
    "duration": 363,
    "start_time": "2023-05-30T18:32:01.041Z"
   },
   {
    "duration": 119,
    "start_time": "2023-05-30T18:32:01.405Z"
   },
   {
    "duration": 711,
    "start_time": "2023-05-30T18:32:01.526Z"
   },
   {
    "duration": 12,
    "start_time": "2023-05-30T18:32:02.239Z"
   },
   {
    "duration": 29,
    "start_time": "2023-05-30T18:32:02.253Z"
   },
   {
    "duration": 278,
    "start_time": "2023-05-30T18:32:02.283Z"
   },
   {
    "duration": 266,
    "start_time": "2023-05-30T18:32:02.562Z"
   },
   {
    "duration": 5,
    "start_time": "2023-05-30T18:32:02.830Z"
   },
   {
    "duration": 9,
    "start_time": "2023-05-30T18:32:02.836Z"
   },
   {
    "duration": 32,
    "start_time": "2023-05-30T18:32:02.846Z"
   },
   {
    "duration": 519,
    "start_time": "2023-05-30T18:32:02.879Z"
   },
   {
    "duration": 12,
    "start_time": "2023-05-30T18:32:03.400Z"
   },
   {
    "duration": 13,
    "start_time": "2023-05-30T18:32:03.414Z"
   },
   {
    "duration": 13,
    "start_time": "2023-05-30T18:32:03.428Z"
   },
   {
    "duration": 45,
    "start_time": "2023-05-30T18:32:03.443Z"
   },
   {
    "duration": 14,
    "start_time": "2023-05-30T18:32:03.492Z"
   },
   {
    "duration": 18,
    "start_time": "2023-05-30T18:32:03.507Z"
   },
   {
    "duration": 11,
    "start_time": "2023-05-30T18:32:03.527Z"
   },
   {
    "duration": 43,
    "start_time": "2023-05-30T18:32:03.540Z"
   },
   {
    "duration": 17,
    "start_time": "2023-05-30T18:32:03.586Z"
   },
   {
    "duration": 12,
    "start_time": "2023-05-30T18:32:03.605Z"
   },
   {
    "duration": 15,
    "start_time": "2023-05-30T18:32:03.619Z"
   },
   {
    "duration": 19,
    "start_time": "2023-05-30T18:32:03.636Z"
   },
   {
    "duration": 37,
    "start_time": "2023-05-30T18:32:03.657Z"
   },
   {
    "duration": 15,
    "start_time": "2023-05-30T18:32:03.695Z"
   },
   {
    "duration": 12,
    "start_time": "2023-05-30T18:32:03.711Z"
   },
   {
    "duration": 22,
    "start_time": "2023-05-30T18:32:03.724Z"
   },
   {
    "duration": 37,
    "start_time": "2023-05-30T18:32:03.747Z"
   },
   {
    "duration": 3,
    "start_time": "2023-05-30T18:32:03.788Z"
   },
   {
    "duration": 14,
    "start_time": "2023-05-30T18:32:03.793Z"
   },
   {
    "duration": 8,
    "start_time": "2023-05-30T18:32:03.809Z"
   },
   {
    "duration": 11,
    "start_time": "2023-05-30T18:32:03.818Z"
   },
   {
    "duration": 5,
    "start_time": "2023-05-30T18:32:03.830Z"
   },
   {
    "duration": 7,
    "start_time": "2023-05-30T18:32:03.836Z"
   },
   {
    "duration": 165,
    "start_time": "2023-05-30T18:32:03.848Z"
   },
   {
    "duration": 183,
    "start_time": "2023-05-30T18:32:04.015Z"
   },
   {
    "duration": 6,
    "start_time": "2023-05-30T18:32:04.200Z"
   },
   {
    "duration": 4,
    "start_time": "2023-05-30T18:32:04.208Z"
   },
   {
    "duration": 11,
    "start_time": "2023-05-30T18:32:04.214Z"
   },
   {
    "duration": 5,
    "start_time": "2023-05-30T18:32:04.227Z"
   },
   {
    "duration": 12,
    "start_time": "2023-05-30T18:32:04.233Z"
   },
   {
    "duration": 152,
    "start_time": "2023-05-30T18:32:04.248Z"
   },
   {
    "duration": 133,
    "start_time": "2023-05-30T18:32:04.402Z"
   },
   {
    "duration": 6,
    "start_time": "2023-05-30T18:32:04.537Z"
   },
   {
    "duration": 4,
    "start_time": "2023-05-30T18:32:04.544Z"
   },
   {
    "duration": 3151,
    "start_time": "2023-06-08T09:57:57.955Z"
   },
   {
    "duration": 1429,
    "start_time": "2023-06-08T09:58:01.109Z"
   },
   {
    "duration": 186,
    "start_time": "2023-06-08T09:58:02.540Z"
   },
   {
    "duration": 19,
    "start_time": "2023-06-08T09:58:02.727Z"
   },
   {
    "duration": 14,
    "start_time": "2023-06-08T09:58:02.843Z"
   },
   {
    "duration": 25,
    "start_time": "2023-06-08T09:58:03.542Z"
   },
   {
    "duration": 3,
    "start_time": "2023-06-08T09:58:04.918Z"
   },
   {
    "duration": 21,
    "start_time": "2023-06-08T09:58:06.523Z"
   },
   {
    "duration": 5,
    "start_time": "2023-06-08T09:58:10.455Z"
   },
   {
    "duration": 5569,
    "start_time": "2023-06-08T09:58:13.773Z"
   },
   {
    "duration": 2223,
    "start_time": "2023-06-08T09:58:19.344Z"
   },
   {
    "duration": 19,
    "start_time": "2023-06-08T09:58:23.589Z"
   },
   {
    "duration": 16,
    "start_time": "2023-06-08T09:58:51.818Z"
   },
   {
    "duration": 45,
    "start_time": "2023-06-08T09:58:52.260Z"
   },
   {
    "duration": 13,
    "start_time": "2023-06-08T09:58:52.652Z"
   },
   {
    "duration": 9,
    "start_time": "2023-06-08T09:58:53.007Z"
   },
   {
    "duration": 47,
    "start_time": "2023-06-08T09:58:54.625Z"
   },
   {
    "duration": 279,
    "start_time": "2023-06-08T09:58:55.654Z"
   },
   {
    "duration": 11889,
    "start_time": "2023-06-08T09:58:56.994Z"
   },
   {
    "duration": 195,
    "start_time": "2023-06-08T09:59:08.885Z"
   },
   {
    "duration": 34,
    "start_time": "2023-06-08T09:59:09.082Z"
   },
   {
    "duration": 168,
    "start_time": "2023-06-08T09:59:09.119Z"
   },
   {
    "duration": 10,
    "start_time": "2023-06-08T09:59:09.289Z"
   },
   {
    "duration": 5,
    "start_time": "2023-06-08T09:59:09.301Z"
   },
   {
    "duration": 12,
    "start_time": "2023-06-08T09:59:09.308Z"
   },
   {
    "duration": 7,
    "start_time": "2023-06-08T09:59:09.321Z"
   },
   {
    "duration": 37,
    "start_time": "2023-06-08T09:59:09.351Z"
   },
   {
    "duration": 2,
    "start_time": "2023-06-08T09:59:09.391Z"
   },
   {
    "duration": 7,
    "start_time": "2023-06-08T09:59:09.394Z"
   },
   {
    "duration": 19,
    "start_time": "2023-06-08T09:59:23.254Z"
   },
   {
    "duration": 8,
    "start_time": "2023-06-08T10:00:15.208Z"
   },
   {
    "duration": 11,
    "start_time": "2023-06-08T10:02:10.866Z"
   },
   {
    "duration": 5,
    "start_time": "2023-06-08T10:02:27.326Z"
   },
   {
    "duration": 7,
    "start_time": "2023-06-08T10:02:47.125Z"
   },
   {
    "duration": 6,
    "start_time": "2023-06-08T10:03:01.240Z"
   },
   {
    "duration": 167,
    "start_time": "2023-06-08T10:03:05.930Z"
   },
   {
    "duration": 10,
    "start_time": "2023-06-08T10:03:06.651Z"
   },
   {
    "duration": 155,
    "start_time": "2023-06-08T10:03:07.339Z"
   },
   {
    "duration": 27,
    "start_time": "2023-06-08T10:03:07.808Z"
   },
   {
    "duration": 4,
    "start_time": "2023-06-08T10:03:08.115Z"
   },
   {
    "duration": 909,
    "start_time": "2023-06-08T10:03:08.392Z"
   },
   {
    "duration": 8,
    "start_time": "2023-06-08T10:03:12.568Z"
   },
   {
    "duration": 9,
    "start_time": "2023-06-08T10:03:13.037Z"
   },
   {
    "duration": 6,
    "start_time": "2023-06-08T10:03:15.298Z"
   },
   {
    "duration": 175,
    "start_time": "2023-06-08T10:03:19.717Z"
   },
   {
    "duration": 6,
    "start_time": "2023-06-08T10:03:21.620Z"
   },
   {
    "duration": 2,
    "start_time": "2023-06-08T10:03:21.940Z"
   },
   {
    "duration": 3,
    "start_time": "2023-06-08T10:03:22.302Z"
   },
   {
    "duration": 4,
    "start_time": "2023-06-08T10:03:22.643Z"
   },
   {
    "duration": 370,
    "start_time": "2023-06-08T10:03:22.986Z"
   },
   {
    "duration": 199,
    "start_time": "2023-06-08T10:03:24.268Z"
   },
   {
    "duration": 7,
    "start_time": "2023-06-08T10:03:25.609Z"
   },
   {
    "duration": 4,
    "start_time": "2023-06-08T10:03:26.001Z"
   },
   {
    "duration": 345,
    "start_time": "2023-06-08T10:03:26.236Z"
   },
   {
    "duration": 9,
    "start_time": "2023-06-08T10:08:53.529Z"
   },
   {
    "duration": 2,
    "start_time": "2023-06-08T10:09:03.332Z"
   },
   {
    "duration": 51,
    "start_time": "2023-06-08T10:14:01.745Z"
   },
   {
    "duration": 39,
    "start_time": "2023-06-08T10:15:05.813Z"
   },
   {
    "duration": 29,
    "start_time": "2023-06-08T10:21:16.648Z"
   },
   {
    "duration": 169,
    "start_time": "2023-06-08T10:21:17.452Z"
   },
   {
    "duration": 12,
    "start_time": "2023-06-08T10:21:50.267Z"
   },
   {
    "duration": 414,
    "start_time": "2023-06-08T10:22:49.867Z"
   },
   {
    "duration": 173,
    "start_time": "2023-06-08T10:23:02.707Z"
   },
   {
    "duration": 25,
    "start_time": "2023-06-08T10:23:39.314Z"
   },
   {
    "duration": 11,
    "start_time": "2023-06-08T10:23:39.992Z"
   },
   {
    "duration": 175,
    "start_time": "2023-06-08T10:23:44.592Z"
   },
   {
    "duration": 28,
    "start_time": "2023-06-08T10:23:57.032Z"
   },
   {
    "duration": 162,
    "start_time": "2023-06-08T10:23:59.831Z"
   },
   {
    "duration": 185,
    "start_time": "2023-06-08T10:24:04.132Z"
   },
   {
    "duration": 170,
    "start_time": "2023-06-08T10:24:08.533Z"
   },
   {
    "duration": 110,
    "start_time": "2023-06-08T10:24:36.712Z"
   },
   {
    "duration": 269,
    "start_time": "2023-06-08T10:24:50.470Z"
   },
   {
    "duration": 175,
    "start_time": "2023-06-08T10:26:10.460Z"
   },
   {
    "duration": 9,
    "start_time": "2023-06-08T10:26:19.519Z"
   },
   {
    "duration": 157,
    "start_time": "2023-06-08T10:26:27.663Z"
   },
   {
    "duration": 11,
    "start_time": "2023-06-08T10:26:39.530Z"
   },
   {
    "duration": 30,
    "start_time": "2023-06-08T10:27:09.641Z"
   },
   {
    "duration": 12,
    "start_time": "2023-06-08T10:27:10.191Z"
   },
   {
    "duration": 29,
    "start_time": "2023-06-08T10:27:13.823Z"
   },
   {
    "duration": 14,
    "start_time": "2023-06-08T10:27:14.249Z"
   },
   {
    "duration": 148,
    "start_time": "2023-06-08T10:27:16.559Z"
   },
   {
    "duration": 11,
    "start_time": "2023-06-08T10:27:50.248Z"
   },
   {
    "duration": 6,
    "start_time": "2023-06-08T10:28:31.305Z"
   },
   {
    "duration": 12,
    "start_time": "2023-06-08T10:28:36.124Z"
   },
   {
    "duration": 7,
    "start_time": "2023-06-08T10:29:10.593Z"
   },
   {
    "duration": 5,
    "start_time": "2023-06-08T10:29:20.668Z"
   },
   {
    "duration": 4,
    "start_time": "2023-06-08T10:29:29.297Z"
   },
   {
    "duration": 5,
    "start_time": "2023-06-08T10:29:41.128Z"
   },
   {
    "duration": 21,
    "start_time": "2023-06-08T10:30:42.384Z"
   },
   {
    "duration": 16,
    "start_time": "2023-06-08T10:31:12.427Z"
   },
   {
    "duration": 16,
    "start_time": "2023-06-08T10:31:30.899Z"
   },
   {
    "duration": 14,
    "start_time": "2023-06-08T10:32:21.516Z"
   },
   {
    "duration": 302,
    "start_time": "2023-06-08T10:32:43.941Z"
   },
   {
    "duration": 8,
    "start_time": "2023-06-08T10:33:16.160Z"
   },
   {
    "duration": 242,
    "start_time": "2023-06-08T10:33:17.245Z"
   },
   {
    "duration": 185,
    "start_time": "2023-06-08T10:34:07.605Z"
   },
   {
    "duration": 13,
    "start_time": "2023-06-08T10:34:44.528Z"
   },
   {
    "duration": 25,
    "start_time": "2023-06-08T10:35:52.443Z"
   },
   {
    "duration": 226,
    "start_time": "2023-06-08T10:36:24.009Z"
   },
   {
    "duration": 195,
    "start_time": "2023-06-08T10:36:40.949Z"
   },
   {
    "duration": 230,
    "start_time": "2023-06-08T10:36:55.544Z"
   },
   {
    "duration": 286,
    "start_time": "2023-06-08T10:37:08.196Z"
   },
   {
    "duration": 255,
    "start_time": "2023-06-08T10:37:15.763Z"
   },
   {
    "duration": 195,
    "start_time": "2023-06-08T10:39:21.909Z"
   },
   {
    "duration": 202,
    "start_time": "2023-06-08T10:39:42.822Z"
   },
   {
    "duration": 11,
    "start_time": "2023-06-08T10:44:00.647Z"
   },
   {
    "duration": 4,
    "start_time": "2023-06-08T10:44:01.109Z"
   },
   {
    "duration": 377,
    "start_time": "2023-06-08T10:44:01.446Z"
   },
   {
    "duration": 11,
    "start_time": "2023-06-08T10:44:25.022Z"
   },
   {
    "duration": 4,
    "start_time": "2023-06-08T10:44:25.753Z"
   },
   {
    "duration": 323,
    "start_time": "2023-06-08T10:44:27.073Z"
   },
   {
    "duration": 332,
    "start_time": "2023-06-08T10:45:06.684Z"
   },
   {
    "duration": 6,
    "start_time": "2023-06-08T10:47:21.339Z"
   },
   {
    "duration": 320,
    "start_time": "2023-06-08T10:47:45.652Z"
   },
   {
    "duration": 307,
    "start_time": "2023-06-08T10:47:56.561Z"
   },
   {
    "duration": 410,
    "start_time": "2023-06-08T10:48:07.127Z"
   },
   {
    "duration": 285,
    "start_time": "2023-06-08T10:48:11.456Z"
   },
   {
    "duration": 10,
    "start_time": "2023-06-08T10:50:29.489Z"
   },
   {
    "duration": 10,
    "start_time": "2023-06-08T10:50:31.022Z"
   },
   {
    "duration": 13,
    "start_time": "2023-06-08T10:51:02.048Z"
   },
   {
    "duration": 10,
    "start_time": "2023-06-08T10:51:03.221Z"
   },
   {
    "duration": 248,
    "start_time": "2023-06-08T10:52:43.566Z"
   },
   {
    "duration": 254,
    "start_time": "2023-06-08T10:53:09.663Z"
   },
   {
    "duration": 255,
    "start_time": "2023-06-08T10:53:10.226Z"
   },
   {
    "duration": 3154,
    "start_time": "2023-06-09T08:12:52.012Z"
   },
   {
    "duration": 1359,
    "start_time": "2023-06-09T08:12:55.169Z"
   },
   {
    "duration": 179,
    "start_time": "2023-06-09T08:12:56.530Z"
   },
   {
    "duration": 17,
    "start_time": "2023-06-09T08:12:56.711Z"
   },
   {
    "duration": 13,
    "start_time": "2023-06-09T08:12:56.730Z"
   },
   {
    "duration": 23,
    "start_time": "2023-06-09T08:12:56.745Z"
   },
   {
    "duration": 4,
    "start_time": "2023-06-09T08:12:56.769Z"
   },
   {
    "duration": 22,
    "start_time": "2023-06-09T08:12:56.774Z"
   },
   {
    "duration": 5,
    "start_time": "2023-06-09T08:12:56.797Z"
   },
   {
    "duration": 5438,
    "start_time": "2023-06-09T08:12:56.804Z"
   },
   {
    "duration": 2246,
    "start_time": "2023-06-09T08:13:02.244Z"
   },
   {
    "duration": 19,
    "start_time": "2023-06-09T08:13:04.492Z"
   },
   {
    "duration": 60,
    "start_time": "2023-06-09T08:13:04.512Z"
   },
   {
    "duration": 15,
    "start_time": "2023-06-09T08:13:04.573Z"
   },
   {
    "duration": 12,
    "start_time": "2023-06-09T08:13:04.590Z"
   },
   {
    "duration": 71,
    "start_time": "2023-06-09T08:13:04.605Z"
   },
   {
    "duration": 301,
    "start_time": "2023-06-09T08:13:04.678Z"
   },
   {
    "duration": 11319,
    "start_time": "2023-06-09T08:13:04.980Z"
   },
   {
    "duration": 190,
    "start_time": "2023-06-09T08:13:16.301Z"
   },
   {
    "duration": 29,
    "start_time": "2023-06-09T08:13:16.492Z"
   },
   {
    "duration": 164,
    "start_time": "2023-06-09T08:13:16.523Z"
   },
   {
    "duration": 13,
    "start_time": "2023-06-09T08:13:16.689Z"
   },
   {
    "duration": 8,
    "start_time": "2023-06-09T08:13:16.705Z"
   },
   {
    "duration": 12,
    "start_time": "2023-06-09T08:13:16.714Z"
   },
   {
    "duration": 27,
    "start_time": "2023-06-09T08:13:16.728Z"
   },
   {
    "duration": 46,
    "start_time": "2023-06-09T08:13:16.756Z"
   },
   {
    "duration": 2,
    "start_time": "2023-06-09T08:13:16.804Z"
   },
   {
    "duration": 7,
    "start_time": "2023-06-09T08:13:16.808Z"
   },
   {
    "duration": 8,
    "start_time": "2023-06-09T08:13:21.621Z"
   },
   {
    "duration": 5,
    "start_time": "2023-06-09T08:13:22.559Z"
   },
   {
    "duration": 178,
    "start_time": "2023-06-09T08:13:30.685Z"
   },
   {
    "duration": 9,
    "start_time": "2023-06-09T08:13:30.875Z"
   },
   {
    "duration": 164,
    "start_time": "2023-06-09T08:13:31.098Z"
   },
   {
    "duration": 26,
    "start_time": "2023-06-09T08:13:31.925Z"
   },
   {
    "duration": 3,
    "start_time": "2023-06-09T08:13:32.227Z"
   },
   {
    "duration": 835,
    "start_time": "2023-06-09T08:13:32.442Z"
   },
   {
    "duration": 8,
    "start_time": "2023-06-09T08:13:34.741Z"
   },
   {
    "duration": 9,
    "start_time": "2023-06-09T08:13:35.191Z"
   },
   {
    "duration": 5,
    "start_time": "2023-06-09T08:13:35.482Z"
   },
   {
    "duration": 31,
    "start_time": "2023-06-09T08:13:36.723Z"
   },
   {
    "duration": 159,
    "start_time": "2023-06-09T08:13:37.092Z"
   },
   {
    "duration": 7,
    "start_time": "2023-06-09T08:13:37.612Z"
   },
   {
    "duration": 2,
    "start_time": "2023-06-09T08:13:37.890Z"
   },
   {
    "duration": 6,
    "start_time": "2023-06-09T08:13:38.351Z"
   },
   {
    "duration": 9,
    "start_time": "2023-06-09T08:13:38.698Z"
   },
   {
    "duration": 308,
    "start_time": "2023-06-09T08:13:39.032Z"
   },
   {
    "duration": 190,
    "start_time": "2023-06-09T08:13:39.951Z"
   },
   {
    "duration": 10,
    "start_time": "2023-06-09T08:13:42.047Z"
   },
   {
    "duration": 4,
    "start_time": "2023-06-09T08:13:42.446Z"
   },
   {
    "duration": 321,
    "start_time": "2023-06-09T08:13:42.871Z"
   },
   {
    "duration": 6,
    "start_time": "2023-06-09T08:13:47.415Z"
   },
   {
    "duration": 300,
    "start_time": "2023-06-09T08:13:50.370Z"
   },
   {
    "duration": 105,
    "start_time": "2023-06-09T08:14:05.306Z"
   },
   {
    "duration": 148,
    "start_time": "2023-06-09T08:14:06.091Z"
   },
   {
    "duration": 119,
    "start_time": "2023-06-09T08:14:06.981Z"
   },
   {
    "duration": 16,
    "start_time": "2023-06-09T08:14:13.150Z"
   },
   {
    "duration": 10,
    "start_time": "2023-06-09T08:14:13.999Z"
   },
   {
    "duration": 252,
    "start_time": "2023-06-09T08:14:15.761Z"
   },
   {
    "duration": 14,
    "start_time": "2023-06-09T08:14:36.466Z"
   },
   {
    "duration": 10,
    "start_time": "2023-06-09T08:14:37.409Z"
   },
   {
    "duration": 240,
    "start_time": "2023-06-09T08:14:40.732Z"
   },
   {
    "duration": 253,
    "start_time": "2023-06-09T08:14:44.913Z"
   },
   {
    "duration": 22,
    "start_time": "2023-06-09T08:15:22.214Z"
   },
   {
    "duration": 23,
    "start_time": "2023-06-09T08:16:04.329Z"
   },
   {
    "duration": 8,
    "start_time": "2023-06-09T08:16:42.951Z"
   },
   {
    "duration": 10,
    "start_time": "2023-06-09T08:17:12.446Z"
   },
   {
    "duration": 8,
    "start_time": "2023-06-09T08:17:28.260Z"
   },
   {
    "duration": 8,
    "start_time": "2023-06-09T08:17:34.916Z"
   },
   {
    "duration": 11,
    "start_time": "2023-06-09T08:17:39.913Z"
   },
   {
    "duration": 13,
    "start_time": "2023-06-09T08:18:05.363Z"
   },
   {
    "duration": 28,
    "start_time": "2023-06-09T08:18:09.453Z"
   },
   {
    "duration": 5,
    "start_time": "2023-06-09T08:18:25.813Z"
   },
   {
    "duration": 9,
    "start_time": "2023-06-09T08:18:36.389Z"
   },
   {
    "duration": 8,
    "start_time": "2023-06-09T08:18:48.753Z"
   },
   {
    "duration": 131,
    "start_time": "2023-06-09T08:18:53.175Z"
   },
   {
    "duration": 8,
    "start_time": "2023-06-09T08:18:59.386Z"
   },
   {
    "duration": 206,
    "start_time": "2023-06-09T08:19:21.675Z"
   },
   {
    "duration": 9,
    "start_time": "2023-06-09T08:19:44.642Z"
   },
   {
    "duration": 10,
    "start_time": "2023-06-09T08:19:52.754Z"
   },
   {
    "duration": 23,
    "start_time": "2023-06-09T08:20:02.710Z"
   },
   {
    "duration": 9,
    "start_time": "2023-06-09T08:20:11.380Z"
   },
   {
    "duration": 12,
    "start_time": "2023-06-09T08:20:18.211Z"
   },
   {
    "duration": 12,
    "start_time": "2023-06-09T08:20:53.543Z"
   },
   {
    "duration": 15,
    "start_time": "2023-06-09T08:22:13.067Z"
   },
   {
    "duration": 8,
    "start_time": "2023-06-09T08:23:55.201Z"
   },
   {
    "duration": 148,
    "start_time": "2023-06-09T08:25:07.516Z"
   },
   {
    "duration": 137,
    "start_time": "2023-06-09T08:25:22.184Z"
   },
   {
    "duration": 174,
    "start_time": "2023-06-09T08:25:36.448Z"
   },
   {
    "duration": 260,
    "start_time": "2023-06-09T08:25:41.275Z"
   },
   {
    "duration": 9,
    "start_time": "2023-06-09T08:26:01.272Z"
   },
   {
    "duration": 8,
    "start_time": "2023-06-09T08:26:14.404Z"
   },
   {
    "duration": 11,
    "start_time": "2023-06-09T08:26:32.826Z"
   },
   {
    "duration": 166,
    "start_time": "2023-06-09T08:26:38.259Z"
   },
   {
    "duration": 157,
    "start_time": "2023-06-09T08:26:58.293Z"
   },
   {
    "duration": 18,
    "start_time": "2023-06-09T08:27:10.507Z"
   },
   {
    "duration": 32,
    "start_time": "2023-06-09T08:28:35.138Z"
   },
   {
    "duration": 15,
    "start_time": "2023-06-09T08:28:51.817Z"
   },
   {
    "duration": 22,
    "start_time": "2023-06-09T08:29:03.188Z"
   },
   {
    "duration": 16,
    "start_time": "2023-06-09T08:29:14.768Z"
   },
   {
    "duration": 18,
    "start_time": "2023-06-09T08:30:06.631Z"
   },
   {
    "duration": 29,
    "start_time": "2023-06-09T08:30:17.966Z"
   },
   {
    "duration": 23,
    "start_time": "2023-06-09T08:31:43.899Z"
   },
   {
    "duration": 26,
    "start_time": "2023-06-09T08:32:30.357Z"
   },
   {
    "duration": 22,
    "start_time": "2023-06-09T08:32:42.815Z"
   },
   {
    "duration": 25,
    "start_time": "2023-06-09T08:32:51.129Z"
   },
   {
    "duration": 167,
    "start_time": "2023-06-09T08:33:24.602Z"
   },
   {
    "duration": 24,
    "start_time": "2023-06-09T08:33:34.298Z"
   },
   {
    "duration": 24,
    "start_time": "2023-06-09T08:37:14.517Z"
   },
   {
    "duration": 9,
    "start_time": "2023-06-09T08:37:30.684Z"
   },
   {
    "duration": 9,
    "start_time": "2023-06-09T08:37:47.096Z"
   },
   {
    "duration": 15,
    "start_time": "2023-06-09T08:38:03.538Z"
   },
   {
    "duration": 25,
    "start_time": "2023-06-09T08:38:11.054Z"
   },
   {
    "duration": 15,
    "start_time": "2023-06-09T08:38:15.097Z"
   },
   {
    "duration": 17,
    "start_time": "2023-06-09T08:38:23.242Z"
   },
   {
    "duration": 14,
    "start_time": "2023-06-09T08:38:35.491Z"
   },
   {
    "duration": 19,
    "start_time": "2023-06-09T08:38:47.560Z"
   },
   {
    "duration": 27,
    "start_time": "2023-06-09T08:40:32.394Z"
   },
   {
    "duration": 218,
    "start_time": "2023-06-09T08:41:16.956Z"
   },
   {
    "duration": 19,
    "start_time": "2023-06-09T08:41:35.191Z"
   },
   {
    "duration": 18,
    "start_time": "2023-06-09T08:41:42.030Z"
   },
   {
    "duration": 18,
    "start_time": "2023-06-09T08:41:46.305Z"
   },
   {
    "duration": 23,
    "start_time": "2023-06-09T08:41:55.001Z"
   },
   {
    "duration": 30,
    "start_time": "2023-06-09T08:42:01.845Z"
   },
   {
    "duration": 23,
    "start_time": "2023-06-09T08:42:06.129Z"
   },
   {
    "duration": 15,
    "start_time": "2023-06-09T08:42:57.700Z"
   },
   {
    "duration": 16,
    "start_time": "2023-06-09T08:44:33.490Z"
   },
   {
    "duration": 17,
    "start_time": "2023-06-09T08:44:41.932Z"
   },
   {
    "duration": 30,
    "start_time": "2023-06-09T08:47:38.102Z"
   },
   {
    "duration": 17,
    "start_time": "2023-06-09T08:47:43.855Z"
   },
   {
    "duration": 8,
    "start_time": "2023-06-09T08:47:55.926Z"
   },
   {
    "duration": 16,
    "start_time": "2023-06-09T08:49:36.785Z"
   },
   {
    "duration": 17,
    "start_time": "2023-06-09T08:49:39.304Z"
   },
   {
    "duration": 17,
    "start_time": "2023-06-09T08:50:44.662Z"
   },
   {
    "duration": 16,
    "start_time": "2023-06-09T08:50:46.744Z"
   },
   {
    "duration": 8,
    "start_time": "2023-06-09T08:52:23.286Z"
   },
   {
    "duration": 15,
    "start_time": "2023-06-09T08:52:32.651Z"
   },
   {
    "duration": 23,
    "start_time": "2023-06-09T08:52:40.092Z"
   },
   {
    "duration": 20,
    "start_time": "2023-06-09T08:52:56.425Z"
   },
   {
    "duration": 23,
    "start_time": "2023-06-09T08:53:02.794Z"
   },
   {
    "duration": 38,
    "start_time": "2023-06-09T08:53:08.267Z"
   },
   {
    "duration": 8,
    "start_time": "2023-06-09T08:53:35.428Z"
   },
   {
    "duration": 11,
    "start_time": "2023-06-09T08:54:35.463Z"
   },
   {
    "duration": 10,
    "start_time": "2023-06-09T08:54:48.267Z"
   },
   {
    "duration": 8,
    "start_time": "2023-06-09T08:54:54.913Z"
   },
   {
    "duration": 10,
    "start_time": "2023-06-09T08:55:35.729Z"
   },
   {
    "duration": 10,
    "start_time": "2023-06-09T08:59:36.431Z"
   },
   {
    "duration": 25,
    "start_time": "2023-06-09T08:59:42.862Z"
   },
   {
    "duration": 12,
    "start_time": "2023-06-09T08:59:59.843Z"
   },
   {
    "duration": 33,
    "start_time": "2023-06-09T09:00:03.144Z"
   },
   {
    "duration": 17,
    "start_time": "2023-06-09T09:00:24.749Z"
   },
   {
    "duration": 12,
    "start_time": "2023-06-09T09:00:45.810Z"
   },
   {
    "duration": 15,
    "start_time": "2023-06-09T09:00:57.709Z"
   },
   {
    "duration": 12,
    "start_time": "2023-06-09T09:01:09.575Z"
   },
   {
    "duration": 10,
    "start_time": "2023-06-09T09:01:25.376Z"
   },
   {
    "duration": 6,
    "start_time": "2023-06-09T09:01:29.639Z"
   },
   {
    "duration": 9,
    "start_time": "2023-06-09T09:01:57.272Z"
   },
   {
    "duration": 15,
    "start_time": "2023-06-09T09:02:06.632Z"
   },
   {
    "duration": 12,
    "start_time": "2023-06-09T09:02:18.626Z"
   },
   {
    "duration": 52,
    "start_time": "2023-06-09T09:06:11.481Z"
   },
   {
    "duration": 5,
    "start_time": "2023-06-09T09:07:06.288Z"
   },
   {
    "duration": 8,
    "start_time": "2023-06-09T09:07:06.933Z"
   },
   {
    "duration": 8,
    "start_time": "2023-06-09T09:07:09.386Z"
   },
   {
    "duration": 11,
    "start_time": "2023-06-09T09:07:21.690Z"
   },
   {
    "duration": 393,
    "start_time": "2023-06-09T09:07:58.009Z"
   },
   {
    "duration": 412,
    "start_time": "2023-06-09T09:08:55.879Z"
   },
   {
    "duration": 12,
    "start_time": "2023-06-09T09:27:43.412Z"
   },
   {
    "duration": 6,
    "start_time": "2023-06-09T09:28:02.554Z"
   },
   {
    "duration": 7,
    "start_time": "2023-06-09T09:28:08.258Z"
   },
   {
    "duration": 9,
    "start_time": "2023-06-09T09:28:17.171Z"
   },
   {
    "duration": 8,
    "start_time": "2023-06-09T09:28:25.120Z"
   },
   {
    "duration": 6,
    "start_time": "2023-06-09T09:28:35.014Z"
   },
   {
    "duration": 9,
    "start_time": "2023-06-09T09:28:40.566Z"
   },
   {
    "duration": 22,
    "start_time": "2023-06-09T09:39:24.300Z"
   },
   {
    "duration": 21,
    "start_time": "2023-06-09T09:39:27.293Z"
   },
   {
    "duration": 13,
    "start_time": "2023-06-09T09:39:30.054Z"
   },
   {
    "duration": 15,
    "start_time": "2023-06-09T09:39:31.696Z"
   },
   {
    "duration": 15,
    "start_time": "2023-06-09T09:39:51.619Z"
   },
   {
    "duration": 21,
    "start_time": "2023-06-09T09:39:58.082Z"
   },
   {
    "duration": 20,
    "start_time": "2023-06-09T09:40:05.270Z"
   },
   {
    "duration": 20,
    "start_time": "2023-06-09T09:40:23.134Z"
   },
   {
    "duration": 13,
    "start_time": "2023-06-09T09:41:29.982Z"
   },
   {
    "duration": 19,
    "start_time": "2023-06-09T09:41:40.334Z"
   },
   {
    "duration": 16,
    "start_time": "2023-06-09T09:41:43.597Z"
   },
   {
    "duration": 15,
    "start_time": "2023-06-09T09:41:44.303Z"
   },
   {
    "duration": 21,
    "start_time": "2023-06-09T09:41:44.838Z"
   },
   {
    "duration": 17,
    "start_time": "2023-06-09T09:41:45.341Z"
   },
   {
    "duration": 20,
    "start_time": "2023-06-09T09:46:53.850Z"
   },
   {
    "duration": 19,
    "start_time": "2023-06-09T09:47:04.290Z"
   },
   {
    "duration": 15,
    "start_time": "2023-06-09T09:47:13.561Z"
   },
   {
    "duration": 22,
    "start_time": "2023-06-09T09:47:20.242Z"
   },
   {
    "duration": 16,
    "start_time": "2023-06-09T09:47:27.201Z"
   },
   {
    "duration": 15,
    "start_time": "2023-06-09T09:53:51.243Z"
   },
   {
    "duration": 20,
    "start_time": "2023-06-09T09:53:59.099Z"
   },
   {
    "duration": 21,
    "start_time": "2023-06-09T09:54:03.121Z"
   },
   {
    "duration": 15,
    "start_time": "2023-06-09T09:54:08.785Z"
   },
   {
    "duration": 20,
    "start_time": "2023-06-09T09:59:51.828Z"
   },
   {
    "duration": 14,
    "start_time": "2023-06-09T09:59:59.080Z"
   },
   {
    "duration": 22,
    "start_time": "2023-06-09T10:00:02.378Z"
   },
   {
    "duration": 16,
    "start_time": "2023-06-09T10:00:08.084Z"
   },
   {
    "duration": 33,
    "start_time": "2023-06-09T10:06:35.316Z"
   },
   {
    "duration": 15,
    "start_time": "2023-06-09T10:06:40.353Z"
   },
   {
    "duration": 7,
    "start_time": "2023-06-09T10:06:56.758Z"
   },
   {
    "duration": 6,
    "start_time": "2023-06-09T10:06:57.173Z"
   },
   {
    "duration": 5,
    "start_time": "2023-06-09T10:07:22.741Z"
   },
   {
    "duration": 3,
    "start_time": "2023-06-09T10:07:39.333Z"
   },
   {
    "duration": 27,
    "start_time": "2023-06-09T10:07:40.756Z"
   },
   {
    "duration": 5,
    "start_time": "2023-06-09T10:08:05.074Z"
   },
   {
    "duration": 6,
    "start_time": "2023-06-09T10:08:27.746Z"
   },
   {
    "duration": 4,
    "start_time": "2023-06-09T10:08:35.233Z"
   },
   {
    "duration": 26,
    "start_time": "2023-06-09T10:08:37.437Z"
   },
   {
    "duration": 3,
    "start_time": "2023-06-09T10:08:47.990Z"
   },
   {
    "duration": 18,
    "start_time": "2023-06-09T10:08:49.516Z"
   },
   {
    "duration": 5,
    "start_time": "2023-06-09T10:09:08.535Z"
   },
   {
    "duration": 6,
    "start_time": "2023-06-09T10:09:12.278Z"
   },
   {
    "duration": 7,
    "start_time": "2023-06-09T10:09:12.844Z"
   },
   {
    "duration": 3,
    "start_time": "2023-06-09T10:09:20.148Z"
   },
   {
    "duration": 5,
    "start_time": "2023-06-09T10:09:21.814Z"
   },
   {
    "duration": 17,
    "start_time": "2023-06-09T10:09:25.113Z"
   },
   {
    "duration": 675,
    "start_time": "2023-06-09T10:09:35.122Z"
   },
   {
    "duration": 18,
    "start_time": "2023-06-09T10:10:03.238Z"
   },
   {
    "duration": 724,
    "start_time": "2023-06-09T10:10:09.092Z"
   },
   {
    "duration": 3,
    "start_time": "2023-06-09T10:10:41.123Z"
   },
   {
    "duration": 5,
    "start_time": "2023-06-09T10:10:47.204Z"
   },
   {
    "duration": 13,
    "start_time": "2023-06-09T10:10:54.394Z"
   },
   {
    "duration": 4,
    "start_time": "2023-06-09T10:11:12.132Z"
   },
   {
    "duration": 3,
    "start_time": "2023-06-09T10:11:15.788Z"
   },
   {
    "duration": 145,
    "start_time": "2023-06-09T10:11:19.174Z"
   },
   {
    "duration": 145,
    "start_time": "2023-06-09T10:11:29.001Z"
   },
   {
    "duration": 3,
    "start_time": "2023-06-09T10:11:57.244Z"
   },
   {
    "duration": 4,
    "start_time": "2023-06-09T10:12:51.237Z"
   },
   {
    "duration": 4,
    "start_time": "2023-06-09T10:13:33.937Z"
   },
   {
    "duration": 15,
    "start_time": "2023-06-09T10:13:40.329Z"
   },
   {
    "duration": 3,
    "start_time": "2023-06-09T10:13:44.050Z"
   },
   {
    "duration": 5,
    "start_time": "2023-06-09T10:13:47.660Z"
   },
   {
    "duration": 42,
    "start_time": "2023-06-09T10:14:55.905Z"
   },
   {
    "duration": 9,
    "start_time": "2023-06-09T10:15:51.908Z"
   },
   {
    "duration": 5,
    "start_time": "2023-06-09T10:16:22.927Z"
   },
   {
    "duration": 4,
    "start_time": "2023-06-09T10:16:23.286Z"
   },
   {
    "duration": 146,
    "start_time": "2023-06-09T10:16:23.926Z"
   },
   {
    "duration": 154,
    "start_time": "2023-06-09T10:16:31.848Z"
   },
   {
    "duration": 6,
    "start_time": "2023-06-09T10:16:43.763Z"
   },
   {
    "duration": 3,
    "start_time": "2023-06-09T10:16:48.737Z"
   },
   {
    "duration": 2894,
    "start_time": "2023-06-09T11:43:01.546Z"
   },
   {
    "duration": 1042,
    "start_time": "2023-06-09T11:43:04.441Z"
   },
   {
    "duration": 47,
    "start_time": "2023-06-09T11:43:05.484Z"
   },
   {
    "duration": 14,
    "start_time": "2023-06-09T11:43:05.533Z"
   },
   {
    "duration": 13,
    "start_time": "2023-06-09T11:43:05.548Z"
   },
   {
    "duration": 20,
    "start_time": "2023-06-09T11:43:05.563Z"
   },
   {
    "duration": 3,
    "start_time": "2023-06-09T11:43:05.584Z"
   },
   {
    "duration": 45,
    "start_time": "2023-06-09T11:43:05.588Z"
   },
   {
    "duration": 6,
    "start_time": "2023-06-09T11:43:05.634Z"
   },
   {
    "duration": 5351,
    "start_time": "2023-06-09T11:43:05.642Z"
   },
   {
    "duration": 2239,
    "start_time": "2023-06-09T11:43:10.995Z"
   },
   {
    "duration": 14,
    "start_time": "2023-06-09T11:43:13.236Z"
   },
   {
    "duration": 38,
    "start_time": "2023-06-09T11:43:13.252Z"
   },
   {
    "duration": 23,
    "start_time": "2023-06-09T11:43:13.292Z"
   },
   {
    "duration": 11,
    "start_time": "2023-06-09T11:43:13.316Z"
   },
   {
    "duration": 55,
    "start_time": "2023-06-09T11:43:13.328Z"
   },
   {
    "duration": 234,
    "start_time": "2023-06-09T11:43:13.385Z"
   },
   {
    "duration": 9419,
    "start_time": "2023-06-09T11:43:13.621Z"
   },
   {
    "duration": 149,
    "start_time": "2023-06-09T11:43:23.042Z"
   },
   {
    "duration": 29,
    "start_time": "2023-06-09T11:43:23.193Z"
   },
   {
    "duration": 129,
    "start_time": "2023-06-09T11:43:23.224Z"
   },
   {
    "duration": 8,
    "start_time": "2023-06-09T11:43:23.355Z"
   },
   {
    "duration": 13,
    "start_time": "2023-06-09T11:43:23.364Z"
   },
   {
    "duration": 16,
    "start_time": "2023-06-09T11:43:23.378Z"
   },
   {
    "duration": 10,
    "start_time": "2023-06-09T11:43:23.396Z"
   },
   {
    "duration": 22,
    "start_time": "2023-06-09T11:43:23.407Z"
   },
   {
    "duration": 2,
    "start_time": "2023-06-09T11:43:23.430Z"
   },
   {
    "duration": 5,
    "start_time": "2023-06-09T11:43:23.437Z"
   },
   {
    "duration": 9,
    "start_time": "2023-06-09T11:43:23.443Z"
   },
   {
    "duration": 17,
    "start_time": "2023-06-09T11:43:23.453Z"
   },
   {
    "duration": 144,
    "start_time": "2023-06-09T11:43:23.472Z"
   },
   {
    "duration": 8,
    "start_time": "2023-06-09T11:43:23.618Z"
   },
   {
    "duration": 140,
    "start_time": "2023-06-09T11:43:23.627Z"
   },
   {
    "duration": 22,
    "start_time": "2023-06-09T11:43:23.768Z"
   },
   {
    "duration": 3,
    "start_time": "2023-06-09T11:43:23.791Z"
   },
   {
    "duration": 713,
    "start_time": "2023-06-09T11:43:23.806Z"
   },
   {
    "duration": 8,
    "start_time": "2023-06-09T11:43:24.520Z"
   },
   {
    "duration": 21,
    "start_time": "2023-06-09T11:43:24.529Z"
   },
   {
    "duration": 8,
    "start_time": "2023-06-09T11:43:24.551Z"
   },
   {
    "duration": 92,
    "start_time": "2023-06-09T11:43:24.560Z"
   },
   {
    "duration": 138,
    "start_time": "2023-06-09T11:43:24.654Z"
   },
   {
    "duration": 13,
    "start_time": "2023-06-09T11:43:24.793Z"
   },
   {
    "duration": 2,
    "start_time": "2023-06-09T11:43:24.807Z"
   },
   {
    "duration": 16,
    "start_time": "2023-06-09T11:43:24.810Z"
   },
   {
    "duration": 8,
    "start_time": "2023-06-09T11:43:24.827Z"
   },
   {
    "duration": 191,
    "start_time": "2023-06-09T11:43:24.836Z"
   },
   {
    "duration": 158,
    "start_time": "2023-06-09T11:43:25.029Z"
   },
   {
    "duration": 9,
    "start_time": "2023-06-09T11:43:25.188Z"
   },
   {
    "duration": 9,
    "start_time": "2023-06-09T11:43:25.198Z"
   },
   {
    "duration": 279,
    "start_time": "2023-06-09T11:43:25.209Z"
   },
   {
    "duration": 5,
    "start_time": "2023-06-09T11:43:25.489Z"
   },
   {
    "duration": 257,
    "start_time": "2023-06-09T11:43:25.495Z"
   },
   {
    "duration": 10,
    "start_time": "2023-06-09T11:43:25.753Z"
   },
   {
    "duration": 8,
    "start_time": "2023-06-09T11:43:25.764Z"
   },
   {
    "duration": 222,
    "start_time": "2023-06-09T11:43:25.773Z"
   },
   {
    "duration": 210,
    "start_time": "2023-06-09T11:43:25.996Z"
   },
   {
    "duration": 7,
    "start_time": "2023-06-09T11:43:26.208Z"
   },
   {
    "duration": 11,
    "start_time": "2023-06-09T11:43:26.217Z"
   },
   {
    "duration": 13,
    "start_time": "2023-06-09T11:43:26.230Z"
   },
   {
    "duration": 12,
    "start_time": "2023-06-09T11:43:26.245Z"
   },
   {
    "duration": 7,
    "start_time": "2023-06-09T11:43:26.258Z"
   },
   {
    "duration": 40,
    "start_time": "2023-06-09T11:43:26.266Z"
   },
   {
    "duration": 9,
    "start_time": "2023-06-09T11:43:26.308Z"
   },
   {
    "duration": 10,
    "start_time": "2023-06-09T11:43:26.318Z"
   },
   {
    "duration": 4,
    "start_time": "2023-06-09T11:43:26.329Z"
   },
   {
    "duration": 7,
    "start_time": "2023-06-09T11:43:26.334Z"
   },
   {
    "duration": 20,
    "start_time": "2023-06-09T11:43:26.342Z"
   },
   {
    "duration": 290,
    "start_time": "2023-06-09T11:43:26.364Z"
   },
   {
    "duration": 6,
    "start_time": "2023-06-09T11:43:26.655Z"
   },
   {
    "duration": 36,
    "start_time": "2023-06-09T11:43:26.663Z"
   },
   {
    "duration": 11,
    "start_time": "2023-06-09T11:43:26.701Z"
   },
   {
    "duration": 14,
    "start_time": "2023-06-09T11:43:26.713Z"
   },
   {
    "duration": 16,
    "start_time": "2023-06-09T11:43:26.728Z"
   },
   {
    "duration": 31,
    "start_time": "2023-06-09T11:43:26.745Z"
   },
   {
    "duration": 11,
    "start_time": "2023-06-09T11:43:26.777Z"
   },
   {
    "duration": 19,
    "start_time": "2023-06-09T11:43:26.790Z"
   },
   {
    "duration": 16,
    "start_time": "2023-06-09T11:43:26.810Z"
   },
   {
    "duration": 10,
    "start_time": "2023-06-09T11:43:26.828Z"
   },
   {
    "duration": 10,
    "start_time": "2023-06-09T11:43:26.840Z"
   },
   {
    "duration": 41,
    "start_time": "2023-06-09T11:43:26.852Z"
   },
   {
    "duration": 16,
    "start_time": "2023-06-09T11:43:26.894Z"
   },
   {
    "duration": 11,
    "start_time": "2023-06-09T11:43:26.914Z"
   },
   {
    "duration": 13,
    "start_time": "2023-06-09T11:43:26.926Z"
   },
   {
    "duration": 14,
    "start_time": "2023-06-09T11:43:26.940Z"
   },
   {
    "duration": 16,
    "start_time": "2023-06-09T11:43:26.955Z"
   },
   {
    "duration": 34,
    "start_time": "2023-06-09T11:43:26.972Z"
   },
   {
    "duration": 2,
    "start_time": "2023-06-09T11:43:27.008Z"
   },
   {
    "duration": 10,
    "start_time": "2023-06-09T11:43:27.011Z"
   },
   {
    "duration": 13,
    "start_time": "2023-06-09T11:43:27.022Z"
   },
   {
    "duration": 10,
    "start_time": "2023-06-09T11:43:27.037Z"
   },
   {
    "duration": 5,
    "start_time": "2023-06-09T11:43:27.048Z"
   },
   {
    "duration": 133,
    "start_time": "2023-06-09T11:43:27.054Z"
   },
   {
    "duration": 216,
    "start_time": "2023-06-09T11:43:27.188Z"
   },
   {
    "duration": 3,
    "start_time": "2023-06-09T11:43:27.405Z"
   },
   {
    "duration": 9,
    "start_time": "2023-06-09T11:43:27.410Z"
   },
   {
    "duration": 8,
    "start_time": "2023-06-09T11:43:27.420Z"
   },
   {
    "duration": 13,
    "start_time": "2023-06-09T11:43:27.430Z"
   },
   {
    "duration": 11,
    "start_time": "2023-06-09T11:43:27.445Z"
   },
   {
    "duration": 97,
    "start_time": "2023-06-09T11:43:27.457Z"
   },
   {
    "duration": 111,
    "start_time": "2023-06-09T11:43:27.555Z"
   },
   {
    "duration": 3,
    "start_time": "2023-06-09T11:43:27.667Z"
   },
   {
    "duration": 13,
    "start_time": "2023-06-09T11:43:27.671Z"
   },
   {
    "duration": 61,
    "start_time": "2023-06-09T13:39:55.384Z"
   },
   {
    "duration": 3841,
    "start_time": "2023-06-09T13:40:09.568Z"
   },
   {
    "duration": 1652,
    "start_time": "2023-06-09T13:40:13.411Z"
   },
   {
    "duration": 97,
    "start_time": "2023-06-09T13:40:15.065Z"
   },
   {
    "duration": 17,
    "start_time": "2023-06-09T13:40:15.164Z"
   },
   {
    "duration": 24,
    "start_time": "2023-06-09T13:40:15.183Z"
   },
   {
    "duration": 41,
    "start_time": "2023-06-09T13:40:15.209Z"
   },
   {
    "duration": 3,
    "start_time": "2023-06-09T13:40:15.252Z"
   },
   {
    "duration": 31,
    "start_time": "2023-06-09T13:40:15.256Z"
   },
   {
    "duration": 18,
    "start_time": "2023-06-09T13:40:15.289Z"
   },
   {
    "duration": 7248,
    "start_time": "2023-06-09T13:40:15.309Z"
   },
   {
    "duration": 2182,
    "start_time": "2023-06-09T13:40:22.560Z"
   },
   {
    "duration": 20,
    "start_time": "2023-06-09T13:40:24.744Z"
   },
   {
    "duration": 63,
    "start_time": "2023-06-09T13:40:24.767Z"
   },
   {
    "duration": 25,
    "start_time": "2023-06-09T13:40:24.832Z"
   },
   {
    "duration": 23,
    "start_time": "2023-06-09T13:40:24.858Z"
   },
   {
    "duration": 77,
    "start_time": "2023-06-09T13:40:24.882Z"
   },
   {
    "duration": 323,
    "start_time": "2023-06-09T13:40:24.961Z"
   },
   {
    "duration": 11924,
    "start_time": "2023-06-09T13:40:25.286Z"
   },
   {
    "duration": 216,
    "start_time": "2023-06-09T13:40:37.212Z"
   },
   {
    "duration": 38,
    "start_time": "2023-06-09T13:40:37.430Z"
   },
   {
    "duration": 178,
    "start_time": "2023-06-09T13:40:37.471Z"
   },
   {
    "duration": 13,
    "start_time": "2023-06-09T13:40:37.651Z"
   },
   {
    "duration": 21,
    "start_time": "2023-06-09T13:40:37.665Z"
   },
   {
    "duration": 26,
    "start_time": "2023-06-09T13:42:24.270Z"
   },
   {
    "duration": 68,
    "start_time": "2023-06-09T13:42:24.930Z"
   },
   {
    "duration": 20,
    "start_time": "2023-06-09T13:42:25.161Z"
   },
   {
    "duration": 13,
    "start_time": "2023-06-09T13:42:25.474Z"
   },
   {
    "duration": 67,
    "start_time": "2023-06-09T13:42:25.963Z"
   },
   {
    "duration": 395,
    "start_time": "2023-06-09T13:42:26.135Z"
   },
   {
    "duration": 12818,
    "start_time": "2023-06-09T13:42:26.532Z"
   },
   {
    "duration": 206,
    "start_time": "2023-06-09T13:42:39.351Z"
   },
   {
    "duration": 29,
    "start_time": "2023-06-09T13:42:39.563Z"
   },
   {
    "duration": 125,
    "start_time": "2023-06-09T13:42:39.594Z"
   },
   {
    "duration": 12,
    "start_time": "2023-06-09T13:42:39.721Z"
   },
   {
    "duration": 23,
    "start_time": "2023-06-09T13:42:39.746Z"
   },
   {
    "duration": 17,
    "start_time": "2023-06-09T13:42:39.771Z"
   },
   {
    "duration": 9,
    "start_time": "2023-06-09T13:42:39.792Z"
   },
   {
    "duration": 50,
    "start_time": "2023-06-09T13:42:39.803Z"
   },
   {
    "duration": 4,
    "start_time": "2023-06-09T13:42:39.855Z"
   },
   {
    "duration": 27,
    "start_time": "2023-06-09T13:42:39.861Z"
   },
   {
    "duration": 23,
    "start_time": "2023-06-09T13:42:39.891Z"
   },
   {
    "duration": 16,
    "start_time": "2023-06-09T13:42:39.916Z"
   },
   {
    "duration": 191,
    "start_time": "2023-06-09T13:42:39.934Z"
   },
   {
    "duration": 22,
    "start_time": "2023-06-09T13:42:40.127Z"
   },
   {
    "duration": 179,
    "start_time": "2023-06-09T13:42:40.154Z"
   },
   {
    "duration": 60,
    "start_time": "2023-06-09T13:42:40.335Z"
   },
   {
    "duration": 20,
    "start_time": "2023-06-09T13:42:40.397Z"
   },
   {
    "duration": 975,
    "start_time": "2023-06-09T13:42:40.419Z"
   },
   {
    "duration": 9,
    "start_time": "2023-06-09T13:42:41.396Z"
   },
   {
    "duration": 12,
    "start_time": "2023-06-09T13:42:41.407Z"
   },
   {
    "duration": 33,
    "start_time": "2023-06-09T13:42:41.421Z"
   },
   {
    "duration": 60,
    "start_time": "2023-06-09T13:42:41.457Z"
   },
   {
    "duration": 186,
    "start_time": "2023-06-09T13:42:41.519Z"
   },
   {
    "duration": 7,
    "start_time": "2023-06-09T13:42:41.707Z"
   },
   {
    "duration": 28,
    "start_time": "2023-06-09T13:42:41.715Z"
   },
   {
    "duration": 7,
    "start_time": "2023-06-09T13:42:42.319Z"
   },
   {
    "duration": 11,
    "start_time": "2023-06-09T13:42:42.894Z"
   },
   {
    "duration": 375,
    "start_time": "2023-06-09T13:42:43.365Z"
   },
   {
    "duration": 216,
    "start_time": "2023-06-09T13:42:44.687Z"
   },
   {
    "duration": 11,
    "start_time": "2023-06-09T13:42:46.461Z"
   },
   {
    "duration": 7,
    "start_time": "2023-06-09T13:42:46.955Z"
   },
   {
    "duration": 375,
    "start_time": "2023-06-09T13:42:47.628Z"
   },
   {
    "duration": 12,
    "start_time": "2023-06-09T13:42:51.642Z"
   },
   {
    "duration": 385,
    "start_time": "2023-06-09T13:42:52.283Z"
   },
   {
    "duration": 310,
    "start_time": "2023-06-09T13:43:05.196Z"
   },
   {
    "duration": 367,
    "start_time": "2023-06-09T13:43:13.709Z"
   },
   {
    "duration": 427,
    "start_time": "2023-06-09T13:43:39.987Z"
   },
   {
    "duration": 517,
    "start_time": "2023-06-09T13:43:52.663Z"
   },
   {
    "duration": 367,
    "start_time": "2023-06-09T13:43:56.901Z"
   },
   {
    "duration": 403,
    "start_time": "2023-06-09T13:44:22.587Z"
   },
   {
    "duration": 352,
    "start_time": "2023-06-09T13:44:26.483Z"
   },
   {
    "duration": 340,
    "start_time": "2023-06-09T13:44:33.111Z"
   },
   {
    "duration": 451,
    "start_time": "2023-06-09T13:44:36.487Z"
   },
   {
    "duration": 380,
    "start_time": "2023-06-09T13:44:56.723Z"
   },
   {
    "duration": 494,
    "start_time": "2023-06-09T13:45:01.421Z"
   },
   {
    "duration": 407,
    "start_time": "2023-06-09T13:45:07.687Z"
   },
   {
    "duration": 333,
    "start_time": "2023-06-09T13:45:27.501Z"
   },
   {
    "duration": 341,
    "start_time": "2023-06-09T13:45:30.880Z"
   },
   {
    "duration": 474,
    "start_time": "2023-06-09T13:45:34.990Z"
   },
   {
    "duration": 3803,
    "start_time": "2023-06-09T13:55:04.686Z"
   },
   {
    "duration": 31,
    "start_time": "2023-06-09T13:55:21.571Z"
   },
   {
    "duration": 17,
    "start_time": "2023-06-09T13:55:28.944Z"
   },
   {
    "duration": 12,
    "start_time": "2023-06-09T13:55:30.576Z"
   },
   {
    "duration": 9,
    "start_time": "2023-06-09T13:56:03.335Z"
   },
   {
    "duration": 437,
    "start_time": "2023-06-09T13:56:05.226Z"
   },
   {
    "duration": 8,
    "start_time": "2023-06-09T13:56:11.117Z"
   },
   {
    "duration": 310,
    "start_time": "2023-06-09T14:20:18.541Z"
   },
   {
    "duration": 322,
    "start_time": "2023-06-09T14:20:54.417Z"
   },
   {
    "duration": 331,
    "start_time": "2023-06-09T14:21:05.704Z"
   },
   {
    "duration": 411,
    "start_time": "2023-06-09T14:21:11.908Z"
   },
   {
    "duration": 308,
    "start_time": "2023-06-09T14:21:16.250Z"
   },
   {
    "duration": 295,
    "start_time": "2023-06-09T14:21:23.822Z"
   },
   {
    "duration": 124,
    "start_time": "2023-06-09T14:52:26.045Z"
   },
   {
    "duration": 3729,
    "start_time": "2023-06-09T18:28:28.202Z"
   },
   {
    "duration": 1431,
    "start_time": "2023-06-09T18:28:31.934Z"
   },
   {
    "duration": 220,
    "start_time": "2023-06-09T18:28:33.367Z"
   },
   {
    "duration": 23,
    "start_time": "2023-06-09T18:28:33.590Z"
   },
   {
    "duration": 14,
    "start_time": "2023-06-09T18:28:33.615Z"
   },
   {
    "duration": 23,
    "start_time": "2023-06-09T18:28:33.631Z"
   },
   {
    "duration": 3,
    "start_time": "2023-06-09T18:28:33.656Z"
   },
   {
    "duration": 37,
    "start_time": "2023-06-09T18:28:33.661Z"
   },
   {
    "duration": 5,
    "start_time": "2023-06-09T18:28:33.700Z"
   },
   {
    "duration": 5366,
    "start_time": "2023-06-09T18:28:33.706Z"
   },
   {
    "duration": 2168,
    "start_time": "2023-06-09T18:28:39.074Z"
   },
   {
    "duration": 27,
    "start_time": "2023-06-09T18:28:41.244Z"
   },
   {
    "duration": 61,
    "start_time": "2023-06-09T18:28:41.279Z"
   },
   {
    "duration": 42,
    "start_time": "2023-06-09T18:28:41.343Z"
   },
   {
    "duration": 11,
    "start_time": "2023-06-09T18:28:41.387Z"
   },
   {
    "duration": 54,
    "start_time": "2023-06-09T18:28:41.400Z"
   },
   {
    "duration": 317,
    "start_time": "2023-06-09T18:28:41.456Z"
   },
   {
    "duration": 12052,
    "start_time": "2023-06-09T18:28:41.775Z"
   },
   {
    "duration": 227,
    "start_time": "2023-06-09T18:28:53.829Z"
   },
   {
    "duration": 45,
    "start_time": "2023-06-09T18:28:54.059Z"
   },
   {
    "duration": 205,
    "start_time": "2023-06-09T18:28:54.107Z"
   },
   {
    "duration": 13,
    "start_time": "2023-06-09T18:28:54.315Z"
   },
   {
    "duration": 7,
    "start_time": "2023-06-09T18:28:54.329Z"
   },
   {
    "duration": 11,
    "start_time": "2023-06-09T18:28:54.337Z"
   },
   {
    "duration": 9,
    "start_time": "2023-06-09T18:28:54.350Z"
   },
   {
    "duration": 64,
    "start_time": "2023-06-09T18:28:54.362Z"
   },
   {
    "duration": 3,
    "start_time": "2023-06-09T18:28:54.427Z"
   },
   {
    "duration": 7,
    "start_time": "2023-06-09T18:28:54.431Z"
   },
   {
    "duration": 10,
    "start_time": "2023-06-09T18:28:54.439Z"
   },
   {
    "duration": 5,
    "start_time": "2023-06-09T18:28:54.450Z"
   },
   {
    "duration": 204,
    "start_time": "2023-06-09T18:28:54.456Z"
   },
   {
    "duration": 24,
    "start_time": "2023-06-09T18:28:54.662Z"
   },
   {
    "duration": 183,
    "start_time": "2023-06-09T18:28:54.688Z"
   },
   {
    "duration": 42,
    "start_time": "2023-06-09T18:28:54.873Z"
   },
   {
    "duration": 3,
    "start_time": "2023-06-09T18:28:54.916Z"
   },
   {
    "duration": 924,
    "start_time": "2023-06-09T18:28:54.921Z"
   },
   {
    "duration": 10,
    "start_time": "2023-06-09T18:28:55.848Z"
   },
   {
    "duration": 31,
    "start_time": "2023-06-09T18:28:55.860Z"
   },
   {
    "duration": 11,
    "start_time": "2023-06-09T18:28:55.893Z"
   },
   {
    "duration": 122,
    "start_time": "2023-06-09T18:28:55.906Z"
   },
   {
    "duration": 202,
    "start_time": "2023-06-09T18:28:56.035Z"
   },
   {
    "duration": 8,
    "start_time": "2023-06-09T18:28:56.240Z"
   },
   {
    "duration": 12,
    "start_time": "2023-06-09T18:28:56.250Z"
   },
   {
    "duration": 43,
    "start_time": "2023-06-09T18:28:56.264Z"
   },
   {
    "duration": 11,
    "start_time": "2023-06-09T18:28:56.310Z"
   },
   {
    "duration": 270,
    "start_time": "2023-06-09T18:28:56.323Z"
   },
   {
    "duration": 202,
    "start_time": "2023-06-09T18:28:56.595Z"
   },
   {
    "duration": 11,
    "start_time": "2023-06-09T18:28:56.799Z"
   },
   {
    "duration": 20,
    "start_time": "2023-06-09T18:28:56.812Z"
   },
   {
    "duration": 369,
    "start_time": "2023-06-09T18:28:56.834Z"
   },
   {
    "duration": 6,
    "start_time": "2023-06-09T18:28:57.205Z"
   },
   {
    "duration": 334,
    "start_time": "2023-06-09T18:28:57.213Z"
   },
   {
    "duration": 365,
    "start_time": "2023-06-09T18:28:57.549Z"
   },
   {
    "duration": 12,
    "start_time": "2023-06-09T18:28:57.916Z"
   },
   {
    "duration": 12,
    "start_time": "2023-06-09T18:28:57.929Z"
   },
   {
    "duration": 307,
    "start_time": "2023-06-09T18:28:57.943Z"
   },
   {
    "duration": 288,
    "start_time": "2023-06-09T18:28:58.251Z"
   },
   {
    "duration": 11,
    "start_time": "2023-06-09T18:28:58.541Z"
   },
   {
    "duration": 33,
    "start_time": "2023-06-09T18:28:58.554Z"
   },
   {
    "duration": 33,
    "start_time": "2023-06-09T18:28:58.589Z"
   },
   {
    "duration": 16,
    "start_time": "2023-06-09T18:28:58.623Z"
   },
   {
    "duration": 8,
    "start_time": "2023-06-09T18:28:58.641Z"
   },
   {
    "duration": 34,
    "start_time": "2023-06-09T18:28:58.651Z"
   },
   {
    "duration": 22,
    "start_time": "2023-06-09T18:28:58.687Z"
   },
   {
    "duration": 12,
    "start_time": "2023-06-09T18:28:58.711Z"
   },
   {
    "duration": 8,
    "start_time": "2023-06-09T18:28:58.725Z"
   },
   {
    "duration": 9,
    "start_time": "2023-06-09T18:28:58.734Z"
   },
   {
    "duration": 42,
    "start_time": "2023-06-09T18:28:58.744Z"
   },
   {
    "duration": 426,
    "start_time": "2023-06-09T18:28:58.788Z"
   },
   {
    "duration": 18,
    "start_time": "2023-06-09T18:28:59.216Z"
   },
   {
    "duration": 15,
    "start_time": "2023-06-09T18:28:59.235Z"
   },
   {
    "duration": 42,
    "start_time": "2023-06-09T18:28:59.252Z"
   },
   {
    "duration": 21,
    "start_time": "2023-06-09T18:28:59.296Z"
   },
   {
    "duration": 14,
    "start_time": "2023-06-09T18:28:59.319Z"
   },
   {
    "duration": 15,
    "start_time": "2023-06-09T18:28:59.334Z"
   },
   {
    "duration": 42,
    "start_time": "2023-06-09T18:28:59.351Z"
   },
   {
    "duration": 21,
    "start_time": "2023-06-09T18:28:59.395Z"
   },
   {
    "duration": 15,
    "start_time": "2023-06-09T18:28:59.418Z"
   },
   {
    "duration": 46,
    "start_time": "2023-06-09T18:28:59.435Z"
   },
   {
    "duration": 24,
    "start_time": "2023-06-09T18:28:59.484Z"
   },
   {
    "duration": 33,
    "start_time": "2023-06-09T18:28:59.511Z"
   },
   {
    "duration": 49,
    "start_time": "2023-06-09T18:28:59.546Z"
   },
   {
    "duration": 16,
    "start_time": "2023-06-09T18:28:59.597Z"
   },
   {
    "duration": 14,
    "start_time": "2023-06-09T18:28:59.614Z"
   },
   {
    "duration": 19,
    "start_time": "2023-06-09T18:28:59.630Z"
   },
   {
    "duration": 41,
    "start_time": "2023-06-09T18:28:59.651Z"
   },
   {
    "duration": 3,
    "start_time": "2023-06-09T18:28:59.694Z"
   },
   {
    "duration": 14,
    "start_time": "2023-06-09T18:28:59.698Z"
   },
   {
    "duration": 8,
    "start_time": "2023-06-09T18:28:59.713Z"
   },
   {
    "duration": 5,
    "start_time": "2023-06-09T18:28:59.722Z"
   },
   {
    "duration": 5,
    "start_time": "2023-06-09T18:28:59.729Z"
   },
   {
    "duration": 186,
    "start_time": "2023-06-09T18:28:59.737Z"
   },
   {
    "duration": 168,
    "start_time": "2023-06-09T18:28:59.925Z"
   },
   {
    "duration": 4,
    "start_time": "2023-06-09T18:29:00.095Z"
   },
   {
    "duration": 30,
    "start_time": "2023-06-09T18:29:00.102Z"
   },
   {
    "duration": 48,
    "start_time": "2023-06-09T18:29:00.135Z"
   },
   {
    "duration": 44,
    "start_time": "2023-06-09T18:29:00.186Z"
   },
   {
    "duration": 24,
    "start_time": "2023-06-09T18:29:00.232Z"
   },
   {
    "duration": 152,
    "start_time": "2023-06-09T18:29:00.258Z"
   },
   {
    "duration": 145,
    "start_time": "2023-06-09T18:29:00.412Z"
   },
   {
    "duration": 4,
    "start_time": "2023-06-09T18:29:00.559Z"
   },
   {
    "duration": 28,
    "start_time": "2023-06-09T18:29:00.574Z"
   },
   {
    "duration": 297,
    "start_time": "2023-06-09T18:33:01.898Z"
   }
  ],
  "celltoolbar": "Отсутствует",
  "kernelspec": {
   "display_name": "Python 3",
   "language": "python",
   "name": "python3"
  },
  "language_info": {
   "codemirror_mode": {
    "name": "ipython",
    "version": 3
   },
   "file_extension": ".py",
   "mimetype": "text/x-python",
   "name": "python",
   "nbconvert_exporter": "python",
   "pygments_lexer": "ipython3",
   "version": "3.8.8"
  },
  "toc": {
   "base_numbering": 1,
   "nav_menu": {},
   "number_sections": true,
   "sideBar": true,
   "skip_h1_title": true,
   "title_cell": "Table of Contents",
   "title_sidebar": "Contents",
   "toc_cell": false,
   "toc_position": {},
   "toc_section_display": true,
   "toc_window_display": false
  }
 },
 "nbformat": 4,
 "nbformat_minor": 5
}
