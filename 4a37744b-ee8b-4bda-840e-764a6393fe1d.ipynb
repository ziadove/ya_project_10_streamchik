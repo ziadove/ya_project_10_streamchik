{
 "cells": [
  {
   "cell_type": "markdown",
   "id": "c26f1efd",
   "metadata": {},
   "source": [
    "# Описание проекта"
   ]
  },
  {
   "cell_type": "markdown",
   "id": "ff84caf7",
   "metadata": {},
   "source": [
    "Вы работаете в интернет-магазине «Стримчик», который продаёт по всему миру компьютерные игры. Из открытых источников доступны исторические данные о продажах игр, оценки пользователей и экспертов, жанры и платформы (например, Xbox или PlayStation). Вам нужно выявить определяющие успешность игры закономерности. Это позволит сделать ставку на потенциально популярный продукт и спланировать рекламные кампании.\n",
    "\n",
    "Перед вами данные до 2016 года. Представим, что сейчас декабрь 2016 г., и вы планируете кампанию на 2017-й. Нужно отработать принцип работы с данными. Неважно, прогнозируете ли вы продажи на 2017 год по данным 2016-го или же 2027-й — по данным 2026 года.\n",
    "\n",
    "В наборе данных попадается аббревиатура ESRB (Entertainment Software Rating Board) — это ассоциация, определяющая возрастной рейтинг компьютерных игр. ESRB оценивает игровой контент и присваивает ему подходящую возрастную категорию, например, «Для взрослых», «Для детей младшего возраста» или «Для подростков»."
   ]
  },
  {
   "cell_type": "markdown",
   "id": "54b769a5",
   "metadata": {},
   "source": [
    "# Описание данных:"
   ]
  },
  {
   "cell_type": "markdown",
   "id": "5a03cc67",
   "metadata": {},
   "source": [
    "• Name — название игры\n",
    "\n",
    "• Platform — платформа\n",
    "\n",
    "• Year_of_Release — год выпуска\n",
    "\n",
    "• Genre — жанр игры\n",
    "\n",
    "• NA_sales — продажи в Северной Америке (миллионы проданных копий)\n",
    "\n",
    "• EU_sales — продажи в Европе (миллионы проданных копий)\n",
    "\n",
    "• JP_sales — продажи в Японии (миллионы проданных копий)\n",
    "\n",
    "• Other_sales — продажи в других странах (миллионы проданных копий)\n",
    "\n",
    "• Critic_Score — оценка критиков (максимум 100)\n",
    "\n",
    "• User_Score — оценка пользователей (максимум 10)\n",
    "\n",
    "• Rating — рейтинг от организации ESRB (англ. Entertainment Software Rating Board). Эта ассоциация определяет рейтинг компьютерных игр и присваивает им подходящую возрастную категорию.\n",
    "\n",
    "Данные за 2016 год могут быть неполными."
   ]
  },
  {
   "cell_type": "markdown",
   "id": "c290ddce",
   "metadata": {},
   "source": [
    "# Рейтинг ESRB (Entertainment Software Rating Board) - данные с [википедии:](https://ru.wikipedia.org/wiki/Entertainment_Software_Rating_Board)"
   ]
  },
  {
   "cell_type": "markdown",
   "id": "28f0269c",
   "metadata": {},
   "source": [
    "Рейтинг игр ESRB основан на их содержании аналогично рейтинговым системам кино. Рейтинг игры напечатан на упаковке, содержится в её рекламе и указан на сайте игры. Компании не обязаны предоставлять игру на определение рейтинга до начала официальных продаж, так как её содержимое может значительно измениться в ходе разработки.\n",
    "\n",
    "Рейтинг состоит из двух частей: знака рейтинга и краткого описания содержимого. Знак рейтинга обычно располагается в нижнем левом или правом углу на лицевой стороне упаковки и определяет наиболее подходящую возрастную категорию для игры. Описание содержимого располагается на обратной стороне коробки, обычно в нижнем левом или правом углу и перечисляет некоторые элементы содержания игры:\n",
    "- «EC» («Early childhood») — «Для детей младшего возраста»: Игра подходит для детей от 3 лет и не содержит материалов, которые родители могли бы счесть неподходящими. Продукты, получившие данный рейтинг, изначально разрабатываются для детей и обычно представляют собой развивающие игры.\n",
    "\n",
    "- «E» («Everyone») — «Для всех»: Содержание вполне подходит для всех возрастов. Такие игры могут понравиться и взрослым. Игры с этим рейтингом могут содержать минимальное насилие, в основном «мультяшного» характера. Первоначально \"K-A\" (\"Kids to Adults\"):\n",
    "\n",
    "- «E10+» («Everyone 10 and older») — «Для всех от 10 лет и старше»: Проекты с данным рейтингом могут содержать больше мультипликационного или мягкого насилия, или несколько откровенные сцены, или минимальное количество крови. Рейтинг был принят ESRB 2 марта 2005 года.\n",
    "\n",
    "- «T» («Teen») — «Подросткам»: Игра подходит для лиц от 13 лет. Проекты из данной категории могут содержать насилие, непристойные сцены, грубый юмор, в меру откровенное сексуальное содержимое, кровь или нечастое использование ненормативной лексики.\n",
    "\n",
    "- «M» («Mature») — «Для взрослых»: Материалы игры не подходят для лиц младше 17 лет. Проекты с данным рейтингом могут содержать жестокое насилие, большое количество крови с расчленением, непристойные сексуальные сцены или грубую ненормативную лексику.\n",
    "\n",
    "- «AO» («Adults Only 18+») — «Только для взрослых»: Содержание игры только для взрослых старше 18 лет. Продукты из данной категории могут содержать длительные сцены жестокого насилия и/или очень откровенное сексуальное содержимое.\n",
    "\n",
    "- «RP» («Rating Pending») — «Рейтинг ожидается»: Продукт был отправлен в ESRB и ожидает присвоения рейтинга. Данный логотип используется только на рекламных презентациях и в демо-версиях игр до официальной даты выпуска в продажу:\n",
    "\n",
    "- «RP 17+» («Rating Pending») — «Рейтинг ожидается - примерно 17+»: Продукт отправлен ESRB на оценку, но примерное содержание близко к рейтингу «M». Данная маркировка была введена с 2021 г. и распространяется на демо или презентационный вариант"
   ]
  },
  {
   "cell_type": "markdown",
   "id": "92bc9913",
   "metadata": {},
   "source": [
    "# Дополнительно:"
   ]
  },
  {
   "cell_type": "markdown",
   "id": "0d874cf2",
   "metadata": {},
   "source": [
    "Для заполнения пропусков использовлись датасеты с kaggle:\n",
    "- [датасет 'all_games'](https://www.kaggle.com/datasets/henrylin03/metacritic-games-user-reviews-and-metascores);\n",
    "- [датасет 'metacritic'](https://www.kaggle.com/datasets/deepcontractor/top-video-games-19952021-metacritic)."
   ]
  },
  {
   "cell_type": "markdown",
   "id": "3a308e55",
   "metadata": {},
   "source": [
    "# Ход работы:"
   ]
  },
  {
   "cell_type": "markdown",
   "id": "074099a6",
   "metadata": {},
   "source": [
    "[1.1. Загрузка данных. Импорт библиотек.](#import)\n",
    "\n",
    "[1.2. Работа с пропусками.](#nan)\n",
    "\n",
    "[2. Исследовательский анализ данных](#eda)\n",
    "\n",
    "[3. Портрет пользователя каждого региона:](#user)\n",
    "- самые популярные платформы (топ-5);\n",
    "- самые популярные жанры (топ-5);\n",
    "- влияние рейтинга ESRB на продажи;\n",
    "- самые популярные игры (топ-5).\n",
    "\n",
    "[Промежуточный вывод - Северная Америка.](#conclusion_2)\n",
    "\n",
    "[Промежуточный вывод - Европа.](#conclusion_3)\n",
    "\n",
    "[Промежуточный вывод - Япония.](#conclusion_4)\n",
    "\n",
    "[Промежуточный вывод - продажи в других странах.](#conclusion_5)\n",
    "\n",
    "[4. Проверка гипотез.](#hypotesis)\n",
    "\n",
    "[Общий вывод.](#conclusion_7)"
   ]
  },
  {
   "cell_type": "markdown",
   "id": "51658890",
   "metadata": {},
   "source": [
    "<a id=\"import\"> </a>\n",
    "# 1.1. Загрузка данных. Импорт библиотек."
   ]
  },
  {
   "cell_type": "code",
   "execution_count": 1,
   "id": "62479ac5",
   "metadata": {},
   "outputs": [
    {
     "name": "stdout",
     "output_type": "stream",
     "text": [
      "Collecting phik\n",
      "  Downloading phik-0.12.3-cp39-cp39-manylinux_2_17_x86_64.manylinux2014_x86_64.whl (679 kB)\n",
      "\u001b[K     |████████████████████████████████| 679 kB 1.2 MB/s eta 0:00:01\n",
      "\u001b[?25hRequirement already satisfied: joblib>=0.14.1 in /opt/conda/lib/python3.9/site-packages (from phik) (1.1.0)\n",
      "Requirement already satisfied: scipy>=1.5.2 in /opt/conda/lib/python3.9/site-packages (from phik) (1.9.1)\n",
      "Requirement already satisfied: matplotlib>=2.2.3 in /opt/conda/lib/python3.9/site-packages (from phik) (3.3.4)\n",
      "Requirement already satisfied: pandas>=0.25.1 in /opt/conda/lib/python3.9/site-packages (from phik) (1.2.4)\n",
      "Requirement already satisfied: numpy>=1.18.0 in /opt/conda/lib/python3.9/site-packages (from phik) (1.21.1)\n",
      "Requirement already satisfied: python-dateutil>=2.1 in /opt/conda/lib/python3.9/site-packages (from matplotlib>=2.2.3->phik) (2.8.1)\n",
      "Requirement already satisfied: pillow>=6.2.0 in /opt/conda/lib/python3.9/site-packages (from matplotlib>=2.2.3->phik) (8.4.0)\n",
      "Requirement already satisfied: pyparsing!=2.0.4,!=2.1.2,!=2.1.6,>=2.0.3 in /opt/conda/lib/python3.9/site-packages (from matplotlib>=2.2.3->phik) (2.4.7)\n",
      "Requirement already satisfied: kiwisolver>=1.0.1 in /opt/conda/lib/python3.9/site-packages (from matplotlib>=2.2.3->phik) (1.4.4)\n",
      "Requirement already satisfied: cycler>=0.10 in /opt/conda/lib/python3.9/site-packages (from matplotlib>=2.2.3->phik) (0.11.0)\n",
      "Requirement already satisfied: pytz>=2017.3 in /opt/conda/lib/python3.9/site-packages (from pandas>=0.25.1->phik) (2021.1)\n",
      "Requirement already satisfied: six>=1.5 in /opt/conda/lib/python3.9/site-packages (from python-dateutil>=2.1->matplotlib>=2.2.3->phik) (1.16.0)\n",
      "Installing collected packages: phik\n",
      "Successfully installed phik-0.12.3\n"
     ]
    }
   ],
   "source": [
    "!pip install phik "
   ]
  },
  {
   "cell_type": "code",
   "execution_count": 2,
   "id": "fbcfd855",
   "metadata": {},
   "outputs": [],
   "source": [
    "import warnings\n",
    "warnings.simplefilter(action='ignore', category=FutureWarning)\n",
    "\n",
    "import pandas as pd\n",
    "import numpy as np\n",
    "\n",
    "import phik\n",
    "\n",
    "from scipy.stats import mannwhitneyu\n",
    "\n",
    "import matplotlib.pyplot as plt\n",
    "import seaborn as sns"
   ]
  },
  {
   "cell_type": "code",
   "execution_count": 3,
   "id": "4d3c642a",
   "metadata": {},
   "outputs": [],
   "source": [
    "games = pd.read_csv('/datasets/games.csv')"
   ]
  },
  {
   "cell_type": "code",
   "execution_count": 4,
   "id": "4eae65a7",
   "metadata": {},
   "outputs": [
    {
     "data": {
      "text/html": [
       "<div>\n",
       "<style scoped>\n",
       "    .dataframe tbody tr th:only-of-type {\n",
       "        vertical-align: middle;\n",
       "    }\n",
       "\n",
       "    .dataframe tbody tr th {\n",
       "        vertical-align: top;\n",
       "    }\n",
       "\n",
       "    .dataframe thead th {\n",
       "        text-align: right;\n",
       "    }\n",
       "</style>\n",
       "<table border=\"1\" class=\"dataframe\">\n",
       "  <thead>\n",
       "    <tr style=\"text-align: right;\">\n",
       "      <th></th>\n",
       "      <th>Name</th>\n",
       "      <th>Platform</th>\n",
       "      <th>Year_of_Release</th>\n",
       "      <th>Genre</th>\n",
       "      <th>NA_sales</th>\n",
       "      <th>EU_sales</th>\n",
       "      <th>JP_sales</th>\n",
       "      <th>Other_sales</th>\n",
       "      <th>Critic_Score</th>\n",
       "      <th>User_Score</th>\n",
       "      <th>Rating</th>\n",
       "    </tr>\n",
       "  </thead>\n",
       "  <tbody>\n",
       "    <tr>\n",
       "      <th>0</th>\n",
       "      <td>Wii Sports</td>\n",
       "      <td>Wii</td>\n",
       "      <td>2006.0</td>\n",
       "      <td>Sports</td>\n",
       "      <td>41.36</td>\n",
       "      <td>28.96</td>\n",
       "      <td>3.77</td>\n",
       "      <td>8.45</td>\n",
       "      <td>76.0</td>\n",
       "      <td>8</td>\n",
       "      <td>E</td>\n",
       "    </tr>\n",
       "    <tr>\n",
       "      <th>1</th>\n",
       "      <td>Super Mario Bros.</td>\n",
       "      <td>NES</td>\n",
       "      <td>1985.0</td>\n",
       "      <td>Platform</td>\n",
       "      <td>29.08</td>\n",
       "      <td>3.58</td>\n",
       "      <td>6.81</td>\n",
       "      <td>0.77</td>\n",
       "      <td>NaN</td>\n",
       "      <td>NaN</td>\n",
       "      <td>NaN</td>\n",
       "    </tr>\n",
       "    <tr>\n",
       "      <th>2</th>\n",
       "      <td>Mario Kart Wii</td>\n",
       "      <td>Wii</td>\n",
       "      <td>2008.0</td>\n",
       "      <td>Racing</td>\n",
       "      <td>15.68</td>\n",
       "      <td>12.76</td>\n",
       "      <td>3.79</td>\n",
       "      <td>3.29</td>\n",
       "      <td>82.0</td>\n",
       "      <td>8.3</td>\n",
       "      <td>E</td>\n",
       "    </tr>\n",
       "  </tbody>\n",
       "</table>\n",
       "</div>"
      ],
      "text/plain": [
       "                Name Platform  Year_of_Release     Genre  NA_sales  EU_sales  \\\n",
       "0         Wii Sports      Wii           2006.0    Sports     41.36     28.96   \n",
       "1  Super Mario Bros.      NES           1985.0  Platform     29.08      3.58   \n",
       "2     Mario Kart Wii      Wii           2008.0    Racing     15.68     12.76   \n",
       "\n",
       "   JP_sales  Other_sales  Critic_Score User_Score Rating  \n",
       "0      3.77         8.45          76.0          8      E  \n",
       "1      6.81         0.77           NaN        NaN    NaN  \n",
       "2      3.79         3.29          82.0        8.3      E  "
      ]
     },
     "execution_count": 4,
     "metadata": {},
     "output_type": "execute_result"
    }
   ],
   "source": [
    "games.head(3)"
   ]
  },
  {
   "cell_type": "code",
   "execution_count": 5,
   "id": "d6bba3ed",
   "metadata": {},
   "outputs": [
    {
     "name": "stdout",
     "output_type": "stream",
     "text": [
      "<class 'pandas.core.frame.DataFrame'>\n",
      "RangeIndex: 16715 entries, 0 to 16714\n",
      "Data columns (total 11 columns):\n",
      " #   Column           Non-Null Count  Dtype  \n",
      "---  ------           --------------  -----  \n",
      " 0   Name             16713 non-null  object \n",
      " 1   Platform         16715 non-null  object \n",
      " 2   Year_of_Release  16446 non-null  float64\n",
      " 3   Genre            16713 non-null  object \n",
      " 4   NA_sales         16715 non-null  float64\n",
      " 5   EU_sales         16715 non-null  float64\n",
      " 6   JP_sales         16715 non-null  float64\n",
      " 7   Other_sales      16715 non-null  float64\n",
      " 8   Critic_Score     8137 non-null   float64\n",
      " 9   User_Score       10014 non-null  object \n",
      " 10  Rating           9949 non-null   object \n",
      "dtypes: float64(6), object(5)\n",
      "memory usage: 1.4+ MB\n"
     ]
    }
   ],
   "source": [
    "games.info()"
   ]
  },
  {
   "cell_type": "code",
   "execution_count": 6,
   "id": "d10807e0",
   "metadata": {},
   "outputs": [],
   "source": [
    "games.duplicated().sum()\n",
    "games = games.drop_duplicates()"
   ]
  },
  {
   "cell_type": "markdown",
   "id": "9ef6c851",
   "metadata": {},
   "source": [
    "В датасете 16715 строк и 11 столбцов.\n",
    "\n",
    "Явных дубликатов - нет.\n",
    "\n",
    "Пропущенные значения в шести столбцах:\n",
    "- Name и Genre - по 2 пропущенных значения,\n",
    "- Year_of_Release - 269 пропущенных значений,\n",
    "- Critic_Score, User_Score, Rating - половина и более пропущенных строк.\n",
    "\n",
    "Дополнительно:\n",
    "- необходимо привести названия столбцов к нижнему регистру."
   ]
  },
  {
   "cell_type": "code",
   "execution_count": 7,
   "id": "57937d83",
   "metadata": {},
   "outputs": [],
   "source": [
    "games.columns = [i.lower() for i in games.columns]"
   ]
  },
  {
   "cell_type": "code",
   "execution_count": 8,
   "id": "0a5fdb2a",
   "metadata": {},
   "outputs": [
    {
     "data": {
      "text/html": [
       "<div>\n",
       "<style scoped>\n",
       "    .dataframe tbody tr th:only-of-type {\n",
       "        vertical-align: middle;\n",
       "    }\n",
       "\n",
       "    .dataframe tbody tr th {\n",
       "        vertical-align: top;\n",
       "    }\n",
       "\n",
       "    .dataframe thead th {\n",
       "        text-align: right;\n",
       "    }\n",
       "</style>\n",
       "<table border=\"1\" class=\"dataframe\">\n",
       "  <thead>\n",
       "    <tr style=\"text-align: right;\">\n",
       "      <th></th>\n",
       "      <th>name</th>\n",
       "      <th>platform</th>\n",
       "      <th>year_of_release</th>\n",
       "      <th>genre</th>\n",
       "      <th>na_sales</th>\n",
       "      <th>eu_sales</th>\n",
       "      <th>jp_sales</th>\n",
       "      <th>other_sales</th>\n",
       "      <th>critic_score</th>\n",
       "      <th>user_score</th>\n",
       "      <th>rating</th>\n",
       "    </tr>\n",
       "  </thead>\n",
       "  <tbody>\n",
       "    <tr>\n",
       "      <th>604</th>\n",
       "      <td>Madden NFL 13</td>\n",
       "      <td>PS3</td>\n",
       "      <td>2012.0</td>\n",
       "      <td>Sports</td>\n",
       "      <td>2.11</td>\n",
       "      <td>0.22</td>\n",
       "      <td>0.00</td>\n",
       "      <td>0.23</td>\n",
       "      <td>83.0</td>\n",
       "      <td>5.5</td>\n",
       "      <td>E</td>\n",
       "    </tr>\n",
       "    <tr>\n",
       "      <th>659</th>\n",
       "      <td>NaN</td>\n",
       "      <td>GEN</td>\n",
       "      <td>1993.0</td>\n",
       "      <td>NaN</td>\n",
       "      <td>1.78</td>\n",
       "      <td>0.53</td>\n",
       "      <td>0.00</td>\n",
       "      <td>0.08</td>\n",
       "      <td>NaN</td>\n",
       "      <td>NaN</td>\n",
       "      <td>NaN</td>\n",
       "    </tr>\n",
       "    <tr>\n",
       "      <th>14244</th>\n",
       "      <td>NaN</td>\n",
       "      <td>GEN</td>\n",
       "      <td>1993.0</td>\n",
       "      <td>NaN</td>\n",
       "      <td>0.00</td>\n",
       "      <td>0.00</td>\n",
       "      <td>0.03</td>\n",
       "      <td>0.00</td>\n",
       "      <td>NaN</td>\n",
       "      <td>NaN</td>\n",
       "      <td>NaN</td>\n",
       "    </tr>\n",
       "    <tr>\n",
       "      <th>16230</th>\n",
       "      <td>Madden NFL 13</td>\n",
       "      <td>PS3</td>\n",
       "      <td>2012.0</td>\n",
       "      <td>Sports</td>\n",
       "      <td>0.00</td>\n",
       "      <td>0.01</td>\n",
       "      <td>0.00</td>\n",
       "      <td>0.00</td>\n",
       "      <td>83.0</td>\n",
       "      <td>5.5</td>\n",
       "      <td>E</td>\n",
       "    </tr>\n",
       "  </tbody>\n",
       "</table>\n",
       "</div>"
      ],
      "text/plain": [
       "                name platform  year_of_release   genre  na_sales  eu_sales  \\\n",
       "604    Madden NFL 13      PS3           2012.0  Sports      2.11      0.22   \n",
       "659              NaN      GEN           1993.0     NaN      1.78      0.53   \n",
       "14244            NaN      GEN           1993.0     NaN      0.00      0.00   \n",
       "16230  Madden NFL 13      PS3           2012.0  Sports      0.00      0.01   \n",
       "\n",
       "       jp_sales  other_sales  critic_score user_score rating  \n",
       "604        0.00         0.23          83.0        5.5      E  \n",
       "659        0.00         0.08           NaN        NaN    NaN  \n",
       "14244      0.03         0.00           NaN        NaN    NaN  \n",
       "16230      0.00         0.00          83.0        5.5      E  "
      ]
     },
     "execution_count": 8,
     "metadata": {},
     "output_type": "execute_result"
    }
   ],
   "source": [
    "# проверка на явные дубликаты\n",
    "\n",
    "games[games[['name', 'platform','year_of_release']].duplicated(keep=False)]"
   ]
  },
  {
   "cell_type": "code",
   "execution_count": 9,
   "id": "c48fb2a8",
   "metadata": {},
   "outputs": [],
   "source": [
    "games.drop(index=[16230], inplace=True)"
   ]
  },
  {
   "cell_type": "markdown",
   "id": "b210d5be",
   "metadata": {},
   "source": [
    "<a id=\"nan\"> </a>\n",
    "# 1.2. Работа с пропусками."
   ]
  },
  {
   "cell_type": "code",
   "execution_count": 10,
   "id": "4e185fe6",
   "metadata": {},
   "outputs": [],
   "source": [
    "all_games = pd.read_csv('https://drive.google.com/u/0/uc?id=1D7Fhpk7tFLKwKQB557lQXPTi6Qsu6W77&export=download')"
   ]
  },
  {
   "cell_type": "markdown",
   "id": "1c00be89",
   "metadata": {},
   "source": [
    "</div>"
   ]
  },
  {
   "cell_type": "code",
   "execution_count": 11,
   "id": "d4000ac4",
   "metadata": {},
   "outputs": [],
   "source": [
    "metacritic = pd.read_csv('https://drive.google.com/u/0/uc?id=1WHOb1eKLyVDVRcAyn92Gtr07Iom7ylz4&export=download')"
   ]
  },
  {
   "cell_type": "code",
   "execution_count": 12,
   "id": "6b6f4eaa",
   "metadata": {},
   "outputs": [
    {
     "name": "stdout",
     "output_type": "stream",
     "text": [
      "<class 'pandas.core.frame.DataFrame'>\n",
      "RangeIndex: 20422 entries, 0 to 20421\n",
      "Data columns (total 18 columns):\n",
      " #   Column           Non-Null Count  Dtype \n",
      "---  ------           --------------  ----- \n",
      " 0   name             20422 non-null  object\n",
      " 1   platform         20422 non-null  object\n",
      " 2   developer        20385 non-null  object\n",
      " 3   publisher        20416 non-null  object\n",
      " 4   genre(s)         20422 non-null  object\n",
      " 5   players          13193 non-null  object\n",
      " 6   rating           18131 non-null  object\n",
      " 7   attribute        324 non-null    object\n",
      " 8   release_date     20422 non-null  object\n",
      " 9   link             20422 non-null  object\n",
      " 10  critic_positive  20422 non-null  int64 \n",
      " 11  critic_neutral   20422 non-null  int64 \n",
      " 12  critic_negative  20422 non-null  int64 \n",
      " 13  metascore        20422 non-null  int64 \n",
      " 14  user_positive    20422 non-null  int64 \n",
      " 15  user_neutral     20422 non-null  int64 \n",
      " 16  user_negative    20422 non-null  int64 \n",
      " 17  user_score       20422 non-null  object\n",
      "dtypes: int64(7), object(11)\n",
      "memory usage: 2.8+ MB\n"
     ]
    }
   ],
   "source": [
    "metacritic.info()"
   ]
  },
  {
   "cell_type": "code",
   "execution_count": 13,
   "id": "bdd417d5",
   "metadata": {},
   "outputs": [
    {
     "name": "stdout",
     "output_type": "stream",
     "text": [
      "<class 'pandas.core.frame.DataFrame'>\n",
      "RangeIndex: 142417 entries, 0 to 142416\n",
      "Data columns (total 6 columns):\n",
      " #   Column        Non-Null Count   Dtype \n",
      "---  ------        --------------   ----- \n",
      " 0   name          142417 non-null  object\n",
      " 1   platform      142417 non-null  object\n",
      " 2   release_date  142417 non-null  object\n",
      " 3   summary       124702 non-null  object\n",
      " 4   metascore     142417 non-null  object\n",
      " 5   userscore     142417 non-null  object\n",
      "dtypes: object(6)\n",
      "memory usage: 6.5+ MB\n"
     ]
    }
   ],
   "source": [
    "all_games.info()"
   ]
  },
  {
   "cell_type": "code",
   "execution_count": 14,
   "id": "915ace91",
   "metadata": {},
   "outputs": [
    {
     "data": {
      "text/html": [
       "<div>\n",
       "<style scoped>\n",
       "    .dataframe tbody tr th:only-of-type {\n",
       "        vertical-align: middle;\n",
       "    }\n",
       "\n",
       "    .dataframe tbody tr th {\n",
       "        vertical-align: top;\n",
       "    }\n",
       "\n",
       "    .dataframe thead th {\n",
       "        text-align: right;\n",
       "    }\n",
       "</style>\n",
       "<table border=\"1\" class=\"dataframe\">\n",
       "  <thead>\n",
       "    <tr style=\"text-align: right;\">\n",
       "      <th></th>\n",
       "      <th>name</th>\n",
       "      <th>platform</th>\n",
       "      <th>developer</th>\n",
       "      <th>publisher</th>\n",
       "      <th>genre(s)</th>\n",
       "      <th>players</th>\n",
       "      <th>rating</th>\n",
       "      <th>attribute</th>\n",
       "      <th>release_date</th>\n",
       "      <th>link</th>\n",
       "      <th>critic_positive</th>\n",
       "      <th>critic_neutral</th>\n",
       "      <th>critic_negative</th>\n",
       "      <th>metascore</th>\n",
       "      <th>user_positive</th>\n",
       "      <th>user_neutral</th>\n",
       "      <th>user_negative</th>\n",
       "      <th>user_score</th>\n",
       "    </tr>\n",
       "  </thead>\n",
       "  <tbody>\n",
       "    <tr>\n",
       "      <th>0</th>\n",
       "      <td>Command &amp; Conquer</td>\n",
       "      <td>PC</td>\n",
       "      <td>Westwood Studios</td>\n",
       "      <td>Virgin Interactive</td>\n",
       "      <td>Sci-Fi</td>\n",
       "      <td>1-4</td>\n",
       "      <td>T</td>\n",
       "      <td>NaN</td>\n",
       "      <td>Aug 31, 1995</td>\n",
       "      <td>/game/pc/command-conquer</td>\n",
       "      <td>5</td>\n",
       "      <td>0</td>\n",
       "      <td>0</td>\n",
       "      <td>94</td>\n",
       "      <td>47</td>\n",
       "      <td>0</td>\n",
       "      <td>1</td>\n",
       "      <td>8.9</td>\n",
       "    </tr>\n",
       "    <tr>\n",
       "      <th>1</th>\n",
       "      <td>Full Throttle</td>\n",
       "      <td>PC</td>\n",
       "      <td>LucasArts</td>\n",
       "      <td>LucasArts</td>\n",
       "      <td>Adventure</td>\n",
       "      <td>NaN</td>\n",
       "      <td>NaN</td>\n",
       "      <td>NaN</td>\n",
       "      <td>Apr 30, 1995</td>\n",
       "      <td>/game/pc/full-throttle</td>\n",
       "      <td>6</td>\n",
       "      <td>2</td>\n",
       "      <td>0</td>\n",
       "      <td>86</td>\n",
       "      <td>18</td>\n",
       "      <td>1</td>\n",
       "      <td>0</td>\n",
       "      <td>8.7</td>\n",
       "    </tr>\n",
       "    <tr>\n",
       "      <th>2</th>\n",
       "      <td>Battle Arena Toshinden</td>\n",
       "      <td>PS</td>\n",
       "      <td>Tamsoft</td>\n",
       "      <td>SCEA</td>\n",
       "      <td>Action</td>\n",
       "      <td>1-2</td>\n",
       "      <td>T</td>\n",
       "      <td>NaN</td>\n",
       "      <td>Sep  9, 1995</td>\n",
       "      <td>/game/playstation/battle-arena-toshinden</td>\n",
       "      <td>1</td>\n",
       "      <td>3</td>\n",
       "      <td>0</td>\n",
       "      <td>69</td>\n",
       "      <td>1</td>\n",
       "      <td>0</td>\n",
       "      <td>1</td>\n",
       "      <td>5.8</td>\n",
       "    </tr>\n",
       "  </tbody>\n",
       "</table>\n",
       "</div>"
      ],
      "text/plain": [
       "                     name platform         developer           publisher  \\\n",
       "0       Command & Conquer       PC  Westwood Studios  Virgin Interactive   \n",
       "1           Full Throttle       PC         LucasArts           LucasArts   \n",
       "2  Battle Arena Toshinden       PS           Tamsoft                SCEA   \n",
       "\n",
       "    genre(s) players rating attribute  release_date  \\\n",
       "0     Sci-Fi    1-4       T       NaN  Aug 31, 1995   \n",
       "1  Adventure     NaN    NaN       NaN  Apr 30, 1995   \n",
       "2     Action    1-2       T       NaN  Sep  9, 1995   \n",
       "\n",
       "                                       link  critic_positive  critic_neutral  \\\n",
       "0                  /game/pc/command-conquer                5               0   \n",
       "1                    /game/pc/full-throttle                6               2   \n",
       "2  /game/playstation/battle-arena-toshinden                1               3   \n",
       "\n",
       "   critic_negative  metascore  user_positive  user_neutral  user_negative  \\\n",
       "0                0         94             47             0              1   \n",
       "1                0         86             18             1              0   \n",
       "2                0         69              1             0              1   \n",
       "\n",
       "  user_score  \n",
       "0        8.9  \n",
       "1        8.7  \n",
       "2        5.8  "
      ]
     },
     "execution_count": 14,
     "metadata": {},
     "output_type": "execute_result"
    }
   ],
   "source": [
    "metacritic.head(3)"
   ]
  },
  {
   "cell_type": "code",
   "execution_count": 15,
   "id": "95d3c206",
   "metadata": {},
   "outputs": [
    {
     "data": {
      "text/html": [
       "<div>\n",
       "<style scoped>\n",
       "    .dataframe tbody tr th:only-of-type {\n",
       "        vertical-align: middle;\n",
       "    }\n",
       "\n",
       "    .dataframe tbody tr th {\n",
       "        vertical-align: top;\n",
       "    }\n",
       "\n",
       "    .dataframe thead th {\n",
       "        text-align: right;\n",
       "    }\n",
       "</style>\n",
       "<table border=\"1\" class=\"dataframe\">\n",
       "  <thead>\n",
       "    <tr style=\"text-align: right;\">\n",
       "      <th></th>\n",
       "      <th>name</th>\n",
       "      <th>platform</th>\n",
       "      <th>release_date</th>\n",
       "      <th>summary</th>\n",
       "      <th>metascore</th>\n",
       "      <th>userscore</th>\n",
       "    </tr>\n",
       "  </thead>\n",
       "  <tbody>\n",
       "    <tr>\n",
       "      <th>0</th>\n",
       "      <td>! SPACE ACCIDENT !</td>\n",
       "      <td>PC</td>\n",
       "      <td>February 10, 2022</td>\n",
       "      <td>The year is 2119. A turning point has begun in...</td>\n",
       "      <td>tbd</td>\n",
       "      <td>tbd</td>\n",
       "    </tr>\n",
       "    <tr>\n",
       "      <th>1</th>\n",
       "      <td>! That Bastard Is Trying To Steal Our Gold !</td>\n",
       "      <td>PC</td>\n",
       "      <td>May 11, 2014</td>\n",
       "      <td>It's a fun puzzle game where you need to steal...</td>\n",
       "      <td>tbd</td>\n",
       "      <td>3.4</td>\n",
       "    </tr>\n",
       "    <tr>\n",
       "      <th>2</th>\n",
       "      <td>!4RC4N01D!</td>\n",
       "      <td>PC</td>\n",
       "      <td>January 12, 2018</td>\n",
       "      <td>Hardcore arkanoid in the spirit of old games f...</td>\n",
       "      <td>tbd</td>\n",
       "      <td>4.0</td>\n",
       "    </tr>\n",
       "  </tbody>\n",
       "</table>\n",
       "</div>"
      ],
      "text/plain": [
       "                                           name platform       release_date  \\\n",
       "0                            ! SPACE ACCIDENT !       PC  February 10, 2022   \n",
       "1  ! That Bastard Is Trying To Steal Our Gold !       PC       May 11, 2014   \n",
       "2                                    !4RC4N01D!       PC   January 12, 2018   \n",
       "\n",
       "                                             summary metascore userscore  \n",
       "0  The year is 2119. A turning point has begun in...       tbd       tbd  \n",
       "1  It's a fun puzzle game where you need to steal...       tbd       3.4  \n",
       "2  Hardcore arkanoid in the spirit of old games f...       tbd       4.0  "
      ]
     },
     "execution_count": 15,
     "metadata": {},
     "output_type": "execute_result"
    }
   ],
   "source": [
    "all_games.head(3)"
   ]
  },
  {
   "cell_type": "markdown",
   "id": "15ecae40",
   "metadata": {},
   "source": [
    "Из датассета all_games нам понадобятся 'metascore', 'user_score' и (возможно) - 'release_date'."
   ]
  },
  {
   "cell_type": "code",
   "execution_count": 16,
   "id": "269410e7",
   "metadata": {},
   "outputs": [
    {
     "name": "stdout",
     "output_type": "stream",
     "text": [
      "2\n"
     ]
    }
   ],
   "source": [
    "# проверка и удаление явных дубликатов в metacritic\n",
    "\n",
    "print(metacritic.duplicated().sum())\n",
    "metacritic = metacritic.drop_duplicates()"
   ]
  },
  {
   "cell_type": "code",
   "execution_count": 17,
   "id": "187aa136",
   "metadata": {},
   "outputs": [
    {
     "name": "stdout",
     "output_type": "stream",
     "text": [
      "7\n"
     ]
    }
   ],
   "source": [
    "# проверка и удаление явных дубликатов в all_games\n",
    "\n",
    "print(all_games.duplicated().sum())\n",
    "all_games = all_games.drop_duplicates()"
   ]
  },
  {
   "cell_type": "code",
   "execution_count": 18,
   "id": "b1b48e8d",
   "metadata": {},
   "outputs": [],
   "source": [
    "# выделим год из даты\n",
    "\n",
    "all_games['year_of_release'] = pd.to_datetime(all_games['release_date']).dt.year.astype('float')\n",
    "\n",
    "metacritic['year_of_release'] = pd.to_datetime(metacritic['release_date']).dt.year.astype('float')"
   ]
  },
  {
   "cell_type": "code",
   "execution_count": 19,
   "id": "9bf9672e",
   "metadata": {},
   "outputs": [],
   "source": [
    "# создадим \"ключи\"\n",
    "\n",
    "games['game_key'] = games['name'] + '_' + games['platform'] + '_' + games['year_of_release'].astype('str')\n",
    "\n",
    "metacritic['game_key'] = metacritic['name'] + '_' + metacritic['platform'] + '_' + metacritic['year_of_release'].astype('str')\n",
    "\n",
    "all_games['game_key'] = all_games['name'] + '_' + all_games['platform'] + '_' + all_games['year_of_release'].astype('str')"
   ]
  },
  {
   "cell_type": "code",
   "execution_count": 20,
   "id": "0f7300b6",
   "metadata": {},
   "outputs": [],
   "source": [
    "# приведем интересующие нас столбцы к единообразию\n",
    "\n",
    "metacritic = metacritic.rename(columns={'metascore': 'critic_score', 'genre(s)': 'genre'})\n",
    "\n",
    "all_games = all_games.rename(columns={'metascore': 'critic_score', 'userscore': 'user_score'})"
   ]
  },
  {
   "cell_type": "code",
   "execution_count": 21,
   "id": "df75189f",
   "metadata": {},
   "outputs": [],
   "source": [
    "# объединяем таблицы\n",
    "\n",
    "games_full = games.merge(all_games[['critic_score', 'user_score', 'year_of_release', 'game_key']],\n",
    "               how='left', on='game_key', suffixes=('', '_all_game')) \\\n",
    "              .merge(metacritic[['genre', 'rating', 'critic_score', 'user_score', 'year_of_release', 'game_key']],\n",
    "               how='left', on='game_key', suffixes=('', '_meta'))"
   ]
  },
  {
   "cell_type": "code",
   "execution_count": 22,
   "id": "3b31c039",
   "metadata": {},
   "outputs": [],
   "source": [
    "# заполняем пропуски данными из других таблица\n",
    "\n",
    "games_full['year_of_release'] = games_full['year_of_release'].fillna(games_full['year_of_release_all_game'], axis=0) \\\n",
    "                                                             .fillna(games_full['year_of_release_meta'], axis=0)\n",
    "\n",
    "\n",
    "games_full['critic_score'] = games_full['critic_score'].fillna(games_full['critic_score_all_game'], axis=0) \\\n",
    "                                                       .fillna(games_full['critic_score_meta'], axis=0)\n",
    "\n",
    "\n",
    "games_full['rating'] = games_full['rating'].fillna(games_full['rating_meta'], axis=0)"
   ]
  },
  {
   "cell_type": "code",
   "execution_count": 23,
   "id": "373d047b",
   "metadata": {},
   "outputs": [],
   "source": [
    "games_full['user_score'] = games_full['user_score'].fillna(games_full['user_score_all_game'], axis=0) \\\n",
    "                                                   .fillna(games_full['user_score_meta'], axis=0)"
   ]
  },
  {
   "cell_type": "code",
   "execution_count": 24,
   "id": "43ef3659",
   "metadata": {},
   "outputs": [],
   "source": [
    "# удаляем ненужное\n",
    "\n",
    "games_full = games_full.drop(columns=['critic_score_all_game', 'user_score_all_game', 'year_of_release_all_game', \n",
    "                                      'genre_meta', 'rating_meta', 'critic_score_meta', 'user_score_meta', \n",
    "                                      'year_of_release_meta', 'game_key'], axis=1)"
   ]
  },
  {
   "cell_type": "code",
   "execution_count": 25,
   "id": "f907d613",
   "metadata": {},
   "outputs": [],
   "source": [
    "# в столбце name было два пропуска\n",
    "\n",
    "games_full = games_full.dropna(subset=['name'])"
   ]
  },
  {
   "cell_type": "code",
   "execution_count": 26,
   "id": "35d17a91",
   "metadata": {},
   "outputs": [
    {
     "name": "stdout",
     "output_type": "stream",
     "text": [
      "11\n"
     ]
    }
   ],
   "source": [
    "# удаление явных дубликатов\n",
    "\n",
    "print(games_full.duplicated().sum())\n",
    "games_full = games_full.drop_duplicates()"
   ]
  },
  {
   "cell_type": "code",
   "execution_count": 27,
   "id": "7311e057",
   "metadata": {},
   "outputs": [],
   "source": [
    "# пост-проверка\n",
    "\n",
    "# games_full.info()"
   ]
  },
  {
   "cell_type": "markdown",
   "id": "c3c17081",
   "metadata": {},
   "source": [
    "Удалось заполнить:\n",
    "- critic_score: было - 8 137, стало - 9 410,\n",
    "- user_score: было - 10 014, стало - 10 412,\n",
    "- rating: было - 9 949, стало - 10 224."
   ]
  },
  {
   "cell_type": "code",
   "execution_count": 28,
   "id": "e4da9524",
   "metadata": {},
   "outputs": [],
   "source": [
    "games_full['year_of_release'] = games_full['year_of_release'].astype('Int64')"
   ]
  },
  {
   "cell_type": "markdown",
   "id": "5c9d7e4f",
   "metadata": {},
   "source": [
    "Пропущенные значение в столбце 'name' удаляем, потому что заполнить их не получится.\n",
    "\n",
    "Пропущенные значения в столбцах 'year_of_release', 'critic_score', 'user_score' и 'rating' оставляем без изменения.\n",
    "\n",
    "Тип 'critic_score' оставим без изменения, т.к. в столбце содержатся не только цифровые оценки, но и оценки с пометкой 'tbd'."
   ]
  },
  {
   "cell_type": "markdown",
   "id": "ecdabeac",
   "metadata": {},
   "source": [
    "информация с [metacritic.com](www.metacritic.com/faq#item13):\n",
    "\n",
    ">WHAT DOES \"TBD\" MEAN?\n",
    ">To Be Determined.\n",
    "\n",
    ">To help ensure that METASCORES accurately reflect the reviews given by critics for any particular movie, game, television show >or album, we do not display a METASCORE for those items that do not have at least four (4) reviews in our database. Once this >minimum number of reviews is reached, the METASCORE will display."
   ]
  },
  {
   "cell_type": "markdown",
   "id": "271151cc",
   "metadata": {},
   "source": [
    "Расшифровка: недостаточно оценок от критиков для отображения."
   ]
  },
  {
   "cell_type": "markdown",
   "id": "6bda4391",
   "metadata": {},
   "source": [
    "<a id=\"eda\"> </a>\n",
    "# 2. Исследовательский анализ данных"
   ]
  },
  {
   "cell_type": "code",
   "execution_count": 29,
   "id": "d7fb6c0e",
   "metadata": {},
   "outputs": [],
   "source": [
    "# для дальнейшего исследования добавим столбец с суммарными продажами по миру\n",
    "\n",
    "games_full['total_sales'] = games_full['na_sales'] + games_full['eu_sales'] + games_full['jp_sales'] + games_full['other_sales']"
   ]
  },
  {
   "cell_type": "markdown",
   "id": "2ee09dfc",
   "metadata": {},
   "source": [
    "## Исследование количества игр и суммарных доходов по годам.\n",
    "## Выделение перспективных платформ."
   ]
  },
  {
   "cell_type": "code",
   "execution_count": 30,
   "id": "798868a0",
   "metadata": {},
   "outputs": [
    {
     "data": {
      "image/png": "[encoded data removed]",
      "text/plain": [
       "<Figure size 432x288 with 1 Axes>"
      ]
     },
     "metadata": {
      "needs_background": "light"
     },
     "output_type": "display_data"
    }
   ],
   "source": [
    "# количество вышедших игр по годам\n",
    "\n",
    "plt.figsize=(5, 7)\n",
    "\n",
    "(games_full.groupby('year_of_release')['name'].count()).reset_index() \\\n",
    "           .rename(columns={'name': 'count'}).plot(x='year_of_release', y='count')\n",
    "\n",
    "plt.title('количество вышедших игр по годам')\n",
    "plt.legend(loc='upper left')\n",
    "plt.show();"
   ]
  },
  {
   "cell_type": "code",
   "execution_count": 31,
   "id": "4806a1be",
   "metadata": {},
   "outputs": [],
   "source": [
    "year_sales = pd.DataFrame(games_full.groupby('year_of_release')[['na_sales', 'eu_sales', 'jp_sales', 'other_sales']] \\\n",
    "                                   .sum()).reset_index()\n",
    "\n",
    "year_sales['year_of_release'] = year_sales['year_of_release'].astype('int')\n",
    "\n",
    "year_sales['total_sales'] = year_sales['na_sales'] + year_sales['eu_sales'] \\\n",
    "                                + year_sales['jp_sales'] + year_sales['other_sales']"
   ]
  },
  {
   "cell_type": "code",
   "execution_count": 32,
   "id": "1626b81a",
   "metadata": {},
   "outputs": [
    {
     "data": {
      "image/png": "[encoded data removed]",
      "text/plain": [
       "<Figure size 432x288 with 1 Axes>"
      ]
     },
     "metadata": {
      "needs_background": "light"
     },
     "output_type": "display_data"
    }
   ],
   "source": [
    "year_sales.plot(x='year_of_release', y='total_sales')\n",
    "plt.title('продажи игр по годам - миллионы проданных копий по миру')\n",
    "plt.show();"
   ]
  },
  {
   "cell_type": "markdown",
   "id": "58f15cd9",
   "metadata": {},
   "source": [
    "Кривая количества вышедших игр и кривая количества проданных копий повторяют друг друга."
   ]
  },
  {
   "cell_type": "code",
   "execution_count": 33,
   "id": "43dc4b51",
   "metadata": {},
   "outputs": [],
   "source": [
    "# количество игр в разрезе года и платформы (общая информация)\n",
    "\n",
    "year_platform = pd.crosstab(index=games_full['year_of_release'], columns=games_full['platform']) \\\n",
    "                  .reset_index()"
   ]
  },
  {
   "cell_type": "code",
   "execution_count": 34,
   "id": "aae2fd8a",
   "metadata": {},
   "outputs": [],
   "source": [
    "columns = ['2600', '3DO', '3DS', 'DC', 'DS', 'GB', 'GBA', 'GC', 'GEN','GG', 'N64', 'NES', \n",
    "           'NG', 'PC', 'PCFX', 'PS', 'PS2', 'PS3', 'PS4', 'PSP', 'PSV', 'SAT', 'SCD', 'SNES', \n",
    "           'TG16', 'WS', 'Wii', 'WiiU', 'X360', 'XB', 'XOne']"
   ]
  },
  {
   "cell_type": "code",
   "execution_count": 35,
   "id": "f0b9397e",
   "metadata": {},
   "outputs": [
    {
     "data": {
      "image/png": "[encoded data removed]",
      "text/plain": [
       "<Figure size 1080x216 with 1 Axes>"
      ]
     },
     "metadata": {
      "needs_background": "light"
     },
     "output_type": "display_data"
    },
    {
     "data": {
      "image/png": "[encoded data removed]",
      "text/plain": [
       "<Figure size 1080x216 with 1 Axes>"
      ]
     },
     "metadata": {
      "needs_background": "light"
     },
     "output_type": "display_data"
    },
    {
     "data": {
      "image/png": "[encoded data removed]",
      "text/plain": [
       "<Figure size 1080x216 with 1 Axes>"
      ]
     },
     "metadata": {
      "needs_background": "light"
     },
     "output_type": "display_data"
    },
    {
     "data": {
      "image/png": "[encoded data removed]",
      "text/plain": [
       "<Figure size 1080x216 with 1 Axes>"
      ]
     },
     "metadata": {
      "needs_background": "light"
     },
     "output_type": "display_data"
    }
   ],
   "source": [
    "year_platform.plot(x='year_of_release', y=columns[:8], figsize=(15,3))\n",
    "plt.legend(title='платформа:', loc='upper left')\n",
    "plt.title(\"количество игр по годам и платформам\")\n",
    "year_platform.plot(x='year_of_release', y=columns[8:17], figsize=(15,3))\n",
    "plt.legend(title='платформа:', loc='upper left')\n",
    "year_platform.plot(x='year_of_release', y=columns[17:25], figsize=(15,3))\n",
    "plt.legend(title='платформа:', loc='upper left')\n",
    "year_platform.plot(x='year_of_release', y=columns[25:], figsize=(15,3))\n",
    "plt.legend(title='платформа:', loc='upper left')\n",
    "plt.show();"
   ]
  },
  {
   "cell_type": "markdown",
   "id": "a4312228",
   "metadata": {},
   "source": [
    "Рост количества игр начался в ~1995 - 2000 годах.\n",
    "\n",
    "По графику мы видим, что период популярности новых платформ ~ 6-10 лет (необходимо уточнить среднее \"срок жизни платформы\"). \n",
    "\n",
    "Мы можем предположить, что перспективные платформы - PC, PS4 и Xbox One."
   ]
  },
  {
   "cell_type": "code",
   "execution_count": 36,
   "id": "e4e92e67",
   "metadata": {},
   "outputs": [],
   "source": [
    "# уточним \"средний срок жизни\" платформы\n",
    "\n",
    "platform_year_minmax = games_full.groupby('platform')['year_of_release'].agg({'min', 'max'}) \\\n",
    "                                 .rename(columns={'max': 'last_game', 'min': 'first_game'})\n",
    "\n",
    "platform_year_minmax['lifetime'] = platform_year_minmax['last_game'] - platform_year_minmax['first_game']"
   ]
  },
  {
   "cell_type": "code",
   "execution_count": 37,
   "id": "8f4ac7fc",
   "metadata": {},
   "outputs": [
    {
     "data": {
      "text/html": [
       "<div>\n",
       "<style scoped>\n",
       "    .dataframe tbody tr th:only-of-type {\n",
       "        vertical-align: middle;\n",
       "    }\n",
       "\n",
       "    .dataframe tbody tr th {\n",
       "        vertical-align: top;\n",
       "    }\n",
       "\n",
       "    .dataframe thead th {\n",
       "        text-align: right;\n",
       "    }\n",
       "</style>\n",
       "<table border=\"1\" class=\"dataframe\">\n",
       "  <thead>\n",
       "    <tr style=\"text-align: right;\">\n",
       "      <th></th>\n",
       "      <th>last_game</th>\n",
       "      <th>first_game</th>\n",
       "      <th>lifetime</th>\n",
       "    </tr>\n",
       "    <tr>\n",
       "      <th>platform</th>\n",
       "      <th></th>\n",
       "      <th></th>\n",
       "      <th></th>\n",
       "    </tr>\n",
       "  </thead>\n",
       "  <tbody>\n",
       "    <tr>\n",
       "      <th>PC</th>\n",
       "      <td>2016</td>\n",
       "      <td>1985</td>\n",
       "      <td>31</td>\n",
       "    </tr>\n",
       "    <tr>\n",
       "      <th>PS4</th>\n",
       "      <td>2016</td>\n",
       "      <td>2013</td>\n",
       "      <td>3</td>\n",
       "    </tr>\n",
       "    <tr>\n",
       "      <th>XOne</th>\n",
       "      <td>2016</td>\n",
       "      <td>2013</td>\n",
       "      <td>3</td>\n",
       "    </tr>\n",
       "  </tbody>\n",
       "</table>\n",
       "</div>"
      ],
      "text/plain": [
       "          last_game  first_game  lifetime\n",
       "platform                                 \n",
       "PC             2016        1985        31\n",
       "PS4            2016        2013         3\n",
       "XOne           2016        2013         3"
      ]
     },
     "execution_count": 37,
     "metadata": {},
     "output_type": "execute_result"
    }
   ],
   "source": [
    "# посмотрим на \"срок жизни\" перспективных платформ\n",
    "\n",
    "platform_year_minmax.loc[['PC', 'PS4', 'XOne']]"
   ]
  },
  {
   "cell_type": "code",
   "execution_count": 38,
   "id": "f17abf25",
   "metadata": {},
   "outputs": [
    {
     "name": "stdout",
     "output_type": "stream",
     "text": [
      "Средний \"срок жизни\" платформы: 7.61\n",
      "Медианный \"срок жизни\" платформы: 6.0\n"
     ]
    }
   ],
   "source": [
    "print('Средний \"срок жизни\" платформы:', round(platform_year_minmax['lifetime'].mean(), 2))\n",
    "print('Медианный \"срок жизни\" платформы:', round(platform_year_minmax['lifetime'].median(), 2))"
   ]
  },
  {
   "cell_type": "code",
   "execution_count": 39,
   "id": "957ce526",
   "metadata": {},
   "outputs": [
    {
     "data": {
      "image/png": "[encoded data removed]",
      "text/plain": [
       "<Figure size 1080x216 with 1 Axes>"
      ]
     },
     "metadata": {
      "needs_background": "light"
     },
     "output_type": "display_data"
    }
   ],
   "source": [
    "# построим график количество игр в разрезе года и перспективных платформ\n",
    "\n",
    "perspective_platform = ['PC', 'PS4', 'XOne']\n",
    "\n",
    "year_platform.plot(x='year_of_release', y=perspective_platform, figsize=(15,3))\n",
    "plt.legend(title='платформа:', loc='upper left')\n",
    "plt.show();"
   ]
  },
  {
   "cell_type": "code",
   "execution_count": 40,
   "id": "b634fef4",
   "metadata": {},
   "outputs": [],
   "source": [
    "# продажи по платформам - по регионам и суммарно\n",
    "\n",
    "platform_sales = pd.DataFrame(games_full.groupby('platform')['total_sales'].sum())\n"
   ]
  },
  {
   "cell_type": "code",
   "execution_count": 41,
   "id": "b44a1a6f",
   "metadata": {},
   "outputs": [],
   "source": [
    "# посмотреть на суммарные продажи\n",
    "# platform_sales.sort_values('total_sales', ascending=False)"
   ]
  },
  {
   "cell_type": "code",
   "execution_count": 42,
   "id": "19e88fb7",
   "metadata": {},
   "outputs": [],
   "source": [
    "# выделим топ 10 платформ по суммарным продажам\n",
    "\n",
    "platform_sales_top_10 = platform_sales.sort_values('total_sales', ascending=False).head(10).index"
   ]
  },
  {
   "cell_type": "code",
   "execution_count": 43,
   "id": "4c82164a",
   "metadata": {},
   "outputs": [],
   "source": [
    "# сделаем срез по таблице year_platform, где хранится количество игр по годам\n",
    "# оставим только игры, вошедшие в топ 10 по суммарным продажам\n",
    "\n",
    "year_platform_top_10 = pd.merge(year_platform['year_of_release'], year_platform[platform_sales_top_10], \n",
    "                                right_index=True, left_index=True)"
   ]
  },
  {
   "cell_type": "code",
   "execution_count": 44,
   "id": "7e4a71e1",
   "metadata": {},
   "outputs": [
    {
     "data": {
      "image/png": "[encoded data removed]",
      "text/plain": [
       "<Figure size 1080x288 with 1 Axes>"
      ]
     },
     "metadata": {
      "needs_background": "light"
     },
     "output_type": "display_data"
    }
   ],
   "source": [
    "year_platform_top_10.plot(x='year_of_release', y=['PS2', 'X360', 'PS3', 'Wii', 'DS', 'PS', 'GBA',\n",
    "                                                  'PS4', 'PSP', 'PC'], figsize=(15,4))\n",
    "plt.legend(title='платформа:', loc='upper left')\n",
    "plt.title('количество вышедших игр по годам (топ-10 платформ)')\n",
    "plt.show();"
   ]
  },
  {
   "cell_type": "markdown",
   "id": "c60ac744",
   "metadata": {},
   "source": [
    "На предудущем шаге мы предположили, что количество игр на Xbox One продолжит расти, но эта приставка не вошла в топ по продажам. Построим график продаж в разрезе трех перспективных платформ."
   ]
  },
  {
   "cell_type": "code",
   "execution_count": 45,
   "id": "e0323aca",
   "metadata": {},
   "outputs": [
    {
     "data": {
      "image/png": "[encoded data removed]",
      "text/plain": [
       "<Figure size 1080x288 with 1 Axes>"
      ]
     },
     "metadata": {
      "needs_background": "light"
     },
     "output_type": "display_data"
    }
   ],
   "source": [
    "# теперь оставим только перспективные платформы\n",
    "\n",
    "pd.merge(year_platform['year_of_release'], year_platform[['PS4', 'PC', 'XOne']], right_index=True, left_index=True) \\\n",
    "                .plot(x='year_of_release', y=['PS4', 'PC', 'XOne'], figsize=(15,4))\n",
    "plt.legend(title='платформа:', loc='upper left')\n",
    "plt.title('количество вышедших игр по годам (перспективные платформы)')\n",
    "plt.show();"
   ]
  },
  {
   "cell_type": "markdown",
   "id": "d92a3cda",
   "metadata": {},
   "source": [
    "Количество игр на PC стабильно (хоть и не очень резко) растет последние три года, так же как Xbox one и PS4.\n",
    "\n",
    "На предыдущих графиках было заметно, что количество игр на PC с появлением на рынке новых игровых консолей проседает, но чем ближе мы приближаемся к \"концу жизни\"новых платформ, тем больше начинает выходить игр на ПК.\n",
    "\n",
    "Поэтому стратегия \"стримчика\":\n",
    "- до 2017-18 года делать ставку на игры для PS4 и Xbox, но не сбрасывать со счетов игры на пк,\n",
    "- к концу этого периода переключить внимание на игры для пк,\n",
    "- и ждать появление новой платформы."
   ]
  },
  {
   "cell_type": "code",
   "execution_count": 46,
   "id": "d677cbc8",
   "metadata": {},
   "outputs": [],
   "source": [
    "# выделим количество проданных копий в разрезе платформы и года\n",
    "# оставим только платформы, вошедшие в топ-10 по продажам\n",
    "\n",
    "platform_top_year_total_sales = pd.DataFrame(games_full.groupby(['platform', 'year_of_release']) \\\n",
    "                                                ['total_sales'].sum()).reset_index()\n"
   ]
  },
  {
   "cell_type": "code",
   "execution_count": 47,
   "id": "73656aa6",
   "metadata": {},
   "outputs": [],
   "source": [
    "platform_top_year_total_sales = platform_top_year_total_sales[platform_top_year_total_sales['platform'] \\\n",
    "                                                              .isin(platform_sales_top_10)]"
   ]
  },
  {
   "cell_type": "code",
   "execution_count": 48,
   "id": "a52516f9",
   "metadata": {},
   "outputs": [
    {
     "data": {
      "image/png": "[encoded data removed]",
      "text/plain": [
       "<Figure size 1080x288 with 1 Axes>"
      ]
     },
     "metadata": {
      "needs_background": "light"
     },
     "output_type": "display_data"
    }
   ],
   "source": [
    "# визуализация суммарных продаж по годам и топовым платформам\n",
    "\n",
    "plt.figure(figsize=(15,4))\n",
    "plt.title('суммарные продажи по годам и топовым платформам')\n",
    "sns.lineplot(x = \"year_of_release\", y = \"total_sales\", data=platform_top_year_total_sales, hue='platform');"
   ]
  },
  {
   "cell_type": "markdown",
   "id": "35233e49",
   "metadata": {},
   "source": [
    "Больше всего продаж у консолей, ПК стабильно \"прижимается\" к нулю."
   ]
  },
  {
   "cell_type": "markdown",
   "id": "4d528bf4",
   "metadata": {},
   "source": [
    "## «Ящик с усами» по глобальным продажам игр в разбивке по платформам."
   ]
  },
  {
   "cell_type": "markdown",
   "id": "f65d36f6",
   "metadata": {},
   "source": [
    "Выделим 'Wii' на отдельный график."
   ]
  },
  {
   "cell_type": "code",
   "execution_count": 49,
   "id": "c40f9443",
   "metadata": {},
   "outputs": [
    {
     "data": {
      "image/png": "[encoded data removed]",
      "text/plain": [
       "<Figure size 1440x36 with 1 Axes>"
      ]
     },
     "metadata": {
      "needs_background": "light"
     },
     "output_type": "display_data"
    }
   ],
   "source": [
    "plt.figure(figsize=(20,0.5))\n",
    "sns.boxplot(x=games_full[games_full['platform'] == 'Wii']['total_sales'], \n",
    "            y=games_full[games_full['platform'] == 'Wii']['platform'])\n",
    "plt.title('глобальные продажи игр в разбивке по платформам (только Wii)')\n",
    "plt.show();"
   ]
  },
  {
   "cell_type": "code",
   "execution_count": 50,
   "id": "e5c986a7",
   "metadata": {},
   "outputs": [
    {
     "data": {
      "image/png": "[encoded data removed]",
      "text/plain": [
       "<Figure size 1440x1080 with 1 Axes>"
      ]
     },
     "metadata": {
      "needs_background": "light"
     },
     "output_type": "display_data"
    }
   ],
   "source": [
    "plt.figure(figsize=(20,15))\n",
    "sns.boxplot(x=games_full[games_full['platform'] != 'Wii']['total_sales'], \n",
    "            y=games_full[games_full['platform'] != 'Wii']['platform'])\n",
    "plt.title('глобальные продажи игр в разбивке по платформам (все, кроме Wii)')\n",
    "plt.show();"
   ]
  },
  {
   "cell_type": "markdown",
   "id": "5ef2cee4",
   "metadata": {},
   "source": [
    "В большинстве своем:\n",
    "- значения сгруппированны очень плотно (исключения - GEN и GB),\n",
    "- разброс небольшой, левый \"ус\" всех платформ тянется к нулю,\n",
    "- присутствует большое количество экстремальных выбросов - предполагаем, что на более свежих платформах чаще выпускались топовые игры."
   ]
  },
  {
   "cell_type": "markdown",
   "id": "54949752",
   "metadata": {},
   "source": [
    "## Влияение отзывовы пользователей и критиков  на продажи внутри одной популярной платформы"
   ]
  },
  {
   "cell_type": "markdown",
   "id": "68f25ee3",
   "metadata": {},
   "source": [
    "На предыдущих шагах мы выяснили, что в топ-10 платформ по популярности вошли: \n",
    "- 'PS2', 'X360', 'PS3', 'Wii', 'DS', 'PS', 'GBA', 'PS4', 'PSP', 'PC'.\n",
    "\n",
    "Перспективными мы пометили платформы 'PC', 'PS4' и 'Xbox One'.\n",
    "\n",
    "Сделаем срез по исходному датасету:\n",
    "- оставим только перспективные платформы,\n",
    "- из столбцов 'user_score' и 'critic_score' уберем пропущенные значения и отметки с пометкой 'tbd',\n",
    "+ приведем столбцы к типу float. "
   ]
  },
  {
   "cell_type": "code",
   "execution_count": 51,
   "id": "844178e5",
   "metadata": {},
   "outputs": [],
   "source": [
    "scores_sales = games_full.copy()\n",
    "\n",
    "\n",
    "scores_sales = scores_sales.loc[((scores_sales['user_score']!='tbd') & (scores_sales['user_score'].isna()!=True) \n",
    "                                 & (scores_sales['critic_score']!='tbd') & (scores_sales['critic_score'].isna()!=True) \n",
    "                                 & (scores_sales['platform'].isin(['PC', 'PS4', 'XOne'])))]\n",
    "\n",
    "\n",
    "scores_sales['user_score'] = scores_sales['user_score'].astype('float')\n",
    "scores_sales['critic_score'] = scores_sales['critic_score'].astype('float')"
   ]
  },
  {
   "cell_type": "code",
   "execution_count": 52,
   "id": "b17a0bd1",
   "metadata": {},
   "outputs": [
    {
     "data": {
      "text/html": [
       "<div>\n",
       "<style scoped>\n",
       "    .dataframe tbody tr th:only-of-type {\n",
       "        vertical-align: middle;\n",
       "    }\n",
       "\n",
       "    .dataframe tbody tr th {\n",
       "        vertical-align: top;\n",
       "    }\n",
       "\n",
       "    .dataframe thead th {\n",
       "        text-align: right;\n",
       "    }\n",
       "</style>\n",
       "<table border=\"1\" class=\"dataframe\">\n",
       "  <thead>\n",
       "    <tr style=\"text-align: right;\">\n",
       "      <th></th>\n",
       "      <th>user_score</th>\n",
       "      <th>critic_score</th>\n",
       "      <th>total_sales</th>\n",
       "    </tr>\n",
       "  </thead>\n",
       "  <tbody>\n",
       "    <tr>\n",
       "      <th>user_score</th>\n",
       "      <td>1.000000</td>\n",
       "      <td>0.546560</td>\n",
       "      <td>-0.051785</td>\n",
       "    </tr>\n",
       "    <tr>\n",
       "      <th>critic_score</th>\n",
       "      <td>0.546560</td>\n",
       "      <td>1.000000</td>\n",
       "      <td>0.268071</td>\n",
       "    </tr>\n",
       "    <tr>\n",
       "      <th>total_sales</th>\n",
       "      <td>-0.051785</td>\n",
       "      <td>0.268071</td>\n",
       "      <td>1.000000</td>\n",
       "    </tr>\n",
       "  </tbody>\n",
       "</table>\n",
       "</div>"
      ],
      "text/plain": [
       "              user_score  critic_score  total_sales\n",
       "user_score      1.000000      0.546560    -0.051785\n",
       "critic_score    0.546560      1.000000     0.268071\n",
       "total_sales    -0.051785      0.268071     1.000000"
      ]
     },
     "execution_count": 52,
     "metadata": {},
     "output_type": "execute_result"
    }
   ],
   "source": [
    "# посчитаем коэффицент корреляции пирсона\n",
    "\n",
    "scores_sales[['user_score', 'critic_score', 'total_sales']].corr()"
   ]
  },
  {
   "cell_type": "markdown",
   "id": "b2ed8561",
   "metadata": {},
   "source": [
    "Согласно коэффициенту Пирсона:\n",
    "- между user_score и total_sales корреляции нет,\n",
    "- между critic_score и total_sales слабая положительная кореляция (0.27)."
   ]
  },
  {
   "cell_type": "code",
   "execution_count": 53,
   "id": "df3c0924",
   "metadata": {},
   "outputs": [
    {
     "data": {
      "image/png": "[encoded data removed]",
      "text/plain": [
       "<Figure size 1080x288 with 1 Axes>"
      ]
     },
     "metadata": {
      "needs_background": "light"
     },
     "output_type": "display_data"
    }
   ],
   "source": [
    "fig, ax = plt.subplots(figsize=(15, 4))\n",
    "\n",
    "sns.scatterplot('user_score', 'total_sales', data=scores_sales, hue='platform')\n",
    "\n",
    "plt.title('влияние отзывов пользователей на продажи (перспективные платформы)')\n",
    "plt.xlabel(\"оценки пользователей\")\n",
    "plt.ylabel(\"количество проданных копий (в милн. копий)\")\n",
    "plt.legend(loc='upper left')\n",
    "plt.show();"
   ]
  },
  {
   "cell_type": "code",
   "execution_count": 54,
   "id": "dddbcc93",
   "metadata": {},
   "outputs": [
    {
     "data": {
      "image/png": "[encoded data removed]",
      "text/plain": [
       "<Figure size 1080x288 with 1 Axes>"
      ]
     },
     "metadata": {
      "needs_background": "light"
     },
     "output_type": "display_data"
    }
   ],
   "source": [
    "fig, ax = plt.subplots(figsize=(15, 4))\n",
    "\n",
    "sns.scatterplot('critic_score', 'total_sales', data=scores_sales, hue='platform')\n",
    "\n",
    "plt.title('влияние отзывов критиков на продажи (перспективные платформы)')\n",
    "plt.xlabel(\"оценки критиков\")\n",
    "plt.ylabel(\"количество проданных копий (в милн. копий)\")\n",
    "plt.legend(loc='upper left')\n",
    "plt.show();"
   ]
  },
  {
   "cell_type": "markdown",
   "id": "bc2106bc",
   "metadata": {},
   "source": [
    "Построенные графикм подтверждают выводы, сделанные на основе матрицы корреляции:\n",
    "- с ростом оценки от критиков мы видим рост количества проданных копий,\n",
    "- на графике взимосвязи оценок от пользователей и количества проданных копий точки практически высроились в линию."
   ]
  },
  {
   "cell_type": "markdown",
   "id": "11a9ba10",
   "metadata": {},
   "source": [
    "# Распределение по жанрам"
   ]
  },
  {
   "cell_type": "code",
   "execution_count": 55,
   "id": "11fca842",
   "metadata": {},
   "outputs": [],
   "source": [
    "genre_sales = pd.DataFrame(games_full.groupby('genre')['total_sales'].sum())"
   ]
  },
  {
   "cell_type": "code",
   "execution_count": 56,
   "id": "24dd53ac",
   "metadata": {},
   "outputs": [
    {
     "data": {
      "text/html": [
       "<div>\n",
       "<style scoped>\n",
       "    .dataframe tbody tr th:only-of-type {\n",
       "        vertical-align: middle;\n",
       "    }\n",
       "\n",
       "    .dataframe tbody tr th {\n",
       "        vertical-align: top;\n",
       "    }\n",
       "\n",
       "    .dataframe thead th {\n",
       "        text-align: right;\n",
       "    }\n",
       "</style>\n",
       "<table border=\"1\" class=\"dataframe\">\n",
       "  <thead>\n",
       "    <tr style=\"text-align: right;\">\n",
       "      <th></th>\n",
       "      <th>total_sales</th>\n",
       "    </tr>\n",
       "    <tr>\n",
       "      <th>genre</th>\n",
       "      <th></th>\n",
       "    </tr>\n",
       "  </thead>\n",
       "  <tbody>\n",
       "    <tr>\n",
       "      <th>Action</th>\n",
       "      <td>1744.17</td>\n",
       "    </tr>\n",
       "    <tr>\n",
       "      <th>Sports</th>\n",
       "      <td>1331.26</td>\n",
       "    </tr>\n",
       "    <tr>\n",
       "      <th>Shooter</th>\n",
       "      <td>1052.45</td>\n",
       "    </tr>\n",
       "    <tr>\n",
       "      <th>Role-Playing</th>\n",
       "      <td>934.56</td>\n",
       "    </tr>\n",
       "    <tr>\n",
       "      <th>Platform</th>\n",
       "      <td>827.77</td>\n",
       "    </tr>\n",
       "    <tr>\n",
       "      <th>Misc</th>\n",
       "      <td>802.51</td>\n",
       "    </tr>\n",
       "    <tr>\n",
       "      <th>Racing</th>\n",
       "      <td>728.67</td>\n",
       "    </tr>\n",
       "    <tr>\n",
       "      <th>Fighting</th>\n",
       "      <td>447.53</td>\n",
       "    </tr>\n",
       "    <tr>\n",
       "      <th>Simulation</th>\n",
       "      <td>389.97</td>\n",
       "    </tr>\n",
       "    <tr>\n",
       "      <th>Puzzle</th>\n",
       "      <td>242.57</td>\n",
       "    </tr>\n",
       "    <tr>\n",
       "      <th>Adventure</th>\n",
       "      <td>237.59</td>\n",
       "    </tr>\n",
       "    <tr>\n",
       "      <th>Strategy</th>\n",
       "      <td>174.23</td>\n",
       "    </tr>\n",
       "  </tbody>\n",
       "</table>\n",
       "</div>"
      ],
      "text/plain": [
       "              total_sales\n",
       "genre                    \n",
       "Action            1744.17\n",
       "Sports            1331.26\n",
       "Shooter           1052.45\n",
       "Role-Playing       934.56\n",
       "Platform           827.77\n",
       "Misc               802.51\n",
       "Racing             728.67\n",
       "Fighting           447.53\n",
       "Simulation         389.97\n",
       "Puzzle             242.57\n",
       "Adventure          237.59\n",
       "Strategy           174.23"
      ]
     },
     "execution_count": 56,
     "metadata": {},
     "output_type": "execute_result"
    }
   ],
   "source": [
    "genre_sales.sort_values('total_sales', ascending=False)"
   ]
  },
  {
   "cell_type": "markdown",
   "id": "681297d4",
   "metadata": {},
   "source": [
    "Жанры с самыми суммарными большими продажами - Action, Sports, Shooter.\n",
    "\n",
    "Минимальные суммарные продажи у Puzzle, Adventure, Strategy."
   ]
  },
  {
   "cell_type": "code",
   "execution_count": 57,
   "id": "6860396e",
   "metadata": {},
   "outputs": [],
   "source": [
    "genre_sales_years = pd.DataFrame(games_full.groupby(['genre', 'year_of_release'])['total_sales'].sum()).reset_index()"
   ]
  },
  {
   "cell_type": "code",
   "execution_count": 58,
   "id": "5fa557f9",
   "metadata": {},
   "outputs": [
    {
     "data": {
      "image/png": "[encoded data removed]",
      "text/plain": [
       "<Figure size 1080x288 with 1 Axes>"
      ]
     },
     "metadata": {
      "needs_background": "light"
     },
     "output_type": "display_data"
    }
   ],
   "source": [
    "# визуализация суммарных продаж по годам и жанрам\n",
    "\n",
    "plt.figure(figsize=(15,4))\n",
    "plt.title('суммарные продажи по годам и топовым платформам')\n",
    "sns.lineplot(x = \"year_of_release\", y = \"total_sales\", data=genre_sales_years, hue='genre');"
   ]
  },
  {
   "cell_type": "markdown",
   "id": "abb7c641",
   "metadata": {},
   "source": [
    "Нельзя сказать точно насчет перспективного жанра: линии суммарных продаж начинают сходится в одно точку после 2015. "
   ]
  },
  {
   "cell_type": "markdown",
   "id": "673a1e9d",
   "metadata": {},
   "source": [
    "<a id=\"user\"> </a>\n",
    "# 3. Портрет пользователя каждого региона:"
   ]
  },
  {
   "cell_type": "markdown",
   "id": "800cf11f",
   "metadata": {},
   "source": [
    "- Самые популярные платформы (топ-5). Опишите различия в долях продаж.\n",
    "- Самые популярные жанры (топ-5). Поясните разницу.\n",
    "- Влияет ли рейтинг ESRB на продажи в отдельном регионе?"
   ]
  },
  {
   "cell_type": "code",
   "execution_count": 59,
   "id": "81271556",
   "metadata": {},
   "outputs": [
    {
     "data": {
      "text/html": [
       "<div>\n",
       "<style scoped>\n",
       "    .dataframe tbody tr th:only-of-type {\n",
       "        vertical-align: middle;\n",
       "    }\n",
       "\n",
       "    .dataframe tbody tr th {\n",
       "        vertical-align: top;\n",
       "    }\n",
       "\n",
       "    .dataframe thead th {\n",
       "        text-align: right;\n",
       "    }\n",
       "</style>\n",
       "<table border=\"1\" class=\"dataframe\">\n",
       "  <thead>\n",
       "    <tr style=\"text-align: right;\">\n",
       "      <th></th>\n",
       "      <th>na_sales_total</th>\n",
       "      <th>eu_sales_total</th>\n",
       "      <th>jp_sales_total</th>\n",
       "      <th>other_sales_total</th>\n",
       "    </tr>\n",
       "  </thead>\n",
       "  <tbody>\n",
       "    <tr>\n",
       "      <th>0</th>\n",
       "      <td>4400.57</td>\n",
       "      <td>2424.13</td>\n",
       "      <td>1297.34</td>\n",
       "      <td>791.24</td>\n",
       "    </tr>\n",
       "  </tbody>\n",
       "</table>\n",
       "</div>"
      ],
      "text/plain": [
       "   na_sales_total  eu_sales_total  jp_sales_total  other_sales_total\n",
       "0         4400.57         2424.13         1297.34             791.24"
      ]
     },
     "execution_count": 59,
     "metadata": {},
     "output_type": "execute_result"
    }
   ],
   "source": [
    "# количество проданных копий (в миллионах) по регионам\n",
    "\n",
    "total_sales = pd.DataFrame({'na_sales_total': [games_full['na_sales'].sum()], \n",
    "              'eu_sales_total': [games_full['eu_sales'].sum()], \n",
    "              'jp_sales_total': [games_full['jp_sales'].sum()],\n",
    "              'other_sales_total': [games_full['other_sales'].sum()]})\n",
    "\n",
    "total_sales"
   ]
  },
  {
   "cell_type": "markdown",
   "id": "2d12c016",
   "metadata": {},
   "source": [
    "# 3.1. Северная Америка ('na_sales')"
   ]
  },
  {
   "cell_type": "code",
   "execution_count": 60,
   "id": "60a4281e",
   "metadata": {},
   "outputs": [
    {
     "data": {
      "text/html": [
       "<div>\n",
       "<style scoped>\n",
       "    .dataframe tbody tr th:only-of-type {\n",
       "        vertical-align: middle;\n",
       "    }\n",
       "\n",
       "    .dataframe tbody tr th {\n",
       "        vertical-align: top;\n",
       "    }\n",
       "\n",
       "    .dataframe thead th {\n",
       "        text-align: right;\n",
       "    }\n",
       "</style>\n",
       "<table border=\"1\" class=\"dataframe\">\n",
       "  <thead>\n",
       "    <tr style=\"text-align: right;\">\n",
       "      <th></th>\n",
       "      <th>platform</th>\n",
       "      <th>na_sales</th>\n",
       "      <th>na_perc_of_total</th>\n",
       "    </tr>\n",
       "  </thead>\n",
       "  <tbody>\n",
       "    <tr>\n",
       "      <th>0</th>\n",
       "      <td>X360</td>\n",
       "      <td>602.47</td>\n",
       "      <td>13.69</td>\n",
       "    </tr>\n",
       "    <tr>\n",
       "      <th>1</th>\n",
       "      <td>PS2</td>\n",
       "      <td>583.84</td>\n",
       "      <td>13.27</td>\n",
       "    </tr>\n",
       "    <tr>\n",
       "      <th>2</th>\n",
       "      <td>Wii</td>\n",
       "      <td>496.90</td>\n",
       "      <td>11.29</td>\n",
       "    </tr>\n",
       "    <tr>\n",
       "      <th>3</th>\n",
       "      <td>PS3</td>\n",
       "      <td>393.49</td>\n",
       "      <td>8.94</td>\n",
       "    </tr>\n",
       "    <tr>\n",
       "      <th>4</th>\n",
       "      <td>DS</td>\n",
       "      <td>382.40</td>\n",
       "      <td>8.69</td>\n",
       "    </tr>\n",
       "  </tbody>\n",
       "</table>\n",
       "</div>"
      ],
      "text/plain": [
       "  platform  na_sales  na_perc_of_total\n",
       "0     X360    602.47             13.69\n",
       "1      PS2    583.84             13.27\n",
       "2      Wii    496.90             11.29\n",
       "3      PS3    393.49              8.94\n",
       "4       DS    382.40              8.69"
      ]
     },
     "execution_count": 60,
     "metadata": {},
     "output_type": "execute_result"
    }
   ],
   "source": [
    "# популярные платформы (топ-5) - северная америка\n",
    "# + процент от продаж с разбивков по платформам\n",
    "\n",
    "na_platform = pd.DataFrame(games_full.groupby('platform')['na_sales'].sum().sort_values(ascending=False).head(5)).reset_index()\n",
    "na_platform['na_perc_of_total'] = round(na_platform['na_sales'] / total_sales['na_sales_total'][0] * 100, 2)\n",
    "na_platform"
   ]
  },
  {
   "cell_type": "code",
   "execution_count": 61,
   "id": "f6aa4c65",
   "metadata": {},
   "outputs": [
    {
     "data": {
      "text/html": [
       "<div>\n",
       "<style scoped>\n",
       "    .dataframe tbody tr th:only-of-type {\n",
       "        vertical-align: middle;\n",
       "    }\n",
       "\n",
       "    .dataframe tbody tr th {\n",
       "        vertical-align: top;\n",
       "    }\n",
       "\n",
       "    .dataframe thead th {\n",
       "        text-align: right;\n",
       "    }\n",
       "</style>\n",
       "<table border=\"1\" class=\"dataframe\">\n",
       "  <thead>\n",
       "    <tr style=\"text-align: right;\">\n",
       "      <th></th>\n",
       "      <th>genre</th>\n",
       "      <th>na_sales</th>\n",
       "      <th>na_perc_of_total</th>\n",
       "    </tr>\n",
       "  </thead>\n",
       "  <tbody>\n",
       "    <tr>\n",
       "      <th>0</th>\n",
       "      <td>Action</td>\n",
       "      <td>879.01</td>\n",
       "      <td>19.97</td>\n",
       "    </tr>\n",
       "    <tr>\n",
       "      <th>1</th>\n",
       "      <td>Sports</td>\n",
       "      <td>684.43</td>\n",
       "      <td>15.55</td>\n",
       "    </tr>\n",
       "    <tr>\n",
       "      <th>2</th>\n",
       "      <td>Shooter</td>\n",
       "      <td>592.24</td>\n",
       "      <td>13.46</td>\n",
       "    </tr>\n",
       "    <tr>\n",
       "      <th>3</th>\n",
       "      <td>Platform</td>\n",
       "      <td>445.50</td>\n",
       "      <td>10.12</td>\n",
       "    </tr>\n",
       "    <tr>\n",
       "      <th>4</th>\n",
       "      <td>Misc</td>\n",
       "      <td>407.27</td>\n",
       "      <td>9.25</td>\n",
       "    </tr>\n",
       "  </tbody>\n",
       "</table>\n",
       "</div>"
      ],
      "text/plain": [
       "      genre  na_sales  na_perc_of_total\n",
       "0    Action    879.01             19.97\n",
       "1    Sports    684.43             15.55\n",
       "2   Shooter    592.24             13.46\n",
       "3  Platform    445.50             10.12\n",
       "4      Misc    407.27              9.25"
      ]
     },
     "execution_count": 61,
     "metadata": {},
     "output_type": "execute_result"
    }
   ],
   "source": [
    "# популярные жанры (топ-5) - северная америка\n",
    "# + процент от продаж с разбивков по жанрам\n",
    "\n",
    "na_genres = pd.DataFrame(games_full.groupby('genre')['na_sales'].sum().sort_values(ascending=False).head(5)).reset_index()\n",
    "na_genres['na_perc_of_total'] = round(na_genres['na_sales'] / total_sales['na_sales_total'][0] * 100, 2)\n",
    "na_genres"
   ]
  },
  {
   "cell_type": "code",
   "execution_count": 62,
   "id": "09030d99",
   "metadata": {},
   "outputs": [
    {
     "data": {
      "text/html": [
       "<div>\n",
       "<style scoped>\n",
       "    .dataframe tbody tr th:only-of-type {\n",
       "        vertical-align: middle;\n",
       "    }\n",
       "\n",
       "    .dataframe tbody tr th {\n",
       "        vertical-align: top;\n",
       "    }\n",
       "\n",
       "    .dataframe thead th {\n",
       "        text-align: right;\n",
       "    }\n",
       "</style>\n",
       "<table border=\"1\" class=\"dataframe\">\n",
       "  <thead>\n",
       "    <tr style=\"text-align: right;\">\n",
       "      <th></th>\n",
       "      <th>name</th>\n",
       "      <th>platform</th>\n",
       "      <th>year_of_release</th>\n",
       "      <th>genre</th>\n",
       "      <th>na_sales</th>\n",
       "      <th>eu_sales</th>\n",
       "      <th>jp_sales</th>\n",
       "      <th>other_sales</th>\n",
       "      <th>critic_score</th>\n",
       "      <th>user_score</th>\n",
       "      <th>rating</th>\n",
       "      <th>total_sales</th>\n",
       "    </tr>\n",
       "  </thead>\n",
       "  <tbody>\n",
       "    <tr>\n",
       "      <th>0</th>\n",
       "      <td>Wii Sports</td>\n",
       "      <td>Wii</td>\n",
       "      <td>2006</td>\n",
       "      <td>Sports</td>\n",
       "      <td>41.36</td>\n",
       "      <td>28.96</td>\n",
       "      <td>3.77</td>\n",
       "      <td>8.45</td>\n",
       "      <td>76.0</td>\n",
       "      <td>8</td>\n",
       "      <td>E</td>\n",
       "      <td>82.54</td>\n",
       "    </tr>\n",
       "    <tr>\n",
       "      <th>1</th>\n",
       "      <td>Super Mario Bros.</td>\n",
       "      <td>NES</td>\n",
       "      <td>1985</td>\n",
       "      <td>Platform</td>\n",
       "      <td>29.08</td>\n",
       "      <td>3.58</td>\n",
       "      <td>6.81</td>\n",
       "      <td>0.77</td>\n",
       "      <td>NaN</td>\n",
       "      <td>NaN</td>\n",
       "      <td>NaN</td>\n",
       "      <td>40.24</td>\n",
       "    </tr>\n",
       "    <tr>\n",
       "      <th>9</th>\n",
       "      <td>Duck Hunt</td>\n",
       "      <td>NES</td>\n",
       "      <td>1984</td>\n",
       "      <td>Shooter</td>\n",
       "      <td>26.93</td>\n",
       "      <td>0.63</td>\n",
       "      <td>0.28</td>\n",
       "      <td>0.47</td>\n",
       "      <td>NaN</td>\n",
       "      <td>NaN</td>\n",
       "      <td>NaN</td>\n",
       "      <td>28.31</td>\n",
       "    </tr>\n",
       "    <tr>\n",
       "      <th>5</th>\n",
       "      <td>Tetris</td>\n",
       "      <td>GB</td>\n",
       "      <td>1989</td>\n",
       "      <td>Puzzle</td>\n",
       "      <td>23.20</td>\n",
       "      <td>2.26</td>\n",
       "      <td>4.22</td>\n",
       "      <td>0.58</td>\n",
       "      <td>NaN</td>\n",
       "      <td>NaN</td>\n",
       "      <td>NaN</td>\n",
       "      <td>30.26</td>\n",
       "    </tr>\n",
       "    <tr>\n",
       "      <th>2</th>\n",
       "      <td>Mario Kart Wii</td>\n",
       "      <td>Wii</td>\n",
       "      <td>2008</td>\n",
       "      <td>Racing</td>\n",
       "      <td>15.68</td>\n",
       "      <td>12.76</td>\n",
       "      <td>3.79</td>\n",
       "      <td>3.29</td>\n",
       "      <td>82.0</td>\n",
       "      <td>8.3</td>\n",
       "      <td>E</td>\n",
       "      <td>35.52</td>\n",
       "    </tr>\n",
       "  </tbody>\n",
       "</table>\n",
       "</div>"
      ],
      "text/plain": [
       "                name platform  year_of_release     genre  na_sales  eu_sales  \\\n",
       "0         Wii Sports      Wii             2006    Sports     41.36     28.96   \n",
       "1  Super Mario Bros.      NES             1985  Platform     29.08      3.58   \n",
       "9          Duck Hunt      NES             1984   Shooter     26.93      0.63   \n",
       "5             Tetris       GB             1989    Puzzle     23.20      2.26   \n",
       "2     Mario Kart Wii      Wii             2008    Racing     15.68     12.76   \n",
       "\n",
       "   jp_sales  other_sales critic_score user_score rating  total_sales  \n",
       "0      3.77         8.45         76.0          8      E        82.54  \n",
       "1      6.81         0.77          NaN        NaN    NaN        40.24  \n",
       "9      0.28         0.47          NaN        NaN    NaN        28.31  \n",
       "5      4.22         0.58          NaN        NaN    NaN        30.26  \n",
       "2      3.79         3.29         82.0        8.3      E        35.52  "
      ]
     },
     "execution_count": 62,
     "metadata": {},
     "output_type": "execute_result"
    }
   ],
   "source": [
    "# топ-5 игр по количеству проданных копий - северная америка\n",
    "\n",
    "games_full.sort_values('na_sales', ascending=False).head(5)"
   ]
  },
  {
   "cell_type": "code",
   "execution_count": 63,
   "id": "c52badbe",
   "metadata": {},
   "outputs": [
    {
     "data": {
      "text/html": [
       "<div>\n",
       "<style scoped>\n",
       "    .dataframe tbody tr th:only-of-type {\n",
       "        vertical-align: middle;\n",
       "    }\n",
       "\n",
       "    .dataframe tbody tr th {\n",
       "        vertical-align: top;\n",
       "    }\n",
       "\n",
       "    .dataframe thead th {\n",
       "        text-align: right;\n",
       "    }\n",
       "</style>\n",
       "<table border=\"1\" class=\"dataframe\">\n",
       "  <thead>\n",
       "    <tr style=\"text-align: right;\">\n",
       "      <th></th>\n",
       "      <th>rating</th>\n",
       "      <th>na_sales</th>\n",
       "      <th>perc_of_total</th>\n",
       "    </tr>\n",
       "  </thead>\n",
       "  <tbody>\n",
       "    <tr>\n",
       "      <th>0</th>\n",
       "      <td>E</td>\n",
       "      <td>1362.56</td>\n",
       "      <td>30.96</td>\n",
       "    </tr>\n",
       "    <tr>\n",
       "      <th>1</th>\n",
       "      <td>NaN</td>\n",
       "      <td>1117.64</td>\n",
       "      <td>25.40</td>\n",
       "    </tr>\n",
       "    <tr>\n",
       "      <th>2</th>\n",
       "      <td>T</td>\n",
       "      <td>797.02</td>\n",
       "      <td>18.11</td>\n",
       "    </tr>\n",
       "    <tr>\n",
       "      <th>3</th>\n",
       "      <td>M</td>\n",
       "      <td>755.87</td>\n",
       "      <td>17.18</td>\n",
       "    </tr>\n",
       "    <tr>\n",
       "      <th>4</th>\n",
       "      <td>E10+</td>\n",
       "      <td>362.13</td>\n",
       "      <td>8.23</td>\n",
       "    </tr>\n",
       "  </tbody>\n",
       "</table>\n",
       "</div>"
      ],
      "text/plain": [
       "  rating  na_sales  perc_of_total\n",
       "0      E   1362.56          30.96\n",
       "1    NaN   1117.64          25.40\n",
       "2      T    797.02          18.11\n",
       "3      M    755.87          17.18\n",
       "4   E10+    362.13           8.23"
      ]
     },
     "execution_count": 63,
     "metadata": {},
     "output_type": "execute_result"
    }
   ],
   "source": [
    "# соотношение рейтинга и количества проданных копий - северная америка\n",
    "# + процент от продаж с разбивков по рейтингу\n",
    "\n",
    "rating_na_sales = games_full.groupby('rating', dropna=False)['na_sales'].sum() \\\n",
    "                            .sort_values(ascending=False).head(5).reset_index()\n",
    "rating_na_sales['perc_of_total'] = round(rating_na_sales['na_sales'] / total_sales['na_sales_total'][0] * 100, 2)\n",
    "rating_na_sales"
   ]
  },
  {
   "cell_type": "markdown",
   "id": "f4c4df6b",
   "metadata": {},
   "source": [
    "<a id=\"conclusion_2\"> </a>\n",
    "# промежуточный вывод (северная америка):"
   ]
  },
  {
   "cell_type": "markdown",
   "id": "b9f36b51",
   "metadata": {},
   "source": [
    "Топ-5 платформ и доля от суммарного объема продаж:\n",
    "- X360 - 13.69%,\n",
    "- PS2 - 13.27%, \n",
    "- Wii - 11.29%,\n",
    "- PS3 - 8.94%,\n",
    "- и DS - 8.69%.\n",
    "\n",
    "Топ-5 жанров и доля от суммарного объема продаж:\n",
    "- Action - 19.97%,\n",
    "- Sports - 15.55%,\n",
    "- Shooter - 13.46%,\n",
    "- Platform - 10.12%,\n",
    "- Misc - 9.25%.\n",
    "\n",
    "Топ-5 самых популярных игр (по продажам в регионе)\n",
    "- Wii Sports,\n",
    "- Super Mario Bros.,\n",
    "- Duck Hunt,\n",
    "- Tetris,\n",
    "- Mario Kart Wii.\n",
    "\n",
    "Лидеры по рейтингу ESRB:\n",
    "- игры с рейтингом E ('для всех') - 30.96% от суммарных продаж,\n",
    "- T ('для подростков от 13 лет') - 18.11%,\n",
    "- M ('для взрослых: материалы игры не подходят для лиц младше 17 лет') - 17.18%,\n",
    "- E10+ ('для всех от 10 лет и старше') - 8.23%.\n",
    "\n",
    "Так же в топ вошли игры, для которых у нас нет данных о рейтинге: таких игр в датасете - 25.4% от суммарных продаж.\n"
   ]
  },
  {
   "cell_type": "markdown",
   "id": "e27926e9",
   "metadata": {},
   "source": [
    "# 3.2. Европа ('eu_sales')"
   ]
  },
  {
   "cell_type": "code",
   "execution_count": 64,
   "id": "3274ec2c",
   "metadata": {},
   "outputs": [
    {
     "data": {
      "text/html": [
       "<div>\n",
       "<style scoped>\n",
       "    .dataframe tbody tr th:only-of-type {\n",
       "        vertical-align: middle;\n",
       "    }\n",
       "\n",
       "    .dataframe tbody tr th {\n",
       "        vertical-align: top;\n",
       "    }\n",
       "\n",
       "    .dataframe thead th {\n",
       "        text-align: right;\n",
       "    }\n",
       "</style>\n",
       "<table border=\"1\" class=\"dataframe\">\n",
       "  <thead>\n",
       "    <tr style=\"text-align: right;\">\n",
       "      <th></th>\n",
       "      <th>platform</th>\n",
       "      <th>eu_sales</th>\n",
       "      <th>eu_perc_of_total</th>\n",
       "    </tr>\n",
       "  </thead>\n",
       "  <tbody>\n",
       "    <tr>\n",
       "      <th>0</th>\n",
       "      <td>PS2</td>\n",
       "      <td>339.29</td>\n",
       "      <td>14.00</td>\n",
       "    </tr>\n",
       "    <tr>\n",
       "      <th>1</th>\n",
       "      <td>PS3</td>\n",
       "      <td>330.28</td>\n",
       "      <td>13.62</td>\n",
       "    </tr>\n",
       "    <tr>\n",
       "      <th>2</th>\n",
       "      <td>X360</td>\n",
       "      <td>270.76</td>\n",
       "      <td>11.17</td>\n",
       "    </tr>\n",
       "    <tr>\n",
       "      <th>3</th>\n",
       "      <td>Wii</td>\n",
       "      <td>262.21</td>\n",
       "      <td>10.82</td>\n",
       "    </tr>\n",
       "    <tr>\n",
       "      <th>4</th>\n",
       "      <td>PS</td>\n",
       "      <td>213.61</td>\n",
       "      <td>8.81</td>\n",
       "    </tr>\n",
       "  </tbody>\n",
       "</table>\n",
       "</div>"
      ],
      "text/plain": [
       "  platform  eu_sales  eu_perc_of_total\n",
       "0      PS2    339.29             14.00\n",
       "1      PS3    330.28             13.62\n",
       "2     X360    270.76             11.17\n",
       "3      Wii    262.21             10.82\n",
       "4       PS    213.61              8.81"
      ]
     },
     "execution_count": 64,
     "metadata": {},
     "output_type": "execute_result"
    }
   ],
   "source": [
    "# популярные платформы (топ-5) - европа\n",
    "# + процент от продаж с разбивков по платформам\n",
    "\n",
    "eu_platform = pd.DataFrame(games_full.groupby('platform')['eu_sales'].sum().sort_values(ascending=False).head(5)).reset_index()\n",
    "eu_platform['eu_perc_of_total'] = round(eu_platform['eu_sales'] / total_sales['eu_sales_total'][0] * 100, 2)\n",
    "eu_platform"
   ]
  },
  {
   "cell_type": "code",
   "execution_count": 65,
   "id": "d09e65bb",
   "metadata": {},
   "outputs": [
    {
     "data": {
      "text/html": [
       "<div>\n",
       "<style scoped>\n",
       "    .dataframe tbody tr th:only-of-type {\n",
       "        vertical-align: middle;\n",
       "    }\n",
       "\n",
       "    .dataframe tbody tr th {\n",
       "        vertical-align: top;\n",
       "    }\n",
       "\n",
       "    .dataframe thead th {\n",
       "        text-align: right;\n",
       "    }\n",
       "</style>\n",
       "<table border=\"1\" class=\"dataframe\">\n",
       "  <thead>\n",
       "    <tr style=\"text-align: right;\">\n",
       "      <th></th>\n",
       "      <th>genre</th>\n",
       "      <th>eu_sales</th>\n",
       "      <th>eu_perc_of_total</th>\n",
       "    </tr>\n",
       "  </thead>\n",
       "  <tbody>\n",
       "    <tr>\n",
       "      <th>0</th>\n",
       "      <td>Action</td>\n",
       "      <td>519.13</td>\n",
       "      <td>21.42</td>\n",
       "    </tr>\n",
       "    <tr>\n",
       "      <th>1</th>\n",
       "      <td>Sports</td>\n",
       "      <td>376.78</td>\n",
       "      <td>15.54</td>\n",
       "    </tr>\n",
       "    <tr>\n",
       "      <th>2</th>\n",
       "      <td>Shooter</td>\n",
       "      <td>317.34</td>\n",
       "      <td>13.09</td>\n",
       "    </tr>\n",
       "    <tr>\n",
       "      <th>3</th>\n",
       "      <td>Racing</td>\n",
       "      <td>236.51</td>\n",
       "      <td>9.76</td>\n",
       "    </tr>\n",
       "    <tr>\n",
       "      <th>4</th>\n",
       "      <td>Misc</td>\n",
       "      <td>212.74</td>\n",
       "      <td>8.78</td>\n",
       "    </tr>\n",
       "  </tbody>\n",
       "</table>\n",
       "</div>"
      ],
      "text/plain": [
       "     genre  eu_sales  eu_perc_of_total\n",
       "0   Action    519.13             21.42\n",
       "1   Sports    376.78             15.54\n",
       "2  Shooter    317.34             13.09\n",
       "3   Racing    236.51              9.76\n",
       "4     Misc    212.74              8.78"
      ]
     },
     "execution_count": 65,
     "metadata": {},
     "output_type": "execute_result"
    }
   ],
   "source": [
    "# популярные жанры (топ-5) - европа\n",
    "# + процент от продаж с разбивков по жанрам\n",
    "\n",
    "eu_genres = pd.DataFrame(games_full.groupby('genre')['eu_sales'].sum().sort_values(ascending=False).head(5)).reset_index()\n",
    "eu_genres['eu_perc_of_total'] = round(eu_genres['eu_sales'] / total_sales['eu_sales_total'][0] * 100, 2)\n",
    "eu_genres"
   ]
  },
  {
   "cell_type": "code",
   "execution_count": 66,
   "id": "0d3b77bd",
   "metadata": {},
   "outputs": [
    {
     "data": {
      "text/html": [
       "<div>\n",
       "<style scoped>\n",
       "    .dataframe tbody tr th:only-of-type {\n",
       "        vertical-align: middle;\n",
       "    }\n",
       "\n",
       "    .dataframe tbody tr th {\n",
       "        vertical-align: top;\n",
       "    }\n",
       "\n",
       "    .dataframe thead th {\n",
       "        text-align: right;\n",
       "    }\n",
       "</style>\n",
       "<table border=\"1\" class=\"dataframe\">\n",
       "  <thead>\n",
       "    <tr style=\"text-align: right;\">\n",
       "      <th></th>\n",
       "      <th>name</th>\n",
       "      <th>platform</th>\n",
       "      <th>year_of_release</th>\n",
       "      <th>genre</th>\n",
       "      <th>na_sales</th>\n",
       "      <th>eu_sales</th>\n",
       "      <th>jp_sales</th>\n",
       "      <th>other_sales</th>\n",
       "      <th>critic_score</th>\n",
       "      <th>user_score</th>\n",
       "      <th>rating</th>\n",
       "      <th>total_sales</th>\n",
       "    </tr>\n",
       "  </thead>\n",
       "  <tbody>\n",
       "    <tr>\n",
       "      <th>0</th>\n",
       "      <td>Wii Sports</td>\n",
       "      <td>Wii</td>\n",
       "      <td>2006</td>\n",
       "      <td>Sports</td>\n",
       "      <td>41.36</td>\n",
       "      <td>28.96</td>\n",
       "      <td>3.77</td>\n",
       "      <td>8.45</td>\n",
       "      <td>76.0</td>\n",
       "      <td>8</td>\n",
       "      <td>E</td>\n",
       "      <td>82.54</td>\n",
       "    </tr>\n",
       "    <tr>\n",
       "      <th>2</th>\n",
       "      <td>Mario Kart Wii</td>\n",
       "      <td>Wii</td>\n",
       "      <td>2008</td>\n",
       "      <td>Racing</td>\n",
       "      <td>15.68</td>\n",
       "      <td>12.76</td>\n",
       "      <td>3.79</td>\n",
       "      <td>3.29</td>\n",
       "      <td>82.0</td>\n",
       "      <td>8.3</td>\n",
       "      <td>E</td>\n",
       "      <td>35.52</td>\n",
       "    </tr>\n",
       "    <tr>\n",
       "      <th>10</th>\n",
       "      <td>Nintendogs</td>\n",
       "      <td>DS</td>\n",
       "      <td>2005</td>\n",
       "      <td>Simulation</td>\n",
       "      <td>9.05</td>\n",
       "      <td>10.95</td>\n",
       "      <td>1.93</td>\n",
       "      <td>2.74</td>\n",
       "      <td>NaN</td>\n",
       "      <td>NaN</td>\n",
       "      <td>NaN</td>\n",
       "      <td>24.67</td>\n",
       "    </tr>\n",
       "    <tr>\n",
       "      <th>3</th>\n",
       "      <td>Wii Sports Resort</td>\n",
       "      <td>Wii</td>\n",
       "      <td>2009</td>\n",
       "      <td>Sports</td>\n",
       "      <td>15.61</td>\n",
       "      <td>10.93</td>\n",
       "      <td>3.28</td>\n",
       "      <td>2.95</td>\n",
       "      <td>80.0</td>\n",
       "      <td>8</td>\n",
       "      <td>E</td>\n",
       "      <td>32.77</td>\n",
       "    </tr>\n",
       "    <tr>\n",
       "      <th>19</th>\n",
       "      <td>Brain Age: Train Your Brain in Minutes a Day</td>\n",
       "      <td>DS</td>\n",
       "      <td>2005</td>\n",
       "      <td>Misc</td>\n",
       "      <td>4.74</td>\n",
       "      <td>9.20</td>\n",
       "      <td>4.16</td>\n",
       "      <td>2.04</td>\n",
       "      <td>77.0</td>\n",
       "      <td>7.9</td>\n",
       "      <td>E</td>\n",
       "      <td>20.14</td>\n",
       "    </tr>\n",
       "  </tbody>\n",
       "</table>\n",
       "</div>"
      ],
      "text/plain": [
       "                                            name platform  year_of_release  \\\n",
       "0                                     Wii Sports      Wii             2006   \n",
       "2                                 Mario Kart Wii      Wii             2008   \n",
       "10                                    Nintendogs       DS             2005   \n",
       "3                              Wii Sports Resort      Wii             2009   \n",
       "19  Brain Age: Train Your Brain in Minutes a Day       DS             2005   \n",
       "\n",
       "         genre  na_sales  eu_sales  jp_sales  other_sales critic_score  \\\n",
       "0       Sports     41.36     28.96      3.77         8.45         76.0   \n",
       "2       Racing     15.68     12.76      3.79         3.29         82.0   \n",
       "10  Simulation      9.05     10.95      1.93         2.74          NaN   \n",
       "3       Sports     15.61     10.93      3.28         2.95         80.0   \n",
       "19        Misc      4.74      9.20      4.16         2.04         77.0   \n",
       "\n",
       "   user_score rating  total_sales  \n",
       "0           8      E        82.54  \n",
       "2         8.3      E        35.52  \n",
       "10        NaN    NaN        24.67  \n",
       "3           8      E        32.77  \n",
       "19        7.9      E        20.14  "
      ]
     },
     "execution_count": 66,
     "metadata": {},
     "output_type": "execute_result"
    }
   ],
   "source": [
    "# топ-5 игр по количеству проданных копий - европа\n",
    "\n",
    "games_full.sort_values('eu_sales', ascending=False).head(5)"
   ]
  },
  {
   "cell_type": "code",
   "execution_count": 67,
   "id": "3aa7b932",
   "metadata": {},
   "outputs": [
    {
     "data": {
      "text/html": [
       "<div>\n",
       "<style scoped>\n",
       "    .dataframe tbody tr th:only-of-type {\n",
       "        vertical-align: middle;\n",
       "    }\n",
       "\n",
       "    .dataframe tbody tr th {\n",
       "        vertical-align: top;\n",
       "    }\n",
       "\n",
       "    .dataframe thead th {\n",
       "        text-align: right;\n",
       "    }\n",
       "</style>\n",
       "<table border=\"1\" class=\"dataframe\">\n",
       "  <thead>\n",
       "    <tr style=\"text-align: right;\">\n",
       "      <th></th>\n",
       "      <th>rating</th>\n",
       "      <th>eu_sales</th>\n",
       "      <th>perc_of_total</th>\n",
       "    </tr>\n",
       "  </thead>\n",
       "  <tbody>\n",
       "    <tr>\n",
       "      <th>0</th>\n",
       "      <td>E</td>\n",
       "      <td>738.59</td>\n",
       "      <td>30.47</td>\n",
       "    </tr>\n",
       "    <tr>\n",
       "      <th>1</th>\n",
       "      <td>NaN</td>\n",
       "      <td>551.33</td>\n",
       "      <td>22.74</td>\n",
       "    </tr>\n",
       "    <tr>\n",
       "      <th>2</th>\n",
       "      <td>M</td>\n",
       "      <td>488.65</td>\n",
       "      <td>20.16</td>\n",
       "    </tr>\n",
       "    <tr>\n",
       "      <th>3</th>\n",
       "      <td>T</td>\n",
       "      <td>448.16</td>\n",
       "      <td>18.49</td>\n",
       "    </tr>\n",
       "    <tr>\n",
       "      <th>4</th>\n",
       "      <td>E10+</td>\n",
       "      <td>196.33</td>\n",
       "      <td>8.10</td>\n",
       "    </tr>\n",
       "  </tbody>\n",
       "</table>\n",
       "</div>"
      ],
      "text/plain": [
       "  rating  eu_sales  perc_of_total\n",
       "0      E    738.59          30.47\n",
       "1    NaN    551.33          22.74\n",
       "2      M    488.65          20.16\n",
       "3      T    448.16          18.49\n",
       "4   E10+    196.33           8.10"
      ]
     },
     "execution_count": 67,
     "metadata": {},
     "output_type": "execute_result"
    }
   ],
   "source": [
    "# соотношение рейтинга и количества проданных копий - северная америка\n",
    "# + процент от продаж с разбивков по рейтингу\n",
    "\n",
    "rating_eu_sales = games_full.groupby('rating', dropna=False)['eu_sales'].sum() \\\n",
    "                            .sort_values(ascending=False).head(5).reset_index()\n",
    "rating_eu_sales['perc_of_total'] = round(rating_eu_sales['eu_sales'] / total_sales['eu_sales_total'][0] * 100, 2)\n",
    "rating_eu_sales"
   ]
  },
  {
   "cell_type": "markdown",
   "id": "5d69414f",
   "metadata": {},
   "source": [
    "<a id=\"conclusion_3\"> </a>\n",
    "# промежуточный вывод - европа:"
   ]
  },
  {
   "cell_type": "markdown",
   "id": "cfd040a0",
   "metadata": {},
   "source": [
    "Топ-5 платформ и доля от суммарного объема продаж:\n",
    "- PS2 - 14.00%,\n",
    "- PS3 - 13.63%,\n",
    "- X360 - 11.17%,\n",
    "- Wii - 10.82%,\n",
    "- PS - 8.81%.\n",
    "\n",
    "Топ-5 жанров и доля от суммарного объема продаж:\n",
    "- Action - 21.42%,\n",
    "- Sports - 15.54%,\n",
    "- Shooter - 13.09%,\n",
    "- Racing - 9.76%,\n",
    "- Misc - 8.78%.\n",
    "\n",
    "\n",
    "Топ-5 самых популярных игр (по продажам в регионе)\n",
    "- Wii Sports, \n",
    "- Mario Kart Wii,\n",
    "- Nintendogs,\n",
    "- Wii Sports Resort,\n",
    "- Brain Age: Train Your Brain in Minutes a Day.\n",
    "\n",
    "Лидеры по рейтингу ESRB:\n",
    "- игры с рейтингом E ('для всех') - 30.47% от суммарных продаж,\n",
    "- M ('для взрослых: материалы игры не подходят для лиц младше 17 лет') - 20.16%,\n",
    "- T ('для подростков от 13 лет') - 18.49%,\n",
    "- E10+ ('для всех от 10 лет и старше') - 8.10%.\n",
    "\n",
    "Так же в топ вошли игры, для которых у нас нет данных о рейтинге: таких игр в датасете - 22.74% от суммарных продаж."
   ]
  },
  {
   "cell_type": "markdown",
   "id": "f9c46a66",
   "metadata": {},
   "source": [
    "<b>Североамериканские и европейские игроки во много похожи</b>. В этих регионах:\n",
    "- в топ платформ вошли X360, PS3, PS2 и Wii,\n",
    "- в топ жанров вошли Action, Sports, Shooter и Misc,\n",
    "- одни из самых популярных игр - Wii Sports и Mario Kart Wii,\n",
    "- в топ вошли игры с одними и теми же рейтингами ."
   ]
  },
  {
   "cell_type": "markdown",
   "id": "9021dae0",
   "metadata": {},
   "source": [
    "# 3.3. Япония ('jp_sales')"
   ]
  },
  {
   "cell_type": "code",
   "execution_count": 68,
   "id": "337a6299",
   "metadata": {},
   "outputs": [
    {
     "data": {
      "text/html": [
       "<div>\n",
       "<style scoped>\n",
       "    .dataframe tbody tr th:only-of-type {\n",
       "        vertical-align: middle;\n",
       "    }\n",
       "\n",
       "    .dataframe tbody tr th {\n",
       "        vertical-align: top;\n",
       "    }\n",
       "\n",
       "    .dataframe thead th {\n",
       "        text-align: right;\n",
       "    }\n",
       "</style>\n",
       "<table border=\"1\" class=\"dataframe\">\n",
       "  <thead>\n",
       "    <tr style=\"text-align: right;\">\n",
       "      <th></th>\n",
       "      <th>platform</th>\n",
       "      <th>jp_sales</th>\n",
       "      <th>jp_perc_of_total</th>\n",
       "    </tr>\n",
       "  </thead>\n",
       "  <tbody>\n",
       "    <tr>\n",
       "      <th>0</th>\n",
       "      <td>DS</td>\n",
       "      <td>175.57</td>\n",
       "      <td>13.53</td>\n",
       "    </tr>\n",
       "    <tr>\n",
       "      <th>1</th>\n",
       "      <td>PS</td>\n",
       "      <td>139.82</td>\n",
       "      <td>10.78</td>\n",
       "    </tr>\n",
       "    <tr>\n",
       "      <th>2</th>\n",
       "      <td>PS2</td>\n",
       "      <td>139.20</td>\n",
       "      <td>10.73</td>\n",
       "    </tr>\n",
       "    <tr>\n",
       "      <th>3</th>\n",
       "      <td>SNES</td>\n",
       "      <td>116.55</td>\n",
       "      <td>8.98</td>\n",
       "    </tr>\n",
       "    <tr>\n",
       "      <th>4</th>\n",
       "      <td>3DS</td>\n",
       "      <td>100.67</td>\n",
       "      <td>7.76</td>\n",
       "    </tr>\n",
       "  </tbody>\n",
       "</table>\n",
       "</div>"
      ],
      "text/plain": [
       "  platform  jp_sales  jp_perc_of_total\n",
       "0       DS    175.57             13.53\n",
       "1       PS    139.82             10.78\n",
       "2      PS2    139.20             10.73\n",
       "3     SNES    116.55              8.98\n",
       "4      3DS    100.67              7.76"
      ]
     },
     "execution_count": 68,
     "metadata": {},
     "output_type": "execute_result"
    }
   ],
   "source": [
    "# популярные платформы (топ-5) - япония\n",
    "# + процент от продаж с разбивков по платформам\n",
    "\n",
    "jp_platform = pd.DataFrame(games_full.groupby('platform')['jp_sales'].sum().sort_values(ascending=False).head(5)).reset_index()\n",
    "jp_platform['jp_perc_of_total'] = round(jp_platform['jp_sales'] / total_sales['jp_sales_total'][0] * 100, 2)\n",
    "jp_platform"
   ]
  },
  {
   "cell_type": "code",
   "execution_count": 69,
   "id": "d8cc43ff",
   "metadata": {},
   "outputs": [
    {
     "data": {
      "text/html": [
       "<div>\n",
       "<style scoped>\n",
       "    .dataframe tbody tr th:only-of-type {\n",
       "        vertical-align: middle;\n",
       "    }\n",
       "\n",
       "    .dataframe tbody tr th {\n",
       "        vertical-align: top;\n",
       "    }\n",
       "\n",
       "    .dataframe thead th {\n",
       "        text-align: right;\n",
       "    }\n",
       "</style>\n",
       "<table border=\"1\" class=\"dataframe\">\n",
       "  <thead>\n",
       "    <tr style=\"text-align: right;\">\n",
       "      <th></th>\n",
       "      <th>genre</th>\n",
       "      <th>jp_sales</th>\n",
       "      <th>jp_perc_of_total</th>\n",
       "    </tr>\n",
       "  </thead>\n",
       "  <tbody>\n",
       "    <tr>\n",
       "      <th>0</th>\n",
       "      <td>Role-Playing</td>\n",
       "      <td>355.41</td>\n",
       "      <td>27.40</td>\n",
       "    </tr>\n",
       "    <tr>\n",
       "      <th>1</th>\n",
       "      <td>Action</td>\n",
       "      <td>161.43</td>\n",
       "      <td>12.44</td>\n",
       "    </tr>\n",
       "    <tr>\n",
       "      <th>2</th>\n",
       "      <td>Sports</td>\n",
       "      <td>135.54</td>\n",
       "      <td>10.45</td>\n",
       "    </tr>\n",
       "    <tr>\n",
       "      <th>3</th>\n",
       "      <td>Platform</td>\n",
       "      <td>130.83</td>\n",
       "      <td>10.08</td>\n",
       "    </tr>\n",
       "    <tr>\n",
       "      <th>4</th>\n",
       "      <td>Misc</td>\n",
       "      <td>108.11</td>\n",
       "      <td>8.33</td>\n",
       "    </tr>\n",
       "  </tbody>\n",
       "</table>\n",
       "</div>"
      ],
      "text/plain": [
       "          genre  jp_sales  jp_perc_of_total\n",
       "0  Role-Playing    355.41             27.40\n",
       "1        Action    161.43             12.44\n",
       "2        Sports    135.54             10.45\n",
       "3      Platform    130.83             10.08\n",
       "4          Misc    108.11              8.33"
      ]
     },
     "execution_count": 69,
     "metadata": {},
     "output_type": "execute_result"
    }
   ],
   "source": [
    "# популярные жанры (топ-5) - япония\n",
    "# + процент от продаж с разбивков по жанрам\n",
    "\n",
    "jp_genres = pd.DataFrame(games_full.groupby('genre')['jp_sales'].sum().sort_values(ascending=False).head(5)).reset_index()\n",
    "jp_genres['jp_perc_of_total'] = round(jp_genres['jp_sales'] / total_sales['jp_sales_total'][0] * 100, 2)\n",
    "jp_genres"
   ]
  },
  {
   "cell_type": "code",
   "execution_count": 70,
   "id": "6b79d13b",
   "metadata": {},
   "outputs": [
    {
     "data": {
      "text/html": [
       "<div>\n",
       "<style scoped>\n",
       "    .dataframe tbody tr th:only-of-type {\n",
       "        vertical-align: middle;\n",
       "    }\n",
       "\n",
       "    .dataframe tbody tr th {\n",
       "        vertical-align: top;\n",
       "    }\n",
       "\n",
       "    .dataframe thead th {\n",
       "        text-align: right;\n",
       "    }\n",
       "</style>\n",
       "<table border=\"1\" class=\"dataframe\">\n",
       "  <thead>\n",
       "    <tr style=\"text-align: right;\">\n",
       "      <th></th>\n",
       "      <th>name</th>\n",
       "      <th>platform</th>\n",
       "      <th>year_of_release</th>\n",
       "      <th>genre</th>\n",
       "      <th>na_sales</th>\n",
       "      <th>eu_sales</th>\n",
       "      <th>jp_sales</th>\n",
       "      <th>other_sales</th>\n",
       "      <th>critic_score</th>\n",
       "      <th>user_score</th>\n",
       "      <th>rating</th>\n",
       "      <th>total_sales</th>\n",
       "    </tr>\n",
       "  </thead>\n",
       "  <tbody>\n",
       "    <tr>\n",
       "      <th>4</th>\n",
       "      <td>Pokemon Red/Pokemon Blue</td>\n",
       "      <td>GB</td>\n",
       "      <td>1996</td>\n",
       "      <td>Role-Playing</td>\n",
       "      <td>11.27</td>\n",
       "      <td>8.89</td>\n",
       "      <td>10.22</td>\n",
       "      <td>1.00</td>\n",
       "      <td>NaN</td>\n",
       "      <td>NaN</td>\n",
       "      <td>NaN</td>\n",
       "      <td>31.38</td>\n",
       "    </tr>\n",
       "    <tr>\n",
       "      <th>12</th>\n",
       "      <td>Pokemon Gold/Pokemon Silver</td>\n",
       "      <td>GB</td>\n",
       "      <td>1999</td>\n",
       "      <td>Role-Playing</td>\n",
       "      <td>9.00</td>\n",
       "      <td>6.18</td>\n",
       "      <td>7.20</td>\n",
       "      <td>0.71</td>\n",
       "      <td>NaN</td>\n",
       "      <td>NaN</td>\n",
       "      <td>NaN</td>\n",
       "      <td>23.09</td>\n",
       "    </tr>\n",
       "    <tr>\n",
       "      <th>1</th>\n",
       "      <td>Super Mario Bros.</td>\n",
       "      <td>NES</td>\n",
       "      <td>1985</td>\n",
       "      <td>Platform</td>\n",
       "      <td>29.08</td>\n",
       "      <td>3.58</td>\n",
       "      <td>6.81</td>\n",
       "      <td>0.77</td>\n",
       "      <td>NaN</td>\n",
       "      <td>NaN</td>\n",
       "      <td>NaN</td>\n",
       "      <td>40.24</td>\n",
       "    </tr>\n",
       "    <tr>\n",
       "      <th>6</th>\n",
       "      <td>New Super Mario Bros.</td>\n",
       "      <td>DS</td>\n",
       "      <td>2006</td>\n",
       "      <td>Platform</td>\n",
       "      <td>11.28</td>\n",
       "      <td>9.14</td>\n",
       "      <td>6.50</td>\n",
       "      <td>2.88</td>\n",
       "      <td>89.0</td>\n",
       "      <td>8.5</td>\n",
       "      <td>E</td>\n",
       "      <td>29.80</td>\n",
       "    </tr>\n",
       "    <tr>\n",
       "      <th>20</th>\n",
       "      <td>Pokemon Diamond/Pokemon Pearl</td>\n",
       "      <td>DS</td>\n",
       "      <td>2006</td>\n",
       "      <td>Role-Playing</td>\n",
       "      <td>6.38</td>\n",
       "      <td>4.46</td>\n",
       "      <td>6.04</td>\n",
       "      <td>1.36</td>\n",
       "      <td>NaN</td>\n",
       "      <td>NaN</td>\n",
       "      <td>NaN</td>\n",
       "      <td>18.24</td>\n",
       "    </tr>\n",
       "  </tbody>\n",
       "</table>\n",
       "</div>"
      ],
      "text/plain": [
       "                             name platform  year_of_release         genre  \\\n",
       "4        Pokemon Red/Pokemon Blue       GB             1996  Role-Playing   \n",
       "12    Pokemon Gold/Pokemon Silver       GB             1999  Role-Playing   \n",
       "1               Super Mario Bros.      NES             1985      Platform   \n",
       "6           New Super Mario Bros.       DS             2006      Platform   \n",
       "20  Pokemon Diamond/Pokemon Pearl       DS             2006  Role-Playing   \n",
       "\n",
       "    na_sales  eu_sales  jp_sales  other_sales critic_score user_score rating  \\\n",
       "4      11.27      8.89     10.22         1.00          NaN        NaN    NaN   \n",
       "12      9.00      6.18      7.20         0.71          NaN        NaN    NaN   \n",
       "1      29.08      3.58      6.81         0.77          NaN        NaN    NaN   \n",
       "6      11.28      9.14      6.50         2.88         89.0        8.5      E   \n",
       "20      6.38      4.46      6.04         1.36          NaN        NaN    NaN   \n",
       "\n",
       "    total_sales  \n",
       "4         31.38  \n",
       "12        23.09  \n",
       "1         40.24  \n",
       "6         29.80  \n",
       "20        18.24  "
      ]
     },
     "execution_count": 70,
     "metadata": {},
     "output_type": "execute_result"
    }
   ],
   "source": [
    "# топ-5 игр по количеству проданных копий - япония\n",
    "\n",
    "games_full.sort_values('jp_sales', ascending=False).head(5)"
   ]
  },
  {
   "cell_type": "code",
   "execution_count": 71,
   "id": "217e5e09",
   "metadata": {},
   "outputs": [
    {
     "data": {
      "text/html": [
       "<div>\n",
       "<style scoped>\n",
       "    .dataframe tbody tr th:only-of-type {\n",
       "        vertical-align: middle;\n",
       "    }\n",
       "\n",
       "    .dataframe tbody tr th {\n",
       "        vertical-align: top;\n",
       "    }\n",
       "\n",
       "    .dataframe thead th {\n",
       "        text-align: right;\n",
       "    }\n",
       "</style>\n",
       "<table border=\"1\" class=\"dataframe\">\n",
       "  <thead>\n",
       "    <tr style=\"text-align: right;\">\n",
       "      <th></th>\n",
       "      <th>rating</th>\n",
       "      <th>jp_sales</th>\n",
       "      <th>perc_of_total</th>\n",
       "    </tr>\n",
       "  </thead>\n",
       "  <tbody>\n",
       "    <tr>\n",
       "      <th>0</th>\n",
       "      <td>NaN</td>\n",
       "      <td>817.16</td>\n",
       "      <td>62.99</td>\n",
       "    </tr>\n",
       "    <tr>\n",
       "      <th>1</th>\n",
       "      <td>E</td>\n",
       "      <td>218.35</td>\n",
       "      <td>16.83</td>\n",
       "    </tr>\n",
       "    <tr>\n",
       "      <th>2</th>\n",
       "      <td>T</td>\n",
       "      <td>153.82</td>\n",
       "      <td>11.86</td>\n",
       "    </tr>\n",
       "    <tr>\n",
       "      <th>3</th>\n",
       "      <td>M</td>\n",
       "      <td>65.15</td>\n",
       "      <td>5.02</td>\n",
       "    </tr>\n",
       "    <tr>\n",
       "      <th>4</th>\n",
       "      <td>E10+</td>\n",
       "      <td>41.40</td>\n",
       "      <td>3.19</td>\n",
       "    </tr>\n",
       "  </tbody>\n",
       "</table>\n",
       "</div>"
      ],
      "text/plain": [
       "  rating  jp_sales  perc_of_total\n",
       "0    NaN    817.16          62.99\n",
       "1      E    218.35          16.83\n",
       "2      T    153.82          11.86\n",
       "3      M     65.15           5.02\n",
       "4   E10+     41.40           3.19"
      ]
     },
     "execution_count": 71,
     "metadata": {},
     "output_type": "execute_result"
    }
   ],
   "source": [
    "# соотношение рейтинга и количества проданных копий - япония\n",
    "# + процент от продаж с разбивков по рейтингу\n",
    "\n",
    "rating_jp_sales = games_full.groupby('rating', dropna=False)['jp_sales'].sum() \\\n",
    "                            .sort_values(ascending=False).head(5).reset_index()\n",
    "rating_jp_sales['perc_of_total'] = round(rating_jp_sales['jp_sales'] / total_sales['jp_sales_total'][0] * 100, 2)\n",
    "rating_jp_sales"
   ]
  },
  {
   "cell_type": "markdown",
   "id": "47217aa8",
   "metadata": {},
   "source": [
    "<a id=\"conclusion_4\"> </a>\n",
    "# промежуточный вывод - япония:"
   ]
  },
  {
   "cell_type": "markdown",
   "id": "460725b1",
   "metadata": {},
   "source": [
    "Японский рынок сильно отличается от европейско-американского рынка.\n",
    "\n",
    "Топ-5 платформ и доля от суммарного объема продаж:\n",
    "- DS - 13.53%,\n",
    "- PS - 10.78%,\n",
    "- PS2 - 10.73%,\n",
    "- SNES - 8.98%,\n",
    "- 3DS - 7.76%.\n",
    "\n",
    "\n",
    "Топ-5 жанров и доля от суммарного объема продаж:\n",
    "- Role-Playing - 27.40%,\n",
    "- Action - 12.44%,\n",
    "- Sports - 10.45%,\n",
    "- Platform - 10.08%,\n",
    "- Misc - 8.33%.\n",
    "\n",
    "Топ-5 самых популярных игр (по продажам в регионе)\n",
    "- покемоны - Pokemon Red/Pokemon Blue, Pokemon Gold/Pokemon и Pokemon Diamond/Pokemon Pearl,\n",
    "- Super Mario Bros. и New Super Mario Bros.\n",
    "\n",
    "\n",
    "\n",
    "Лидеры по рейтингу ESRB:\n",
    "- игры с рейтингом E ('для всех') - 16.83% от суммарных продаж,\n",
    "- T ('для подростков от 13 лет') - 11.86%,\n",
    "- M ('для взрослых: материалы игры не подходят для лиц младше 17 лет') - 5.02%,\n",
    "- E10+ ('для всех от 10 лет и старше') - 3.19%.\n",
    "\n",
    "Так же в топ вошли игры, для которых у нас нет данных о рейтинге: таких игр в датасете - 62.99% от суммарных продаж."
   ]
  },
  {
   "cell_type": "markdown",
   "id": "bd2c4f37",
   "metadata": {},
   "source": [
    "#  3.4. Продажи в других странах ('other_sales')"
   ]
  },
  {
   "cell_type": "code",
   "execution_count": 72,
   "id": "3357bb85",
   "metadata": {},
   "outputs": [
    {
     "data": {
      "text/html": [
       "<div>\n",
       "<style scoped>\n",
       "    .dataframe tbody tr th:only-of-type {\n",
       "        vertical-align: middle;\n",
       "    }\n",
       "\n",
       "    .dataframe tbody tr th {\n",
       "        vertical-align: top;\n",
       "    }\n",
       "\n",
       "    .dataframe thead th {\n",
       "        text-align: right;\n",
       "    }\n",
       "</style>\n",
       "<table border=\"1\" class=\"dataframe\">\n",
       "  <thead>\n",
       "    <tr style=\"text-align: right;\">\n",
       "      <th></th>\n",
       "      <th>platform</th>\n",
       "      <th>other_sales</th>\n",
       "      <th>other_perc_of_total</th>\n",
       "    </tr>\n",
       "  </thead>\n",
       "  <tbody>\n",
       "    <tr>\n",
       "      <th>0</th>\n",
       "      <td>PS2</td>\n",
       "      <td>193.44</td>\n",
       "      <td>24.45</td>\n",
       "    </tr>\n",
       "    <tr>\n",
       "      <th>1</th>\n",
       "      <td>PS3</td>\n",
       "      <td>135.68</td>\n",
       "      <td>17.15</td>\n",
       "    </tr>\n",
       "    <tr>\n",
       "      <th>2</th>\n",
       "      <td>X360</td>\n",
       "      <td>85.76</td>\n",
       "      <td>10.84</td>\n",
       "    </tr>\n",
       "    <tr>\n",
       "      <th>3</th>\n",
       "      <td>Wii</td>\n",
       "      <td>79.07</td>\n",
       "      <td>9.99</td>\n",
       "    </tr>\n",
       "    <tr>\n",
       "      <th>4</th>\n",
       "      <td>DS</td>\n",
       "      <td>59.26</td>\n",
       "      <td>7.49</td>\n",
       "    </tr>\n",
       "  </tbody>\n",
       "</table>\n",
       "</div>"
      ],
      "text/plain": [
       "  platform  other_sales  other_perc_of_total\n",
       "0      PS2       193.44                24.45\n",
       "1      PS3       135.68                17.15\n",
       "2     X360        85.76                10.84\n",
       "3      Wii        79.07                 9.99\n",
       "4       DS        59.26                 7.49"
      ]
     },
     "execution_count": 72,
     "metadata": {},
     "output_type": "execute_result"
    }
   ],
   "source": [
    "# популярные платформы (топ-5) - другие страны \n",
    "# + процент от продаж с разбивков по платформам\n",
    "\n",
    "other_platform = pd.DataFrame(games_full.groupby('platform')['other_sales'].sum().sort_values(ascending=False) \\\n",
    "                              .head(5)).reset_index()\n",
    "\n",
    "other_platform['other_perc_of_total'] = round(other_platform['other_sales'] / total_sales['other_sales_total'][0] * 100, 2)\n",
    "other_platform"
   ]
  },
  {
   "cell_type": "code",
   "execution_count": 73,
   "id": "90bb8b74",
   "metadata": {},
   "outputs": [
    {
     "data": {
      "text/html": [
       "<div>\n",
       "<style scoped>\n",
       "    .dataframe tbody tr th:only-of-type {\n",
       "        vertical-align: middle;\n",
       "    }\n",
       "\n",
       "    .dataframe tbody tr th {\n",
       "        vertical-align: top;\n",
       "    }\n",
       "\n",
       "    .dataframe thead th {\n",
       "        text-align: right;\n",
       "    }\n",
       "</style>\n",
       "<table border=\"1\" class=\"dataframe\">\n",
       "  <thead>\n",
       "    <tr style=\"text-align: right;\">\n",
       "      <th></th>\n",
       "      <th>genre</th>\n",
       "      <th>other_sales</th>\n",
       "      <th>other_perc_of_total</th>\n",
       "    </tr>\n",
       "  </thead>\n",
       "  <tbody>\n",
       "    <tr>\n",
       "      <th>0</th>\n",
       "      <td>Action</td>\n",
       "      <td>184.60</td>\n",
       "      <td>23.33</td>\n",
       "    </tr>\n",
       "    <tr>\n",
       "      <th>1</th>\n",
       "      <td>Sports</td>\n",
       "      <td>134.51</td>\n",
       "      <td>17.00</td>\n",
       "    </tr>\n",
       "    <tr>\n",
       "      <th>2</th>\n",
       "      <td>Shooter</td>\n",
       "      <td>104.11</td>\n",
       "      <td>13.16</td>\n",
       "    </tr>\n",
       "    <tr>\n",
       "      <th>3</th>\n",
       "      <td>Racing</td>\n",
       "      <td>76.10</td>\n",
       "      <td>9.62</td>\n",
       "    </tr>\n",
       "    <tr>\n",
       "      <th>4</th>\n",
       "      <td>Misc</td>\n",
       "      <td>74.39</td>\n",
       "      <td>9.40</td>\n",
       "    </tr>\n",
       "  </tbody>\n",
       "</table>\n",
       "</div>"
      ],
      "text/plain": [
       "     genre  other_sales  other_perc_of_total\n",
       "0   Action       184.60                23.33\n",
       "1   Sports       134.51                17.00\n",
       "2  Shooter       104.11                13.16\n",
       "3   Racing        76.10                 9.62\n",
       "4     Misc        74.39                 9.40"
      ]
     },
     "execution_count": 73,
     "metadata": {},
     "output_type": "execute_result"
    }
   ],
   "source": [
    "# популярные жанры (топ-5) - другие страны \n",
    "# + процент от продаж с разбивков по жанрам\n",
    "\n",
    "other_genres = pd.DataFrame(games_full.groupby('genre')['other_sales'].sum().sort_values(ascending=False).head(5)).reset_index()\n",
    "other_genres['other_perc_of_total'] = round(other_genres['other_sales'] / total_sales['other_sales_total'][0] * 100, 2)\n",
    "other_genres"
   ]
  },
  {
   "cell_type": "code",
   "execution_count": 74,
   "id": "dd92504f",
   "metadata": {},
   "outputs": [
    {
     "data": {
      "text/html": [
       "<div>\n",
       "<style scoped>\n",
       "    .dataframe tbody tr th:only-of-type {\n",
       "        vertical-align: middle;\n",
       "    }\n",
       "\n",
       "    .dataframe tbody tr th {\n",
       "        vertical-align: top;\n",
       "    }\n",
       "\n",
       "    .dataframe thead th {\n",
       "        text-align: right;\n",
       "    }\n",
       "</style>\n",
       "<table border=\"1\" class=\"dataframe\">\n",
       "  <thead>\n",
       "    <tr style=\"text-align: right;\">\n",
       "      <th></th>\n",
       "      <th>name</th>\n",
       "      <th>platform</th>\n",
       "      <th>year_of_release</th>\n",
       "      <th>genre</th>\n",
       "      <th>na_sales</th>\n",
       "      <th>eu_sales</th>\n",
       "      <th>jp_sales</th>\n",
       "      <th>other_sales</th>\n",
       "      <th>critic_score</th>\n",
       "      <th>user_score</th>\n",
       "      <th>rating</th>\n",
       "      <th>total_sales</th>\n",
       "    </tr>\n",
       "  </thead>\n",
       "  <tbody>\n",
       "    <tr>\n",
       "      <th>17</th>\n",
       "      <td>Grand Theft Auto: San Andreas</td>\n",
       "      <td>PS2</td>\n",
       "      <td>2004</td>\n",
       "      <td>Action</td>\n",
       "      <td>9.43</td>\n",
       "      <td>0.40</td>\n",
       "      <td>0.41</td>\n",
       "      <td>10.57</td>\n",
       "      <td>95.0</td>\n",
       "      <td>9</td>\n",
       "      <td>M</td>\n",
       "      <td>20.81</td>\n",
       "    </tr>\n",
       "    <tr>\n",
       "      <th>0</th>\n",
       "      <td>Wii Sports</td>\n",
       "      <td>Wii</td>\n",
       "      <td>2006</td>\n",
       "      <td>Sports</td>\n",
       "      <td>41.36</td>\n",
       "      <td>28.96</td>\n",
       "      <td>3.77</td>\n",
       "      <td>8.45</td>\n",
       "      <td>76.0</td>\n",
       "      <td>8</td>\n",
       "      <td>E</td>\n",
       "      <td>82.54</td>\n",
       "    </tr>\n",
       "    <tr>\n",
       "      <th>48</th>\n",
       "      <td>Gran Turismo 4</td>\n",
       "      <td>PS2</td>\n",
       "      <td>2004</td>\n",
       "      <td>Racing</td>\n",
       "      <td>3.01</td>\n",
       "      <td>0.01</td>\n",
       "      <td>1.10</td>\n",
       "      <td>7.53</td>\n",
       "      <td>89.0</td>\n",
       "      <td>8.5</td>\n",
       "      <td>E</td>\n",
       "      <td>11.65</td>\n",
       "    </tr>\n",
       "    <tr>\n",
       "      <th>16</th>\n",
       "      <td>Grand Theft Auto V</td>\n",
       "      <td>PS3</td>\n",
       "      <td>2013</td>\n",
       "      <td>Action</td>\n",
       "      <td>7.02</td>\n",
       "      <td>9.09</td>\n",
       "      <td>0.98</td>\n",
       "      <td>3.96</td>\n",
       "      <td>97.0</td>\n",
       "      <td>8.2</td>\n",
       "      <td>M</td>\n",
       "      <td>21.05</td>\n",
       "    </tr>\n",
       "    <tr>\n",
       "      <th>2</th>\n",
       "      <td>Mario Kart Wii</td>\n",
       "      <td>Wii</td>\n",
       "      <td>2008</td>\n",
       "      <td>Racing</td>\n",
       "      <td>15.68</td>\n",
       "      <td>12.76</td>\n",
       "      <td>3.79</td>\n",
       "      <td>3.29</td>\n",
       "      <td>82.0</td>\n",
       "      <td>8.3</td>\n",
       "      <td>E</td>\n",
       "      <td>35.52</td>\n",
       "    </tr>\n",
       "  </tbody>\n",
       "</table>\n",
       "</div>"
      ],
      "text/plain": [
       "                             name platform  year_of_release   genre  na_sales  \\\n",
       "17  Grand Theft Auto: San Andreas      PS2             2004  Action      9.43   \n",
       "0                      Wii Sports      Wii             2006  Sports     41.36   \n",
       "48                 Gran Turismo 4      PS2             2004  Racing      3.01   \n",
       "16             Grand Theft Auto V      PS3             2013  Action      7.02   \n",
       "2                  Mario Kart Wii      Wii             2008  Racing     15.68   \n",
       "\n",
       "    eu_sales  jp_sales  other_sales critic_score user_score rating  \\\n",
       "17      0.40      0.41        10.57         95.0          9      M   \n",
       "0      28.96      3.77         8.45         76.0          8      E   \n",
       "48      0.01      1.10         7.53         89.0        8.5      E   \n",
       "16      9.09      0.98         3.96         97.0        8.2      M   \n",
       "2      12.76      3.79         3.29         82.0        8.3      E   \n",
       "\n",
       "    total_sales  \n",
       "17        20.81  \n",
       "0         82.54  \n",
       "48        11.65  \n",
       "16        21.05  \n",
       "2         35.52  "
      ]
     },
     "execution_count": 74,
     "metadata": {},
     "output_type": "execute_result"
    }
   ],
   "source": [
    "# топ-5 игр по количеству проданных копий - другие страны \n",
    "\n",
    "games_full.sort_values('other_sales', ascending=False).head(5)"
   ]
  },
  {
   "cell_type": "code",
   "execution_count": 75,
   "id": "ff447243",
   "metadata": {},
   "outputs": [
    {
     "data": {
      "text/html": [
       "<div>\n",
       "<style scoped>\n",
       "    .dataframe tbody tr th:only-of-type {\n",
       "        vertical-align: middle;\n",
       "    }\n",
       "\n",
       "    .dataframe tbody tr th {\n",
       "        vertical-align: top;\n",
       "    }\n",
       "\n",
       "    .dataframe thead th {\n",
       "        text-align: right;\n",
       "    }\n",
       "</style>\n",
       "<table border=\"1\" class=\"dataframe\">\n",
       "  <thead>\n",
       "    <tr style=\"text-align: right;\">\n",
       "      <th></th>\n",
       "      <th>rating</th>\n",
       "      <th>other_sales</th>\n",
       "      <th>perc_of_total</th>\n",
       "    </tr>\n",
       "  </thead>\n",
       "  <tbody>\n",
       "    <tr>\n",
       "      <th>0</th>\n",
       "      <td>E</td>\n",
       "      <td>240.31</td>\n",
       "      <td>30.37</td>\n",
       "    </tr>\n",
       "    <tr>\n",
       "      <th>1</th>\n",
       "      <td>M</td>\n",
       "      <td>178.29</td>\n",
       "      <td>22.53</td>\n",
       "    </tr>\n",
       "    <tr>\n",
       "      <th>2</th>\n",
       "      <td>T</td>\n",
       "      <td>160.77</td>\n",
       "      <td>20.32</td>\n",
       "    </tr>\n",
       "    <tr>\n",
       "      <th>3</th>\n",
       "      <td>NaN</td>\n",
       "      <td>134.40</td>\n",
       "      <td>16.99</td>\n",
       "    </tr>\n",
       "    <tr>\n",
       "      <th>4</th>\n",
       "      <td>E10+</td>\n",
       "      <td>77.23</td>\n",
       "      <td>9.76</td>\n",
       "    </tr>\n",
       "  </tbody>\n",
       "</table>\n",
       "</div>"
      ],
      "text/plain": [
       "  rating  other_sales  perc_of_total\n",
       "0      E       240.31          30.37\n",
       "1      M       178.29          22.53\n",
       "2      T       160.77          20.32\n",
       "3    NaN       134.40          16.99\n",
       "4   E10+        77.23           9.76"
      ]
     },
     "execution_count": 75,
     "metadata": {},
     "output_type": "execute_result"
    }
   ],
   "source": [
    "# соотношение рейтинга и количества проданных копий - япония\n",
    "# + процент от продаж с разбивков по рейтингу\n",
    "\n",
    "rating_other_sales = games_full.groupby('rating', dropna=False)['other_sales'].sum() \\\n",
    "                            .sort_values(ascending=False).head(5).reset_index()\n",
    "rating_other_sales['perc_of_total'] = round(rating_other_sales['other_sales'] / total_sales['other_sales_total'][0] * 100, 2)\n",
    "rating_other_sales"
   ]
  },
  {
   "cell_type": "markdown",
   "id": "ffa04e40",
   "metadata": {},
   "source": [
    "<a id=\"conclusion_5\"> </a>\n",
    "# промежуточный вывод - продажи в других странах."
   ]
  },
  {
   "cell_type": "markdown",
   "id": "d687a719",
   "metadata": {},
   "source": [
    "Топ-5 платформ и доля от суммарного объема продаж:\n",
    "- PS2 - 24.45%,\n",
    "- PS3 - 17.15%,\n",
    "- X360 - 10.84%,\n",
    "- Wii - 9.99%,\n",
    "- DS - 7.49%.\n",
    "\n",
    "Топ-5 жанров и доля от суммарного объема продаж:\n",
    "- Action - 23.33%,\n",
    "- Sports - 17.00%,\n",
    "- Shooter - 13.16%,\n",
    "- Racing - 9.62%,\n",
    "- Misc - 9.40%.\n",
    "\n",
    "Топ-5 самых популярных игр (по продажам в регионе)\n",
    "- Grand Theft Auto: San Andreas\tPS2,\n",
    "- Wii Sports,\n",
    "- Gran Turismo 4,\n",
    "- Grand Theft Auto V,\n",
    "- Mario Kart Wii.\t\n",
    "\n",
    "\n",
    "Лидеры по рейтингу ESRB:\n",
    "- игры с рейтингом E ('для всех') - 30.37%  от суммарных продаж,\n",
    "- M ('для взрослых: материалы игры не подходят для лиц младше 17 лет') - 22.53%,\n",
    "- T ('для подростков от 13 лет') - 20.32%,\n",
    "- E10+ ('для всех от 10 лет и старше') - 9.76%.\n",
    "\n",
    "Игры с неизвестным рейтингом - 16.99%."
   ]
  },
  {
   "cell_type": "markdown",
   "id": "f4709cbd",
   "metadata": {},
   "source": [
    "Пользователи в 'других странах' схожи с пользователями из американого и европейского сегмента:\n",
    "- в топ платформ вошли X360, PS3, PS2 и Wii,\n",
    "- в топ жанров вошли Action, Sports, Shooter и Misc,\n",
    "- одни из самых популярных игр - Wii Sports и Mario Kart Wii."
   ]
  },
  {
   "cell_type": "markdown",
   "id": "3d7bae36",
   "metadata": {},
   "source": [
    "<a id=\"hypotesis\"> </a>\n",
    "# 4. Проверка гипотез."
   ]
  },
  {
   "cell_type": "markdown",
   "id": "785af295",
   "metadata": {},
   "source": [
    "## Гипотеза № 1:\n",
    "- H0: Средние пользовательские рейтинги платформ Xbox One и PC одинаковые.\n",
    "- H1: Средние пользовательские рейтинги платформ Xbox One и PC разные."
   ]
  },
  {
   "cell_type": "markdown",
   "id": "49a218e3",
   "metadata": {},
   "source": [
    "Установим уровень alpha в 5%."
   ]
  },
  {
   "cell_type": "code",
   "execution_count": 76,
   "id": "51e2bfcc",
   "metadata": {},
   "outputs": [],
   "source": [
    "alpha = 0.05"
   ]
  },
  {
   "cell_type": "markdown",
   "id": "1806ef24",
   "metadata": {},
   "source": [
    "Платформы 'Xbox One' в датасете нет, есть некий 'XOne', будем считать, что это - оно."
   ]
  },
  {
   "cell_type": "code",
   "execution_count": 77,
   "id": "629f42db",
   "metadata": {},
   "outputs": [],
   "source": [
    "x_box = games_full[games_full['platform']=='XOne']['user_score']"
   ]
  },
  {
   "cell_type": "code",
   "execution_count": 78,
   "id": "0072bff0",
   "metadata": {},
   "outputs": [],
   "source": [
    "pc = games_full[games_full['platform']=='PC']['user_score']"
   ]
  },
  {
   "cell_type": "code",
   "execution_count": 79,
   "id": "1d8d5370",
   "metadata": {},
   "outputs": [],
   "source": [
    "# посмотреть значения 'user_score'\n",
    "\n",
    "#print('x_box unique:', x_box.unique())\n",
    "#print('pc unique():', pc.unique())"
   ]
  },
  {
   "cell_type": "markdown",
   "id": "561cf30e",
   "metadata": {},
   "source": [
    "В данных есть пропущенные значения, оценки с пометкой 'tbd' + отметки в формате строки. Удалим неизвестные значения + приведем к формату float."
   ]
  },
  {
   "cell_type": "code",
   "execution_count": 80,
   "id": "446f9b3c",
   "metadata": {},
   "outputs": [],
   "source": [
    "x_box = x_box.loc[((x_box!='tbd') & (x_box.isna()!=True))].astype('float')"
   ]
  },
  {
   "cell_type": "code",
   "execution_count": 81,
   "id": "26b33b42",
   "metadata": {},
   "outputs": [],
   "source": [
    "pc = pc.loc[((pc!='tbd') & (pc.isna()!=True))].astype('float')"
   ]
  },
  {
   "cell_type": "markdown",
   "id": "5cc67043",
   "metadata": {},
   "source": [
    "Проверим распределение данных:"
   ]
  },
  {
   "cell_type": "code",
   "execution_count": 82,
   "id": "ebe263c6",
   "metadata": {},
   "outputs": [
    {
     "name": "stdout",
     "output_type": "stream",
     "text": [
      "размер: (182,) дисперсия: 1.9069968429360693\n"
     ]
    },
    {
     "data": {
      "image/png": "[encoded data removed]",
      "text/plain": [
       "<Figure size 432x288 with 1 Axes>"
      ]
     },
     "metadata": {
      "needs_background": "light"
     },
     "output_type": "display_data"
    }
   ],
   "source": [
    "print('размер:', x_box.shape, 'дисперсия:', x_box.std()**2)\n",
    "x_box.hist();"
   ]
  },
  {
   "cell_type": "code",
   "execution_count": 83,
   "id": "3b8d2b6f",
   "metadata": {},
   "outputs": [
    {
     "name": "stdout",
     "output_type": "stream",
     "text": [
      "размер: (802,) дисперсия: 2.363022920227521\n"
     ]
    },
    {
     "data": {
      "image/png": "[encoded data removed]",
      "text/plain": [
       "<Figure size 432x288 with 1 Axes>"
      ]
     },
     "metadata": {
      "needs_background": "light"
     },
     "output_type": "display_data"
    }
   ],
   "source": [
    "print('размер:', pc.shape, 'дисперсия:', pc.std()**2)\n",
    "pc.hist();"
   ]
  },
  {
   "cell_type": "markdown",
   "id": "36e6b8f9",
   "metadata": {},
   "source": [
    "Данные распределены ненормально - слева видны длинные жирные \"хвосты\", дисперсия двух выборок - не равна.\n",
    "\n",
    "Для сравнении средних мы выберем U критерий Манна-Уитни."
   ]
  },
  {
   "cell_type": "code",
   "execution_count": 84,
   "id": "8c21fcef",
   "metadata": {},
   "outputs": [],
   "source": [
    "mannwhitneyu_1 = mannwhitneyu(x_box, pc, alternative='two-sided')"
   ]
  },
  {
   "cell_type": "code",
   "execution_count": 85,
   "id": "aee63ee7",
   "metadata": {},
   "outputs": [
    {
     "name": "stdout",
     "output_type": "stream",
     "text": [
      "отвергаем нулевую гипотезу - средние пользовательские рейтинги платформ Xbox One и PC разные\n"
     ]
    }
   ],
   "source": [
    "if mannwhitneyu_1.pvalue < alpha:\n",
    "    print('отвергаем нулевую гипотезу - средние пользовательские рейтинги платформ Xbox One и PC разные')\n",
    "else:\n",
    "    print('не получается отвергнуть нулевую гипотезу - средние пользовательские рейтинги платформ Xbox One и PC одинаковые')"
   ]
  },
  {
   "cell_type": "markdown",
   "id": "c5a622cf",
   "metadata": {},
   "source": [
    "## Гипотеза № 2:\n",
    "- H0: Средние пользовательские рейтинги жанров Action (англ. «действие», экшен-игры) и Sports (англ. «спортивные соревнования») одинаковые.\n",
    "- H1: Средние пользовательские рейтинги жанров Action (англ. «действие», экшен-игры) и Sports (англ. «спортивные соревнования») разные."
   ]
  },
  {
   "cell_type": "markdown",
   "id": "5388d2e0",
   "metadata": {},
   "source": [
    "Повторим шаги из проверки гипотезы № 1."
   ]
  },
  {
   "cell_type": "code",
   "execution_count": 86,
   "id": "a63a8353",
   "metadata": {},
   "outputs": [],
   "source": [
    "action = games_full[games_full['genre']=='Action']['user_score']\n",
    "\n",
    "sports = games_full[games_full['genre']=='Sports']['user_score']"
   ]
  },
  {
   "cell_type": "code",
   "execution_count": 87,
   "id": "f3eceb7a",
   "metadata": {},
   "outputs": [],
   "source": [
    "action = action.loc[((action!='tbd') & (action.isna()!=True))].astype('float')"
   ]
  },
  {
   "cell_type": "code",
   "execution_count": 88,
   "id": "d88a56dd",
   "metadata": {},
   "outputs": [],
   "source": [
    "sports = sports.loc[((sports!='tbd') & (sports.isna()!=True))].astype('float')"
   ]
  },
  {
   "cell_type": "code",
   "execution_count": 89,
   "id": "16300998",
   "metadata": {},
   "outputs": [
    {
     "name": "stdout",
     "output_type": "stream",
     "text": [
      "размер: (1878,) дисперсия: 2.0689694287045186\n"
     ]
    },
    {
     "data": {
      "image/png": "[encoded data removed]",
      "text/plain": [
       "<Figure size 432x288 with 1 Axes>"
      ]
     },
     "metadata": {
      "needs_background": "light"
     },
     "output_type": "display_data"
    }
   ],
   "source": [
    "print('размер:', action.shape, 'дисперсия:', action.std()**2)\n",
    "action.hist();"
   ]
  },
  {
   "cell_type": "code",
   "execution_count": 90,
   "id": "1333e564",
   "metadata": {},
   "outputs": [
    {
     "name": "stdout",
     "output_type": "stream",
     "text": [
      "размер: (1136,) дисперсия: 2.5824827743997023\n"
     ]
    },
    {
     "data": {
      "image/png": "[encoded data removed]",
      "text/plain": [
       "<Figure size 432x288 with 1 Axes>"
      ]
     },
     "metadata": {
      "needs_background": "light"
     },
     "output_type": "display_data"
    }
   ],
   "source": [
    "print('размер:', sports.shape, 'дисперсия:', sports.std()**2)\n",
    "sports.hist();"
   ]
  },
  {
   "cell_type": "code",
   "execution_count": 91,
   "id": "7cd0a27f",
   "metadata": {},
   "outputs": [],
   "source": [
    "mannwhitneyu_2 = mannwhitneyu(action, sports, alternative='two-sided')"
   ]
  },
  {
   "cell_type": "code",
   "execution_count": 92,
   "id": "781a3f6c",
   "metadata": {},
   "outputs": [
    {
     "name": "stdout",
     "output_type": "stream",
     "text": [
      "не получается отвергнуть нулевую гипотезу - средние пользовательские рейтинги жанров Action и Sports одинаковые\n"
     ]
    }
   ],
   "source": [
    "if mannwhitneyu_2.pvalue < alpha:\n",
    "    print('отвергаем нулевую гипотезу - средние пользовательские рейтинги жанров Action и Sports не одинаковые')\n",
    "else:\n",
    "    print('не получается отвергнуть нулевую гипотезу - средние пользовательские рейтинги жанров Action и Sports одинаковые')"
   ]
  },
  {
   "cell_type": "markdown",
   "id": "ff99f81a",
   "metadata": {},
   "source": [
    "<a id=\"conclusion_7\"> </a>\n",
    "# Общий вывод."
   ]
  },
  {
   "cell_type": "markdown",
   "id": "178d2c36",
   "metadata": {},
   "source": [
    "## Исследовательский анализ данных. Рекомендации для \"стримчика\""
   ]
  },
  {
   "cell_type": "markdown",
   "id": "cedb92c7",
   "metadata": {},
   "source": [
    "Исследовательский анализ данных мы начали с подсчета количества выпущенных игр и количества проданных копий по годам.\n",
    "\n",
    "Нанеся полученные данные на график, мы получили две схожие кривые. Из чего можем сделать первый вывод: с ростом количества игр растет и количество проданных копий по всему миру.\n",
    "\n",
    "Взрывной рост количества выпускаемых игр начался в ~1995 - 2000 годах. \n",
    "\n",
    "Медианный \"срок жизни\" новых платформ - 6 лет, количество выпускаемых игр и количества проданных копий игр постепенно снижается к концу этого периода. Рекордсменом среди платформ является ПК: его \"срок жизни\" (от первой выпущенной игры до последней в наших данных) - 31 год.\n",
    "\n",
    "Самыми перспективными платформами нами были выделены - PC, PS4 и Xbox One.\n",
    "\n",
    "Количество игр на PC стабильно (хоть и не очень резко) растет в последние три года, так же как Xbox one и PS4.\n",
    "\n",
    "Но число игр на PC с появлением на рынке новых игровых консолей проседает, но чем ближе мы приближаемся к \"концу жизни\" новых платформ, тем больше начинает выходить игр на ПК.\n",
    "\n",
    "Поэтому стратегия \"стримчика\":\n",
    "- до 2017-18 года делать ставку на игры для PS4 и Xbox, но не сбрасывать со счетов игры на пк,\n",
    "- к концу этого периода переключить внимание на игры для пк,\n",
    "- и ждать появление новой платформы."
   ]
  },
  {
   "cell_type": "markdown",
   "id": "aa0c5c19",
   "metadata": {},
   "source": [
    "Для дальнейшего анализа мы сделали срез по исходному датасету и оставили только перспективные платформы ('PC', 'PS4' и 'Xbox One').\n",
    "\n",
    "Построив матрицу корреляции Пирсона, мы  выяснили, что количество проданных копий не зависит от оценок пользователей и слабо зависит от оценок критиков (0.27). Возможно, на количество проданных копий влияет что-то извне (например, рекламные компании).\n",
    "\n",
    "Проанализировав весь датасет, мы выяснили, что самые популярные жанры игр (по суммарным продажам) - Action, Sports, Shooter.\n",
    "\n",
    "Но мы не можем рекомендовать \"стримчику\" сосредоточить свое внимание на каком-то одном: построив график суммарных продаж, мы увидели что продажи игр всех жанров начинают проседать к 2015 году и постепенно начинают сходиться в одну точку."
   ]
  },
  {
   "cell_type": "markdown",
   "id": "4de31909",
   "metadata": {},
   "source": [
    "## Портрет пользователей"
   ]
  },
  {
   "cell_type": "markdown",
   "id": "e10a993a",
   "metadata": {},
   "source": [
    "## Северная америка:\n",
    "Топ-5 платформ и доля от суммарного объема продаж:\n",
    "- X360 - 13.69%,\n",
    "- PS2 - 13.27%, \n",
    "- Wii - 11.29%,\n",
    "- PS3 - 8.94%,\n",
    "- и DS - 8.69%.\n",
    "\n",
    "Топ-5 жанров и доля от суммарного объема продаж:\n",
    "- Action - 19.97%,\n",
    "- Sports - 15.55%,\n",
    "- Shooter - 13.46%,\n",
    "- Platform - 10.12%,\n",
    "- Misc - 9.25%.\n",
    "\n",
    "Топ-5 самых популярных игр (по продажам в регионе)\n",
    "- Wii Sports,\n",
    "- Super Mario Bros.,\n",
    "- Duck Hunt,\n",
    "- Tetris,\n",
    "- Mario Kart Wii.\n",
    "\n",
    "Лидеры по рейтингу ESRB:\n",
    "- игры с рейтингом E ('для всех') - 30.96% от суммарных продаж,\n",
    "- T ('для подростков от 13 лет') - 18.11%,\n",
    "- M ('для взрослых: материалы игры не подходят для лиц младше 17 лет') - 17.18%,\n",
    "- E10+ ('для всех от 10 лет и старше') - 8.23%.\n",
    "\n",
    "Так же в топ вошли игры, для которых у нас нет данных о рейтинге: таких игр в датасете - 25.4% от суммарных продаж."
   ]
  },
  {
   "cell_type": "markdown",
   "id": "4ad8e237",
   "metadata": {},
   "source": [
    "## Европа:\n",
    "Топ-5 платформ и доля от суммарного объема продаж:\n",
    "- PS2 - 14.00%,\n",
    "- PS3 - 13.63%,\n",
    "- X360 - 11.17%,\n",
    "- Wii - 10.82%,\n",
    "- PS - 8.81%.\n",
    "\n",
    "Топ-5 жанров и доля от суммарного объема продаж:\n",
    "- Action - 21.42%,\n",
    "- Sports - 15.54%,\n",
    "- Shooter - 13.09%,\n",
    "- Racing - 9.76%,\n",
    "- Misc - 8.78%.\n",
    "\n",
    "\n",
    "Топ-5 самых популярных игр (по продажам в регионе)\n",
    "- Wii Sports, \n",
    "- Mario Kart Wii,\n",
    "- Nintendogs,\n",
    "- Wii Sports Resort,\n",
    "- Brain Age: Train Your Brain in Minutes a Day.\n",
    "\n",
    "Лидеры по рейтингу ESRB:\n",
    "- игры с рейтингом E ('для всех') - 30.47% от суммарных продаж,\n",
    "- M ('для взрослых: материалы игры не подходят для лиц младше 17 лет') - 20.16%,\n",
    "- T ('для подростков от 13 лет') - 18.49%,\n",
    "- E10+ ('для всех от 10 лет и старше') - 8.10%.\n",
    "\n",
    "Так же в топ вошли игры, для которых у нас нет данных о рейтинге: таких игр в датасете - 22.74% от суммарных продаж."
   ]
  },
  {
   "cell_type": "markdown",
   "id": "355fe903",
   "metadata": {},
   "source": [
    "<b>Североамериканские и европейские игроки во много похожи.</b> В этих регионах:\n",
    "- в топ платформ вошли X360, PS3, PS2 и Wii,\n",
    "- в топ жанров вошли Action, Sports, Shooter и Misc,\n",
    "- одни из самых популярных игр - Wii Sports и Mario Kart Wii,\n",
    "- в топ вошли игры с одними и теми же рейтингами ."
   ]
  },
  {
   "cell_type": "markdown",
   "id": "164f60da",
   "metadata": {},
   "source": [
    "## Прочие страны\n",
    "Топ-5 платформ и доля от суммарного объема продаж:\n",
    "- PS2 - 24.45%,\n",
    "- PS3 - 17.15%,\n",
    "- X360 - 10.84%,\n",
    "- Wii - 9.99%,\n",
    "- DS - 7.49%.\n",
    "\n",
    "Топ-5 жанров и доля от суммарного объема продаж:\n",
    "- Action - 23.33%,\n",
    "- Sports - 17.00%,\n",
    "- Shooter - 13.16%,\n",
    "- Racing - 9.62%,\n",
    "- Misc - 9.40%.\n",
    "\n",
    "Топ-5 самых популярных игр (по продажам в регионе)\n",
    "- Grand Theft Auto: San Andreas\tPS2,\n",
    "- Wii Sports,\n",
    "- Gran Turismo 4,\n",
    "- Grand Theft Auto V,\n",
    "- Mario Kart Wii.\t\n",
    "\n",
    "\n",
    "Лидеры по рейтингу ESRB:\n",
    "- игры с рейтингом E ('для всех') - 30.37%  от суммарных продаж,\n",
    "- M ('для взрослых: материалы игры не подходят для лиц младше 17 лет') - 22.53%,\n",
    "- T ('для подростков от 13 лет') - 20.32%,\n",
    "- E10+ ('для всех от 10 лет и старше') - 9.76%.\n",
    "\n",
    "Игры с неизвестным рейтингом - 16.99%."
   ]
  },
  {
   "cell_type": "markdown",
   "id": "758fbee3",
   "metadata": {},
   "source": [
    "<b>Пользователи в 'других странах' схожи с пользователями из американого и европейского сегмента:</b>\n",
    "- в топ платформ вошли X360, PS3, PS2 и Wii,\n",
    "- в топ жанров вошли Action, Sports, Shooter и Misc,\n",
    "- одни из самых популярных игр - Wii Sports и Mario Kart Wii."
   ]
  },
  {
   "cell_type": "markdown",
   "id": "85caaf4d",
   "metadata": {},
   "source": [
    "## Япония\n",
    "<b>Японский рынок сильно отличается от европейско-американского рынка.</b>\n",
    "\n",
    "Топ-5 платформ и доля от суммарного объема продаж:\n",
    "- DS - 13.53%,\n",
    "- PS - 10.78%,\n",
    "- PS2 - 10.73%,\n",
    "- SNES - 8.98%,\n",
    "- 3DS - 7.76%.\n",
    "\n",
    "Топ-5 жанров и доля от суммарного объема продаж:\n",
    "\n",
    "- Role-Playing - 27.40%,\n",
    "- Action - 12.44%,\n",
    "- Sports - 10.45%,\n",
    "- Platform - 10.08%,\n",
    "- Misc - 8.33%.\n",
    "\n",
    "Топ-5 самых популярных игр (по продажам в регионе)\n",
    "- покемоны - Pokemon Red/Pokemon Blue, Pokemon Gold/Pokemon и Pokemon Diamond/Pokemon Pearl,\n",
    "- Super Mario Bros. и New Super Mario Bros.\n",
    "\n",
    "Лидеры по рейтингу ESRB:\n",
    "- игры с рейтингом E ('для всех') - 16.83% от суммарных продаж,\n",
    "- T ('для подростков от 13 лет') - 11.86%,\n",
    "- M ('для взрослых: материалы игры не подходят для лиц младше 17 лет') - 5.02%,\n",
    "- E10+ ('для всех от 10 лет и старше') - 3.19%.\n",
    "\n",
    "Так же в топ вошли игры, для которых у нас нет данных о рейтинге: таких игр в датасете - 62.99% от суммарных продаж."
   ]
  },
  {
   "cell_type": "markdown",
   "id": "1aa7af35",
   "metadata": {},
   "source": [
    "## Проверка гипотез.\n",
    "\n",
    "В ходе работы нам так же удалось проверить две гипотезы:\n",
    "- первая - средние пользовательские рейтинги платформ Xbox One и PC одинаковые;\n",
    "- вторая - средние пользовательские рейтинги жанров Action (англ. «действие», экшен-игры) и Sports (англ. «спортивные соревнования») разные.\n",
    "\n",
    "Первую гипотезу нам не удалось подтвердить - средние пользовательские рейтинги платформ Xbox One и PC оказались разные.\n",
    "\n",
    "Но мы смогли подтвердить вторую гипотезу -  средние пользовательские рейтинги жанров Action и Sports одинаковые."
   ]
  }
 ],
 "metadata": {
  "ExecuteTimeLog": [
   {
    "duration": 481,
    "start_time": "2023-05-30T14:50:46.434Z"
   },
   {
    "duration": 0,
    "start_time": "2023-05-30T14:50:46.919Z"
   },
   {
    "duration": 0,
    "start_time": "2023-05-30T14:50:46.920Z"
   },
   {
    "duration": 1,
    "start_time": "2023-05-30T14:50:46.921Z"
   },
   {
    "duration": 0,
    "start_time": "2023-05-30T14:50:46.923Z"
   },
   {
    "duration": 0,
    "start_time": "2023-05-30T14:50:46.924Z"
   },
   {
    "duration": 0,
    "start_time": "2023-05-30T14:50:46.925Z"
   },
   {
    "duration": 0,
    "start_time": "2023-05-30T14:50:46.926Z"
   },
   {
    "duration": 0,
    "start_time": "2023-05-30T14:50:46.928Z"
   },
   {
    "duration": 0,
    "start_time": "2023-05-30T14:50:46.929Z"
   },
   {
    "duration": 0,
    "start_time": "2023-05-30T14:50:46.930Z"
   },
   {
    "duration": 0,
    "start_time": "2023-05-30T14:50:46.931Z"
   },
   {
    "duration": 0,
    "start_time": "2023-05-30T14:50:46.932Z"
   },
   {
    "duration": 0,
    "start_time": "2023-05-30T14:50:46.933Z"
   },
   {
    "duration": 0,
    "start_time": "2023-05-30T14:50:46.934Z"
   },
   {
    "duration": 0,
    "start_time": "2023-05-30T14:50:46.936Z"
   },
   {
    "duration": 0,
    "start_time": "2023-05-30T14:50:46.937Z"
   },
   {
    "duration": 0,
    "start_time": "2023-05-30T14:50:46.939Z"
   },
   {
    "duration": 0,
    "start_time": "2023-05-30T14:50:46.941Z"
   },
   {
    "duration": 0,
    "start_time": "2023-05-30T14:50:46.978Z"
   },
   {
    "duration": 0,
    "start_time": "2023-05-30T14:50:46.979Z"
   },
   {
    "duration": 0,
    "start_time": "2023-05-30T14:50:46.981Z"
   },
   {
    "duration": 0,
    "start_time": "2023-05-30T14:50:46.982Z"
   },
   {
    "duration": 0,
    "start_time": "2023-05-30T14:50:46.983Z"
   },
   {
    "duration": 0,
    "start_time": "2023-05-30T14:50:46.984Z"
   },
   {
    "duration": 0,
    "start_time": "2023-05-30T14:50:46.985Z"
   },
   {
    "duration": 0,
    "start_time": "2023-05-30T14:50:46.986Z"
   },
   {
    "duration": 0,
    "start_time": "2023-05-30T14:50:46.987Z"
   },
   {
    "duration": 0,
    "start_time": "2023-05-30T14:50:46.989Z"
   },
   {
    "duration": 0,
    "start_time": "2023-05-30T14:50:46.989Z"
   },
   {
    "duration": 0,
    "start_time": "2023-05-30T14:50:46.990Z"
   },
   {
    "duration": 0,
    "start_time": "2023-05-30T14:50:46.991Z"
   },
   {
    "duration": 0,
    "start_time": "2023-05-30T14:50:46.992Z"
   },
   {
    "duration": 0,
    "start_time": "2023-05-30T14:50:46.993Z"
   },
   {
    "duration": 0,
    "start_time": "2023-05-30T14:50:46.994Z"
   },
   {
    "duration": 0,
    "start_time": "2023-05-30T14:50:46.995Z"
   },
   {
    "duration": 0,
    "start_time": "2023-05-30T14:50:46.996Z"
   },
   {
    "duration": 0,
    "start_time": "2023-05-30T14:50:46.998Z"
   },
   {
    "duration": 0,
    "start_time": "2023-05-30T14:50:46.999Z"
   },
   {
    "duration": 0,
    "start_time": "2023-05-30T14:50:47.000Z"
   },
   {
    "duration": 0,
    "start_time": "2023-05-30T14:50:47.001Z"
   },
   {
    "duration": 0,
    "start_time": "2023-05-30T14:50:47.002Z"
   },
   {
    "duration": 0,
    "start_time": "2023-05-30T14:50:47.003Z"
   },
   {
    "duration": 0,
    "start_time": "2023-05-30T14:50:47.004Z"
   },
   {
    "duration": 0,
    "start_time": "2023-05-30T14:50:47.006Z"
   },
   {
    "duration": 0,
    "start_time": "2023-05-30T14:50:47.007Z"
   },
   {
    "duration": 0,
    "start_time": "2023-05-30T14:50:47.008Z"
   },
   {
    "duration": 0,
    "start_time": "2023-05-30T14:50:47.009Z"
   },
   {
    "duration": 0,
    "start_time": "2023-05-30T14:50:47.011Z"
   },
   {
    "duration": 0,
    "start_time": "2023-05-30T14:50:47.012Z"
   },
   {
    "duration": 0,
    "start_time": "2023-05-30T14:50:47.014Z"
   },
   {
    "duration": 0,
    "start_time": "2023-05-30T14:50:47.016Z"
   },
   {
    "duration": 0,
    "start_time": "2023-05-30T14:50:47.078Z"
   },
   {
    "duration": 0,
    "start_time": "2023-05-30T14:50:47.079Z"
   },
   {
    "duration": 0,
    "start_time": "2023-05-30T14:50:47.080Z"
   },
   {
    "duration": 0,
    "start_time": "2023-05-30T14:50:47.081Z"
   },
   {
    "duration": 0,
    "start_time": "2023-05-30T14:50:47.082Z"
   },
   {
    "duration": 0,
    "start_time": "2023-05-30T14:50:47.084Z"
   },
   {
    "duration": 0,
    "start_time": "2023-05-30T14:50:47.084Z"
   },
   {
    "duration": 0,
    "start_time": "2023-05-30T14:50:47.085Z"
   },
   {
    "duration": 0,
    "start_time": "2023-05-30T14:50:47.086Z"
   },
   {
    "duration": 0,
    "start_time": "2023-05-30T14:50:47.087Z"
   },
   {
    "duration": 0,
    "start_time": "2023-05-30T14:50:47.088Z"
   },
   {
    "duration": 0,
    "start_time": "2023-05-30T14:50:47.089Z"
   },
   {
    "duration": 0,
    "start_time": "2023-05-30T14:50:47.092Z"
   },
   {
    "duration": 0,
    "start_time": "2023-05-30T14:50:47.093Z"
   },
   {
    "duration": 0,
    "start_time": "2023-05-30T14:50:47.094Z"
   },
   {
    "duration": 0,
    "start_time": "2023-05-30T14:50:47.096Z"
   },
   {
    "duration": 0,
    "start_time": "2023-05-30T14:50:47.097Z"
   },
   {
    "duration": 0,
    "start_time": "2023-05-30T14:50:47.097Z"
   },
   {
    "duration": 0,
    "start_time": "2023-05-30T14:50:47.098Z"
   },
   {
    "duration": 0,
    "start_time": "2023-05-30T14:50:47.099Z"
   },
   {
    "duration": 0,
    "start_time": "2023-05-30T14:50:47.100Z"
   },
   {
    "duration": 0,
    "start_time": "2023-05-30T14:50:47.101Z"
   },
   {
    "duration": 0,
    "start_time": "2023-05-30T14:50:47.102Z"
   },
   {
    "duration": 0,
    "start_time": "2023-05-30T14:50:47.103Z"
   },
   {
    "duration": 0,
    "start_time": "2023-05-30T14:50:47.105Z"
   },
   {
    "duration": 0,
    "start_time": "2023-05-30T14:50:47.106Z"
   },
   {
    "duration": 0,
    "start_time": "2023-05-30T14:50:47.107Z"
   },
   {
    "duration": 0,
    "start_time": "2023-05-30T14:50:47.109Z"
   },
   {
    "duration": 0,
    "start_time": "2023-05-30T14:50:47.109Z"
   },
   {
    "duration": 1,
    "start_time": "2023-05-30T14:50:47.110Z"
   },
   {
    "duration": 0,
    "start_time": "2023-05-30T14:50:47.112Z"
   },
   {
    "duration": 0,
    "start_time": "2023-05-30T14:50:47.113Z"
   },
   {
    "duration": 0,
    "start_time": "2023-05-30T14:50:47.114Z"
   },
   {
    "duration": 0,
    "start_time": "2023-05-30T14:50:47.115Z"
   },
   {
    "duration": 0,
    "start_time": "2023-05-30T14:50:47.116Z"
   },
   {
    "duration": 0,
    "start_time": "2023-05-30T14:50:47.178Z"
   },
   {
    "duration": 0,
    "start_time": "2023-05-30T14:50:47.179Z"
   },
   {
    "duration": 3349,
    "start_time": "2023-05-30T14:53:17.705Z"
   },
   {
    "duration": 1244,
    "start_time": "2023-05-30T14:53:21.056Z"
   },
   {
    "duration": 288,
    "start_time": "2023-05-30T14:53:22.302Z"
   },
   {
    "duration": 18,
    "start_time": "2023-05-30T14:53:22.592Z"
   },
   {
    "duration": 16,
    "start_time": "2023-05-30T14:53:22.612Z"
   },
   {
    "duration": 48,
    "start_time": "2023-05-30T14:53:22.630Z"
   },
   {
    "duration": 4,
    "start_time": "2023-05-30T14:53:22.680Z"
   },
   {
    "duration": 193,
    "start_time": "2023-05-30T14:53:22.686Z"
   },
   {
    "duration": 0,
    "start_time": "2023-05-30T14:53:22.883Z"
   },
   {
    "duration": 0,
    "start_time": "2023-05-30T14:53:22.885Z"
   },
   {
    "duration": 0,
    "start_time": "2023-05-30T14:53:22.886Z"
   },
   {
    "duration": 1,
    "start_time": "2023-05-30T14:53:22.887Z"
   },
   {
    "duration": 0,
    "start_time": "2023-05-30T14:53:22.889Z"
   },
   {
    "duration": 0,
    "start_time": "2023-05-30T14:53:22.890Z"
   },
   {
    "duration": 0,
    "start_time": "2023-05-30T14:53:22.892Z"
   },
   {
    "duration": 0,
    "start_time": "2023-05-30T14:53:22.893Z"
   },
   {
    "duration": 0,
    "start_time": "2023-05-30T14:53:22.894Z"
   },
   {
    "duration": 0,
    "start_time": "2023-05-30T14:53:22.895Z"
   },
   {
    "duration": 0,
    "start_time": "2023-05-30T14:53:22.896Z"
   },
   {
    "duration": 0,
    "start_time": "2023-05-30T14:53:22.898Z"
   },
   {
    "duration": 0,
    "start_time": "2023-05-30T14:53:22.899Z"
   },
   {
    "duration": 0,
    "start_time": "2023-05-30T14:53:22.900Z"
   },
   {
    "duration": 0,
    "start_time": "2023-05-30T14:53:22.901Z"
   },
   {
    "duration": 0,
    "start_time": "2023-05-30T14:53:22.902Z"
   },
   {
    "duration": 0,
    "start_time": "2023-05-30T14:53:22.903Z"
   },
   {
    "duration": 0,
    "start_time": "2023-05-30T14:53:22.904Z"
   },
   {
    "duration": 0,
    "start_time": "2023-05-30T14:53:22.905Z"
   },
   {
    "duration": 0,
    "start_time": "2023-05-30T14:53:22.906Z"
   },
   {
    "duration": 0,
    "start_time": "2023-05-30T14:53:22.907Z"
   },
   {
    "duration": 0,
    "start_time": "2023-05-30T14:53:22.909Z"
   },
   {
    "duration": 0,
    "start_time": "2023-05-30T14:53:22.909Z"
   },
   {
    "duration": 0,
    "start_time": "2023-05-30T14:53:22.911Z"
   },
   {
    "duration": 0,
    "start_time": "2023-05-30T14:53:22.912Z"
   },
   {
    "duration": 0,
    "start_time": "2023-05-30T14:53:22.913Z"
   },
   {
    "duration": 0,
    "start_time": "2023-05-30T14:53:22.914Z"
   },
   {
    "duration": 0,
    "start_time": "2023-05-30T14:53:22.915Z"
   },
   {
    "duration": 0,
    "start_time": "2023-05-30T14:53:22.916Z"
   },
   {
    "duration": 0,
    "start_time": "2023-05-30T14:53:22.918Z"
   },
   {
    "duration": 0,
    "start_time": "2023-05-30T14:53:22.919Z"
   },
   {
    "duration": 0,
    "start_time": "2023-05-30T14:53:22.921Z"
   },
   {
    "duration": 0,
    "start_time": "2023-05-30T14:53:22.978Z"
   },
   {
    "duration": 0,
    "start_time": "2023-05-30T14:53:22.979Z"
   },
   {
    "duration": 0,
    "start_time": "2023-05-30T14:53:22.980Z"
   },
   {
    "duration": 0,
    "start_time": "2023-05-30T14:53:22.982Z"
   },
   {
    "duration": 0,
    "start_time": "2023-05-30T14:53:22.983Z"
   },
   {
    "duration": 0,
    "start_time": "2023-05-30T14:53:22.984Z"
   },
   {
    "duration": 0,
    "start_time": "2023-05-30T14:53:22.985Z"
   },
   {
    "duration": 0,
    "start_time": "2023-05-30T14:53:22.986Z"
   },
   {
    "duration": 0,
    "start_time": "2023-05-30T14:53:22.987Z"
   },
   {
    "duration": 0,
    "start_time": "2023-05-30T14:53:22.988Z"
   },
   {
    "duration": 0,
    "start_time": "2023-05-30T14:53:22.989Z"
   },
   {
    "duration": 0,
    "start_time": "2023-05-30T14:53:22.990Z"
   },
   {
    "duration": 0,
    "start_time": "2023-05-30T14:53:22.991Z"
   },
   {
    "duration": 0,
    "start_time": "2023-05-30T14:53:22.992Z"
   },
   {
    "duration": 0,
    "start_time": "2023-05-30T14:53:22.994Z"
   },
   {
    "duration": 0,
    "start_time": "2023-05-30T14:53:22.995Z"
   },
   {
    "duration": 0,
    "start_time": "2023-05-30T14:53:22.998Z"
   },
   {
    "duration": 0,
    "start_time": "2023-05-30T14:53:22.999Z"
   },
   {
    "duration": 0,
    "start_time": "2023-05-30T14:53:23.000Z"
   },
   {
    "duration": 0,
    "start_time": "2023-05-30T14:53:23.001Z"
   },
   {
    "duration": 0,
    "start_time": "2023-05-30T14:53:23.002Z"
   },
   {
    "duration": 0,
    "start_time": "2023-05-30T14:53:23.004Z"
   },
   {
    "duration": 0,
    "start_time": "2023-05-30T14:53:23.005Z"
   },
   {
    "duration": 0,
    "start_time": "2023-05-30T14:53:23.006Z"
   },
   {
    "duration": 0,
    "start_time": "2023-05-30T14:53:23.007Z"
   },
   {
    "duration": 1,
    "start_time": "2023-05-30T14:53:23.007Z"
   },
   {
    "duration": 0,
    "start_time": "2023-05-30T14:53:23.009Z"
   },
   {
    "duration": 0,
    "start_time": "2023-05-30T14:53:23.010Z"
   },
   {
    "duration": 0,
    "start_time": "2023-05-30T14:53:23.011Z"
   },
   {
    "duration": 0,
    "start_time": "2023-05-30T14:53:23.013Z"
   },
   {
    "duration": 0,
    "start_time": "2023-05-30T14:53:23.014Z"
   },
   {
    "duration": 0,
    "start_time": "2023-05-30T14:53:23.015Z"
   },
   {
    "duration": 0,
    "start_time": "2023-05-30T14:53:23.016Z"
   },
   {
    "duration": 0,
    "start_time": "2023-05-30T14:53:23.078Z"
   },
   {
    "duration": 0,
    "start_time": "2023-05-30T14:53:23.080Z"
   },
   {
    "duration": 0,
    "start_time": "2023-05-30T14:53:23.081Z"
   },
   {
    "duration": 0,
    "start_time": "2023-05-30T14:53:23.082Z"
   },
   {
    "duration": 0,
    "start_time": "2023-05-30T14:53:23.083Z"
   },
   {
    "duration": 0,
    "start_time": "2023-05-30T14:53:23.084Z"
   },
   {
    "duration": 0,
    "start_time": "2023-05-30T14:53:23.085Z"
   },
   {
    "duration": 0,
    "start_time": "2023-05-30T14:53:23.086Z"
   },
   {
    "duration": 0,
    "start_time": "2023-05-30T14:53:23.088Z"
   },
   {
    "duration": 0,
    "start_time": "2023-05-30T14:53:23.089Z"
   },
   {
    "duration": 0,
    "start_time": "2023-05-30T14:53:23.090Z"
   },
   {
    "duration": 0,
    "start_time": "2023-05-30T14:53:23.091Z"
   },
   {
    "duration": 0,
    "start_time": "2023-05-30T14:53:23.092Z"
   },
   {
    "duration": 0,
    "start_time": "2023-05-30T14:53:23.093Z"
   },
   {
    "duration": 0,
    "start_time": "2023-05-30T14:53:23.095Z"
   },
   {
    "duration": 0,
    "start_time": "2023-05-30T14:53:23.096Z"
   },
   {
    "duration": 0,
    "start_time": "2023-05-30T14:53:23.097Z"
   },
   {
    "duration": 44,
    "start_time": "2023-05-30T15:11:54.933Z"
   },
   {
    "duration": 398,
    "start_time": "2023-05-30T15:12:01.184Z"
   },
   {
    "duration": 3100,
    "start_time": "2023-05-30T15:12:04.489Z"
   },
   {
    "duration": 1049,
    "start_time": "2023-05-30T15:12:08.445Z"
   },
   {
    "duration": 81,
    "start_time": "2023-05-30T15:12:11.013Z"
   },
   {
    "duration": 8,
    "start_time": "2023-05-30T15:12:11.443Z"
   },
   {
    "duration": 100,
    "start_time": "2023-05-30T15:12:47.973Z"
   },
   {
    "duration": 20,
    "start_time": "2023-05-30T15:12:50.435Z"
   },
   {
    "duration": 14,
    "start_time": "2023-05-30T15:12:51.981Z"
   },
   {
    "duration": 24,
    "start_time": "2023-05-30T15:12:52.402Z"
   },
   {
    "duration": 2,
    "start_time": "2023-05-30T15:12:54.361Z"
   },
   {
    "duration": 1454,
    "start_time": "2023-05-30T15:12:56.381Z"
   },
   {
    "duration": 49,
    "start_time": "2023-05-30T15:13:04.472Z"
   },
   {
    "duration": 3933,
    "start_time": "2023-05-30T15:14:13.265Z"
   },
   {
    "duration": 3589,
    "start_time": "2023-05-30T15:16:15.495Z"
   },
   {
    "duration": 1151,
    "start_time": "2023-05-30T15:19:00.477Z"
   },
   {
    "duration": 1188,
    "start_time": "2023-05-30T15:19:22.320Z"
   },
   {
    "duration": 200,
    "start_time": "2023-05-30T15:19:24.462Z"
   },
   {
    "duration": 237,
    "start_time": "2023-05-30T15:19:32.748Z"
   },
   {
    "duration": 23,
    "start_time": "2023-05-30T15:19:42.066Z"
   },
   {
    "duration": 618,
    "start_time": "2023-05-30T15:21:59.592Z"
   },
   {
    "duration": 23,
    "start_time": "2023-05-30T15:22:02.375Z"
   },
   {
    "duration": 618,
    "start_time": "2023-05-30T15:23:31.575Z"
   },
   {
    "duration": 25,
    "start_time": "2023-05-30T15:23:46.002Z"
   },
   {
    "duration": 627,
    "start_time": "2023-05-30T15:25:36.461Z"
   },
   {
    "duration": 763,
    "start_time": "2023-05-30T15:25:49.755Z"
   },
   {
    "duration": 597,
    "start_time": "2023-05-30T15:26:13.529Z"
   },
   {
    "duration": 930,
    "start_time": "2023-05-30T15:39:10.798Z"
   },
   {
    "duration": 2686,
    "start_time": "2023-05-30T15:39:32.174Z"
   },
   {
    "duration": 623,
    "start_time": "2023-05-30T15:39:36.675Z"
   },
   {
    "duration": 41,
    "start_time": "2023-05-30T15:40:00.173Z"
   },
   {
    "duration": 593,
    "start_time": "2023-05-30T15:40:02.023Z"
   },
   {
    "duration": 571,
    "start_time": "2023-05-30T15:40:32.934Z"
   },
   {
    "duration": 524,
    "start_time": "2023-05-30T15:40:45.546Z"
   },
   {
    "duration": 617,
    "start_time": "2023-05-30T15:40:57.637Z"
   },
   {
    "duration": 26,
    "start_time": "2023-05-30T15:41:00.752Z"
   },
   {
    "duration": 3597,
    "start_time": "2023-05-30T15:49:27.667Z"
   },
   {
    "duration": 11,
    "start_time": "2023-05-30T15:49:32.319Z"
   },
   {
    "duration": 2339,
    "start_time": "2023-05-30T15:50:17.303Z"
   },
   {
    "duration": 21,
    "start_time": "2023-05-30T15:50:21.745Z"
   },
   {
    "duration": 19,
    "start_time": "2023-05-30T15:50:43.352Z"
   },
   {
    "duration": 47,
    "start_time": "2023-05-30T15:50:45.777Z"
   },
   {
    "duration": 19,
    "start_time": "2023-05-30T15:51:10.517Z"
   },
   {
    "duration": 9,
    "start_time": "2023-05-30T15:52:10.554Z"
   },
   {
    "duration": 21,
    "start_time": "2023-05-30T15:57:46.120Z"
   },
   {
    "duration": 5,
    "start_time": "2023-05-30T15:58:17.329Z"
   },
   {
    "duration": 5,
    "start_time": "2023-05-30T15:58:29.215Z"
   },
   {
    "duration": 17,
    "start_time": "2023-05-30T15:58:40.901Z"
   },
   {
    "duration": 3473,
    "start_time": "2023-05-30T18:31:30.215Z"
   },
   {
    "duration": 1300,
    "start_time": "2023-05-30T18:31:33.690Z"
   },
   {
    "duration": 53,
    "start_time": "2023-05-30T18:31:34.992Z"
   },
   {
    "duration": 17,
    "start_time": "2023-05-30T18:31:35.047Z"
   },
   {
    "duration": 27,
    "start_time": "2023-05-30T18:31:35.066Z"
   },
   {
    "duration": 23,
    "start_time": "2023-05-30T18:31:35.095Z"
   },
   {
    "duration": 3,
    "start_time": "2023-05-30T18:31:35.119Z"
   },
   {
    "duration": 19,
    "start_time": "2023-05-30T18:31:35.124Z"
   },
   {
    "duration": 4,
    "start_time": "2023-05-30T18:31:35.145Z"
   },
   {
    "duration": 5148,
    "start_time": "2023-05-30T18:31:35.151Z"
   },
   {
    "duration": 6400,
    "start_time": "2023-05-30T18:31:40.301Z"
   },
   {
    "duration": 19,
    "start_time": "2023-05-30T18:31:46.703Z"
   },
   {
    "duration": 62,
    "start_time": "2023-05-30T18:31:46.727Z"
   },
   {
    "duration": 15,
    "start_time": "2023-05-30T18:31:46.792Z"
   },
   {
    "duration": 19,
    "start_time": "2023-05-30T18:31:46.808Z"
   },
   {
    "duration": 72,
    "start_time": "2023-05-30T18:31:46.829Z"
   },
   {
    "duration": 286,
    "start_time": "2023-05-30T18:31:46.903Z"
   },
   {
    "duration": 11045,
    "start_time": "2023-05-30T18:31:47.194Z"
   },
   {
    "duration": 210,
    "start_time": "2023-05-30T18:31:58.241Z"
   },
   {
    "duration": 38,
    "start_time": "2023-05-30T18:31:58.452Z"
   },
   {
    "duration": 172,
    "start_time": "2023-05-30T18:31:58.493Z"
   },
   {
    "duration": 23,
    "start_time": "2023-05-30T18:31:58.667Z"
   },
   {
    "duration": 6,
    "start_time": "2023-05-30T18:31:58.692Z"
   },
   {
    "duration": 18,
    "start_time": "2023-05-30T18:31:58.699Z"
   },
   {
    "duration": 7,
    "start_time": "2023-05-30T18:31:58.718Z"
   },
   {
    "duration": 27,
    "start_time": "2023-05-30T18:31:58.726Z"
   },
   {
    "duration": 3,
    "start_time": "2023-05-30T18:31:58.755Z"
   },
   {
    "duration": 5,
    "start_time": "2023-05-30T18:31:58.788Z"
   },
   {
    "duration": 8,
    "start_time": "2023-05-30T18:31:58.796Z"
   },
   {
    "duration": 192,
    "start_time": "2023-05-30T18:31:58.806Z"
   },
   {
    "duration": 9,
    "start_time": "2023-05-30T18:31:58.999Z"
   },
   {
    "duration": 174,
    "start_time": "2023-05-30T18:31:59.010Z"
   },
   {
    "duration": 33,
    "start_time": "2023-05-30T18:31:59.185Z"
   },
   {
    "duration": 6,
    "start_time": "2023-05-30T18:31:59.220Z"
   },
   {
    "duration": 886,
    "start_time": "2023-05-30T18:31:59.228Z"
   },
   {
    "duration": 8,
    "start_time": "2023-05-30T18:32:00.116Z"
   },
   {
    "duration": 9,
    "start_time": "2023-05-30T18:32:00.125Z"
   },
   {
    "duration": 14,
    "start_time": "2023-05-30T18:32:00.135Z"
   },
   {
    "duration": 265,
    "start_time": "2023-05-30T18:32:00.150Z"
   },
   {
    "duration": 6,
    "start_time": "2023-05-30T18:32:00.417Z"
   },
   {
    "duration": 25,
    "start_time": "2023-05-30T18:32:00.424Z"
   },
   {
    "duration": 21,
    "start_time": "2023-05-30T18:32:00.450Z"
   },
   {
    "duration": 37,
    "start_time": "2023-05-30T18:32:00.472Z"
   },
   {
    "duration": 292,
    "start_time": "2023-05-30T18:32:00.511Z"
   },
   {
    "duration": 191,
    "start_time": "2023-05-30T18:32:00.805Z"
   },
   {
    "duration": 8,
    "start_time": "2023-05-30T18:32:00.998Z"
   },
   {
    "duration": 32,
    "start_time": "2023-05-30T18:32:01.007Z"
   },
   {
    "duration": 363,
    "start_time": "2023-05-30T18:32:01.041Z"
   },
   {
    "duration": 119,
    "start_time": "2023-05-30T18:32:01.405Z"
   },
   {
    "duration": 711,
    "start_time": "2023-05-30T18:32:01.526Z"
   },
   {
    "duration": 12,
    "start_time": "2023-05-30T18:32:02.239Z"
   },
   {
    "duration": 29,
    "start_time": "2023-05-30T18:32:02.253Z"
   },
   {
    "duration": 278,
    "start_time": "2023-05-30T18:32:02.283Z"
   },
   {
    "duration": 266,
    "start_time": "2023-05-30T18:32:02.562Z"
   },
   {
    "duration": 5,
    "start_time": "2023-05-30T18:32:02.830Z"
   },
   {
    "duration": 9,
    "start_time": "2023-05-30T18:32:02.836Z"
   },
   {
    "duration": 32,
    "start_time": "2023-05-30T18:32:02.846Z"
   },
   {
    "duration": 519,
    "start_time": "2023-05-30T18:32:02.879Z"
   },
   {
    "duration": 12,
    "start_time": "2023-05-30T18:32:03.400Z"
   },
   {
    "duration": 13,
    "start_time": "2023-05-30T18:32:03.414Z"
   },
   {
    "duration": 13,
    "start_time": "2023-05-30T18:32:03.428Z"
   },
   {
    "duration": 45,
    "start_time": "2023-05-30T18:32:03.443Z"
   },
   {
    "duration": 14,
    "start_time": "2023-05-30T18:32:03.492Z"
   },
   {
    "duration": 18,
    "start_time": "2023-05-30T18:32:03.507Z"
   },
   {
    "duration": 11,
    "start_time": "2023-05-30T18:32:03.527Z"
   },
   {
    "duration": 43,
    "start_time": "2023-05-30T18:32:03.540Z"
   },
   {
    "duration": 17,
    "start_time": "2023-05-30T18:32:03.586Z"
   },
   {
    "duration": 12,
    "start_time": "2023-05-30T18:32:03.605Z"
   },
   {
    "duration": 15,
    "start_time": "2023-05-30T18:32:03.619Z"
   },
   {
    "duration": 19,
    "start_time": "2023-05-30T18:32:03.636Z"
   },
   {
    "duration": 37,
    "start_time": "2023-05-30T18:32:03.657Z"
   },
   {
    "duration": 15,
    "start_time": "2023-05-30T18:32:03.695Z"
   },
   {
    "duration": 12,
    "start_time": "2023-05-30T18:32:03.711Z"
   },
   {
    "duration": 22,
    "start_time": "2023-05-30T18:32:03.724Z"
   },
   {
    "duration": 37,
    "start_time": "2023-05-30T18:32:03.747Z"
   },
   {
    "duration": 3,
    "start_time": "2023-05-30T18:32:03.788Z"
   },
   {
    "duration": 14,
    "start_time": "2023-05-30T18:32:03.793Z"
   },
   {
    "duration": 8,
    "start_time": "2023-05-30T18:32:03.809Z"
   },
   {
    "duration": 11,
    "start_time": "2023-05-30T18:32:03.818Z"
   },
   {
    "duration": 5,
    "start_time": "2023-05-30T18:32:03.830Z"
   },
   {
    "duration": 7,
    "start_time": "2023-05-30T18:32:03.836Z"
   },
   {
    "duration": 165,
    "start_time": "2023-05-30T18:32:03.848Z"
   },
   {
    "duration": 183,
    "start_time": "2023-05-30T18:32:04.015Z"
   },
   {
    "duration": 6,
    "start_time": "2023-05-30T18:32:04.200Z"
   },
   {
    "duration": 4,
    "start_time": "2023-05-30T18:32:04.208Z"
   },
   {
    "duration": 11,
    "start_time": "2023-05-30T18:32:04.214Z"
   },
   {
    "duration": 5,
    "start_time": "2023-05-30T18:32:04.227Z"
   },
   {
    "duration": 12,
    "start_time": "2023-05-30T18:32:04.233Z"
   },
   {
    "duration": 152,
    "start_time": "2023-05-30T18:32:04.248Z"
   },
   {
    "duration": 133,
    "start_time": "2023-05-30T18:32:04.402Z"
   },
   {
    "duration": 6,
    "start_time": "2023-05-30T18:32:04.537Z"
   },
   {
    "duration": 4,
    "start_time": "2023-05-30T18:32:04.544Z"
   }
  ],
  "celltoolbar": "Отсутствует",
  "kernelspec": {
   "display_name": "Python 3",
   "language": "python",
   "name": "python3"
  },
  "language_info": {
   "codemirror_mode": {
    "name": "ipython",
    "version": 3
   },
   "file_extension": ".py",
   "mimetype": "text/x-python",
   "name": "python",
   "nbconvert_exporter": "python",
   "pygments_lexer": "ipython3",
   "version": "3.8.8"
  },
  "toc": {
   "base_numbering": 1,
   "nav_menu": {},
   "number_sections": true,
   "sideBar": true,
   "skip_h1_title": true,
   "title_cell": "Table of Contents",
   "title_sidebar": "Contents",
   "toc_cell": false,
   "toc_position": {},
   "toc_section_display": true,
   "toc_window_display": false
  }
 },
 "nbformat": 4,
 "nbformat_minor": 5
}
